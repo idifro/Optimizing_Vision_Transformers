{
 "cells": [
  {
   "cell_type": "code",
   "execution_count": 1,
   "metadata": {},
   "outputs": [],
   "source": [
    "import torch\n",
    "from torch import nn\n",
    "from torch import functional as F\n",
    "from torch import optim\n",
    "import torchvision\n",
    "import torchvision.transforms as transforms\n",
    "from torch.utils.data import DataLoader\n",
    "from tqdm import tqdm\n",
    "import math\n",
    "import matplotlib.pyplot as plt\n",
    "%matplotlib inline"
   ]
  },
  {
   "cell_type": "code",
   "execution_count": 2,
   "metadata": {},
   "outputs": [
    {
     "name": "stdout",
     "output_type": "stream",
     "text": [
      "GPU:  NVIDIA RTX A3000 Laptop GPU\n"
     ]
    }
   ],
   "source": [
    "if torch.cuda.is_available():\n",
    "    device = torch.device(\"cuda\")\n",
    "    print('GPU: ', torch.cuda.get_device_name(0))\n",
    "\n",
    "else:\n",
    "    device = torch.device(\"cpu\")\n",
    "    print('No GPU available')"
   ]
  },
  {
   "cell_type": "code",
   "execution_count": 3,
   "metadata": {},
   "outputs": [],
   "source": [
    "class Attention(nn.Module):\n",
    "    '''\n",
    "    Attention Module used to perform self-attention operation allowing the model to attend\n",
    "    information from different representation subspaces on an input sequence of embeddings.\n",
    "    The sequence of operations is as follows :-\n",
    "\n",
    "    Input -> Query, Key, Value -> ReshapeHeads -> Query.TransposedKey -> Softmax -> Dropout\n",
    "    -> AttentionScores.Value -> ReshapeHeadsBack -> Output\n",
    "\n",
    "    Args:\n",
    "        embed_dim: Dimension size of the hidden embedding\n",
    "        heads: Number of parallel attention heads (Default=8)\n",
    "        activation: Optional activation function to be applied to the input while\n",
    "                    transforming to query, key and value matrixes (Default=None)\n",
    "        dropout: Dropout value for the layer on attention_scores (Default=0.1)\n",
    "\n",
    "    Methods:\n",
    "        _reshape_heads(inp) :-\n",
    "        Changes the input sequence embeddings to reduced dimension according to the number\n",
    "        of attention heads to parallelize attention operation\n",
    "        (batch_size, seq_len, embed_dim) -> (batch_size * heads, seq_len, reduced_dim)\n",
    "\n",
    "        _reshape_heads_back(inp) :-\n",
    "        Changes the reduced dimension due to parallel attention heads back to the original\n",
    "        embedding size\n",
    "        (batch_size * heads, seq_len, reduced_dim) -> (batch_size, seq_len, embed_dim)\n",
    "\n",
    "        forward(inp) :-\n",
    "        Performs the self-attention operation on the input sequence embedding.\n",
    "        Returns the output of self-attention as well as atttention scores\n",
    "        (batch_size, seq_len, embed_dim) -> (batch_size, seq_len, embed_dim), (batch_size * heads, seq_len, seq_len)\n",
    "\n",
    "    Examples:\n",
    "        >>> attention = Attention(embed_dim, heads, activation, dropout)\n",
    "        >>> out, weights = attention(inp)\n",
    "    '''\n",
    "    def __init__(self, embed_dim, heads=8, activation=None, dropout=0.1):\n",
    "        super(Attention, self).__init__()\n",
    "        self.heads = heads\n",
    "        self.embed_dim = embed_dim\n",
    "        self.query = nn.Linear(embed_dim, embed_dim)\n",
    "        self.key = nn.Linear(embed_dim, embed_dim)\n",
    "        self.value = nn.Linear(embed_dim, embed_dim)\n",
    "        self.softmax = nn.Softmax(dim=-1)\n",
    "        if activation == 'relu':\n",
    "            self.activation = nn.ReLU()\n",
    "        else:\n",
    "            self.activation = nn.Identity()\n",
    "        self.dropout = nn.Dropout(dropout)\n",
    "\n",
    "    def forward(self, inp):\n",
    "        # inp: (batch_size, seq_len, embed_dim)\n",
    "        batch_size, seq_len, embed_dim = inp.size()\n",
    "        assert embed_dim == self.embed_dim\n",
    "\n",
    "        query = self.activation(self.query(inp))\n",
    "        key   = self.activation(self.key(inp))\n",
    "        value = self.activation(self.value(inp))\n",
    "\n",
    "        # output of _reshape_heads(): (batch_size * heads, seq_len, reduced_dim) | reduced_dim = embed_dim // heads\n",
    "        query = self._reshape_heads(query)\n",
    "        key   = self._reshape_heads(key)\n",
    "        value = self._reshape_heads(value)\n",
    "\n",
    "        # attention_scores: (batch_size * heads, seq_len, seq_len) | Softmaxed along the last dimension\n",
    "        attention_scores = self.softmax(torch.matmul(query, key.transpose(1, 2)))\n",
    "\n",
    "        # out: (batch_size * heads, seq_len, reduced_dim)\n",
    "        out = torch.matmul(self.dropout(attention_scores), value)\n",
    "\n",
    "        # output of _reshape_heads_back(): (batch_size, seq_len, embed_size)\n",
    "        out = self._reshape_heads_back(out)\n",
    "\n",
    "        return out, attention_scores\n",
    "\n",
    "    def _reshape_heads(self, inp):\n",
    "        # inp: (batch_size, seq_len, embed_dim)\n",
    "        batch_size, seq_len, embed_dim = inp.size()\n",
    "\n",
    "        reduced_dim = self.embed_dim // self.heads\n",
    "        assert reduced_dim * self.heads == self.embed_dim\n",
    "        out = inp.reshape(batch_size, seq_len, self.heads, reduced_dim)\n",
    "        out = out.permute(0, 2, 1, 3)\n",
    "        out = out.reshape(-1, seq_len, reduced_dim)\n",
    "\n",
    "        # out: (batch_size * heads, seq_len, reduced_dim)\n",
    "        return out\n",
    "\n",
    "    def _reshape_heads_back(self, inp):\n",
    "        # inp: (batch_size * heads, seq_len, reduced_dim) | reduced_dim = embed_dim // heads\n",
    "        batch_size_mul_heads, seq_len, reduced_dim = inp.size()\n",
    "        batch_size = batch_size_mul_heads // self.heads\n",
    "\n",
    "        out = inp.reshape(batch_size, self.heads, seq_len, reduced_dim)\n",
    "        out = out.permute(0, 2, 1, 3)\n",
    "        out = out.reshape(batch_size, seq_len, self.embed_dim)\n",
    "\n",
    "        # out: (batch_size, seq_len, embed_dim)\n",
    "        return out"
   ]
  },
  {
   "cell_type": "code",
   "execution_count": 4,
   "metadata": {},
   "outputs": [],
   "source": [
    "# Check if Dropout should be used after second Linear Layer\n",
    "class FeedForward(nn.Module):\n",
    "    '''\n",
    "    FeedForward Network with two sequential linear layers with GELU activation function\n",
    "    ,applied to the output of self attention operation. The sequence of operations is as\n",
    "    follows :-\n",
    "\n",
    "    Input -> FC1 -> GELU -> Dropout -> FC2 -> Output\n",
    "\n",
    "    Args:\n",
    "        embed_dim: Dimension size of the hidden embedding\n",
    "        forward_expansion: The scale used to transform the input embedding to a higher dimension\n",
    "                           and then scaled back to capture richer information (Default=1)\n",
    "        dropout: Dropout value for the layer on attention_scores (Default=0.1)\n",
    "\n",
    "    Methods:\n",
    "        forward(inp) :-\n",
    "        Applies the sequence of operations mentioned above.\n",
    "        (batch_size, seq_len, embed_dim) -> (batch_size, seq_len, embed_dim)\n",
    "\n",
    "    Examples:\n",
    "        >>> FF = FeedForward(8, 1)\n",
    "        >>> out = FF(inp)\n",
    "    '''\n",
    "    def __init__(self, embed_dim, forward_expansion=1, dropout=0.1):\n",
    "        super(FeedForward, self).__init__()\n",
    "        self.embed_dim = embed_dim\n",
    "        self.fc1 = nn.Linear(embed_dim, embed_dim * forward_expansion)\n",
    "        self.activation = nn.GELU()\n",
    "        self.fc2 = nn.Linear(embed_dim * forward_expansion, embed_dim)\n",
    "        self.dropout = nn.Dropout(dropout)\n",
    "\n",
    "    def forward(self, inp):\n",
    "        # inp: (batch_size, seq_len, embed_dim)\n",
    "        batch_size, seq_len, embed_dim = inp.size()\n",
    "        assert embed_dim == self.embed_dim\n",
    "\n",
    "        out = self.dropout(self.activation(self.fc1(inp)))\n",
    "        # out = self.dropout(self.fc2(out))\n",
    "        out = self.fc2(out)\n",
    "\n",
    "        # out: (batch_size, seq_len, embed_dim)\n",
    "        return out"
   ]
  },
  {
   "cell_type": "code",
   "execution_count": 5,
   "metadata": {},
   "outputs": [],
   "source": [
    "class TransformerBlock(nn.Module):\n",
    "    '''\n",
    "    Transformer Block combines both the attention module and the feed forward module with layer\n",
    "    normalization, dropout and residual connections. The sequence of operations is as follows :-\n",
    "\n",
    "    Input -> LayerNorm1 -> Attention -> Residual -> LayerNorm2 -> FeedForward -> Output\n",
    "      |                                   |  |                                      |\n",
    "      |-------------Addition--------------|  |---------------Addition---------------|\n",
    "\n",
    "    Args:\n",
    "        embed_dim: Dimension size of the hidden embedding\n",
    "        heads: Number of parallel attention heads (Default=8)\n",
    "        activation: Optional activation function to be applied to the input while\n",
    "                    transforming to query, key and value matrixes (Default=None)\n",
    "        forward_expansion: The scale used to transform the input embedding to a higher dimension\n",
    "                           and then scaled back to capture richer information (Default=1)\n",
    "        dropout: Dropout value for the layer on attention_scores (Default=0.1)\n",
    "\n",
    "    Methods:\n",
    "        forward(inp) :-\n",
    "        Applies the sequence of operations mentioned above.\n",
    "        (batch_size, seq_len, embed_dim) -> (batch_size, seq_len, embed_dim)\n",
    "\n",
    "    Examples:\n",
    "        >>> TB = TransformerBlock(embed_dim, heads, activation, forward_expansion, dropout)\n",
    "        >>> out = TB(inp)\n",
    "    '''\n",
    "    def __init__(self, embed_dim, heads=8, activation=None, forward_expansion=1, dropout=0.1):\n",
    "        super(TransformerBlock, self).__init__()\n",
    "        self.embed_dim = embed_dim\n",
    "        self.norm1 = nn.LayerNorm(embed_dim)\n",
    "        self.attention = Attention(embed_dim, heads, activation, dropout)\n",
    "        self.norm2 = nn.LayerNorm(embed_dim)\n",
    "        self.feed_forward = FeedForward(embed_dim, forward_expansion, dropout)\n",
    "\n",
    "    def forward(self, inp):\n",
    "        # inp: (batch_size, seq_len, embed_dim)\n",
    "        batch_size, seq_len, embed_dim = inp.size()\n",
    "        assert embed_dim == self.embed_dim\n",
    "\n",
    "        res = inp\n",
    "        out = self.norm1(inp)\n",
    "        out, _ = self.attention(out)\n",
    "        out = out + res\n",
    "\n",
    "        res = out\n",
    "        out = self.norm2(out)\n",
    "        out = self.feed_forward(out)\n",
    "        out = out + res\n",
    "\n",
    "        # out: (batch_size, seq_len, embed_dim)\n",
    "        return out"
   ]
  },
  {
   "cell_type": "code",
   "execution_count": 6,
   "metadata": {},
   "outputs": [],
   "source": [
    "class Transformer(nn.Module):\n",
    "    '''\n",
    "    Transformer combines multiple layers of Transformer Blocks in a sequential manner. The sequence\n",
    "    of the operations is as follows -\n",
    "\n",
    "    Input -> TB1 -> TB2 -> .......... -> TBn (n being the number of layers) -> Output\n",
    "\n",
    "    Args:\n",
    "        embed_dim: Dimension size of the hidden embedding\n",
    "        layers: Number of Transformer Blocks in the Transformer\n",
    "        heads: Number of parallel attention heads (Default=8)\n",
    "        activation: Optional activation function to be applied to the input while\n",
    "                    transforming to query, key and value matrixes (Default=None)\n",
    "        forward_expansion: The scale used to transform the input embedding to a higher dimension\n",
    "                           and then scaled back to capture richer information (Default=1)\n",
    "        dropout: Dropout value for the layer on attention_scores (Default=0.1)\n",
    "\n",
    "    Methods:\n",
    "        forward(inp) :-\n",
    "        Applies the sequence of operations mentioned above.\n",
    "        (batch_size, seq_len, embed_dim) -> (batch_size, seq_len, embed_dim)\n",
    "\n",
    "    Examples:\n",
    "        >>> transformer = Transformer(embed_dim, layers, heads, activation, forward_expansion, dropout)\n",
    "        >>> out = transformer(inp)\n",
    "    '''\n",
    "    def __init__(self, embed_dim, layers, heads=8, activation=None, forward_expansion=1, dropout=0.1):\n",
    "        super(Transformer, self).__init__()\n",
    "        self.embed_dim = embed_dim\n",
    "        self.trans_blocks = nn.ModuleList(\n",
    "            [TransformerBlock(embed_dim, heads, activation, forward_expansion, dropout) for i in range(layers)]\n",
    "        )\n",
    "\n",
    "    def forward(self, inp):\n",
    "        # inp: (batch_size, seq_len, embed_dim)\n",
    "\n",
    "        out = inp\n",
    "        for block in self.trans_blocks:\n",
    "            out = block(out)\n",
    "\n",
    "        # out: (batch_size, seq_len, embed_dim)\n",
    "        return out"
   ]
  },
  {
   "cell_type": "code",
   "execution_count": 7,
   "metadata": {},
   "outputs": [],
   "source": [
    "# Not Exactly Same as Paper\n",
    "class ClassificationHead(nn.Module):\n",
    "    '''\n",
    "    Classification Head attached to the first sequence token which is used as the arbitrary\n",
    "    classification token and used to optimize the transformer model by applying Cross-Entropy\n",
    "    loss. The sequence of operations is as follows :-\n",
    "\n",
    "    Input -> FC1 -> GELU -> Dropout -> FC2 -> Output\n",
    "\n",
    "    Args:\n",
    "        embed_dim: Dimension size of the hidden embedding\n",
    "        classes: Number of classification classes in the dataset\n",
    "        dropout: Dropout value for the layer on attention_scores (Default=0.1)\n",
    "\n",
    "    Methods:\n",
    "        forward(inp) :-\n",
    "        Applies the sequence of operations mentioned above.\n",
    "        (batch_size, embed_dim) -> (batch_size, classes)\n",
    "\n",
    "    Examples:\n",
    "        >>> CH = ClassificationHead(embed_dim, classes, dropout)\n",
    "        >>> out = CH(inp)\n",
    "    '''\n",
    "    def __init__(self, embed_dim, classes, dropout=0.1):\n",
    "        super(ClassificationHead, self).__init__()\n",
    "        self.embed_dim = embed_dim\n",
    "        self.classes = classes\n",
    "        self.fc1 = nn.Linear(embed_dim, embed_dim // 2)\n",
    "        self.activation = nn.GELU()\n",
    "        self.fc2 = nn.Linear(embed_dim // 2, classes)\n",
    "        self.softmax = nn.Softmax(dim=-1)\n",
    "        self.dropout = nn.Dropout(dropout)\n",
    "\n",
    "    def forward(self, inp):\n",
    "        # inp: (batch_size, embed_dim)\n",
    "        batch_size, embed_dim = inp.size()\n",
    "        assert embed_dim == self.embed_dim\n",
    "\n",
    "        out = self.dropout(self.activation(self.fc1(inp)))\n",
    "        # out = self.softmax(self.fc2(out))\n",
    "        out = self.fc2(out)\n",
    "\n",
    "        # out: (batch_size, classes)\n",
    "        return out"
   ]
  },
  {
   "cell_type": "code",
   "execution_count": 8,
   "metadata": {},
   "outputs": [],
   "source": [
    "class VisionTransformer(nn.Module):\n",
    "    '''\n",
    "    Vision Transformer is the complete end to end model architecture which combines all the above modules\n",
    "    in a sequential manner. The sequence of the operations is as follows -\n",
    "\n",
    "    Input -> CreatePatches -> ClassToken, PatchToEmbed , PositionEmbed -> Transformer -> ClassificationHead -> Output\n",
    "                                   |            | |                |\n",
    "                                   |---Concat---| |----Addition----|\n",
    "\n",
    "    Args:\n",
    "        patch_size: Length of square patch size\n",
    "        max_len: Max length of learnable positional embedding\n",
    "        embed_dim: Dimension size of the hidden embedding\n",
    "        classes: Number of classes in the dataset\n",
    "        layers: Number of Transformer Blocks in the Transformer\n",
    "        channels: Number of channels in the input (Default=3)\n",
    "        heads: Number of parallel attention heads (Default=8)\n",
    "        activation: Optional activation function to be applied to the input while\n",
    "                    transforming to query, key and value matrixes (Default=None)\n",
    "        forward_expansion: The scale used to transform the input embedding to a higher dimension\n",
    "                           and then scaled back to capture richer information (Default=1)\n",
    "        dropout: Dropout value for the layer on attention_scores (Default=0.1)\n",
    "\n",
    "    Methods:\n",
    "        forward(inp) :-\n",
    "        Applies the sequence of operations mentioned above.\n",
    "        It outputs the classification output as well as the sequence output of the transformer\n",
    "        (batch_size, channels, width, height) -> (batch_size, classes), (batch_size, seq_len+1, embed_dim)\n",
    "\n",
    "    Examples:\n",
    "        >>> ViT = VisionTransformer(atch_size, max_len, embed_dim, classes, layers, channels, heads, activation, forward_expansion, dropout)\n",
    "        >>> class_out, hidden_seq = ViT(inp)\n",
    "    '''\n",
    "    def __init__(self, patch_size, max_len, embed_dim, classes, layers, channels=3, heads=8, activation=None, forward_expansion=1, dropout=0.1):\n",
    "        super(VisionTransformer, self).__init__()\n",
    "        self.name = 'VisionTransformer'\n",
    "        self.patch_size = patch_size\n",
    "        self.embed_dim = embed_dim\n",
    "        self.channels = channels\n",
    "        self.patch_to_embed = nn.Linear(patch_size * patch_size * channels, embed_dim)\n",
    "        self.position_embed = nn.Parameter(torch.randn((max_len, embed_dim)))\n",
    "        self.transformer = Transformer(embed_dim, layers, heads, activation, forward_expansion, dropout)\n",
    "        self.classification_head = ClassificationHead(embed_dim, classes)\n",
    "        self.class_token = nn.Parameter(torch.zeros(1, 1, embed_dim))\n",
    "\n",
    "    def forward(self, inp):\n",
    "        # inp: (batch_size, channels, width, height)\n",
    "        batch_size, channels, width, height = inp.size()\n",
    "        assert channels == self.channels\n",
    "\n",
    "        out = inp.unfold(2, self.patch_size, self.patch_size).unfold(3, self.patch_size, self.patch_size).contiguous()\n",
    "        out = out.view(batch_size, channels, -1, self.patch_size, self.patch_size)\n",
    "        out = out.permute(0, 2, 3, 4, 1)\n",
    "        # out: (batch_size, seq_len, patch_size, patch_size, channels) | seq_len would be (width*height)/(patch_size**2)\n",
    "        batch_size, seq_len, patch_size, _, channels = out.size()\n",
    "\n",
    "        out = out.reshape(batch_size, seq_len, -1)\n",
    "        out = self.patch_to_embed(out)\n",
    "        # out: (batch_size, seq_len, embed_dim)\n",
    "\n",
    "        class_token = self.class_token.expand(batch_size, -1, -1)\n",
    "        out = torch.cat([class_token, out], dim=1)\n",
    "        # out: (batch_size, seq_len+1, embed_dim)\n",
    "\n",
    "        position_embed = self.position_embed[:seq_len+1]\n",
    "        position_embed = position_embed.unsqueeze(0).expand(batch_size, seq_len+1, self.embed_dim)\n",
    "        out = out + position_embed\n",
    "        # out: (batch_size, seq_len+1, embed_dim) | Added Positional Embeddings\n",
    "\n",
    "        out = self.transformer(out)\n",
    "        # out: (batch_size, seq_len+1, embed_dim)\n",
    "        class_token = out[:, 0]\n",
    "        # class_token: (batch_size, embed_dim)\n",
    "\n",
    "        class_out = self.classification_head(class_token)\n",
    "        # class_out: (batch_size, classes)\n",
    "\n",
    "        return class_out, out"
   ]
  },
  {
   "cell_type": "code",
   "execution_count": 9,
   "metadata": {},
   "outputs": [],
   "source": [
    "# Initializations of all the constants used in the training and testing process\n",
    "\n",
    "lr = 0.003\n",
    "batch_size = 128\n",
    "num_workers = 2\n",
    "shuffle = True\n",
    "patch_size = 4\n",
    "image_sz = 32\n",
    "max_len = 65 # All sequences must be less than 1000 including class token\n",
    "embed_dim = 128\n",
    "classes = 10\n",
    "layers = 6\n",
    "channels = 3\n",
    "heads = 8\n",
    "epochs = 100"
   ]
  },
  {
   "cell_type": "code",
   "execution_count": 10,
   "metadata": {},
   "outputs": [],
   "source": [
    "transform_train = transforms.Compose(\n",
    "    [\n",
    "        transforms.RandomCrop(32, padding=4),\n",
    "        transforms.RandomHorizontalFlip(),\n",
    "        transforms.ToTensor(),\n",
    "        transforms.Normalize(\n",
    "            (0.4914, 0.4822, 0.4465), (0.2023, 0.1994, 0.2010)\n",
    "        ),\n",
    "    ]\n",
    ")\n",
    "\n",
    "transform_test = transforms.Compose(\n",
    "    [\n",
    "        transforms.ToTensor(),\n",
    "        transforms.Normalize(\n",
    "            (0.4914, 0.4822, 0.4465), (0.2023, 0.1994, 0.2010)\n",
    "        ),\n",
    "    ]\n",
    ")\n",
    "\n",
    "\n",
    "trainset = torchvision.datasets.CIFAR10(\n",
    "    root=\"./data\", train=True, download=True, transform=transform_train\n",
    ")\n",
    "trainloader = torch.utils.data.DataLoader(\n",
    "    trainset, batch_size=batch_size, shuffle=True, num_workers=2\n",
    ")\n",
    "\n",
    "testset = torchvision.datasets.CIFAR10(\n",
    "    root=\"./data\", train=False, download=True, transform=transform_test\n",
    ")\n",
    "testloader = torch.utils.data.DataLoader(\n",
    "    testset, batch_size=batch_size, shuffle=False, num_workers=2\n",
    ")"
   ]
  },
  {
   "cell_type": "code",
   "execution_count": 12,
   "metadata": {},
   "outputs": [],
   "source": [
    "# del model\n",
    "torch.cuda.empty_cache()"
   ]
  },
  {
   "cell_type": "code",
   "execution_count": 13,
   "metadata": {},
   "outputs": [
    {
     "data": {
      "text/plain": [
       "VisionTransformer(\n",
       "  (patch_to_embed): Linear(in_features=48, out_features=128, bias=True)\n",
       "  (transformer): Transformer(\n",
       "    (trans_blocks): ModuleList(\n",
       "      (0-5): 6 x TransformerBlock(\n",
       "        (norm1): LayerNorm((128,), eps=1e-05, elementwise_affine=True)\n",
       "        (attention): Attention(\n",
       "          (query): Linear(in_features=128, out_features=128, bias=True)\n",
       "          (key): Linear(in_features=128, out_features=128, bias=True)\n",
       "          (value): Linear(in_features=128, out_features=128, bias=True)\n",
       "          (softmax): Softmax(dim=-1)\n",
       "          (activation): Identity()\n",
       "          (dropout): Dropout(p=0.1, inplace=False)\n",
       "        )\n",
       "        (norm2): LayerNorm((128,), eps=1e-05, elementwise_affine=True)\n",
       "        (feed_forward): FeedForward(\n",
       "          (fc1): Linear(in_features=128, out_features=128, bias=True)\n",
       "          (activation): GELU(approximate='none')\n",
       "          (fc2): Linear(in_features=128, out_features=128, bias=True)\n",
       "          (dropout): Dropout(p=0.1, inplace=False)\n",
       "        )\n",
       "      )\n",
       "    )\n",
       "  )\n",
       "  (classification_head): ClassificationHead(\n",
       "    (fc1): Linear(in_features=128, out_features=64, bias=True)\n",
       "    (activation): GELU(approximate='none')\n",
       "    (fc2): Linear(in_features=64, out_features=10, bias=True)\n",
       "    (softmax): Softmax(dim=-1)\n",
       "    (dropout): Dropout(p=0.1, inplace=False)\n",
       "  )\n",
       ")"
      ]
     },
     "execution_count": 13,
     "metadata": {},
     "output_type": "execute_result"
    }
   ],
   "source": [
    "model = VisionTransformer(\n",
    "    patch_size=patch_size,\n",
    "    max_len=max_len,\n",
    "    embed_dim=embed_dim,\n",
    "    classes=classes,\n",
    "    layers=layers,\n",
    "    channels=channels,\n",
    "    heads=heads)\n",
    "model"
   ]
  },
  {
   "cell_type": "code",
   "execution_count": 14,
   "metadata": {},
   "outputs": [],
   "source": [
    "model = model.to(device)\n",
    "from torch.amp import GradScaler\n",
    "model.no_custom_backward = False\n",
    "criterion = nn.CrossEntropyLoss().to(device)\n",
    "optimizer = optim.Adam(model.parameters(), lr=lr)\n",
    "scheduler = optim.lr_scheduler.OneCycleLR(optimizer, max_lr=lr, steps_per_epoch=len(trainloader), epochs=epochs)\n",
    "scaler = GradScaler()"
   ]
  },
  {
   "cell_type": "code",
   "execution_count": 15,
   "metadata": {},
   "outputs": [
    {
     "name": "stdout",
     "output_type": "stream",
     "text": [
      "Total Parameters: 522,058\n"
     ]
    }
   ],
   "source": [
    "# Get model parameter count\n",
    "total_params = sum(p.numel() for p in model.parameters())\n",
    "print(f\"Total Parameters: {total_params:,}\")"
   ]
  },
  {
   "cell_type": "code",
   "execution_count": 16,
   "metadata": {},
   "outputs": [
    {
     "name": "stdout",
     "output_type": "stream",
     "text": [
      "Model Size: 1.99 MB\n"
     ]
    }
   ],
   "source": [
    "# Estimate model size (assuming float32 parameters, 4 bytes each)\n",
    "model_size_mb = (total_params * 4) / (1024 * 1024)\n",
    "print(f\"Model Size: {model_size_mb:.2f} MB\")"
   ]
  },
  {
   "cell_type": "code",
   "execution_count": null,
   "metadata": {},
   "outputs": [],
   "source": []
  },
  {
   "cell_type": "code",
   "execution_count": 17,
   "metadata": {},
   "outputs": [],
   "source": [
    "import warnings\n",
    "warnings.filterwarnings(\"ignore\")"
   ]
  },
  {
   "cell_type": "code",
   "execution_count": 18,
   "metadata": {},
   "outputs": [],
   "source": [
    "# Training\n",
    "from tqdm import tqdm\n",
    "def train(epoch):\n",
    "    print(\"\\nTraining Epoch: %d\" % epoch)\n",
    "    model.train()\n",
    "    train_loss = 0\n",
    "    correct = 0\n",
    "    total = 0\n",
    "    for batch_idx, (inputs, targets) in enumerate(tqdm(trainloader)):\n",
    "        # We do not need to specify AMP autocast in forward pass here since\n",
    "        # that is taken care of already in the forward of individual modules.\n",
    "        inputs, targets = inputs.to(device), targets.to(device)\n",
    "        outputs,_ = model(inputs)\n",
    "        # print(outputs)\n",
    "        loss = criterion(outputs, targets)\n",
    "\n",
    "        # standard pytorch AMP training setup\n",
    "        # scaler also works without amp training.\n",
    "        scaler.scale(loss).backward()\n",
    "        scaler.step(optimizer)\n",
    "        scaler.update()\n",
    "        optimizer.zero_grad()\n",
    "\n",
    "        train_loss += loss.item()\n",
    "        _, predicted = outputs.max(1)\n",
    "        total += targets.size(0)\n",
    "        correct += predicted.eq(targets).sum().item()\n",
    "\n",
    "    print(f\"Training Accuracy:{100.*correct/total: 0.2f}\")\n",
    "    print(f\"Training Loss:{train_loss/(batch_idx+1): 0.3f}\")\n",
    "    return 100.0 * correct / total, train_loss / (batch_idx + 1)\n",
    "\n",
    "\n",
    "def test(epoch):\n",
    "    model.eval()\n",
    "    test_loss = 0\n",
    "    correct = 0\n",
    "    total = 0\n",
    "    print(\"\\nTesting Epoch: %d\" % epoch)\n",
    "    with torch.no_grad():\n",
    "        for batch_idx, (inputs, targets) in enumerate(tqdm(testloader)):\n",
    "            inputs, targets = inputs.to(device), targets.to(device)\n",
    "            outputs,_ = model(inputs)\n",
    "            loss = criterion(outputs, targets)\n",
    "\n",
    "            test_loss += loss.item()\n",
    "            _, predicted = outputs.max(1)\n",
    "            total += targets.size(0)\n",
    "            correct += predicted.eq(targets).sum().item()\n",
    "\n",
    "        print(f\"Test Accuracy:{100.*correct/total: 0.2f}\")\n",
    "        print(f\"Test Loss:{test_loss/(batch_idx+1): 0.3f}\")\n",
    "        return 100.0 * correct / total, test_loss / (batch_idx + 1)"
   ]
  },
  {
   "cell_type": "code",
   "execution_count": 19,
   "metadata": {},
   "outputs": [],
   "source": [
    "import random\n",
    "\n",
    "import numpy as np\n",
    "\n",
    "seed = 0\n",
    "torch.manual_seed(seed)\n",
    "torch.cuda.manual_seed(seed)\n",
    "np.random.seed(seed)\n",
    "random.seed(seed)"
   ]
  },
  {
   "cell_type": "code",
   "execution_count": 20,
   "metadata": {},
   "outputs": [
    {
     "name": "stdout",
     "output_type": "stream",
     "text": [
      "FLOPs per inference step: 0.03 GFLOPs\n"
     ]
    }
   ],
   "source": [
    "from thop import profile\n",
    "dummy_input = torch.randn(1, 3, 32, 32).to(device)\n",
    "flops, _ = profile(model, inputs=(dummy_input,), verbose=False)\n",
    "print(f\"FLOPs per inference step: {flops / 1e9:.2f} GFLOPs\")"
   ]
  },
  {
   "cell_type": "code",
   "execution_count": 21,
   "metadata": {},
   "outputs": [
    {
     "name": "stdout",
     "output_type": "stream",
     "text": [
      "\n",
      "Training Epoch: 0\n"
     ]
    },
    {
     "name": "stderr",
     "output_type": "stream",
     "text": [
      "100%|██████████| 391/391 [00:27<00:00, 14.37it/s]\n"
     ]
    },
    {
     "name": "stdout",
     "output_type": "stream",
     "text": [
      "Training Accuracy: 29.70\n",
      "Training Loss: 1.890\n",
      "\n",
      "Testing Epoch: 0\n"
     ]
    },
    {
     "name": "stderr",
     "output_type": "stream",
     "text": [
      "100%|██████████| 79/79 [00:13<00:00,  5.90it/s]\n"
     ]
    },
    {
     "name": "stdout",
     "output_type": "stream",
     "text": [
      "Test Accuracy: 41.86\n",
      "Test Loss: 1.618\n",
      "Time taken for epoch 1: 40.60 seconds\n",
      "Peak GPU memory usage: 0.49 GB\n",
      "Estimated TFLOPs for epoch 1: 53.4587\n",
      "\n",
      "Training Epoch: 1\n"
     ]
    },
    {
     "name": "stderr",
     "output_type": "stream",
     "text": [
      "100%|██████████| 391/391 [00:26<00:00, 14.67it/s]\n"
     ]
    },
    {
     "name": "stdout",
     "output_type": "stream",
     "text": [
      "Training Accuracy: 38.97\n",
      "Training Loss: 1.658\n",
      "\n",
      "Testing Epoch: 1\n"
     ]
    },
    {
     "name": "stderr",
     "output_type": "stream",
     "text": [
      "100%|██████████| 79/79 [00:13<00:00,  5.73it/s]\n"
     ]
    },
    {
     "name": "stdout",
     "output_type": "stream",
     "text": [
      "Test Accuracy: 46.38\n",
      "Test Loss: 1.485\n",
      "Time taken for epoch 2: 40.44 seconds\n",
      "Peak GPU memory usage: 0.49 GB\n",
      "Estimated TFLOPs for epoch 2: 53.4587\n",
      "\n",
      "Training Epoch: 2\n"
     ]
    },
    {
     "name": "stderr",
     "output_type": "stream",
     "text": [
      "100%|██████████| 391/391 [00:26<00:00, 14.84it/s]\n"
     ]
    },
    {
     "name": "stdout",
     "output_type": "stream",
     "text": [
      "Training Accuracy: 43.37\n",
      "Training Loss: 1.558\n",
      "\n",
      "Testing Epoch: 2\n"
     ]
    },
    {
     "name": "stderr",
     "output_type": "stream",
     "text": [
      "100%|██████████| 79/79 [00:13<00:00,  6.01it/s]\n"
     ]
    },
    {
     "name": "stdout",
     "output_type": "stream",
     "text": [
      "Test Accuracy: 48.43\n",
      "Test Loss: 1.434\n",
      "Time taken for epoch 3: 39.51 seconds\n",
      "Peak GPU memory usage: 0.49 GB\n",
      "Estimated TFLOPs for epoch 3: 53.4587\n",
      "\n",
      "Training Epoch: 3\n"
     ]
    },
    {
     "name": "stderr",
     "output_type": "stream",
     "text": [
      "100%|██████████| 391/391 [00:27<00:00, 14.11it/s]\n"
     ]
    },
    {
     "name": "stdout",
     "output_type": "stream",
     "text": [
      "Training Accuracy: 45.37\n",
      "Training Loss: 1.500\n",
      "\n",
      "Testing Epoch: 3\n"
     ]
    },
    {
     "name": "stderr",
     "output_type": "stream",
     "text": [
      "100%|██████████| 79/79 [00:15<00:00,  5.25it/s]\n"
     ]
    },
    {
     "name": "stdout",
     "output_type": "stream",
     "text": [
      "Test Accuracy: 50.50\n",
      "Test Loss: 1.387\n",
      "Time taken for epoch 4: 42.76 seconds\n",
      "Peak GPU memory usage: 0.49 GB\n",
      "Estimated TFLOPs for epoch 4: 53.4587\n",
      "\n",
      "Training Epoch: 4\n"
     ]
    },
    {
     "name": "stderr",
     "output_type": "stream",
     "text": [
      "100%|██████████| 391/391 [00:46<00:00,  8.38it/s]\n"
     ]
    },
    {
     "name": "stdout",
     "output_type": "stream",
     "text": [
      "Training Accuracy: 47.03\n",
      "Training Loss: 1.455\n",
      "\n",
      "Testing Epoch: 4\n"
     ]
    },
    {
     "name": "stderr",
     "output_type": "stream",
     "text": [
      "100%|██████████| 79/79 [00:13<00:00,  5.78it/s]\n"
     ]
    },
    {
     "name": "stdout",
     "output_type": "stream",
     "text": [
      "Test Accuracy: 52.00\n",
      "Test Loss: 1.332\n",
      "Time taken for epoch 5: 60.35 seconds\n",
      "Peak GPU memory usage: 0.49 GB\n",
      "Estimated TFLOPs for epoch 5: 53.4587\n",
      "\n",
      "Training Epoch: 5\n"
     ]
    },
    {
     "name": "stderr",
     "output_type": "stream",
     "text": [
      "100%|██████████| 391/391 [00:29<00:00, 13.43it/s]\n"
     ]
    },
    {
     "name": "stdout",
     "output_type": "stream",
     "text": [
      "Training Accuracy: 48.53\n",
      "Training Loss: 1.412\n",
      "\n",
      "Testing Epoch: 5\n"
     ]
    },
    {
     "name": "stderr",
     "output_type": "stream",
     "text": [
      "100%|██████████| 79/79 [00:14<00:00,  5.38it/s]\n"
     ]
    },
    {
     "name": "stdout",
     "output_type": "stream",
     "text": [
      "Test Accuracy: 52.50\n",
      "Test Loss: 1.310\n",
      "Time taken for epoch 6: 43.81 seconds\n",
      "Peak GPU memory usage: 0.49 GB\n",
      "Estimated TFLOPs for epoch 6: 53.4587\n",
      "\n",
      "Training Epoch: 6\n"
     ]
    },
    {
     "name": "stderr",
     "output_type": "stream",
     "text": [
      "100%|██████████| 391/391 [00:27<00:00, 14.22it/s]\n"
     ]
    },
    {
     "name": "stdout",
     "output_type": "stream",
     "text": [
      "Training Accuracy: 49.78\n",
      "Training Loss: 1.386\n",
      "\n",
      "Testing Epoch: 6\n"
     ]
    },
    {
     "name": "stderr",
     "output_type": "stream",
     "text": [
      "100%|██████████| 79/79 [00:12<00:00,  6.20it/s]\n"
     ]
    },
    {
     "name": "stdout",
     "output_type": "stream",
     "text": [
      "Test Accuracy: 54.40\n",
      "Test Loss: 1.269\n",
      "Time taken for epoch 7: 40.24 seconds\n",
      "Peak GPU memory usage: 0.49 GB\n",
      "Estimated TFLOPs for epoch 7: 53.4587\n",
      "\n",
      "Training Epoch: 7\n"
     ]
    },
    {
     "name": "stderr",
     "output_type": "stream",
     "text": [
      "100%|██████████| 391/391 [00:26<00:00, 14.77it/s]\n"
     ]
    },
    {
     "name": "stdout",
     "output_type": "stream",
     "text": [
      "Training Accuracy: 50.71\n",
      "Training Loss: 1.356\n",
      "\n",
      "Testing Epoch: 7\n"
     ]
    },
    {
     "name": "stderr",
     "output_type": "stream",
     "text": [
      "100%|██████████| 79/79 [00:13<00:00,  5.89it/s]\n"
     ]
    },
    {
     "name": "stdout",
     "output_type": "stream",
     "text": [
      "Test Accuracy: 53.77\n",
      "Test Loss: 1.281\n",
      "Time taken for epoch 8: 39.91 seconds\n",
      "Peak GPU memory usage: 0.49 GB\n",
      "Estimated TFLOPs for epoch 8: 53.4587\n",
      "\n",
      "Training Epoch: 8\n"
     ]
    },
    {
     "name": "stderr",
     "output_type": "stream",
     "text": [
      "100%|██████████| 391/391 [00:27<00:00, 14.33it/s]\n"
     ]
    },
    {
     "name": "stdout",
     "output_type": "stream",
     "text": [
      "Training Accuracy: 51.87\n",
      "Training Loss: 1.330\n",
      "\n",
      "Testing Epoch: 8\n"
     ]
    },
    {
     "name": "stderr",
     "output_type": "stream",
     "text": [
      "100%|██████████| 79/79 [00:13<00:00,  6.08it/s]\n"
     ]
    },
    {
     "name": "stdout",
     "output_type": "stream",
     "text": [
      "Test Accuracy: 55.22\n",
      "Test Loss: 1.234\n",
      "Time taken for epoch 9: 40.29 seconds\n",
      "Peak GPU memory usage: 0.49 GB\n",
      "Estimated TFLOPs for epoch 9: 53.4587\n",
      "\n",
      "Training Epoch: 9\n"
     ]
    },
    {
     "name": "stderr",
     "output_type": "stream",
     "text": [
      "100%|██████████| 391/391 [00:27<00:00, 14.39it/s]\n"
     ]
    },
    {
     "name": "stdout",
     "output_type": "stream",
     "text": [
      "Training Accuracy: 52.59\n",
      "Training Loss: 1.313\n",
      "\n",
      "Testing Epoch: 9\n"
     ]
    },
    {
     "name": "stderr",
     "output_type": "stream",
     "text": [
      "100%|██████████| 79/79 [00:12<00:00,  6.17it/s]\n"
     ]
    },
    {
     "name": "stdout",
     "output_type": "stream",
     "text": [
      "Test Accuracy: 56.08\n",
      "Test Loss: 1.212\n",
      "Time taken for epoch 10: 39.99 seconds\n",
      "Peak GPU memory usage: 0.49 GB\n",
      "Estimated TFLOPs for epoch 10: 53.4587\n",
      "\n",
      "Training Epoch: 10\n"
     ]
    },
    {
     "name": "stderr",
     "output_type": "stream",
     "text": [
      "100%|██████████| 391/391 [00:26<00:00, 14.60it/s]\n"
     ]
    },
    {
     "name": "stdout",
     "output_type": "stream",
     "text": [
      "Training Accuracy: 53.42\n",
      "Training Loss: 1.289\n",
      "\n",
      "Testing Epoch: 10\n"
     ]
    },
    {
     "name": "stderr",
     "output_type": "stream",
     "text": [
      "100%|██████████| 79/79 [00:13<00:00,  5.68it/s]\n"
     ]
    },
    {
     "name": "stdout",
     "output_type": "stream",
     "text": [
      "Test Accuracy: 56.97\n",
      "Test Loss: 1.202\n",
      "Time taken for epoch 11: 40.70 seconds\n",
      "Peak GPU memory usage: 0.49 GB\n",
      "Estimated TFLOPs for epoch 11: 53.4587\n",
      "\n",
      "Training Epoch: 11\n"
     ]
    },
    {
     "name": "stderr",
     "output_type": "stream",
     "text": [
      "100%|██████████| 391/391 [00:30<00:00, 12.98it/s]\n"
     ]
    },
    {
     "name": "stdout",
     "output_type": "stream",
     "text": [
      "Training Accuracy: 53.98\n",
      "Training Loss: 1.271\n",
      "\n",
      "Testing Epoch: 11\n"
     ]
    },
    {
     "name": "stderr",
     "output_type": "stream",
     "text": [
      "100%|██████████| 79/79 [00:14<00:00,  5.62it/s]\n"
     ]
    },
    {
     "name": "stdout",
     "output_type": "stream",
     "text": [
      "Test Accuracy: 57.62\n",
      "Test Loss: 1.175\n",
      "Time taken for epoch 12: 44.20 seconds\n",
      "Peak GPU memory usage: 0.49 GB\n",
      "Estimated TFLOPs for epoch 12: 53.4587\n",
      "\n",
      "Training Epoch: 12\n"
     ]
    },
    {
     "name": "stderr",
     "output_type": "stream",
     "text": [
      "100%|██████████| 391/391 [00:27<00:00, 13.98it/s]\n"
     ]
    },
    {
     "name": "stdout",
     "output_type": "stream",
     "text": [
      "Training Accuracy: 54.45\n",
      "Training Loss: 1.260\n",
      "\n",
      "Testing Epoch: 12\n"
     ]
    },
    {
     "name": "stderr",
     "output_type": "stream",
     "text": [
      "100%|██████████| 79/79 [00:18<00:00,  4.22it/s]\n"
     ]
    },
    {
     "name": "stdout",
     "output_type": "stream",
     "text": [
      "Test Accuracy: 58.12\n",
      "Test Loss: 1.165\n",
      "Time taken for epoch 13: 46.69 seconds\n",
      "Peak GPU memory usage: 0.49 GB\n",
      "Estimated TFLOPs for epoch 13: 53.4587\n",
      "\n",
      "Training Epoch: 13\n"
     ]
    },
    {
     "name": "stderr",
     "output_type": "stream",
     "text": [
      "100%|██████████| 391/391 [00:28<00:00, 13.94it/s]\n"
     ]
    },
    {
     "name": "stdout",
     "output_type": "stream",
     "text": [
      "Training Accuracy: 55.14\n",
      "Training Loss: 1.241\n",
      "\n",
      "Testing Epoch: 13\n"
     ]
    },
    {
     "name": "stderr",
     "output_type": "stream",
     "text": [
      "100%|██████████| 79/79 [00:13<00:00,  6.07it/s]\n"
     ]
    },
    {
     "name": "stdout",
     "output_type": "stream",
     "text": [
      "Test Accuracy: 58.90\n",
      "Test Loss: 1.145\n",
      "Time taken for epoch 14: 41.07 seconds\n",
      "Peak GPU memory usage: 0.49 GB\n",
      "Estimated TFLOPs for epoch 14: 53.4587\n",
      "\n",
      "Training Epoch: 14\n"
     ]
    },
    {
     "name": "stderr",
     "output_type": "stream",
     "text": [
      "100%|██████████| 391/391 [00:26<00:00, 14.64it/s]\n"
     ]
    },
    {
     "name": "stdout",
     "output_type": "stream",
     "text": [
      "Training Accuracy: 55.78\n",
      "Training Loss: 1.224\n",
      "\n",
      "Testing Epoch: 14\n"
     ]
    },
    {
     "name": "stderr",
     "output_type": "stream",
     "text": [
      "100%|██████████| 79/79 [00:12<00:00,  6.27it/s]\n"
     ]
    },
    {
     "name": "stdout",
     "output_type": "stream",
     "text": [
      "Test Accuracy: 58.90\n",
      "Test Loss: 1.134\n",
      "Time taken for epoch 15: 39.32 seconds\n",
      "Peak GPU memory usage: 0.49 GB\n",
      "Estimated TFLOPs for epoch 15: 53.4587\n",
      "\n",
      "Training Epoch: 15\n"
     ]
    },
    {
     "name": "stderr",
     "output_type": "stream",
     "text": [
      "100%|██████████| 391/391 [00:26<00:00, 14.98it/s]\n"
     ]
    },
    {
     "name": "stdout",
     "output_type": "stream",
     "text": [
      "Training Accuracy: 56.11\n",
      "Training Loss: 1.218\n",
      "\n",
      "Testing Epoch: 15\n"
     ]
    },
    {
     "name": "stderr",
     "output_type": "stream",
     "text": [
      "100%|██████████| 79/79 [00:12<00:00,  6.27it/s]\n"
     ]
    },
    {
     "name": "stdout",
     "output_type": "stream",
     "text": [
      "Test Accuracy: 59.61\n",
      "Test Loss: 1.121\n",
      "Time taken for epoch 16: 38.71 seconds\n",
      "Peak GPU memory usage: 0.49 GB\n",
      "Estimated TFLOPs for epoch 16: 53.4587\n",
      "\n",
      "Training Epoch: 16\n"
     ]
    },
    {
     "name": "stderr",
     "output_type": "stream",
     "text": [
      "100%|██████████| 391/391 [00:26<00:00, 14.85it/s]\n"
     ]
    },
    {
     "name": "stdout",
     "output_type": "stream",
     "text": [
      "Training Accuracy: 56.79\n",
      "Training Loss: 1.199\n",
      "\n",
      "Testing Epoch: 16\n"
     ]
    },
    {
     "name": "stderr",
     "output_type": "stream",
     "text": [
      "100%|██████████| 79/79 [00:14<00:00,  5.54it/s]\n"
     ]
    },
    {
     "name": "stdout",
     "output_type": "stream",
     "text": [
      "Test Accuracy: 59.82\n",
      "Test Loss: 1.111\n",
      "Time taken for epoch 17: 40.59 seconds\n",
      "Peak GPU memory usage: 0.49 GB\n",
      "Estimated TFLOPs for epoch 17: 53.4587\n",
      "\n",
      "Training Epoch: 17\n"
     ]
    },
    {
     "name": "stderr",
     "output_type": "stream",
     "text": [
      "100%|██████████| 391/391 [00:26<00:00, 14.98it/s]\n"
     ]
    },
    {
     "name": "stdout",
     "output_type": "stream",
     "text": [
      "Training Accuracy: 57.46\n",
      "Training Loss: 1.181\n",
      "\n",
      "Testing Epoch: 17\n"
     ]
    },
    {
     "name": "stderr",
     "output_type": "stream",
     "text": [
      "100%|██████████| 79/79 [00:12<00:00,  6.28it/s]\n"
     ]
    },
    {
     "name": "stdout",
     "output_type": "stream",
     "text": [
      "Test Accuracy: 60.07\n",
      "Test Loss: 1.102\n",
      "Time taken for epoch 18: 38.69 seconds\n",
      "Peak GPU memory usage: 0.49 GB\n",
      "Estimated TFLOPs for epoch 18: 53.4587\n",
      "\n",
      "Training Epoch: 18\n"
     ]
    },
    {
     "name": "stderr",
     "output_type": "stream",
     "text": [
      "100%|██████████| 391/391 [00:25<00:00, 15.17it/s]\n"
     ]
    },
    {
     "name": "stdout",
     "output_type": "stream",
     "text": [
      "Training Accuracy: 57.94\n",
      "Training Loss: 1.176\n",
      "\n",
      "Testing Epoch: 18\n"
     ]
    },
    {
     "name": "stderr",
     "output_type": "stream",
     "text": [
      "100%|██████████| 79/79 [00:12<00:00,  6.29it/s]\n"
     ]
    },
    {
     "name": "stdout",
     "output_type": "stream",
     "text": [
      "Test Accuracy: 60.83\n",
      "Test Loss: 1.089\n",
      "Time taken for epoch 19: 38.34 seconds\n",
      "Peak GPU memory usage: 0.49 GB\n",
      "Estimated TFLOPs for epoch 19: 53.4587\n",
      "\n",
      "Training Epoch: 19\n"
     ]
    },
    {
     "name": "stderr",
     "output_type": "stream",
     "text": [
      "100%|██████████| 391/391 [00:26<00:00, 14.91it/s]\n"
     ]
    },
    {
     "name": "stdout",
     "output_type": "stream",
     "text": [
      "Training Accuracy: 57.95\n",
      "Training Loss: 1.167\n",
      "\n",
      "Testing Epoch: 19\n"
     ]
    },
    {
     "name": "stderr",
     "output_type": "stream",
     "text": [
      "100%|██████████| 79/79 [00:12<00:00,  6.28it/s]\n"
     ]
    },
    {
     "name": "stdout",
     "output_type": "stream",
     "text": [
      "Test Accuracy: 60.87\n",
      "Test Loss: 1.078\n",
      "Time taken for epoch 20: 38.81 seconds\n",
      "Peak GPU memory usage: 0.49 GB\n",
      "Estimated TFLOPs for epoch 20: 53.4587\n",
      "\n",
      "Training Epoch: 20\n"
     ]
    },
    {
     "name": "stderr",
     "output_type": "stream",
     "text": [
      "100%|██████████| 391/391 [00:26<00:00, 14.98it/s]\n"
     ]
    },
    {
     "name": "stdout",
     "output_type": "stream",
     "text": [
      "Training Accuracy: 58.26\n",
      "Training Loss: 1.157\n",
      "\n",
      "Testing Epoch: 20\n"
     ]
    },
    {
     "name": "stderr",
     "output_type": "stream",
     "text": [
      "100%|██████████| 79/79 [00:12<00:00,  6.16it/s]\n"
     ]
    },
    {
     "name": "stdout",
     "output_type": "stream",
     "text": [
      "Test Accuracy: 61.16\n",
      "Test Loss: 1.072\n",
      "Time taken for epoch 21: 38.93 seconds\n",
      "Peak GPU memory usage: 0.49 GB\n",
      "Estimated TFLOPs for epoch 21: 53.4587\n",
      "\n",
      "Training Epoch: 21\n"
     ]
    },
    {
     "name": "stderr",
     "output_type": "stream",
     "text": [
      "100%|██████████| 391/391 [00:26<00:00, 14.84it/s]\n"
     ]
    },
    {
     "name": "stdout",
     "output_type": "stream",
     "text": [
      "Training Accuracy: 59.16\n",
      "Training Loss: 1.142\n",
      "\n",
      "Testing Epoch: 21\n"
     ]
    },
    {
     "name": "stderr",
     "output_type": "stream",
     "text": [
      "100%|██████████| 79/79 [00:13<00:00,  6.03it/s]\n"
     ]
    },
    {
     "name": "stdout",
     "output_type": "stream",
     "text": [
      "Test Accuracy: 61.89\n",
      "Test Loss: 1.064\n",
      "Time taken for epoch 22: 39.45 seconds\n",
      "Peak GPU memory usage: 0.49 GB\n",
      "Estimated TFLOPs for epoch 22: 53.4587\n",
      "\n",
      "Training Epoch: 22\n"
     ]
    },
    {
     "name": "stderr",
     "output_type": "stream",
     "text": [
      "100%|██████████| 391/391 [00:26<00:00, 14.91it/s]\n"
     ]
    },
    {
     "name": "stdout",
     "output_type": "stream",
     "text": [
      "Training Accuracy: 59.53\n",
      "Training Loss: 1.128\n",
      "\n",
      "Testing Epoch: 22\n"
     ]
    },
    {
     "name": "stderr",
     "output_type": "stream",
     "text": [
      "100%|██████████| 79/79 [00:12<00:00,  6.45it/s]\n"
     ]
    },
    {
     "name": "stdout",
     "output_type": "stream",
     "text": [
      "Test Accuracy: 61.93\n",
      "Test Loss: 1.059\n",
      "Time taken for epoch 23: 38.48 seconds\n",
      "Peak GPU memory usage: 0.49 GB\n",
      "Estimated TFLOPs for epoch 23: 53.4587\n",
      "\n",
      "Training Epoch: 23\n"
     ]
    },
    {
     "name": "stderr",
     "output_type": "stream",
     "text": [
      "100%|██████████| 391/391 [00:25<00:00, 15.20it/s]\n"
     ]
    },
    {
     "name": "stdout",
     "output_type": "stream",
     "text": [
      "Training Accuracy: 59.70\n",
      "Training Loss: 1.120\n",
      "\n",
      "Testing Epoch: 23\n"
     ]
    },
    {
     "name": "stderr",
     "output_type": "stream",
     "text": [
      "100%|██████████| 79/79 [00:12<00:00,  6.21it/s]\n"
     ]
    },
    {
     "name": "stdout",
     "output_type": "stream",
     "text": [
      "Test Accuracy: 61.93\n",
      "Test Loss: 1.052\n",
      "Time taken for epoch 24: 38.46 seconds\n",
      "Peak GPU memory usage: 0.49 GB\n",
      "Estimated TFLOPs for epoch 24: 53.4587\n",
      "\n",
      "Training Epoch: 24\n"
     ]
    },
    {
     "name": "stderr",
     "output_type": "stream",
     "text": [
      "100%|██████████| 391/391 [00:26<00:00, 14.86it/s]\n"
     ]
    },
    {
     "name": "stdout",
     "output_type": "stream",
     "text": [
      "Training Accuracy: 60.02\n",
      "Training Loss: 1.113\n",
      "\n",
      "Testing Epoch: 24\n"
     ]
    },
    {
     "name": "stderr",
     "output_type": "stream",
     "text": [
      "100%|██████████| 79/79 [00:12<00:00,  6.26it/s]\n"
     ]
    },
    {
     "name": "stdout",
     "output_type": "stream",
     "text": [
      "Test Accuracy: 62.48\n",
      "Test Loss: 1.036\n",
      "Time taken for epoch 25: 38.95 seconds\n",
      "Peak GPU memory usage: 0.49 GB\n",
      "Estimated TFLOPs for epoch 25: 53.4587\n",
      "\n",
      "Training Epoch: 25\n"
     ]
    },
    {
     "name": "stderr",
     "output_type": "stream",
     "text": [
      "100%|██████████| 391/391 [00:26<00:00, 14.73it/s]\n"
     ]
    },
    {
     "name": "stdout",
     "output_type": "stream",
     "text": [
      "Training Accuracy: 60.62\n",
      "Training Loss: 1.102\n",
      "\n",
      "Testing Epoch: 25\n"
     ]
    },
    {
     "name": "stderr",
     "output_type": "stream",
     "text": [
      "100%|██████████| 79/79 [00:12<00:00,  6.10it/s]\n"
     ]
    },
    {
     "name": "stdout",
     "output_type": "stream",
     "text": [
      "Test Accuracy: 62.60\n",
      "Test Loss: 1.032\n",
      "Time taken for epoch 26: 39.49 seconds\n",
      "Peak GPU memory usage: 0.49 GB\n",
      "Estimated TFLOPs for epoch 26: 53.4587\n",
      "\n",
      "Training Epoch: 26\n"
     ]
    },
    {
     "name": "stderr",
     "output_type": "stream",
     "text": [
      "100%|██████████| 391/391 [00:29<00:00, 13.14it/s]\n"
     ]
    },
    {
     "name": "stdout",
     "output_type": "stream",
     "text": [
      "Training Accuracy: 61.14\n",
      "Training Loss: 1.088\n",
      "\n",
      "Testing Epoch: 26\n"
     ]
    },
    {
     "name": "stderr",
     "output_type": "stream",
     "text": [
      "100%|██████████| 79/79 [00:13<00:00,  5.99it/s]\n"
     ]
    },
    {
     "name": "stdout",
     "output_type": "stream",
     "text": [
      "Test Accuracy: 63.42\n",
      "Test Loss: 1.017\n",
      "Time taken for epoch 27: 42.95 seconds\n",
      "Peak GPU memory usage: 0.49 GB\n",
      "Estimated TFLOPs for epoch 27: 53.4587\n",
      "\n",
      "Training Epoch: 27\n"
     ]
    },
    {
     "name": "stderr",
     "output_type": "stream",
     "text": [
      "100%|██████████| 391/391 [00:27<00:00, 14.06it/s]\n"
     ]
    },
    {
     "name": "stdout",
     "output_type": "stream",
     "text": [
      "Training Accuracy: 61.00\n",
      "Training Loss: 1.084\n",
      "\n",
      "Testing Epoch: 27\n"
     ]
    },
    {
     "name": "stderr",
     "output_type": "stream",
     "text": [
      "100%|██████████| 79/79 [00:12<00:00,  6.15it/s]\n"
     ]
    },
    {
     "name": "stdout",
     "output_type": "stream",
     "text": [
      "Test Accuracy: 63.78\n",
      "Test Loss: 1.010\n",
      "Time taken for epoch 28: 40.67 seconds\n",
      "Peak GPU memory usage: 0.49 GB\n",
      "Estimated TFLOPs for epoch 28: 53.4587\n",
      "\n",
      "Training Epoch: 28\n"
     ]
    },
    {
     "name": "stderr",
     "output_type": "stream",
     "text": [
      "100%|██████████| 391/391 [00:26<00:00, 14.97it/s]\n"
     ]
    },
    {
     "name": "stdout",
     "output_type": "stream",
     "text": [
      "Training Accuracy: 61.35\n",
      "Training Loss: 1.073\n",
      "\n",
      "Testing Epoch: 28\n"
     ]
    },
    {
     "name": "stderr",
     "output_type": "stream",
     "text": [
      "100%|██████████| 79/79 [00:12<00:00,  6.23it/s]\n"
     ]
    },
    {
     "name": "stdout",
     "output_type": "stream",
     "text": [
      "Test Accuracy: 63.72\n",
      "Test Loss: 1.019\n",
      "Time taken for epoch 29: 38.80 seconds\n",
      "Peak GPU memory usage: 0.49 GB\n",
      "Estimated TFLOPs for epoch 29: 53.4587\n",
      "\n",
      "Training Epoch: 29\n"
     ]
    },
    {
     "name": "stderr",
     "output_type": "stream",
     "text": [
      "100%|██████████| 391/391 [00:26<00:00, 14.76it/s]\n"
     ]
    },
    {
     "name": "stdout",
     "output_type": "stream",
     "text": [
      "Training Accuracy: 61.84\n",
      "Training Loss: 1.065\n",
      "\n",
      "Testing Epoch: 29\n"
     ]
    },
    {
     "name": "stderr",
     "output_type": "stream",
     "text": [
      "100%|██████████| 79/79 [00:12<00:00,  6.12it/s]\n"
     ]
    },
    {
     "name": "stdout",
     "output_type": "stream",
     "text": [
      "Test Accuracy: 64.64\n",
      "Test Loss: 0.994\n",
      "Time taken for epoch 30: 39.39 seconds\n",
      "Peak GPU memory usage: 0.49 GB\n",
      "Estimated TFLOPs for epoch 30: 53.4587\n",
      "\n",
      "Training Epoch: 30\n"
     ]
    },
    {
     "name": "stderr",
     "output_type": "stream",
     "text": [
      "100%|██████████| 391/391 [00:26<00:00, 14.66it/s]\n"
     ]
    },
    {
     "name": "stdout",
     "output_type": "stream",
     "text": [
      "Training Accuracy: 62.25\n",
      "Training Loss: 1.057\n",
      "\n",
      "Testing Epoch: 30\n"
     ]
    },
    {
     "name": "stderr",
     "output_type": "stream",
     "text": [
      "100%|██████████| 79/79 [00:13<00:00,  6.04it/s]\n"
     ]
    },
    {
     "name": "stdout",
     "output_type": "stream",
     "text": [
      "Test Accuracy: 64.02\n",
      "Test Loss: 1.001\n",
      "Time taken for epoch 31: 39.77 seconds\n",
      "Peak GPU memory usage: 0.49 GB\n",
      "Estimated TFLOPs for epoch 31: 53.4587\n",
      "\n",
      "Training Epoch: 31\n"
     ]
    },
    {
     "name": "stderr",
     "output_type": "stream",
     "text": [
      "100%|██████████| 391/391 [00:26<00:00, 14.65it/s]\n"
     ]
    },
    {
     "name": "stdout",
     "output_type": "stream",
     "text": [
      "Training Accuracy: 62.28\n",
      "Training Loss: 1.050\n",
      "\n",
      "Testing Epoch: 31\n"
     ]
    },
    {
     "name": "stderr",
     "output_type": "stream",
     "text": [
      "100%|██████████| 79/79 [00:12<00:00,  6.14it/s]\n"
     ]
    },
    {
     "name": "stdout",
     "output_type": "stream",
     "text": [
      "Test Accuracy: 64.10\n",
      "Test Loss: 0.990\n",
      "Time taken for epoch 32: 39.58 seconds\n",
      "Peak GPU memory usage: 0.49 GB\n",
      "Estimated TFLOPs for epoch 32: 53.4587\n",
      "\n",
      "Training Epoch: 32\n"
     ]
    },
    {
     "name": "stderr",
     "output_type": "stream",
     "text": [
      "100%|██████████| 391/391 [00:26<00:00, 14.74it/s]\n"
     ]
    },
    {
     "name": "stdout",
     "output_type": "stream",
     "text": [
      "Training Accuracy: 62.84\n",
      "Training Loss: 1.040\n",
      "\n",
      "Testing Epoch: 32\n"
     ]
    },
    {
     "name": "stderr",
     "output_type": "stream",
     "text": [
      "100%|██████████| 79/79 [00:12<00:00,  6.15it/s]\n"
     ]
    },
    {
     "name": "stdout",
     "output_type": "stream",
     "text": [
      "Test Accuracy: 65.01\n",
      "Test Loss: 0.984\n",
      "Time taken for epoch 33: 39.38 seconds\n",
      "Peak GPU memory usage: 0.49 GB\n",
      "Estimated TFLOPs for epoch 33: 53.4587\n",
      "\n",
      "Training Epoch: 33\n"
     ]
    },
    {
     "name": "stderr",
     "output_type": "stream",
     "text": [
      "100%|██████████| 391/391 [00:26<00:00, 14.99it/s]\n"
     ]
    },
    {
     "name": "stdout",
     "output_type": "stream",
     "text": [
      "Training Accuracy: 62.90\n",
      "Training Loss: 1.037\n",
      "\n",
      "Testing Epoch: 33\n"
     ]
    },
    {
     "name": "stderr",
     "output_type": "stream",
     "text": [
      "100%|██████████| 79/79 [00:12<00:00,  6.34it/s]\n"
     ]
    },
    {
     "name": "stdout",
     "output_type": "stream",
     "text": [
      "Test Accuracy: 64.94\n",
      "Test Loss: 0.970\n",
      "Time taken for epoch 34: 38.55 seconds\n",
      "Peak GPU memory usage: 0.49 GB\n",
      "Estimated TFLOPs for epoch 34: 53.4587\n",
      "\n",
      "Training Epoch: 34\n"
     ]
    },
    {
     "name": "stderr",
     "output_type": "stream",
     "text": [
      "100%|██████████| 391/391 [00:25<00:00, 15.12it/s]\n"
     ]
    },
    {
     "name": "stdout",
     "output_type": "stream",
     "text": [
      "Training Accuracy: 63.37\n",
      "Training Loss: 1.026\n",
      "\n",
      "Testing Epoch: 34\n"
     ]
    },
    {
     "name": "stderr",
     "output_type": "stream",
     "text": [
      "100%|██████████| 79/79 [00:12<00:00,  6.40it/s]\n"
     ]
    },
    {
     "name": "stdout",
     "output_type": "stream",
     "text": [
      "Test Accuracy: 65.31\n",
      "Test Loss: 0.966\n",
      "Time taken for epoch 35: 38.22 seconds\n",
      "Peak GPU memory usage: 0.49 GB\n",
      "Estimated TFLOPs for epoch 35: 53.4587\n",
      "\n",
      "Training Epoch: 35\n"
     ]
    },
    {
     "name": "stderr",
     "output_type": "stream",
     "text": [
      "100%|██████████| 391/391 [00:25<00:00, 15.13it/s]\n"
     ]
    },
    {
     "name": "stdout",
     "output_type": "stream",
     "text": [
      "Training Accuracy: 63.28\n",
      "Training Loss: 1.024\n",
      "\n",
      "Testing Epoch: 35\n"
     ]
    },
    {
     "name": "stderr",
     "output_type": "stream",
     "text": [
      "100%|██████████| 79/79 [00:12<00:00,  6.32it/s]\n"
     ]
    },
    {
     "name": "stdout",
     "output_type": "stream",
     "text": [
      "Test Accuracy: 65.93\n",
      "Test Loss: 0.958\n",
      "Time taken for epoch 36: 38.34 seconds\n",
      "Peak GPU memory usage: 0.49 GB\n",
      "Estimated TFLOPs for epoch 36: 53.4587\n",
      "\n",
      "Training Epoch: 36\n"
     ]
    },
    {
     "name": "stderr",
     "output_type": "stream",
     "text": [
      "100%|██████████| 391/391 [00:25<00:00, 15.23it/s]\n"
     ]
    },
    {
     "name": "stdout",
     "output_type": "stream",
     "text": [
      "Training Accuracy: 63.98\n",
      "Training Loss: 1.004\n",
      "\n",
      "Testing Epoch: 36\n"
     ]
    },
    {
     "name": "stderr",
     "output_type": "stream",
     "text": [
      "100%|██████████| 79/79 [00:12<00:00,  6.33it/s]\n"
     ]
    },
    {
     "name": "stdout",
     "output_type": "stream",
     "text": [
      "Test Accuracy: 65.56\n",
      "Test Loss: 0.957\n",
      "Time taken for epoch 37: 38.17 seconds\n",
      "Peak GPU memory usage: 0.49 GB\n",
      "Estimated TFLOPs for epoch 37: 53.4587\n",
      "\n",
      "Training Epoch: 37\n"
     ]
    },
    {
     "name": "stderr",
     "output_type": "stream",
     "text": [
      "100%|██████████| 391/391 [00:25<00:00, 15.12it/s]\n"
     ]
    },
    {
     "name": "stdout",
     "output_type": "stream",
     "text": [
      "Training Accuracy: 64.38\n",
      "Training Loss: 1.002\n",
      "\n",
      "Testing Epoch: 37\n"
     ]
    },
    {
     "name": "stderr",
     "output_type": "stream",
     "text": [
      "100%|██████████| 79/79 [00:12<00:00,  6.41it/s]\n"
     ]
    },
    {
     "name": "stdout",
     "output_type": "stream",
     "text": [
      "Test Accuracy: 66.14\n",
      "Test Loss: 0.947\n",
      "Time taken for epoch 38: 38.18 seconds\n",
      "Peak GPU memory usage: 0.49 GB\n",
      "Estimated TFLOPs for epoch 38: 53.4587\n",
      "\n",
      "Training Epoch: 38\n"
     ]
    },
    {
     "name": "stderr",
     "output_type": "stream",
     "text": [
      "100%|██████████| 391/391 [00:25<00:00, 15.06it/s]\n"
     ]
    },
    {
     "name": "stdout",
     "output_type": "stream",
     "text": [
      "Training Accuracy: 64.63\n",
      "Training Loss: 0.993\n",
      "\n",
      "Testing Epoch: 38\n"
     ]
    },
    {
     "name": "stderr",
     "output_type": "stream",
     "text": [
      "100%|██████████| 79/79 [00:12<00:00,  6.47it/s]\n"
     ]
    },
    {
     "name": "stdout",
     "output_type": "stream",
     "text": [
      "Test Accuracy: 65.94\n",
      "Test Loss: 0.953\n",
      "Time taken for epoch 39: 38.18 seconds\n",
      "Peak GPU memory usage: 0.49 GB\n",
      "Estimated TFLOPs for epoch 39: 53.4587\n",
      "\n",
      "Training Epoch: 39\n"
     ]
    },
    {
     "name": "stderr",
     "output_type": "stream",
     "text": [
      "100%|██████████| 391/391 [00:25<00:00, 15.08it/s]\n"
     ]
    },
    {
     "name": "stdout",
     "output_type": "stream",
     "text": [
      "Training Accuracy: 64.79\n",
      "Training Loss: 0.989\n",
      "\n",
      "Testing Epoch: 39\n"
     ]
    },
    {
     "name": "stderr",
     "output_type": "stream",
     "text": [
      "100%|██████████| 79/79 [00:12<00:00,  6.35it/s]\n"
     ]
    },
    {
     "name": "stdout",
     "output_type": "stream",
     "text": [
      "Test Accuracy: 66.47\n",
      "Test Loss: 0.936\n",
      "Time taken for epoch 40: 38.40 seconds\n",
      "Peak GPU memory usage: 0.49 GB\n",
      "Estimated TFLOPs for epoch 40: 53.4587\n",
      "\n",
      "Training Epoch: 40\n"
     ]
    },
    {
     "name": "stderr",
     "output_type": "stream",
     "text": [
      "100%|██████████| 391/391 [00:26<00:00, 15.01it/s]\n"
     ]
    },
    {
     "name": "stdout",
     "output_type": "stream",
     "text": [
      "Training Accuracy: 65.01\n",
      "Training Loss: 0.980\n",
      "\n",
      "Testing Epoch: 40\n"
     ]
    },
    {
     "name": "stderr",
     "output_type": "stream",
     "text": [
      "100%|██████████| 79/79 [00:12<00:00,  6.31it/s]\n"
     ]
    },
    {
     "name": "stdout",
     "output_type": "stream",
     "text": [
      "Test Accuracy: 66.20\n",
      "Test Loss: 0.938\n",
      "Time taken for epoch 41: 38.58 seconds\n",
      "Peak GPU memory usage: 0.49 GB\n",
      "Estimated TFLOPs for epoch 41: 53.4587\n",
      "\n",
      "Training Epoch: 41\n"
     ]
    },
    {
     "name": "stderr",
     "output_type": "stream",
     "text": [
      "100%|██████████| 391/391 [00:25<00:00, 15.23it/s]\n"
     ]
    },
    {
     "name": "stdout",
     "output_type": "stream",
     "text": [
      "Training Accuracy: 65.31\n",
      "Training Loss: 0.974\n",
      "\n",
      "Testing Epoch: 41\n"
     ]
    },
    {
     "name": "stderr",
     "output_type": "stream",
     "text": [
      "100%|██████████| 79/79 [00:12<00:00,  6.32it/s]\n"
     ]
    },
    {
     "name": "stdout",
     "output_type": "stream",
     "text": [
      "Test Accuracy: 66.76\n",
      "Test Loss: 0.920\n",
      "Time taken for epoch 42: 38.17 seconds\n",
      "Peak GPU memory usage: 0.49 GB\n",
      "Estimated TFLOPs for epoch 42: 53.4587\n",
      "\n",
      "Training Epoch: 42\n"
     ]
    },
    {
     "name": "stderr",
     "output_type": "stream",
     "text": [
      "100%|██████████| 391/391 [00:25<00:00, 15.08it/s]\n"
     ]
    },
    {
     "name": "stdout",
     "output_type": "stream",
     "text": [
      "Training Accuracy: 65.39\n",
      "Training Loss: 0.966\n",
      "\n",
      "Testing Epoch: 42\n"
     ]
    },
    {
     "name": "stderr",
     "output_type": "stream",
     "text": [
      "100%|██████████| 79/79 [00:12<00:00,  6.34it/s]\n"
     ]
    },
    {
     "name": "stdout",
     "output_type": "stream",
     "text": [
      "Test Accuracy: 67.28\n",
      "Test Loss: 0.916\n",
      "Time taken for epoch 43: 38.40 seconds\n",
      "Peak GPU memory usage: 0.49 GB\n",
      "Estimated TFLOPs for epoch 43: 53.4587\n",
      "\n",
      "Training Epoch: 43\n"
     ]
    },
    {
     "name": "stderr",
     "output_type": "stream",
     "text": [
      "100%|██████████| 391/391 [00:26<00:00, 15.02it/s]\n"
     ]
    },
    {
     "name": "stdout",
     "output_type": "stream",
     "text": [
      "Training Accuracy: 66.13\n",
      "Training Loss: 0.955\n",
      "\n",
      "Testing Epoch: 43\n"
     ]
    },
    {
     "name": "stderr",
     "output_type": "stream",
     "text": [
      "100%|██████████| 79/79 [00:13<00:00,  5.67it/s]\n"
     ]
    },
    {
     "name": "stdout",
     "output_type": "stream",
     "text": [
      "Test Accuracy: 67.26\n",
      "Test Loss: 0.918\n",
      "Time taken for epoch 44: 39.98 seconds\n",
      "Peak GPU memory usage: 0.49 GB\n",
      "Estimated TFLOPs for epoch 44: 53.4587\n",
      "\n",
      "Training Epoch: 44\n"
     ]
    },
    {
     "name": "stderr",
     "output_type": "stream",
     "text": [
      "100%|██████████| 391/391 [00:26<00:00, 14.65it/s]\n"
     ]
    },
    {
     "name": "stdout",
     "output_type": "stream",
     "text": [
      "Training Accuracy: 66.11\n",
      "Training Loss: 0.956\n",
      "\n",
      "Testing Epoch: 44\n"
     ]
    },
    {
     "name": "stderr",
     "output_type": "stream",
     "text": [
      "100%|██████████| 79/79 [00:12<00:00,  6.12it/s]\n"
     ]
    },
    {
     "name": "stdout",
     "output_type": "stream",
     "text": [
      "Test Accuracy: 66.73\n",
      "Test Loss: 0.926\n",
      "Time taken for epoch 45: 39.60 seconds\n",
      "Peak GPU memory usage: 0.49 GB\n",
      "Estimated TFLOPs for epoch 45: 53.4587\n",
      "\n",
      "Training Epoch: 45\n"
     ]
    },
    {
     "name": "stderr",
     "output_type": "stream",
     "text": [
      "100%|██████████| 391/391 [00:26<00:00, 14.66it/s]\n"
     ]
    },
    {
     "name": "stdout",
     "output_type": "stream",
     "text": [
      "Training Accuracy: 66.28\n",
      "Training Loss: 0.943\n",
      "\n",
      "Testing Epoch: 45\n"
     ]
    },
    {
     "name": "stderr",
     "output_type": "stream",
     "text": [
      "100%|██████████| 79/79 [00:12<00:00,  6.21it/s]\n"
     ]
    },
    {
     "name": "stdout",
     "output_type": "stream",
     "text": [
      "Test Accuracy: 67.71\n",
      "Test Loss: 0.907\n",
      "Time taken for epoch 46: 39.38 seconds\n",
      "Peak GPU memory usage: 0.49 GB\n",
      "Estimated TFLOPs for epoch 46: 53.4587\n",
      "\n",
      "Training Epoch: 46\n"
     ]
    },
    {
     "name": "stderr",
     "output_type": "stream",
     "text": [
      "100%|██████████| 391/391 [00:26<00:00, 14.60it/s]\n"
     ]
    },
    {
     "name": "stdout",
     "output_type": "stream",
     "text": [
      "Training Accuracy: 66.61\n",
      "Training Loss: 0.938\n",
      "\n",
      "Testing Epoch: 46\n"
     ]
    },
    {
     "name": "stderr",
     "output_type": "stream",
     "text": [
      "100%|██████████| 79/79 [00:12<00:00,  6.30it/s]\n"
     ]
    },
    {
     "name": "stdout",
     "output_type": "stream",
     "text": [
      "Test Accuracy: 67.72\n",
      "Test Loss: 0.908\n",
      "Time taken for epoch 47: 39.32 seconds\n",
      "Peak GPU memory usage: 0.49 GB\n",
      "Estimated TFLOPs for epoch 47: 53.4587\n",
      "\n",
      "Training Epoch: 47\n"
     ]
    },
    {
     "name": "stderr",
     "output_type": "stream",
     "text": [
      "100%|██████████| 391/391 [00:25<00:00, 15.12it/s]\n"
     ]
    },
    {
     "name": "stdout",
     "output_type": "stream",
     "text": [
      "Training Accuracy: 66.70\n",
      "Training Loss: 0.932\n",
      "\n",
      "Testing Epoch: 47\n"
     ]
    },
    {
     "name": "stderr",
     "output_type": "stream",
     "text": [
      "100%|██████████| 79/79 [00:12<00:00,  6.31it/s]\n"
     ]
    },
    {
     "name": "stdout",
     "output_type": "stream",
     "text": [
      "Test Accuracy: 67.91\n",
      "Test Loss: 0.899\n",
      "Time taken for epoch 48: 38.38 seconds\n",
      "Peak GPU memory usage: 0.49 GB\n",
      "Estimated TFLOPs for epoch 48: 53.4587\n",
      "\n",
      "Training Epoch: 48\n"
     ]
    },
    {
     "name": "stderr",
     "output_type": "stream",
     "text": [
      "100%|██████████| 391/391 [00:25<00:00, 15.22it/s]\n"
     ]
    },
    {
     "name": "stdout",
     "output_type": "stream",
     "text": [
      "Training Accuracy: 67.01\n",
      "Training Loss: 0.927\n",
      "\n",
      "Testing Epoch: 48\n"
     ]
    },
    {
     "name": "stderr",
     "output_type": "stream",
     "text": [
      "100%|██████████| 79/79 [00:12<00:00,  6.30it/s]\n"
     ]
    },
    {
     "name": "stdout",
     "output_type": "stream",
     "text": [
      "Test Accuracy: 67.76\n",
      "Test Loss: 0.893\n",
      "Time taken for epoch 49: 38.24 seconds\n",
      "Peak GPU memory usage: 0.49 GB\n",
      "Estimated TFLOPs for epoch 49: 53.4587\n",
      "\n",
      "Training Epoch: 49\n"
     ]
    },
    {
     "name": "stderr",
     "output_type": "stream",
     "text": [
      "100%|██████████| 391/391 [00:26<00:00, 14.90it/s]\n"
     ]
    },
    {
     "name": "stdout",
     "output_type": "stream",
     "text": [
      "Training Accuracy: 66.98\n",
      "Training Loss: 0.922\n",
      "\n",
      "Testing Epoch: 49\n"
     ]
    },
    {
     "name": "stderr",
     "output_type": "stream",
     "text": [
      "100%|██████████| 79/79 [00:12<00:00,  6.10it/s]\n"
     ]
    },
    {
     "name": "stdout",
     "output_type": "stream",
     "text": [
      "Test Accuracy: 68.52\n",
      "Test Loss: 0.878\n",
      "Time taken for epoch 50: 39.19 seconds\n",
      "Peak GPU memory usage: 0.49 GB\n",
      "Estimated TFLOPs for epoch 50: 53.4587\n",
      "\n",
      "Training Epoch: 50\n"
     ]
    },
    {
     "name": "stderr",
     "output_type": "stream",
     "text": [
      "100%|██████████| 391/391 [00:26<00:00, 14.75it/s]\n"
     ]
    },
    {
     "name": "stdout",
     "output_type": "stream",
     "text": [
      "Training Accuracy: 67.43\n",
      "Training Loss: 0.912\n",
      "\n",
      "Testing Epoch: 50\n"
     ]
    },
    {
     "name": "stderr",
     "output_type": "stream",
     "text": [
      "100%|██████████| 79/79 [00:13<00:00,  5.79it/s]\n"
     ]
    },
    {
     "name": "stdout",
     "output_type": "stream",
     "text": [
      "Test Accuracy: 68.22\n",
      "Test Loss: 0.878\n",
      "Time taken for epoch 51: 40.16 seconds\n",
      "Peak GPU memory usage: 0.49 GB\n",
      "Estimated TFLOPs for epoch 51: 53.4587\n",
      "\n",
      "Training Epoch: 51\n"
     ]
    },
    {
     "name": "stderr",
     "output_type": "stream",
     "text": [
      "100%|██████████| 391/391 [00:27<00:00, 14.36it/s]\n"
     ]
    },
    {
     "name": "stdout",
     "output_type": "stream",
     "text": [
      "Training Accuracy: 67.60\n",
      "Training Loss: 0.916\n",
      "\n",
      "Testing Epoch: 51\n"
     ]
    },
    {
     "name": "stderr",
     "output_type": "stream",
     "text": [
      "100%|██████████| 79/79 [00:13<00:00,  5.98it/s]\n"
     ]
    },
    {
     "name": "stdout",
     "output_type": "stream",
     "text": [
      "Test Accuracy: 68.35\n",
      "Test Loss: 0.877\n",
      "Time taken for epoch 52: 40.43 seconds\n",
      "Peak GPU memory usage: 0.49 GB\n",
      "Estimated TFLOPs for epoch 52: 53.4587\n",
      "\n",
      "Training Epoch: 52\n"
     ]
    },
    {
     "name": "stderr",
     "output_type": "stream",
     "text": [
      "100%|██████████| 391/391 [00:27<00:00, 14.42it/s]\n"
     ]
    },
    {
     "name": "stdout",
     "output_type": "stream",
     "text": [
      "Training Accuracy: 67.75\n",
      "Training Loss: 0.904\n",
      "\n",
      "Testing Epoch: 52\n"
     ]
    },
    {
     "name": "stderr",
     "output_type": "stream",
     "text": [
      "100%|██████████| 79/79 [00:13<00:00,  6.06it/s]\n"
     ]
    },
    {
     "name": "stdout",
     "output_type": "stream",
     "text": [
      "Test Accuracy: 68.88\n",
      "Test Loss: 0.870\n",
      "Time taken for epoch 53: 40.15 seconds\n",
      "Peak GPU memory usage: 0.49 GB\n",
      "Estimated TFLOPs for epoch 53: 53.4587\n",
      "\n",
      "Training Epoch: 53\n"
     ]
    },
    {
     "name": "stderr",
     "output_type": "stream",
     "text": [
      "100%|██████████| 391/391 [00:26<00:00, 14.67it/s]\n"
     ]
    },
    {
     "name": "stdout",
     "output_type": "stream",
     "text": [
      "Training Accuracy: 68.07\n",
      "Training Loss: 0.894\n",
      "\n",
      "Testing Epoch: 53\n"
     ]
    },
    {
     "name": "stderr",
     "output_type": "stream",
     "text": [
      "100%|██████████| 79/79 [00:12<00:00,  6.12it/s]\n"
     ]
    },
    {
     "name": "stdout",
     "output_type": "stream",
     "text": [
      "Test Accuracy: 68.83\n",
      "Test Loss: 0.881\n",
      "Time taken for epoch 54: 39.56 seconds\n",
      "Peak GPU memory usage: 0.49 GB\n",
      "Estimated TFLOPs for epoch 54: 53.4587\n",
      "\n",
      "Training Epoch: 54\n"
     ]
    },
    {
     "name": "stderr",
     "output_type": "stream",
     "text": [
      "100%|██████████| 391/391 [00:26<00:00, 14.70it/s]\n"
     ]
    },
    {
     "name": "stdout",
     "output_type": "stream",
     "text": [
      "Training Accuracy: 68.37\n",
      "Training Loss: 0.891\n",
      "\n",
      "Testing Epoch: 54\n"
     ]
    },
    {
     "name": "stderr",
     "output_type": "stream",
     "text": [
      "100%|██████████| 79/79 [00:12<00:00,  6.28it/s]\n"
     ]
    },
    {
     "name": "stdout",
     "output_type": "stream",
     "text": [
      "Test Accuracy: 69.27\n",
      "Test Loss: 0.863\n",
      "Time taken for epoch 55: 39.18 seconds\n",
      "Peak GPU memory usage: 0.49 GB\n",
      "Estimated TFLOPs for epoch 55: 53.4587\n",
      "\n",
      "Training Epoch: 55\n"
     ]
    },
    {
     "name": "stderr",
     "output_type": "stream",
     "text": [
      "100%|██████████| 391/391 [00:26<00:00, 14.93it/s]\n"
     ]
    },
    {
     "name": "stdout",
     "output_type": "stream",
     "text": [
      "Training Accuracy: 68.80\n",
      "Training Loss: 0.882\n",
      "\n",
      "Testing Epoch: 55\n"
     ]
    },
    {
     "name": "stderr",
     "output_type": "stream",
     "text": [
      "100%|██████████| 79/79 [00:13<00:00,  6.08it/s]\n"
     ]
    },
    {
     "name": "stdout",
     "output_type": "stream",
     "text": [
      "Test Accuracy: 68.76\n",
      "Test Loss: 0.865\n",
      "Time taken for epoch 56: 39.19 seconds\n",
      "Peak GPU memory usage: 0.49 GB\n",
      "Estimated TFLOPs for epoch 56: 53.4587\n",
      "\n",
      "Training Epoch: 56\n"
     ]
    },
    {
     "name": "stderr",
     "output_type": "stream",
     "text": [
      "100%|██████████| 391/391 [00:26<00:00, 14.66it/s]\n"
     ]
    },
    {
     "name": "stdout",
     "output_type": "stream",
     "text": [
      "Training Accuracy: 68.75\n",
      "Training Loss: 0.878\n",
      "\n",
      "Testing Epoch: 56\n"
     ]
    },
    {
     "name": "stderr",
     "output_type": "stream",
     "text": [
      "100%|██████████| 79/79 [00:13<00:00,  6.04it/s]\n"
     ]
    },
    {
     "name": "stdout",
     "output_type": "stream",
     "text": [
      "Test Accuracy: 69.71\n",
      "Test Loss: 0.843\n",
      "Time taken for epoch 57: 39.75 seconds\n",
      "Peak GPU memory usage: 0.49 GB\n",
      "Estimated TFLOPs for epoch 57: 53.4587\n",
      "\n",
      "Training Epoch: 57\n"
     ]
    },
    {
     "name": "stderr",
     "output_type": "stream",
     "text": [
      "100%|██████████| 391/391 [00:26<00:00, 14.74it/s]\n"
     ]
    },
    {
     "name": "stdout",
     "output_type": "stream",
     "text": [
      "Training Accuracy: 69.21\n",
      "Training Loss: 0.868\n",
      "\n",
      "Testing Epoch: 57\n"
     ]
    },
    {
     "name": "stderr",
     "output_type": "stream",
     "text": [
      "100%|██████████| 79/79 [00:13<00:00,  6.04it/s]\n"
     ]
    },
    {
     "name": "stdout",
     "output_type": "stream",
     "text": [
      "Test Accuracy: 69.60\n",
      "Test Loss: 0.844\n",
      "Time taken for epoch 58: 39.62 seconds\n",
      "Peak GPU memory usage: 0.49 GB\n",
      "Estimated TFLOPs for epoch 58: 53.4587\n",
      "\n",
      "Training Epoch: 58\n"
     ]
    },
    {
     "name": "stderr",
     "output_type": "stream",
     "text": [
      "100%|██████████| 391/391 [00:26<00:00, 14.68it/s]\n"
     ]
    },
    {
     "name": "stdout",
     "output_type": "stream",
     "text": [
      "Training Accuracy: 69.17\n",
      "Training Loss: 0.865\n",
      "\n",
      "Testing Epoch: 58\n"
     ]
    },
    {
     "name": "stderr",
     "output_type": "stream",
     "text": [
      "100%|██████████| 79/79 [00:13<00:00,  6.01it/s]\n"
     ]
    },
    {
     "name": "stdout",
     "output_type": "stream",
     "text": [
      "Test Accuracy: 70.17\n",
      "Test Loss: 0.843\n",
      "Time taken for epoch 59: 39.78 seconds\n",
      "Peak GPU memory usage: 0.49 GB\n",
      "Estimated TFLOPs for epoch 59: 53.4587\n",
      "\n",
      "Training Epoch: 59\n"
     ]
    },
    {
     "name": "stderr",
     "output_type": "stream",
     "text": [
      "100%|██████████| 391/391 [00:26<00:00, 14.70it/s]\n"
     ]
    },
    {
     "name": "stdout",
     "output_type": "stream",
     "text": [
      "Training Accuracy: 69.28\n",
      "Training Loss: 0.859\n",
      "\n",
      "Testing Epoch: 59\n"
     ]
    },
    {
     "name": "stderr",
     "output_type": "stream",
     "text": [
      "100%|██████████| 79/79 [00:12<00:00,  6.08it/s]\n"
     ]
    },
    {
     "name": "stdout",
     "output_type": "stream",
     "text": [
      "Test Accuracy: 69.76\n",
      "Test Loss: 0.850\n",
      "Time taken for epoch 60: 39.60 seconds\n",
      "Peak GPU memory usage: 0.49 GB\n",
      "Estimated TFLOPs for epoch 60: 53.4587\n",
      "\n",
      "Training Epoch: 60\n"
     ]
    },
    {
     "name": "stderr",
     "output_type": "stream",
     "text": [
      "100%|██████████| 391/391 [00:26<00:00, 14.69it/s]\n"
     ]
    },
    {
     "name": "stdout",
     "output_type": "stream",
     "text": [
      "Training Accuracy: 69.47\n",
      "Training Loss: 0.861\n",
      "\n",
      "Testing Epoch: 60\n"
     ]
    },
    {
     "name": "stderr",
     "output_type": "stream",
     "text": [
      "100%|██████████| 79/79 [00:18<00:00,  4.27it/s]\n"
     ]
    },
    {
     "name": "stdout",
     "output_type": "stream",
     "text": [
      "Test Accuracy: 69.61\n",
      "Test Loss: 0.842\n",
      "Time taken for epoch 61: 45.12 seconds\n",
      "Peak GPU memory usage: 0.49 GB\n",
      "Estimated TFLOPs for epoch 61: 53.4587\n",
      "\n",
      "Training Epoch: 61\n"
     ]
    },
    {
     "name": "stderr",
     "output_type": "stream",
     "text": [
      "100%|██████████| 391/391 [00:26<00:00, 14.99it/s]\n"
     ]
    },
    {
     "name": "stdout",
     "output_type": "stream",
     "text": [
      "Training Accuracy: 69.95\n",
      "Training Loss: 0.848\n",
      "\n",
      "Testing Epoch: 61\n"
     ]
    },
    {
     "name": "stderr",
     "output_type": "stream",
     "text": [
      "100%|██████████| 79/79 [00:12<00:00,  6.25it/s]\n"
     ]
    },
    {
     "name": "stdout",
     "output_type": "stream",
     "text": [
      "Test Accuracy: 70.44\n",
      "Test Loss: 0.836\n",
      "Time taken for epoch 62: 38.74 seconds\n",
      "Peak GPU memory usage: 0.49 GB\n",
      "Estimated TFLOPs for epoch 62: 53.4587\n",
      "\n",
      "Training Epoch: 62\n"
     ]
    },
    {
     "name": "stderr",
     "output_type": "stream",
     "text": [
      "100%|██████████| 391/391 [00:25<00:00, 15.09it/s]\n"
     ]
    },
    {
     "name": "stdout",
     "output_type": "stream",
     "text": [
      "Training Accuracy: 70.27\n",
      "Training Loss: 0.838\n",
      "\n",
      "Testing Epoch: 62\n"
     ]
    },
    {
     "name": "stderr",
     "output_type": "stream",
     "text": [
      "100%|██████████| 79/79 [00:12<00:00,  6.22it/s]\n"
     ]
    },
    {
     "name": "stdout",
     "output_type": "stream",
     "text": [
      "Test Accuracy: 70.45\n",
      "Test Loss: 0.823\n",
      "Time taken for epoch 63: 38.60 seconds\n",
      "Peak GPU memory usage: 0.49 GB\n",
      "Estimated TFLOPs for epoch 63: 53.4587\n",
      "\n",
      "Training Epoch: 63\n"
     ]
    },
    {
     "name": "stderr",
     "output_type": "stream",
     "text": [
      "100%|██████████| 391/391 [00:25<00:00, 15.07it/s]\n"
     ]
    },
    {
     "name": "stdout",
     "output_type": "stream",
     "text": [
      "Training Accuracy: 69.99\n",
      "Training Loss: 0.839\n",
      "\n",
      "Testing Epoch: 63\n"
     ]
    },
    {
     "name": "stderr",
     "output_type": "stream",
     "text": [
      "100%|██████████| 79/79 [00:12<00:00,  6.25it/s]\n"
     ]
    },
    {
     "name": "stdout",
     "output_type": "stream",
     "text": [
      "Test Accuracy: 70.58\n",
      "Test Loss: 0.828\n",
      "Time taken for epoch 64: 38.58 seconds\n",
      "Peak GPU memory usage: 0.49 GB\n",
      "Estimated TFLOPs for epoch 64: 53.4587\n",
      "\n",
      "Training Epoch: 64\n"
     ]
    },
    {
     "name": "stderr",
     "output_type": "stream",
     "text": [
      "100%|██████████| 391/391 [00:25<00:00, 15.08it/s]\n"
     ]
    },
    {
     "name": "stdout",
     "output_type": "stream",
     "text": [
      "Training Accuracy: 70.51\n",
      "Training Loss: 0.830\n",
      "\n",
      "Testing Epoch: 64\n"
     ]
    },
    {
     "name": "stderr",
     "output_type": "stream",
     "text": [
      "100%|██████████| 79/79 [00:12<00:00,  6.35it/s]\n"
     ]
    },
    {
     "name": "stdout",
     "output_type": "stream",
     "text": [
      "Test Accuracy: 71.11\n",
      "Test Loss: 0.820\n",
      "Time taken for epoch 65: 38.38 seconds\n",
      "Peak GPU memory usage: 0.49 GB\n",
      "Estimated TFLOPs for epoch 65: 53.4587\n",
      "\n",
      "Training Epoch: 65\n"
     ]
    },
    {
     "name": "stderr",
     "output_type": "stream",
     "text": [
      "100%|██████████| 391/391 [00:25<00:00, 15.09it/s]\n"
     ]
    },
    {
     "name": "stdout",
     "output_type": "stream",
     "text": [
      "Training Accuracy: 70.37\n",
      "Training Loss: 0.831\n",
      "\n",
      "Testing Epoch: 65\n"
     ]
    },
    {
     "name": "stderr",
     "output_type": "stream",
     "text": [
      "100%|██████████| 79/79 [00:12<00:00,  6.15it/s]\n"
     ]
    },
    {
     "name": "stdout",
     "output_type": "stream",
     "text": [
      "Test Accuracy: 70.49\n",
      "Test Loss: 0.835\n",
      "Time taken for epoch 66: 38.76 seconds\n",
      "Peak GPU memory usage: 0.49 GB\n",
      "Estimated TFLOPs for epoch 66: 53.4587\n",
      "\n",
      "Training Epoch: 66\n"
     ]
    },
    {
     "name": "stderr",
     "output_type": "stream",
     "text": [
      "100%|██████████| 391/391 [00:26<00:00, 14.76it/s]\n"
     ]
    },
    {
     "name": "stdout",
     "output_type": "stream",
     "text": [
      "Training Accuracy: 70.59\n",
      "Training Loss: 0.829\n",
      "\n",
      "Testing Epoch: 66\n"
     ]
    },
    {
     "name": "stderr",
     "output_type": "stream",
     "text": [
      "100%|██████████| 79/79 [00:12<00:00,  6.35it/s]\n"
     ]
    },
    {
     "name": "stdout",
     "output_type": "stream",
     "text": [
      "Test Accuracy: 71.10\n",
      "Test Loss: 0.813\n",
      "Time taken for epoch 67: 38.96 seconds\n",
      "Peak GPU memory usage: 0.49 GB\n",
      "Estimated TFLOPs for epoch 67: 53.4587\n",
      "\n",
      "Training Epoch: 67\n"
     ]
    },
    {
     "name": "stderr",
     "output_type": "stream",
     "text": [
      "100%|██████████| 391/391 [00:26<00:00, 14.96it/s]\n"
     ]
    },
    {
     "name": "stdout",
     "output_type": "stream",
     "text": [
      "Training Accuracy: 70.86\n",
      "Training Loss: 0.815\n",
      "\n",
      "Testing Epoch: 67\n"
     ]
    },
    {
     "name": "stderr",
     "output_type": "stream",
     "text": [
      "100%|██████████| 79/79 [00:12<00:00,  6.25it/s]\n"
     ]
    },
    {
     "name": "stdout",
     "output_type": "stream",
     "text": [
      "Test Accuracy: 70.89\n",
      "Test Loss: 0.813\n",
      "Time taken for epoch 68: 38.76 seconds\n",
      "Peak GPU memory usage: 0.49 GB\n",
      "Estimated TFLOPs for epoch 68: 53.4587\n",
      "\n",
      "Training Epoch: 68\n"
     ]
    },
    {
     "name": "stderr",
     "output_type": "stream",
     "text": [
      "100%|██████████| 391/391 [00:25<00:00, 15.07it/s]\n"
     ]
    },
    {
     "name": "stdout",
     "output_type": "stream",
     "text": [
      "Training Accuracy: 70.69\n",
      "Training Loss: 0.818\n",
      "\n",
      "Testing Epoch: 68\n"
     ]
    },
    {
     "name": "stderr",
     "output_type": "stream",
     "text": [
      "100%|██████████| 79/79 [00:12<00:00,  6.23it/s]\n"
     ]
    },
    {
     "name": "stdout",
     "output_type": "stream",
     "text": [
      "Test Accuracy: 71.31\n",
      "Test Loss: 0.806\n",
      "Time taken for epoch 69: 38.63 seconds\n",
      "Peak GPU memory usage: 0.49 GB\n",
      "Estimated TFLOPs for epoch 69: 53.4587\n",
      "\n",
      "Training Epoch: 69\n"
     ]
    },
    {
     "name": "stderr",
     "output_type": "stream",
     "text": [
      "100%|██████████| 391/391 [00:25<00:00, 15.22it/s]\n"
     ]
    },
    {
     "name": "stdout",
     "output_type": "stream",
     "text": [
      "Training Accuracy: 71.21\n",
      "Training Loss: 0.810\n",
      "\n",
      "Testing Epoch: 69\n"
     ]
    },
    {
     "name": "stderr",
     "output_type": "stream",
     "text": [
      "100%|██████████| 79/79 [00:12<00:00,  6.35it/s]\n"
     ]
    },
    {
     "name": "stdout",
     "output_type": "stream",
     "text": [
      "Test Accuracy: 70.68\n",
      "Test Loss: 0.811\n",
      "Time taken for epoch 70: 38.13 seconds\n",
      "Peak GPU memory usage: 0.49 GB\n",
      "Estimated TFLOPs for epoch 70: 53.4587\n",
      "\n",
      "Training Epoch: 70\n"
     ]
    },
    {
     "name": "stderr",
     "output_type": "stream",
     "text": [
      "100%|██████████| 391/391 [00:25<00:00, 15.09it/s]\n"
     ]
    },
    {
     "name": "stdout",
     "output_type": "stream",
     "text": [
      "Training Accuracy: 71.32\n",
      "Training Loss: 0.802\n",
      "\n",
      "Testing Epoch: 70\n"
     ]
    },
    {
     "name": "stderr",
     "output_type": "stream",
     "text": [
      "100%|██████████| 79/79 [00:12<00:00,  6.25it/s]\n"
     ]
    },
    {
     "name": "stdout",
     "output_type": "stream",
     "text": [
      "Test Accuracy: 71.57\n",
      "Test Loss: 0.805\n",
      "Time taken for epoch 71: 38.57 seconds\n",
      "Peak GPU memory usage: 0.49 GB\n",
      "Estimated TFLOPs for epoch 71: 53.4587\n",
      "\n",
      "Training Epoch: 71\n"
     ]
    },
    {
     "name": "stderr",
     "output_type": "stream",
     "text": [
      "100%|██████████| 391/391 [00:25<00:00, 15.06it/s]\n"
     ]
    },
    {
     "name": "stdout",
     "output_type": "stream",
     "text": [
      "Training Accuracy: 71.90\n",
      "Training Loss: 0.794\n",
      "\n",
      "Testing Epoch: 71\n"
     ]
    },
    {
     "name": "stderr",
     "output_type": "stream",
     "text": [
      "100%|██████████| 79/79 [00:12<00:00,  6.27it/s]\n"
     ]
    },
    {
     "name": "stdout",
     "output_type": "stream",
     "text": [
      "Test Accuracy: 71.54\n",
      "Test Loss: 0.800\n",
      "Time taken for epoch 72: 38.56 seconds\n",
      "Peak GPU memory usage: 0.49 GB\n",
      "Estimated TFLOPs for epoch 72: 53.4587\n",
      "\n",
      "Training Epoch: 72\n"
     ]
    },
    {
     "name": "stderr",
     "output_type": "stream",
     "text": [
      "100%|██████████| 391/391 [00:26<00:00, 14.95it/s]\n"
     ]
    },
    {
     "name": "stdout",
     "output_type": "stream",
     "text": [
      "Training Accuracy: 72.15\n",
      "Training Loss: 0.792\n",
      "\n",
      "Testing Epoch: 72\n"
     ]
    },
    {
     "name": "stderr",
     "output_type": "stream",
     "text": [
      "100%|██████████| 79/79 [00:12<00:00,  6.14it/s]\n"
     ]
    },
    {
     "name": "stdout",
     "output_type": "stream",
     "text": [
      "Test Accuracy: 71.18\n",
      "Test Loss: 0.803\n",
      "Time taken for epoch 73: 39.03 seconds\n",
      "Peak GPU memory usage: 0.49 GB\n",
      "Estimated TFLOPs for epoch 73: 53.4587\n",
      "\n",
      "Training Epoch: 73\n"
     ]
    },
    {
     "name": "stderr",
     "output_type": "stream",
     "text": [
      "100%|██████████| 391/391 [00:26<00:00, 14.76it/s]\n"
     ]
    },
    {
     "name": "stdout",
     "output_type": "stream",
     "text": [
      "Training Accuracy: 71.91\n",
      "Training Loss: 0.788\n",
      "\n",
      "Testing Epoch: 73\n"
     ]
    },
    {
     "name": "stderr",
     "output_type": "stream",
     "text": [
      "100%|██████████| 79/79 [00:13<00:00,  6.02it/s]\n"
     ]
    },
    {
     "name": "stdout",
     "output_type": "stream",
     "text": [
      "Test Accuracy: 71.71\n",
      "Test Loss: 0.801\n",
      "Time taken for epoch 74: 39.64 seconds\n",
      "Peak GPU memory usage: 0.49 GB\n",
      "Estimated TFLOPs for epoch 74: 53.4587\n",
      "\n",
      "Training Epoch: 74\n"
     ]
    },
    {
     "name": "stderr",
     "output_type": "stream",
     "text": [
      "100%|██████████| 391/391 [00:26<00:00, 14.77it/s]\n"
     ]
    },
    {
     "name": "stdout",
     "output_type": "stream",
     "text": [
      "Training Accuracy: 72.43\n",
      "Training Loss: 0.780\n",
      "\n",
      "Testing Epoch: 74\n"
     ]
    },
    {
     "name": "stderr",
     "output_type": "stream",
     "text": [
      "100%|██████████| 79/79 [00:13<00:00,  5.95it/s]\n"
     ]
    },
    {
     "name": "stdout",
     "output_type": "stream",
     "text": [
      "Test Accuracy: 71.74\n",
      "Test Loss: 0.790\n",
      "Time taken for epoch 75: 39.75 seconds\n",
      "Peak GPU memory usage: 0.49 GB\n",
      "Estimated TFLOPs for epoch 75: 53.4587\n",
      "\n",
      "Training Epoch: 75\n"
     ]
    },
    {
     "name": "stderr",
     "output_type": "stream",
     "text": [
      "100%|██████████| 391/391 [00:26<00:00, 14.55it/s]\n"
     ]
    },
    {
     "name": "stdout",
     "output_type": "stream",
     "text": [
      "Training Accuracy: 72.24\n",
      "Training Loss: 0.778\n",
      "\n",
      "Testing Epoch: 75\n"
     ]
    },
    {
     "name": "stderr",
     "output_type": "stream",
     "text": [
      "100%|██████████| 79/79 [00:13<00:00,  6.04it/s]\n"
     ]
    },
    {
     "name": "stdout",
     "output_type": "stream",
     "text": [
      "Test Accuracy: 71.83\n",
      "Test Loss: 0.782\n",
      "Time taken for epoch 76: 39.96 seconds\n",
      "Peak GPU memory usage: 0.49 GB\n",
      "Estimated TFLOPs for epoch 76: 53.4587\n",
      "\n",
      "Training Epoch: 76\n"
     ]
    },
    {
     "name": "stderr",
     "output_type": "stream",
     "text": [
      "100%|██████████| 391/391 [00:26<00:00, 14.92it/s]\n"
     ]
    },
    {
     "name": "stdout",
     "output_type": "stream",
     "text": [
      "Training Accuracy: 72.27\n",
      "Training Loss: 0.772\n",
      "\n",
      "Testing Epoch: 76\n"
     ]
    },
    {
     "name": "stderr",
     "output_type": "stream",
     "text": [
      "100%|██████████| 79/79 [00:12<00:00,  6.11it/s]\n"
     ]
    },
    {
     "name": "stdout",
     "output_type": "stream",
     "text": [
      "Test Accuracy: 71.66\n",
      "Test Loss: 0.792\n",
      "Time taken for epoch 77: 39.14 seconds\n",
      "Peak GPU memory usage: 0.49 GB\n",
      "Estimated TFLOPs for epoch 77: 53.4587\n",
      "\n",
      "Training Epoch: 77\n"
     ]
    },
    {
     "name": "stderr",
     "output_type": "stream",
     "text": [
      "100%|██████████| 391/391 [00:26<00:00, 14.74it/s]\n"
     ]
    },
    {
     "name": "stdout",
     "output_type": "stream",
     "text": [
      "Training Accuracy: 72.50\n",
      "Training Loss: 0.771\n",
      "\n",
      "Testing Epoch: 77\n"
     ]
    },
    {
     "name": "stderr",
     "output_type": "stream",
     "text": [
      "100%|██████████| 79/79 [00:13<00:00,  5.85it/s]\n"
     ]
    },
    {
     "name": "stdout",
     "output_type": "stream",
     "text": [
      "Test Accuracy: 72.73\n",
      "Test Loss: 0.770\n",
      "Time taken for epoch 78: 40.03 seconds\n",
      "Peak GPU memory usage: 0.49 GB\n",
      "Estimated TFLOPs for epoch 78: 53.4587\n",
      "\n",
      "Training Epoch: 78\n"
     ]
    },
    {
     "name": "stderr",
     "output_type": "stream",
     "text": [
      "100%|██████████| 391/391 [00:26<00:00, 14.68it/s]\n"
     ]
    },
    {
     "name": "stdout",
     "output_type": "stream",
     "text": [
      "Training Accuracy: 72.84\n",
      "Training Loss: 0.765\n",
      "\n",
      "Testing Epoch: 78\n"
     ]
    },
    {
     "name": "stderr",
     "output_type": "stream",
     "text": [
      "100%|██████████| 79/79 [00:12<00:00,  6.20it/s]\n"
     ]
    },
    {
     "name": "stdout",
     "output_type": "stream",
     "text": [
      "Test Accuracy: 72.52\n",
      "Test Loss: 0.769\n",
      "Time taken for epoch 79: 39.37 seconds\n",
      "Peak GPU memory usage: 0.49 GB\n",
      "Estimated TFLOPs for epoch 79: 53.4587\n",
      "\n",
      "Training Epoch: 79\n"
     ]
    },
    {
     "name": "stderr",
     "output_type": "stream",
     "text": [
      "100%|██████████| 391/391 [00:26<00:00, 14.79it/s]\n"
     ]
    },
    {
     "name": "stdout",
     "output_type": "stream",
     "text": [
      "Training Accuracy: 72.87\n",
      "Training Loss: 0.760\n",
      "\n",
      "Testing Epoch: 79\n"
     ]
    },
    {
     "name": "stderr",
     "output_type": "stream",
     "text": [
      "100%|██████████| 79/79 [00:13<00:00,  5.74it/s]\n"
     ]
    },
    {
     "name": "stdout",
     "output_type": "stream",
     "text": [
      "Test Accuracy: 72.34\n",
      "Test Loss: 0.771\n",
      "Time taken for epoch 80: 40.21 seconds\n",
      "Peak GPU memory usage: 0.49 GB\n",
      "Estimated TFLOPs for epoch 80: 53.4587\n",
      "\n",
      "Training Epoch: 80\n"
     ]
    },
    {
     "name": "stderr",
     "output_type": "stream",
     "text": [
      "100%|██████████| 391/391 [00:26<00:00, 14.72it/s]\n"
     ]
    },
    {
     "name": "stdout",
     "output_type": "stream",
     "text": [
      "Training Accuracy: 73.29\n",
      "Training Loss: 0.754\n",
      "\n",
      "Testing Epoch: 80\n"
     ]
    },
    {
     "name": "stderr",
     "output_type": "stream",
     "text": [
      "100%|██████████| 79/79 [00:12<00:00,  6.21it/s]\n"
     ]
    },
    {
     "name": "stdout",
     "output_type": "stream",
     "text": [
      "Test Accuracy: 72.88\n",
      "Test Loss: 0.769\n",
      "Time taken for epoch 81: 39.28 seconds\n",
      "Peak GPU memory usage: 0.49 GB\n",
      "Estimated TFLOPs for epoch 81: 53.4587\n",
      "\n",
      "Training Epoch: 81\n"
     ]
    },
    {
     "name": "stderr",
     "output_type": "stream",
     "text": [
      "100%|██████████| 391/391 [00:26<00:00, 14.84it/s]\n"
     ]
    },
    {
     "name": "stdout",
     "output_type": "stream",
     "text": [
      "Training Accuracy: 73.49\n",
      "Training Loss: 0.745\n",
      "\n",
      "Testing Epoch: 81\n"
     ]
    },
    {
     "name": "stderr",
     "output_type": "stream",
     "text": [
      "100%|██████████| 79/79 [00:13<00:00,  5.78it/s]\n"
     ]
    },
    {
     "name": "stdout",
     "output_type": "stream",
     "text": [
      "Test Accuracy: 73.21\n",
      "Test Loss: 0.763\n",
      "Time taken for epoch 82: 40.02 seconds\n",
      "Peak GPU memory usage: 0.49 GB\n",
      "Estimated TFLOPs for epoch 82: 53.4587\n",
      "\n",
      "Training Epoch: 82\n"
     ]
    },
    {
     "name": "stderr",
     "output_type": "stream",
     "text": [
      "100%|██████████| 391/391 [00:26<00:00, 14.75it/s]\n"
     ]
    },
    {
     "name": "stdout",
     "output_type": "stream",
     "text": [
      "Training Accuracy: 73.69\n",
      "Training Loss: 0.739\n",
      "\n",
      "Testing Epoch: 82\n"
     ]
    },
    {
     "name": "stderr",
     "output_type": "stream",
     "text": [
      "100%|██████████| 79/79 [00:13<00:00,  5.90it/s]\n"
     ]
    },
    {
     "name": "stdout",
     "output_type": "stream",
     "text": [
      "Test Accuracy: 72.63\n",
      "Test Loss: 0.765\n",
      "Time taken for epoch 83: 39.90 seconds\n",
      "Peak GPU memory usage: 0.49 GB\n",
      "Estimated TFLOPs for epoch 83: 53.4587\n",
      "\n",
      "Training Epoch: 83\n"
     ]
    },
    {
     "name": "stderr",
     "output_type": "stream",
     "text": [
      "100%|██████████| 391/391 [00:26<00:00, 14.81it/s]\n"
     ]
    },
    {
     "name": "stdout",
     "output_type": "stream",
     "text": [
      "Training Accuracy: 73.64\n",
      "Training Loss: 0.741\n",
      "\n",
      "Testing Epoch: 83\n"
     ]
    },
    {
     "name": "stderr",
     "output_type": "stream",
     "text": [
      "100%|██████████| 79/79 [00:13<00:00,  5.98it/s]\n"
     ]
    },
    {
     "name": "stdout",
     "output_type": "stream",
     "text": [
      "Test Accuracy: 72.82\n",
      "Test Loss: 0.773\n",
      "Time taken for epoch 84: 39.61 seconds\n",
      "Peak GPU memory usage: 0.49 GB\n",
      "Estimated TFLOPs for epoch 84: 53.4587\n",
      "\n",
      "Training Epoch: 84\n"
     ]
    },
    {
     "name": "stderr",
     "output_type": "stream",
     "text": [
      "100%|██████████| 391/391 [00:27<00:00, 14.38it/s]\n"
     ]
    },
    {
     "name": "stdout",
     "output_type": "stream",
     "text": [
      "Training Accuracy: 73.97\n",
      "Training Loss: 0.737\n",
      "\n",
      "Testing Epoch: 84\n"
     ]
    },
    {
     "name": "stderr",
     "output_type": "stream",
     "text": [
      "100%|██████████| 79/79 [00:13<00:00,  6.04it/s]\n"
     ]
    },
    {
     "name": "stdout",
     "output_type": "stream",
     "text": [
      "Test Accuracy: 72.83\n",
      "Test Loss: 0.764\n",
      "Time taken for epoch 85: 40.27 seconds\n",
      "Peak GPU memory usage: 0.49 GB\n",
      "Estimated TFLOPs for epoch 85: 53.4587\n",
      "\n",
      "Training Epoch: 85\n"
     ]
    },
    {
     "name": "stderr",
     "output_type": "stream",
     "text": [
      "100%|██████████| 391/391 [00:26<00:00, 14.66it/s]\n"
     ]
    },
    {
     "name": "stdout",
     "output_type": "stream",
     "text": [
      "Training Accuracy: 74.07\n",
      "Training Loss: 0.731\n",
      "\n",
      "Testing Epoch: 85\n"
     ]
    },
    {
     "name": "stderr",
     "output_type": "stream",
     "text": [
      "100%|██████████| 79/79 [00:13<00:00,  5.94it/s]\n"
     ]
    },
    {
     "name": "stdout",
     "output_type": "stream",
     "text": [
      "Test Accuracy: 73.85\n",
      "Test Loss: 0.746\n",
      "Time taken for epoch 86: 39.98 seconds\n",
      "Peak GPU memory usage: 0.49 GB\n",
      "Estimated TFLOPs for epoch 86: 53.4587\n",
      "\n",
      "Training Epoch: 86\n"
     ]
    },
    {
     "name": "stderr",
     "output_type": "stream",
     "text": [
      "100%|██████████| 391/391 [00:27<00:00, 14.38it/s]\n"
     ]
    },
    {
     "name": "stdout",
     "output_type": "stream",
     "text": [
      "Training Accuracy: 74.17\n",
      "Training Loss: 0.730\n",
      "\n",
      "Testing Epoch: 86\n"
     ]
    },
    {
     "name": "stderr",
     "output_type": "stream",
     "text": [
      "100%|██████████| 79/79 [00:13<00:00,  6.00it/s]\n"
     ]
    },
    {
     "name": "stdout",
     "output_type": "stream",
     "text": [
      "Test Accuracy: 73.26\n",
      "Test Loss: 0.759\n",
      "Time taken for epoch 87: 40.35 seconds\n",
      "Peak GPU memory usage: 0.49 GB\n",
      "Estimated TFLOPs for epoch 87: 53.4587\n",
      "\n",
      "Training Epoch: 87\n"
     ]
    },
    {
     "name": "stderr",
     "output_type": "stream",
     "text": [
      "100%|██████████| 391/391 [00:26<00:00, 14.79it/s]\n"
     ]
    },
    {
     "name": "stdout",
     "output_type": "stream",
     "text": [
      "Training Accuracy: 74.45\n",
      "Training Loss: 0.718\n",
      "\n",
      "Testing Epoch: 87\n"
     ]
    },
    {
     "name": "stderr",
     "output_type": "stream",
     "text": [
      "100%|██████████| 79/79 [00:13<00:00,  6.02it/s]\n"
     ]
    },
    {
     "name": "stdout",
     "output_type": "stream",
     "text": [
      "Test Accuracy: 73.23\n",
      "Test Loss: 0.757\n",
      "Time taken for epoch 88: 39.57 seconds\n",
      "Peak GPU memory usage: 0.49 GB\n",
      "Estimated TFLOPs for epoch 88: 53.4587\n",
      "\n",
      "Training Epoch: 88\n"
     ]
    },
    {
     "name": "stderr",
     "output_type": "stream",
     "text": [
      "100%|██████████| 391/391 [00:26<00:00, 14.78it/s]\n"
     ]
    },
    {
     "name": "stdout",
     "output_type": "stream",
     "text": [
      "Training Accuracy: 74.48\n",
      "Training Loss: 0.717\n",
      "\n",
      "Testing Epoch: 88\n"
     ]
    },
    {
     "name": "stderr",
     "output_type": "stream",
     "text": [
      "100%|██████████| 79/79 [00:12<00:00,  6.08it/s]\n"
     ]
    },
    {
     "name": "stdout",
     "output_type": "stream",
     "text": [
      "Test Accuracy: 73.52\n",
      "Test Loss: 0.747\n",
      "Time taken for epoch 89: 39.44 seconds\n",
      "Peak GPU memory usage: 0.49 GB\n",
      "Estimated TFLOPs for epoch 89: 53.4587\n",
      "\n",
      "Training Epoch: 89\n"
     ]
    },
    {
     "name": "stderr",
     "output_type": "stream",
     "text": [
      "100%|██████████| 391/391 [00:26<00:00, 14.72it/s]\n"
     ]
    },
    {
     "name": "stdout",
     "output_type": "stream",
     "text": [
      "Training Accuracy: 74.64\n",
      "Training Loss: 0.712\n",
      "\n",
      "Testing Epoch: 89\n"
     ]
    },
    {
     "name": "stderr",
     "output_type": "stream",
     "text": [
      "100%|██████████| 79/79 [00:12<00:00,  6.20it/s]\n"
     ]
    },
    {
     "name": "stdout",
     "output_type": "stream",
     "text": [
      "Test Accuracy: 73.24\n",
      "Test Loss: 0.762\n",
      "Time taken for epoch 90: 39.32 seconds\n",
      "Peak GPU memory usage: 0.49 GB\n",
      "Estimated TFLOPs for epoch 90: 53.4587\n",
      "\n",
      "Training Epoch: 90\n"
     ]
    },
    {
     "name": "stderr",
     "output_type": "stream",
     "text": [
      "100%|██████████| 391/391 [00:26<00:00, 15.00it/s]\n"
     ]
    },
    {
     "name": "stdout",
     "output_type": "stream",
     "text": [
      "Training Accuracy: 74.91\n",
      "Training Loss: 0.706\n",
      "\n",
      "Testing Epoch: 90\n"
     ]
    },
    {
     "name": "stderr",
     "output_type": "stream",
     "text": [
      "100%|██████████| 79/79 [00:12<00:00,  6.25it/s]\n"
     ]
    },
    {
     "name": "stdout",
     "output_type": "stream",
     "text": [
      "Test Accuracy: 73.83\n",
      "Test Loss: 0.750\n",
      "Time taken for epoch 91: 38.71 seconds\n",
      "Peak GPU memory usage: 0.49 GB\n",
      "Estimated TFLOPs for epoch 91: 53.4587\n",
      "\n",
      "Training Epoch: 91\n"
     ]
    },
    {
     "name": "stderr",
     "output_type": "stream",
     "text": [
      "100%|██████████| 391/391 [00:25<00:00, 15.07it/s]\n"
     ]
    },
    {
     "name": "stdout",
     "output_type": "stream",
     "text": [
      "Training Accuracy: 75.00\n",
      "Training Loss: 0.704\n",
      "\n",
      "Testing Epoch: 91\n"
     ]
    },
    {
     "name": "stderr",
     "output_type": "stream",
     "text": [
      "100%|██████████| 79/79 [00:12<00:00,  6.32it/s]\n"
     ]
    },
    {
     "name": "stdout",
     "output_type": "stream",
     "text": [
      "Test Accuracy: 73.94\n",
      "Test Loss: 0.741\n",
      "Time taken for epoch 92: 38.46 seconds\n",
      "Peak GPU memory usage: 0.49 GB\n",
      "Estimated TFLOPs for epoch 92: 53.4587\n",
      "\n",
      "Training Epoch: 92\n"
     ]
    },
    {
     "name": "stderr",
     "output_type": "stream",
     "text": [
      "100%|██████████| 391/391 [00:25<00:00, 15.11it/s]\n"
     ]
    },
    {
     "name": "stdout",
     "output_type": "stream",
     "text": [
      "Training Accuracy: 75.32\n",
      "Training Loss: 0.696\n",
      "\n",
      "Testing Epoch: 92\n"
     ]
    },
    {
     "name": "stderr",
     "output_type": "stream",
     "text": [
      "100%|██████████| 79/79 [00:12<00:00,  6.34it/s]\n"
     ]
    },
    {
     "name": "stdout",
     "output_type": "stream",
     "text": [
      "Test Accuracy: 73.74\n",
      "Test Loss: 0.749\n",
      "Time taken for epoch 93: 38.32 seconds\n",
      "Peak GPU memory usage: 0.49 GB\n",
      "Estimated TFLOPs for epoch 93: 53.4587\n",
      "\n",
      "Training Epoch: 93\n"
     ]
    },
    {
     "name": "stderr",
     "output_type": "stream",
     "text": [
      "100%|██████████| 391/391 [00:25<00:00, 15.07it/s]\n"
     ]
    },
    {
     "name": "stdout",
     "output_type": "stream",
     "text": [
      "Training Accuracy: 75.34\n",
      "Training Loss: 0.696\n",
      "\n",
      "Testing Epoch: 93\n"
     ]
    },
    {
     "name": "stderr",
     "output_type": "stream",
     "text": [
      "100%|██████████| 79/79 [00:12<00:00,  6.21it/s]\n"
     ]
    },
    {
     "name": "stdout",
     "output_type": "stream",
     "text": [
      "Test Accuracy: 73.77\n",
      "Test Loss: 0.741\n",
      "Time taken for epoch 94: 38.67 seconds\n",
      "Peak GPU memory usage: 0.49 GB\n",
      "Estimated TFLOPs for epoch 94: 53.4587\n",
      "\n",
      "Training Epoch: 94\n"
     ]
    },
    {
     "name": "stderr",
     "output_type": "stream",
     "text": [
      "100%|██████████| 391/391 [00:26<00:00, 14.53it/s]\n"
     ]
    },
    {
     "name": "stdout",
     "output_type": "stream",
     "text": [
      "Training Accuracy: 75.56\n",
      "Training Loss: 0.690\n",
      "\n",
      "Testing Epoch: 94\n"
     ]
    },
    {
     "name": "stderr",
     "output_type": "stream",
     "text": [
      "100%|██████████| 79/79 [00:13<00:00,  6.04it/s]\n"
     ]
    },
    {
     "name": "stdout",
     "output_type": "stream",
     "text": [
      "Test Accuracy: 74.29\n",
      "Test Loss: 0.733\n",
      "Time taken for epoch 95: 40.00 seconds\n",
      "Peak GPU memory usage: 0.49 GB\n",
      "Estimated TFLOPs for epoch 95: 53.4587\n",
      "\n",
      "Training Epoch: 95\n"
     ]
    },
    {
     "name": "stderr",
     "output_type": "stream",
     "text": [
      "100%|██████████| 391/391 [00:26<00:00, 14.71it/s]\n"
     ]
    },
    {
     "name": "stdout",
     "output_type": "stream",
     "text": [
      "Training Accuracy: 75.56\n",
      "Training Loss: 0.687\n",
      "\n",
      "Testing Epoch: 95\n"
     ]
    },
    {
     "name": "stderr",
     "output_type": "stream",
     "text": [
      "100%|██████████| 79/79 [00:13<00:00,  6.05it/s]\n"
     ]
    },
    {
     "name": "stdout",
     "output_type": "stream",
     "text": [
      "Test Accuracy: 74.76\n",
      "Test Loss: 0.727\n",
      "Time taken for epoch 96: 39.64 seconds\n",
      "Peak GPU memory usage: 0.49 GB\n",
      "Estimated TFLOPs for epoch 96: 53.4587\n",
      "\n",
      "Training Epoch: 96\n"
     ]
    },
    {
     "name": "stderr",
     "output_type": "stream",
     "text": [
      "100%|██████████| 391/391 [00:26<00:00, 14.91it/s]\n"
     ]
    },
    {
     "name": "stdout",
     "output_type": "stream",
     "text": [
      "Training Accuracy: 75.83\n",
      "Training Loss: 0.680\n",
      "\n",
      "Testing Epoch: 96\n"
     ]
    },
    {
     "name": "stderr",
     "output_type": "stream",
     "text": [
      "100%|██████████| 79/79 [00:12<00:00,  6.17it/s]\n"
     ]
    },
    {
     "name": "stdout",
     "output_type": "stream",
     "text": [
      "Test Accuracy: 74.15\n",
      "Test Loss: 0.731\n",
      "Time taken for epoch 97: 39.02 seconds\n",
      "Peak GPU memory usage: 0.49 GB\n",
      "Estimated TFLOPs for epoch 97: 53.4587\n",
      "\n",
      "Training Epoch: 97\n"
     ]
    },
    {
     "name": "stderr",
     "output_type": "stream",
     "text": [
      "100%|██████████| 391/391 [00:26<00:00, 14.66it/s]\n"
     ]
    },
    {
     "name": "stdout",
     "output_type": "stream",
     "text": [
      "Training Accuracy: 75.95\n",
      "Training Loss: 0.674\n",
      "\n",
      "Testing Epoch: 97\n"
     ]
    },
    {
     "name": "stderr",
     "output_type": "stream",
     "text": [
      "100%|██████████| 79/79 [00:13<00:00,  6.00it/s]\n"
     ]
    },
    {
     "name": "stdout",
     "output_type": "stream",
     "text": [
      "Test Accuracy: 73.86\n",
      "Test Loss: 0.740\n",
      "Time taken for epoch 98: 39.83 seconds\n",
      "Peak GPU memory usage: 0.49 GB\n",
      "Estimated TFLOPs for epoch 98: 53.4587\n",
      "\n",
      "Training Epoch: 98\n"
     ]
    },
    {
     "name": "stderr",
     "output_type": "stream",
     "text": [
      "100%|██████████| 391/391 [00:25<00:00, 15.04it/s]\n"
     ]
    },
    {
     "name": "stdout",
     "output_type": "stream",
     "text": [
      "Training Accuracy: 76.16\n",
      "Training Loss: 0.673\n",
      "\n",
      "Testing Epoch: 98\n"
     ]
    },
    {
     "name": "stderr",
     "output_type": "stream",
     "text": [
      "100%|██████████| 79/79 [00:12<00:00,  6.09it/s]\n"
     ]
    },
    {
     "name": "stdout",
     "output_type": "stream",
     "text": [
      "Test Accuracy: 73.89\n",
      "Test Loss: 0.734\n",
      "Time taken for epoch 99: 38.97 seconds\n",
      "Peak GPU memory usage: 0.49 GB\n",
      "Estimated TFLOPs for epoch 99: 53.4587\n",
      "\n",
      "Training Epoch: 99\n"
     ]
    },
    {
     "name": "stderr",
     "output_type": "stream",
     "text": [
      "100%|██████████| 391/391 [00:26<00:00, 14.66it/s]\n"
     ]
    },
    {
     "name": "stdout",
     "output_type": "stream",
     "text": [
      "Training Accuracy: 76.09\n",
      "Training Loss: 0.673\n",
      "\n",
      "Testing Epoch: 99\n"
     ]
    },
    {
     "name": "stderr",
     "output_type": "stream",
     "text": [
      "100%|██████████| 79/79 [00:13<00:00,  6.05it/s]"
     ]
    },
    {
     "name": "stdout",
     "output_type": "stream",
     "text": [
      "Test Accuracy: 74.62\n",
      "Test Loss: 0.726\n",
      "Time taken for epoch 100: 39.73 seconds\n",
      "Peak GPU memory usage: 0.49 GB\n",
      "Estimated TFLOPs for epoch 100: 53.4587\n",
      "Total training time: 3981.00 seconds\n",
      "Final model saved at: ./ReVIT/RevVIT_CIFAR10_final.pt\n"
     ]
    },
    {
     "name": "stderr",
     "output_type": "stream",
     "text": [
      "\n"
     ]
    }
   ],
   "source": [
    "import time\n",
    "train_accs = []\n",
    "test_accs = []\n",
    "\n",
    "# Set up CUDA memory tracking\n",
    "torch.cuda.reset_peak_memory_stats(device)  # Reset memory tracking\n",
    "start_time = time.time()\n",
    "for epoch in range(epochs):\n",
    "    epoch_start = time.time()\n",
    "    # Track peak memory usage\n",
    "    torch.cuda.memory_allocated(device)  # Ensure PyTorch updates memory usage tracking\n",
    "    torch.cuda.reset_peak_memory_stats(device)\n",
    "    \n",
    "    train_acc, train_loss = train(epoch)\n",
    "    test_acc, test_loss = test(epoch)\n",
    "    train_accs.append(train_acc)\n",
    "    test_accs.append(test_acc)\n",
    "    \n",
    "    epoch_time = time.time() - epoch_start\n",
    "    print(f\"Time taken for epoch {epoch+1}: {epoch_time:.2f} seconds\")\n",
    "    # Track peak GPU memory usage\n",
    "    peak_memory = torch.cuda.max_memory_allocated(device) / (1024**3)  # Convert to GB\n",
    "    print(f\"Peak GPU memory usage: {peak_memory:.2f} GB\")\n",
    "    \n",
    "    # TFLOPs estimation for each epoch\n",
    "    input_resolution = 32  # CIFAR-10 image size\n",
    "    flops_per_image = (2 * total_params * input_resolution * input_resolution) / 1e12  # Approx. FLOPs per image\n",
    "    total_tflops = flops_per_image * len(trainloader.dataset)  # TFLOPs per epoch\n",
    "    print(f\"Estimated TFLOPs for epoch {epoch+1}: {total_tflops:.4f}\")\n",
    "    \n",
    "    if (epoch+1)%5 == 0:\n",
    "        torch.save({\n",
    "            'epoch': epoch,\n",
    "            'model': model,\n",
    "            'optimizer': optimizer,\n",
    "            'scheduler': scheduler,\n",
    "            'train_acc': train_accs,\n",
    "            'test_acc': test_accs\n",
    "        }, './ReVit/' + 'RevVIT' + '_CIFAR10_checkpoint.pt')\n",
    "        \n",
    "# End timing after training\n",
    "total_training_time = time.time() - start_time\n",
    "print(f\"Total training time: {total_training_time:.2f} seconds\")\n",
    "\n",
    "# Save final model checkpoint\n",
    "final_checkpoint_path = f'./ReVIT/{'RevVIT'}_CIFAR10_final.pt'\n",
    "torch.save({\n",
    "    'epoch': epochs,\n",
    "    'model': model.state_dict(),\n",
    "    'optimizer': optimizer.state_dict(),\n",
    "    'scheduler': scheduler.state_dict(),\n",
    "    'train_acc': train_accs,\n",
    "    'test_acc': test_accs\n",
    "}, final_checkpoint_path)\n",
    "\n",
    "print(f\"Final model saved at: {final_checkpoint_path}\")\n"
   ]
  },
  {
   "cell_type": "code",
   "execution_count": 22,
   "metadata": {},
   "outputs": [
    {
     "data": {
      "text/plain": [
       "<matplotlib.legend.Legend at 0x1c238da5160>"
      ]
     },
     "execution_count": 22,
     "metadata": {},
     "output_type": "execute_result"
    },
    {
     "data": {
      "image/png": "[encoded data removed]",
      "text/plain": [
       "<Figure size 640x480 with 1 Axes>"
      ]
     },
     "metadata": {},
     "output_type": "display_data"
    }
   ],
   "source": [
    "import seaborn as sns\n",
    "import matplotlib.pyplot as plt\n",
    "train_accs_gpu = train_accs.copy()\n",
    "test_accs_gpu = test_accs.copy()\n",
    "# train_accs_cpu = [acc.cpu().item() for acc in train_accs_gpu]\n",
    "# test_accs_cpu = [acc.cpu().item() for acc in test_accs_gpu]\n",
    "# print(train_accs)\n",
    "# print(test_accs)\n",
    "plt.plot(range(1, 101), train_accs_gpu, label='Train Accuracy')\n",
    "plt.plot(range(1, 101), test_accs_gpu, label='Test Accuracy')\n",
    "\n",
    "plt.xlabel(\"Epochs\")\n",
    "plt.ylabel(\"Accuracy\")\n",
    "\n",
    "plt.title(\"Train vs Test Accuracy\")\n",
    "plt.legend(loc='lower right')"
   ]
  },
  {
   "cell_type": "code",
   "execution_count": 1,
   "metadata": {},
   "outputs": [
    {
     "ename": "NameError",
     "evalue": "name 'model' is not defined",
     "output_type": "error",
     "traceback": [
      "\u001b[31m---------------------------------------------------------------------------\u001b[39m",
      "\u001b[31mNameError\u001b[39m                                 Traceback (most recent call last)",
      "\u001b[36mCell\u001b[39m\u001b[36m \u001b[39m\u001b[32mIn[1]\u001b[39m\u001b[32m, line 93\u001b[39m\n\u001b[32m     90\u001b[39m \u001b[38;5;28;01mif\u001b[39;00m \u001b[34m__name__\u001b[39m == \u001b[33m\"\u001b[39m\u001b[33m__main__\u001b[39m\u001b[33m\"\u001b[39m:\n\u001b[32m     91\u001b[39m     \u001b[38;5;66;03m# Assume 'model' is your ViT or Dynamic ViT and 'test_loader' is your DataLoader for CIFAR-10.\u001b[39;00m\n\u001b[32m     92\u001b[39m     device = torch.device(\u001b[33m\"\u001b[39m\u001b[33mcuda\u001b[39m\u001b[33m\"\u001b[39m \u001b[38;5;28;01mif\u001b[39;00m torch.cuda.is_available() \u001b[38;5;28;01melse\u001b[39;00m \u001b[33m\"\u001b[39m\u001b[33mcpu\u001b[39m\u001b[33m\"\u001b[39m)\n\u001b[32m---> \u001b[39m\u001b[32m93\u001b[39m     measure_metrics(\u001b[43mmodel\u001b[49m, testloader, device)\n\u001b[32m     95\u001b[39m     \u001b[38;5;66;03m# For FLOPs measurement, get one batch (or a single image) from the DataLoader\u001b[39;00m\n\u001b[32m     96\u001b[39m     input_tensor, _ = \u001b[38;5;28mnext\u001b[39m(\u001b[38;5;28miter\u001b[39m(testloader))\n",
      "\u001b[31mNameError\u001b[39m: name 'model' is not defined"
     ]
    }
   ],
   "source": [
    "import time\n",
    "import torch\n",
    "import psutil\n",
    "import os\n",
    "\n",
    "# Example: Using a DataLoader for test data\n",
    "def measure_metrics(model, dataloader, device):\n",
    "    model.to(device)\n",
    "    model.eval()\n",
    "\n",
    "    total_inference_time = 0.0\n",
    "    total_tokens = 0\n",
    "    total_images = 0\n",
    "    correct = 0\n",
    "    total_memory_usage = 0.0\n",
    "    total_cpu_usage = 0.0\n",
    "\n",
    "    # Process object for CPU usage monitoring\n",
    "    process = psutil.Process(os.getpid())\n",
    "\n",
    "    with torch.no_grad():\n",
    "        for images, labels in dataloader:\n",
    "            images = images.to(device)\n",
    "            labels = labels.to(device)\n",
    "\n",
    "            # Reset CUDA peak memory stats for this batch\n",
    "            torch.cuda.reset_peak_memory_stats(device)\n",
    "\n",
    "            # Capture CPU usage before inference (non-blocking, instantaneous)\n",
    "            cpu_before = psutil.cpu_percent(interval=None)\n",
    "            start_time = time.time()\n",
    "\n",
    "            # Assume model outputs either logits or a tuple (logits, token_counts)\n",
    "            outputs = model(images)\n",
    "            if isinstance(outputs, tuple):\n",
    "                logits, token_counts = outputs\n",
    "            else:\n",
    "                logits = outputs\n",
    "                # For baseline VIT, token count can be set as a constant, e.g., number of patches\n",
    "                token_counts = torch.full((images.size(0),), images.shape[1], dtype=torch.float32)\n",
    "\n",
    "            end_time = time.time()\n",
    "            cpu_after = psutil.cpu_percent(interval=None)\n",
    "            inference_time = end_time - start_time\n",
    "            total_inference_time += inference_time\n",
    "            total_images += images.size(0)\n",
    "            # Average CPU usage for this batch\n",
    "            batch_cpu = (cpu_before + cpu_after) / 2\n",
    "            total_cpu_usage += batch_cpu\n",
    "\n",
    "            # Accuracy calculation\n",
    "            predictions = logits.argmax(dim=1)\n",
    "            correct += (predictions == labels).sum().item()\n",
    "\n",
    "            # Record GPU memory usage (in bytes) for this batch\n",
    "            memory_used = torch.cuda.max_memory_allocated(device)\n",
    "            total_memory_usage += memory_used\n",
    "\n",
    "            # Sum token counts (if model returns tensor, otherwise adjust accordingly)\n",
    "            total_tokens += token_counts.sum().item() if torch.is_tensor(token_counts) else token_counts\n",
    "\n",
    "    avg_inference_time = total_inference_time / total_images\n",
    "    accuracy = correct / total_images * 100  # percentage\n",
    "    avg_memory_usage_mb = (total_memory_usage / len(dataloader)) / (1024 ** 2)\n",
    "    avg_cpu_usage = total_cpu_usage / len(dataloader)\n",
    "    avg_tokens = total_tokens / total_images\n",
    "\n",
    "    print(\"Average Inference Time per Image: {:.4f} seconds\".format(avg_inference_time))\n",
    "    print(\"Accuracy: {:.2f}%\".format(accuracy))\n",
    "    print(\"Average Memory Usage per Batch: {:.2f} MB\".format(avg_memory_usage_mb))\n",
    "    print(\"Average CPU Usage per Batch: {:.2f}%\".format(avg_cpu_usage))\n",
    "    print(\"Average Tokens per Image: {:.2f}\".format(avg_tokens))\n",
    "\n",
    "\n",
    "# Example FLOPs measurement using fvcore (install via pip install fvcore)\n",
    "def measure_flops(model, input_tensor, device):\n",
    "    from fvcore.nn import FlopCountAnalysis\n",
    "\n",
    "    model.to(device)\n",
    "    model.eval()\n",
    "    flops = FlopCountAnalysis(model, input_tensor.to(device))\n",
    "    # The total flops is given as a large integer; convert to TFLOPs if desired.\n",
    "    total_flops = flops.total()\n",
    "    tflops = total_flops / 1e12  # Convert FLOPs to TFLOPs\n",
    "    print(\"Estimated FLOPs: {:.4f} TFLOPs\".format(tflops))\n",
    "    # Optionally, display a detailed table:\n",
    "    print(flops.by_operator())\n",
    "\n",
    "# Example usage:\n",
    "if __name__ == \"__main__\":\n",
    "    # Assume 'model' is your ViT or Dynamic ViT and 'test_loader' is your DataLoader for CIFAR-10.\n",
    "    device = torch.device(\"cuda\" if torch.cuda.is_available() else \"cpu\")\n",
    "    measure_metrics(model, testloader, device)\n",
    "    \n",
    "    # For FLOPs measurement, get one batch (or a single image) from the DataLoader\n",
    "    input_tensor, _ = next(iter(testloader))\n",
    "    measure_flops(model, input_tensor, device)\n"
   ]
  },
  {
   "cell_type": "code",
   "execution_count": null,
   "metadata": {},
   "outputs": [],
   "source": []
  }
 ],
 "metadata": {
  "kernelspec": {
   "display_name": "Python 3",
   "language": "python",
   "name": "python3"
  },
  "language_info": {
   "codemirror_mode": {
    "name": "ipython",
    "version": 3
   },
   "file_extension": ".py",
   "mimetype": "text/x-python",
   "name": "python",
   "nbconvert_exporter": "python",
   "pygments_lexer": "ipython3",
   "version": "3.12.9"
  }
 },
 "nbformat": 4,
 "nbformat_minor": 2
}
