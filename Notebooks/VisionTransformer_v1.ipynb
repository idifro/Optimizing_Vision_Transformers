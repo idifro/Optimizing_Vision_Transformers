{
 "cells": [
  {
   "cell_type": "code",
   "execution_count": 1,
   "metadata": {},
   "outputs": [],
   "source": [
    "import torch\n",
    "from torch import nn\n",
    "from torch import functional as F\n",
    "from torch import optim\n",
    "import torchvision\n",
    "import torchvision.transforms as transforms\n",
    "from torch.utils.data import DataLoader\n",
    "from tqdm import tqdm\n",
    "import math\n",
    "import matplotlib.pyplot as plt\n",
    "%matplotlib inline"
   ]
  },
  {
   "cell_type": "code",
   "execution_count": 2,
   "metadata": {},
   "outputs": [
    {
     "name": "stdout",
     "output_type": "stream",
     "text": [
      "GPU:  NVIDIA GeForce RTX 4090\n"
     ]
    }
   ],
   "source": [
    "if torch.cuda.is_available():\n",
    "    device = torch.device(\"cuda\")\n",
    "    print('GPU: ', torch.cuda.get_device_name(0))\n",
    "\n",
    "else:\n",
    "    device = torch.device(\"cpu\")\n",
    "    print('No GPU available')"
   ]
  },
  {
   "cell_type": "code",
   "execution_count": 3,
   "metadata": {},
   "outputs": [],
   "source": [
    "class Attention(nn.Module):\n",
    "    '''\n",
    "    Attention Module used to perform self-attention operation allowing the model to attend\n",
    "    information from different representation subspaces on an input sequence of embeddings.\n",
    "    The sequence of operations is as follows :-\n",
    "\n",
    "    Input -> Query, Key, Value -> ReshapeHeads -> Query.TransposedKey -> Softmax -> Dropout\n",
    "    -> AttentionScores.Value -> ReshapeHeadsBack -> Output\n",
    "\n",
    "    Args:\n",
    "        embed_dim: Dimension size of the hidden embedding\n",
    "        heads: Number of parallel attention heads (Default=8)\n",
    "        activation: Optional activation function to be applied to the input while\n",
    "                    transforming to query, key and value matrixes (Default=None)\n",
    "        dropout: Dropout value for the layer on attention_scores (Default=0.1)\n",
    "\n",
    "    Methods:\n",
    "        _reshape_heads(inp) :-\n",
    "        Changes the input sequence embeddings to reduced dimension according to the number\n",
    "        of attention heads to parallelize attention operation\n",
    "        (batch_size, seq_len, embed_dim) -> (batch_size * heads, seq_len, reduced_dim)\n",
    "\n",
    "        _reshape_heads_back(inp) :-\n",
    "        Changes the reduced dimension due to parallel attention heads back to the original\n",
    "        embedding size\n",
    "        (batch_size * heads, seq_len, reduced_dim) -> (batch_size, seq_len, embed_dim)\n",
    "\n",
    "        forward(inp) :-\n",
    "        Performs the self-attention operation on the input sequence embedding.\n",
    "        Returns the output of self-attention as well as atttention scores\n",
    "        (batch_size, seq_len, embed_dim) -> (batch_size, seq_len, embed_dim), (batch_size * heads, seq_len, seq_len)\n",
    "\n",
    "    Examples:\n",
    "        >>> attention = Attention(embed_dim, heads, activation, dropout)\n",
    "        >>> out, weights = attention(inp)\n",
    "    '''\n",
    "    def __init__(self, embed_dim, heads=8, activation=None, dropout=0.1):\n",
    "        super(Attention, self).__init__()\n",
    "        self.heads = heads\n",
    "        self.embed_dim = embed_dim\n",
    "        self.query = nn.Linear(embed_dim, embed_dim)\n",
    "        self.key = nn.Linear(embed_dim, embed_dim)\n",
    "        self.value = nn.Linear(embed_dim, embed_dim)\n",
    "        self.softmax = nn.Softmax(dim=-1)\n",
    "        if activation == 'relu':\n",
    "            self.activation = nn.ReLU()\n",
    "        else:\n",
    "            self.activation = nn.Identity()\n",
    "        self.dropout = nn.Dropout(dropout)\n",
    "\n",
    "    def forward(self, inp):\n",
    "        # inp: (batch_size, seq_len, embed_dim)\n",
    "        batch_size, seq_len, embed_dim = inp.size()\n",
    "        assert embed_dim == self.embed_dim\n",
    "\n",
    "        query = self.activation(self.query(inp))\n",
    "        key   = self.activation(self.key(inp))\n",
    "        value = self.activation(self.value(inp))\n",
    "\n",
    "        # output of _reshape_heads(): (batch_size * heads, seq_len, reduced_dim) | reduced_dim = embed_dim // heads\n",
    "        query = self._reshape_heads(query)\n",
    "        key   = self._reshape_heads(key)\n",
    "        value = self._reshape_heads(value)\n",
    "\n",
    "        # attention_scores: (batch_size * heads, seq_len, seq_len) | Softmaxed along the last dimension\n",
    "        attention_scores = self.softmax(torch.matmul(query, key.transpose(1, 2)))\n",
    "\n",
    "        # out: (batch_size * heads, seq_len, reduced_dim)\n",
    "        out = torch.matmul(self.dropout(attention_scores), value)\n",
    "\n",
    "        # output of _reshape_heads_back(): (batch_size, seq_len, embed_size)\n",
    "        out = self._reshape_heads_back(out)\n",
    "\n",
    "        return out, attention_scores\n",
    "\n",
    "    def _reshape_heads(self, inp):\n",
    "        # inp: (batch_size, seq_len, embed_dim)\n",
    "        batch_size, seq_len, embed_dim = inp.size()\n",
    "\n",
    "        reduced_dim = self.embed_dim // self.heads\n",
    "        assert reduced_dim * self.heads == self.embed_dim\n",
    "        out = inp.reshape(batch_size, seq_len, self.heads, reduced_dim)\n",
    "        out = out.permute(0, 2, 1, 3)\n",
    "        out = out.reshape(-1, seq_len, reduced_dim)\n",
    "\n",
    "        # out: (batch_size * heads, seq_len, reduced_dim)\n",
    "        return out\n",
    "\n",
    "    def _reshape_heads_back(self, inp):\n",
    "        # inp: (batch_size * heads, seq_len, reduced_dim) | reduced_dim = embed_dim // heads\n",
    "        batch_size_mul_heads, seq_len, reduced_dim = inp.size()\n",
    "        batch_size = batch_size_mul_heads // self.heads\n",
    "\n",
    "        out = inp.reshape(batch_size, self.heads, seq_len, reduced_dim)\n",
    "        out = out.permute(0, 2, 1, 3)\n",
    "        out = out.reshape(batch_size, seq_len, self.embed_dim)\n",
    "\n",
    "        # out: (batch_size, seq_len, embed_dim)\n",
    "        return out"
   ]
  },
  {
   "cell_type": "code",
   "execution_count": 4,
   "metadata": {},
   "outputs": [],
   "source": [
    "# Check if Dropout should be used after second Linear Layer\n",
    "class FeedForward(nn.Module):\n",
    "    '''\n",
    "    FeedForward Network with two sequential linear layers with GELU activation function\n",
    "    ,applied to the output of self attention operation. The sequence of operations is as\n",
    "    follows :-\n",
    "\n",
    "    Input -> FC1 -> GELU -> Dropout -> FC2 -> Output\n",
    "\n",
    "    Args:\n",
    "        embed_dim: Dimension size of the hidden embedding\n",
    "        forward_expansion: The scale used to transform the input embedding to a higher dimension\n",
    "                           and then scaled back to capture richer information (Default=1)\n",
    "        dropout: Dropout value for the layer on attention_scores (Default=0.1)\n",
    "\n",
    "    Methods:\n",
    "        forward(inp) :-\n",
    "        Applies the sequence of operations mentioned above.\n",
    "        (batch_size, seq_len, embed_dim) -> (batch_size, seq_len, embed_dim)\n",
    "\n",
    "    Examples:\n",
    "        >>> FF = FeedForward(8, 1)\n",
    "        >>> out = FF(inp)\n",
    "    '''\n",
    "    def __init__(self, embed_dim, forward_expansion=1, dropout=0.1):\n",
    "        super(FeedForward, self).__init__()\n",
    "        self.embed_dim = embed_dim\n",
    "        self.fc1 = nn.Linear(embed_dim, embed_dim * forward_expansion)\n",
    "        self.activation = nn.GELU()\n",
    "        self.fc2 = nn.Linear(embed_dim * forward_expansion, embed_dim)\n",
    "        self.dropout = nn.Dropout(dropout)\n",
    "\n",
    "    def forward(self, inp):\n",
    "        # inp: (batch_size, seq_len, embed_dim)\n",
    "        batch_size, seq_len, embed_dim = inp.size()\n",
    "        assert embed_dim == self.embed_dim\n",
    "\n",
    "        out = self.dropout(self.activation(self.fc1(inp)))\n",
    "        # out = self.dropout(self.fc2(out))\n",
    "        out = self.fc2(out)\n",
    "\n",
    "        # out: (batch_size, seq_len, embed_dim)\n",
    "        return out"
   ]
  },
  {
   "cell_type": "code",
   "execution_count": 5,
   "metadata": {},
   "outputs": [],
   "source": [
    "class TransformerBlock(nn.Module):\n",
    "    '''\n",
    "    Transformer Block combines both the attention module and the feed forward module with layer\n",
    "    normalization, dropout and residual connections. The sequence of operations is as follows :-\n",
    "\n",
    "    Input -> LayerNorm1 -> Attention -> Residual -> LayerNorm2 -> FeedForward -> Output\n",
    "      |                                   |  |                                      |\n",
    "      |-------------Addition--------------|  |---------------Addition---------------|\n",
    "\n",
    "    Args:\n",
    "        embed_dim: Dimension size of the hidden embedding\n",
    "        heads: Number of parallel attention heads (Default=8)\n",
    "        activation: Optional activation function to be applied to the input while\n",
    "                    transforming to query, key and value matrixes (Default=None)\n",
    "        forward_expansion: The scale used to transform the input embedding to a higher dimension\n",
    "                           and then scaled back to capture richer information (Default=1)\n",
    "        dropout: Dropout value for the layer on attention_scores (Default=0.1)\n",
    "\n",
    "    Methods:\n",
    "        forward(inp) :-\n",
    "        Applies the sequence of operations mentioned above.\n",
    "        (batch_size, seq_len, embed_dim) -> (batch_size, seq_len, embed_dim)\n",
    "\n",
    "    Examples:\n",
    "        >>> TB = TransformerBlock(embed_dim, heads, activation, forward_expansion, dropout)\n",
    "        >>> out = TB(inp)\n",
    "    '''\n",
    "    def __init__(self, embed_dim, heads=8, activation=None, forward_expansion=1, dropout=0.1):\n",
    "        super(TransformerBlock, self).__init__()\n",
    "        self.embed_dim = embed_dim\n",
    "        self.norm1 = nn.LayerNorm(embed_dim)\n",
    "        self.attention = Attention(embed_dim, heads, activation, dropout)\n",
    "        self.norm2 = nn.LayerNorm(embed_dim)\n",
    "        self.feed_forward = FeedForward(embed_dim, forward_expansion, dropout)\n",
    "\n",
    "    def forward(self, inp):\n",
    "        # inp: (batch_size, seq_len, embed_dim)\n",
    "        batch_size, seq_len, embed_dim = inp.size()\n",
    "        assert embed_dim == self.embed_dim\n",
    "\n",
    "        res = inp\n",
    "        out = self.norm1(inp)\n",
    "        out, _ = self.attention(out)\n",
    "        out = out + res\n",
    "\n",
    "        res = out\n",
    "        out = self.norm2(out)\n",
    "        out = self.feed_forward(out)\n",
    "        out = out + res\n",
    "\n",
    "        # out: (batch_size, seq_len, embed_dim)\n",
    "        return out"
   ]
  },
  {
   "cell_type": "code",
   "execution_count": 6,
   "metadata": {},
   "outputs": [],
   "source": [
    "class Transformer(nn.Module):\n",
    "    '''\n",
    "    Transformer combines multiple layers of Transformer Blocks in a sequential manner. The sequence\n",
    "    of the operations is as follows -\n",
    "\n",
    "    Input -> TB1 -> TB2 -> .......... -> TBn (n being the number of layers) -> Output\n",
    "\n",
    "    Args:\n",
    "        embed_dim: Dimension size of the hidden embedding\n",
    "        layers: Number of Transformer Blocks in the Transformer\n",
    "        heads: Number of parallel attention heads (Default=8)\n",
    "        activation: Optional activation function to be applied to the input while\n",
    "                    transforming to query, key and value matrixes (Default=None)\n",
    "        forward_expansion: The scale used to transform the input embedding to a higher dimension\n",
    "                           and then scaled back to capture richer information (Default=1)\n",
    "        dropout: Dropout value for the layer on attention_scores (Default=0.1)\n",
    "\n",
    "    Methods:\n",
    "        forward(inp) :-\n",
    "        Applies the sequence of operations mentioned above.\n",
    "        (batch_size, seq_len, embed_dim) -> (batch_size, seq_len, embed_dim)\n",
    "\n",
    "    Examples:\n",
    "        >>> transformer = Transformer(embed_dim, layers, heads, activation, forward_expansion, dropout)\n",
    "        >>> out = transformer(inp)\n",
    "    '''\n",
    "    def __init__(self, embed_dim, layers, heads=8, activation=None, forward_expansion=1, dropout=0.1):\n",
    "        super(Transformer, self).__init__()\n",
    "        self.embed_dim = embed_dim\n",
    "        self.trans_blocks = nn.ModuleList(\n",
    "            [TransformerBlock(embed_dim, heads, activation, forward_expansion, dropout) for i in range(layers)]\n",
    "        )\n",
    "\n",
    "    def forward(self, inp):\n",
    "        # inp: (batch_size, seq_len, embed_dim)\n",
    "\n",
    "        out = inp\n",
    "        for block in self.trans_blocks:\n",
    "            out = block(out)\n",
    "\n",
    "        # out: (batch_size, seq_len, embed_dim)\n",
    "        return out"
   ]
  },
  {
   "cell_type": "code",
   "execution_count": 7,
   "metadata": {},
   "outputs": [],
   "source": [
    "# Not Exactly Same as Paper\n",
    "class ClassificationHead(nn.Module):\n",
    "    '''\n",
    "    Classification Head attached to the first sequence token which is used as the arbitrary\n",
    "    classification token and used to optimize the transformer model by applying Cross-Entropy\n",
    "    loss. The sequence of operations is as follows :-\n",
    "\n",
    "    Input -> FC1 -> GELU -> Dropout -> FC2 -> Output\n",
    "\n",
    "    Args:\n",
    "        embed_dim: Dimension size of the hidden embedding\n",
    "        classes: Number of classification classes in the dataset\n",
    "        dropout: Dropout value for the layer on attention_scores (Default=0.1)\n",
    "\n",
    "    Methods:\n",
    "        forward(inp) :-\n",
    "        Applies the sequence of operations mentioned above.\n",
    "        (batch_size, embed_dim) -> (batch_size, classes)\n",
    "\n",
    "    Examples:\n",
    "        >>> CH = ClassificationHead(embed_dim, classes, dropout)\n",
    "        >>> out = CH(inp)\n",
    "    '''\n",
    "    def __init__(self, embed_dim, classes, dropout=0.1):\n",
    "        super(ClassificationHead, self).__init__()\n",
    "        self.embed_dim = embed_dim\n",
    "        self.classes = classes\n",
    "        self.fc1 = nn.Linear(embed_dim, embed_dim // 2)\n",
    "        self.activation = nn.GELU()\n",
    "        self.fc2 = nn.Linear(embed_dim // 2, classes)\n",
    "        self.softmax = nn.Softmax(dim=-1)\n",
    "        self.dropout = nn.Dropout(dropout)\n",
    "\n",
    "    def forward(self, inp):\n",
    "        # inp: (batch_size, embed_dim)\n",
    "        batch_size, embed_dim = inp.size()\n",
    "        assert embed_dim == self.embed_dim\n",
    "\n",
    "        out = self.dropout(self.activation(self.fc1(inp)))\n",
    "        # out = self.softmax(self.fc2(out))\n",
    "        out = self.fc2(out)\n",
    "\n",
    "        # out: (batch_size, classes)\n",
    "        return out"
   ]
  },
  {
   "cell_type": "code",
   "execution_count": 8,
   "metadata": {},
   "outputs": [],
   "source": [
    "class VisionTransformer(nn.Module):\n",
    "    '''\n",
    "    Vision Transformer is the complete end to end model architecture which combines all the above modules\n",
    "    in a sequential manner. The sequence of the operations is as follows -\n",
    "\n",
    "    Input -> CreatePatches -> ClassToken, PatchToEmbed , PositionEmbed -> Transformer -> ClassificationHead -> Output\n",
    "                                   |            | |                |\n",
    "                                   |---Concat---| |----Addition----|\n",
    "\n",
    "    Args:\n",
    "        patch_size: Length of square patch size\n",
    "        max_len: Max length of learnable positional embedding\n",
    "        embed_dim: Dimension size of the hidden embedding\n",
    "        classes: Number of classes in the dataset\n",
    "        layers: Number of Transformer Blocks in the Transformer\n",
    "        channels: Number of channels in the input (Default=3)\n",
    "        heads: Number of parallel attention heads (Default=8)\n",
    "        activation: Optional activation function to be applied to the input while\n",
    "                    transforming to query, key and value matrixes (Default=None)\n",
    "        forward_expansion: The scale used to transform the input embedding to a higher dimension\n",
    "                           and then scaled back to capture richer information (Default=1)\n",
    "        dropout: Dropout value for the layer on attention_scores (Default=0.1)\n",
    "\n",
    "    Methods:\n",
    "        forward(inp) :-\n",
    "        Applies the sequence of operations mentioned above.\n",
    "        It outputs the classification output as well as the sequence output of the transformer\n",
    "        (batch_size, channels, width, height) -> (batch_size, classes), (batch_size, seq_len+1, embed_dim)\n",
    "\n",
    "    Examples:\n",
    "        >>> ViT = VisionTransformer(atch_size, max_len, embed_dim, classes, layers, channels, heads, activation, forward_expansion, dropout)\n",
    "        >>> class_out, hidden_seq = ViT(inp)\n",
    "    '''\n",
    "    def __init__(self, patch_size, max_len, embed_dim, classes, layers, channels=3, heads=8, activation=None, forward_expansion=1, dropout=0.1):\n",
    "        super(VisionTransformer, self).__init__()\n",
    "        self.name = 'VisionTransformer'\n",
    "        self.patch_size = patch_size\n",
    "        self.embed_dim = embed_dim\n",
    "        self.channels = channels\n",
    "        self.patch_to_embed = nn.Linear(patch_size * patch_size * channels, embed_dim)\n",
    "        self.position_embed = nn.Parameter(torch.randn((max_len, embed_dim)))\n",
    "        self.transformer = Transformer(embed_dim, layers, heads, activation, forward_expansion, dropout)\n",
    "        self.classification_head = ClassificationHead(embed_dim, classes)\n",
    "        self.class_token = nn.Parameter(torch.zeros(1, 1, embed_dim))\n",
    "\n",
    "    def forward(self, inp):\n",
    "        # inp: (batch_size, channels, width, height)\n",
    "        batch_size, channels, width, height = inp.size()\n",
    "        assert channels == self.channels\n",
    "\n",
    "        out = inp.unfold(2, self.patch_size, self.patch_size).unfold(3, self.patch_size, self.patch_size).contiguous()\n",
    "        out = out.view(batch_size, channels, -1, self.patch_size, self.patch_size)\n",
    "        out = out.permute(0, 2, 3, 4, 1)\n",
    "        # out: (batch_size, seq_len, patch_size, patch_size, channels) | seq_len would be (width*height)/(patch_size**2)\n",
    "        batch_size, seq_len, patch_size, _, channels = out.size()\n",
    "\n",
    "        out = out.reshape(batch_size, seq_len, -1)\n",
    "        out = self.patch_to_embed(out)\n",
    "        # out: (batch_size, seq_len, embed_dim)\n",
    "\n",
    "        class_token = self.class_token.expand(batch_size, -1, -1)\n",
    "        out = torch.cat([class_token, out], dim=1)\n",
    "        # out: (batch_size, seq_len+1, embed_dim)\n",
    "\n",
    "        position_embed = self.position_embed[:seq_len+1]\n",
    "        position_embed = position_embed.unsqueeze(0).expand(batch_size, seq_len+1, self.embed_dim)\n",
    "        out = out + position_embed\n",
    "        # out: (batch_size, seq_len+1, embed_dim) | Added Positional Embeddings\n",
    "\n",
    "        out = self.transformer(out)\n",
    "        # out: (batch_size, seq_len+1, embed_dim)\n",
    "        class_token = out[:, 0]\n",
    "        # class_token: (batch_size, embed_dim)\n",
    "\n",
    "        class_out = self.classification_head(class_token)\n",
    "        # class_out: (batch_size, classes)\n",
    "\n",
    "        return class_out, out"
   ]
  },
  {
   "cell_type": "code",
   "execution_count": 9,
   "metadata": {},
   "outputs": [],
   "source": [
    "# Initializations of all the constants used in the training and testing process\n",
    "\n",
    "lr = 0.003\n",
    "batch_size = 128\n",
    "num_workers = 2\n",
    "shuffle = True\n",
    "patch_size = 4\n",
    "image_sz = 32\n",
    "max_len = 65 # All sequences must be less than 1000 including class token\n",
    "embed_dim = 128\n",
    "classes = 10\n",
    "layers = 6\n",
    "channels = 3\n",
    "heads = 8\n",
    "epochs = 100"
   ]
  },
  {
   "cell_type": "code",
   "execution_count": 10,
   "metadata": {},
   "outputs": [],
   "source": [
    "transform_train = transforms.Compose(\n",
    "    [\n",
    "        transforms.RandomCrop(32, padding=4),\n",
    "        transforms.RandomHorizontalFlip(),\n",
    "        transforms.ToTensor(),\n",
    "        transforms.Normalize(\n",
    "            (0.4914, 0.4822, 0.4465), (0.2023, 0.1994, 0.2010)\n",
    "        ),\n",
    "    ]\n",
    ")\n",
    "\n",
    "transform_test = transforms.Compose(\n",
    "    [\n",
    "        transforms.ToTensor(),\n",
    "        transforms.Normalize(\n",
    "            (0.4914, 0.4822, 0.4465), (0.2023, 0.1994, 0.2010)\n",
    "        ),\n",
    "    ]\n",
    ")\n",
    "\n",
    "\n",
    "trainset = torchvision.datasets.CIFAR10(\n",
    "    root=\"./data\", train=True, download=True, transform=transform_train\n",
    ")\n",
    "trainloader = torch.utils.data.DataLoader(\n",
    "    trainset, batch_size=batch_size, shuffle=True, num_workers=2\n",
    ")\n",
    "\n",
    "testset = torchvision.datasets.CIFAR10(\n",
    "    root=\"./data\", train=False, download=True, transform=transform_test\n",
    ")\n",
    "testloader = torch.utils.data.DataLoader(\n",
    "    testset, batch_size=batch_size, shuffle=False, num_workers=2\n",
    ")"
   ]
  },
  {
   "cell_type": "code",
   "execution_count": 11,
   "metadata": {},
   "outputs": [],
   "source": [
    "# del model\n",
    "torch.cuda.empty_cache()"
   ]
  },
  {
   "cell_type": "code",
   "execution_count": 12,
   "metadata": {},
   "outputs": [
    {
     "data": {
      "text/plain": [
       "VisionTransformer(\n",
       "  (patch_to_embed): Linear(in_features=48, out_features=128, bias=True)\n",
       "  (transformer): Transformer(\n",
       "    (trans_blocks): ModuleList(\n",
       "      (0-5): 6 x TransformerBlock(\n",
       "        (norm1): LayerNorm((128,), eps=1e-05, elementwise_affine=True)\n",
       "        (attention): Attention(\n",
       "          (query): Linear(in_features=128, out_features=128, bias=True)\n",
       "          (key): Linear(in_features=128, out_features=128, bias=True)\n",
       "          (value): Linear(in_features=128, out_features=128, bias=True)\n",
       "          (softmax): Softmax(dim=-1)\n",
       "          (activation): Identity()\n",
       "          (dropout): Dropout(p=0.1, inplace=False)\n",
       "        )\n",
       "        (norm2): LayerNorm((128,), eps=1e-05, elementwise_affine=True)\n",
       "        (feed_forward): FeedForward(\n",
       "          (fc1): Linear(in_features=128, out_features=128, bias=True)\n",
       "          (activation): GELU(approximate='none')\n",
       "          (fc2): Linear(in_features=128, out_features=128, bias=True)\n",
       "          (dropout): Dropout(p=0.1, inplace=False)\n",
       "        )\n",
       "      )\n",
       "    )\n",
       "  )\n",
       "  (classification_head): ClassificationHead(\n",
       "    (fc1): Linear(in_features=128, out_features=64, bias=True)\n",
       "    (activation): GELU(approximate='none')\n",
       "    (fc2): Linear(in_features=64, out_features=10, bias=True)\n",
       "    (softmax): Softmax(dim=-1)\n",
       "    (dropout): Dropout(p=0.1, inplace=False)\n",
       "  )\n",
       ")"
      ]
     },
     "execution_count": 12,
     "metadata": {},
     "output_type": "execute_result"
    }
   ],
   "source": [
    "model = VisionTransformer(\n",
    "    patch_size=patch_size,\n",
    "    max_len=max_len,\n",
    "    embed_dim=embed_dim,\n",
    "    classes=classes,\n",
    "    layers=layers,\n",
    "    channels=channels,\n",
    "    heads=heads)\n",
    "model"
   ]
  },
  {
   "cell_type": "code",
   "execution_count": 13,
   "metadata": {},
   "outputs": [],
   "source": [
    "model = model.to(device)\n",
    "from torch.amp import GradScaler\n",
    "model.no_custom_backward = False\n",
    "criterion = nn.CrossEntropyLoss().to(device)\n",
    "optimizer = optim.Adam(model.parameters(), lr=lr)\n",
    "scheduler = optim.lr_scheduler.OneCycleLR(optimizer, max_lr=lr, steps_per_epoch=len(trainloader), epochs=epochs)\n",
    "scaler = GradScaler()"
   ]
  },
  {
   "cell_type": "code",
   "execution_count": 14,
   "metadata": {},
   "outputs": [
    {
     "name": "stdout",
     "output_type": "stream",
     "text": [
      "Total Parameters: 522,058\n"
     ]
    }
   ],
   "source": [
    "# Get model parameter count\n",
    "total_params = sum(p.numel() for p in model.parameters())\n",
    "print(f\"Total Parameters: {total_params:,}\")"
   ]
  },
  {
   "cell_type": "code",
   "execution_count": 15,
   "metadata": {},
   "outputs": [
    {
     "name": "stdout",
     "output_type": "stream",
     "text": [
      "Model Size: 1.99 MB\n"
     ]
    }
   ],
   "source": [
    "# Estimate model size (assuming float32 parameters, 4 bytes each)\n",
    "model_size_mb = (total_params * 4) / (1024 * 1024)\n",
    "print(f\"Model Size: {model_size_mb:.2f} MB\")"
   ]
  },
  {
   "cell_type": "code",
   "execution_count": 16,
   "metadata": {},
   "outputs": [],
   "source": [
    "import warnings\n",
    "warnings.filterwarnings(\"ignore\")"
   ]
  },
  {
   "cell_type": "code",
   "execution_count": 17,
   "metadata": {},
   "outputs": [],
   "source": [
    "# Training without saving\n",
    "from tqdm import tqdm\n",
    "def train(epoch):\n",
    "    print(\"\\nTraining Epoch: %d\" % epoch)\n",
    "    model.train()\n",
    "    train_loss = 0\n",
    "    correct = 0\n",
    "    total = 0\n",
    "    for batch_idx, (inputs, targets) in enumerate(tqdm(trainloader)):\n",
    "        # We do not need to specify AMP autocast in forward pass here since\n",
    "        # that is taken care of already in the forward of individual modules.\n",
    "        inputs, targets = inputs.to(device), targets.to(device)\n",
    "        outputs,_ = model(inputs)\n",
    "        # print(outputs)\n",
    "        loss = criterion(outputs, targets)\n",
    "\n",
    "        # standard pytorch AMP training setup\n",
    "        # scaler also works without amp training.\n",
    "        scaler.scale(loss).backward()\n",
    "        scaler.step(optimizer)\n",
    "        scaler.update()\n",
    "        optimizer.zero_grad()\n",
    "\n",
    "        train_loss += loss.item()\n",
    "        _, predicted = outputs.max(1)\n",
    "        total += targets.size(0)\n",
    "        correct += predicted.eq(targets).sum().item()\n",
    "\n",
    "    print(f\"Training Accuracy:{100.*correct/total: 0.2f}\")\n",
    "    print(f\"Training Loss:{train_loss/(batch_idx+1): 0.3f}\")\n",
    "    return 100.0 * correct / total, train_loss / (batch_idx + 1)\n",
    "\n",
    "\n",
    "def test(epoch):\n",
    "    model.eval()\n",
    "    test_loss = 0\n",
    "    correct = 0\n",
    "    total = 0\n",
    "    print(\"\\nTesting Epoch: %d\" % epoch)\n",
    "    with torch.no_grad():\n",
    "        for batch_idx, (inputs, targets) in enumerate(tqdm(testloader)):\n",
    "            inputs, targets = inputs.to(device), targets.to(device)\n",
    "            outputs,_ = model(inputs)\n",
    "            loss = criterion(outputs, targets)\n",
    "\n",
    "            test_loss += loss.item()\n",
    "            _, predicted = outputs.max(1)\n",
    "            total += targets.size(0)\n",
    "            correct += predicted.eq(targets).sum().item()\n",
    "\n",
    "        print(f\"Test Accuracy:{100.*correct/total: 0.2f}\")\n",
    "        print(f\"Test Loss:{test_loss/(batch_idx+1): 0.3f}\")\n",
    "        return 100.0 * correct / total, test_loss / (batch_idx + 1)"
   ]
  },
  {
   "cell_type": "code",
   "execution_count": 18,
   "metadata": {},
   "outputs": [],
   "source": [
    "import random\n",
    "\n",
    "import numpy as np\n",
    "\n",
    "seed = 0\n",
    "torch.manual_seed(seed)\n",
    "torch.cuda.manual_seed(seed)\n",
    "np.random.seed(seed)\n",
    "random.seed(seed)"
   ]
  },
  {
   "cell_type": "code",
   "execution_count": 20,
   "metadata": {},
   "outputs": [],
   "source": [
    "# from thop import profile\n",
    "# dummy_input = torch.randn(1, 3, 32, 32).to(device)\n",
    "# flops, _ = profile(model, inputs=(dummy_input,), verbose=False)\n",
    "# print(f\"FLOPs per inference step: {flops / 1e9:.2f} GFLOPs\")"
   ]
  },
  {
   "cell_type": "code",
   "execution_count": 23,
   "metadata": {},
   "outputs": [],
   "source": [
    "import os\n",
    "save_dir = './baseline_vit_checkpoint'"
   ]
  },
  {
   "cell_type": "code",
   "execution_count": 24,
   "metadata": {},
   "outputs": [],
   "source": [
    "import time"
   ]
  },
  {
   "cell_type": "code",
   "execution_count": 24,
   "metadata": {},
   "outputs": [
    {
     "name": "stdout",
     "output_type": "stream",
     "text": [
      "\n",
      "Training Epoch: 0\n"
     ]
    },
    {
     "name": "stderr",
     "output_type": "stream",
     "text": [
      "100%|██████████| 391/391 [00:12<00:00, 30.76it/s]\n"
     ]
    },
    {
     "name": "stdout",
     "output_type": "stream",
     "text": [
      "Training Accuracy: 28.15\n",
      "Training Loss: 1.936\n",
      "\n",
      "Testing Epoch: 0\n"
     ]
    },
    {
     "name": "stderr",
     "output_type": "stream",
     "text": [
      "100%|██████████| 79/79 [00:01<00:00, 69.80it/s]\n"
     ]
    },
    {
     "name": "stdout",
     "output_type": "stream",
     "text": [
      "Test Accuracy: 39.64\n",
      "Test Loss: 1.670\n",
      "Time taken for epoch 1: 13.86 seconds\n",
      "Peak GPU memory usage: 0.49 GB\n",
      "Estimated TFLOPs for epoch 1: 53.4587\n",
      "\n",
      "Training Epoch: 1\n"
     ]
    },
    {
     "name": "stderr",
     "output_type": "stream",
     "text": [
      "100%|██████████| 391/391 [00:12<00:00, 31.37it/s]\n"
     ]
    },
    {
     "name": "stdout",
     "output_type": "stream",
     "text": [
      "Training Accuracy: 38.93\n",
      "Training Loss: 1.666\n",
      "\n",
      "Testing Epoch: 1\n"
     ]
    },
    {
     "name": "stderr",
     "output_type": "stream",
     "text": [
      "100%|██████████| 79/79 [00:01<00:00, 68.95it/s]\n"
     ]
    },
    {
     "name": "stdout",
     "output_type": "stream",
     "text": [
      "Test Accuracy: 46.89\n",
      "Test Loss: 1.476\n",
      "Time taken for epoch 2: 13.61 seconds\n",
      "Peak GPU memory usage: 0.49 GB\n",
      "Estimated TFLOPs for epoch 2: 53.4587\n",
      "\n",
      "Training Epoch: 2\n"
     ]
    },
    {
     "name": "stderr",
     "output_type": "stream",
     "text": [
      "100%|██████████| 391/391 [00:12<00:00, 31.50it/s]\n"
     ]
    },
    {
     "name": "stdout",
     "output_type": "stream",
     "text": [
      "Training Accuracy: 42.87\n",
      "Training Loss: 1.564\n",
      "\n",
      "Testing Epoch: 2\n"
     ]
    },
    {
     "name": "stderr",
     "output_type": "stream",
     "text": [
      "100%|██████████| 79/79 [00:01<00:00, 68.44it/s]\n"
     ]
    },
    {
     "name": "stdout",
     "output_type": "stream",
     "text": [
      "Test Accuracy: 49.29\n",
      "Test Loss: 1.413\n",
      "Time taken for epoch 3: 13.57 seconds\n",
      "Peak GPU memory usage: 0.49 GB\n",
      "Estimated TFLOPs for epoch 3: 53.4587\n",
      "\n",
      "Training Epoch: 3\n"
     ]
    },
    {
     "name": "stderr",
     "output_type": "stream",
     "text": [
      "100%|██████████| 391/391 [00:12<00:00, 31.83it/s]\n"
     ]
    },
    {
     "name": "stdout",
     "output_type": "stream",
     "text": [
      "Training Accuracy: 45.16\n",
      "Training Loss: 1.506\n",
      "\n",
      "Testing Epoch: 3\n"
     ]
    },
    {
     "name": "stderr",
     "output_type": "stream",
     "text": [
      "100%|██████████| 79/79 [00:01<00:00, 63.48it/s]\n"
     ]
    },
    {
     "name": "stdout",
     "output_type": "stream",
     "text": [
      "Test Accuracy: 50.91\n",
      "Test Loss: 1.366\n",
      "Time taken for epoch 4: 13.53 seconds\n",
      "Peak GPU memory usage: 0.49 GB\n",
      "Estimated TFLOPs for epoch 4: 53.4587\n",
      "\n",
      "Training Epoch: 4\n"
     ]
    },
    {
     "name": "stderr",
     "output_type": "stream",
     "text": [
      "100%|██████████| 391/391 [00:14<00:00, 27.88it/s]\n"
     ]
    },
    {
     "name": "stdout",
     "output_type": "stream",
     "text": [
      "Training Accuracy: 46.96\n",
      "Training Loss: 1.459\n",
      "\n",
      "Testing Epoch: 4\n"
     ]
    },
    {
     "name": "stderr",
     "output_type": "stream",
     "text": [
      "100%|██████████| 79/79 [00:01<00:00, 51.30it/s]\n"
     ]
    },
    {
     "name": "stdout",
     "output_type": "stream",
     "text": [
      "Test Accuracy: 51.99\n",
      "Test Loss: 1.325\n",
      "Time taken for epoch 5: 15.57 seconds\n",
      "Peak GPU memory usage: 0.49 GB\n",
      "Estimated TFLOPs for epoch 5: 53.4587\n",
      "\n",
      "Training Epoch: 5\n"
     ]
    },
    {
     "name": "stderr",
     "output_type": "stream",
     "text": [
      "100%|██████████| 391/391 [00:14<00:00, 26.82it/s]\n"
     ]
    },
    {
     "name": "stdout",
     "output_type": "stream",
     "text": [
      "Training Accuracy: 48.28\n",
      "Training Loss: 1.424\n",
      "\n",
      "Testing Epoch: 5\n"
     ]
    },
    {
     "name": "stderr",
     "output_type": "stream",
     "text": [
      "100%|██████████| 79/79 [00:01<00:00, 53.71it/s]\n"
     ]
    },
    {
     "name": "stdout",
     "output_type": "stream",
     "text": [
      "Test Accuracy: 53.18\n",
      "Test Loss: 1.306\n",
      "Time taken for epoch 6: 16.05 seconds\n",
      "Peak GPU memory usage: 0.49 GB\n",
      "Estimated TFLOPs for epoch 6: 53.4587\n",
      "\n",
      "Training Epoch: 6\n"
     ]
    },
    {
     "name": "stderr",
     "output_type": "stream",
     "text": [
      "100%|██████████| 391/391 [00:14<00:00, 26.55it/s]\n"
     ]
    },
    {
     "name": "stdout",
     "output_type": "stream",
     "text": [
      "Training Accuracy: 49.84\n",
      "Training Loss: 1.393\n",
      "\n",
      "Testing Epoch: 6\n"
     ]
    },
    {
     "name": "stderr",
     "output_type": "stream",
     "text": [
      "100%|██████████| 79/79 [00:01<00:00, 61.78it/s]\n"
     ]
    },
    {
     "name": "stdout",
     "output_type": "stream",
     "text": [
      "Test Accuracy: 53.72\n",
      "Test Loss: 1.291\n",
      "Time taken for epoch 7: 16.01 seconds\n",
      "Peak GPU memory usage: 0.49 GB\n",
      "Estimated TFLOPs for epoch 7: 53.4587\n",
      "\n",
      "Training Epoch: 7\n"
     ]
    },
    {
     "name": "stderr",
     "output_type": "stream",
     "text": [
      "100%|██████████| 391/391 [00:14<00:00, 26.62it/s]\n"
     ]
    },
    {
     "name": "stdout",
     "output_type": "stream",
     "text": [
      "Training Accuracy: 50.21\n",
      "Training Loss: 1.371\n",
      "\n",
      "Testing Epoch: 7\n"
     ]
    },
    {
     "name": "stderr",
     "output_type": "stream",
     "text": [
      "100%|██████████| 79/79 [00:01<00:00, 55.26it/s]\n"
     ]
    },
    {
     "name": "stdout",
     "output_type": "stream",
     "text": [
      "Test Accuracy: 54.99\n",
      "Test Loss: 1.254\n",
      "Time taken for epoch 8: 16.12 seconds\n",
      "Peak GPU memory usage: 0.49 GB\n",
      "Estimated TFLOPs for epoch 8: 53.4587\n",
      "\n",
      "Training Epoch: 8\n"
     ]
    },
    {
     "name": "stderr",
     "output_type": "stream",
     "text": [
      "100%|██████████| 391/391 [00:14<00:00, 26.52it/s]\n"
     ]
    },
    {
     "name": "stdout",
     "output_type": "stream",
     "text": [
      "Training Accuracy: 51.28\n",
      "Training Loss: 1.347\n",
      "\n",
      "Testing Epoch: 8\n"
     ]
    },
    {
     "name": "stderr",
     "output_type": "stream",
     "text": [
      "100%|██████████| 79/79 [00:01<00:00, 57.15it/s]\n"
     ]
    },
    {
     "name": "stdout",
     "output_type": "stream",
     "text": [
      "Test Accuracy: 55.92\n",
      "Test Loss: 1.232\n",
      "Time taken for epoch 9: 16.13 seconds\n",
      "Peak GPU memory usage: 0.49 GB\n",
      "Estimated TFLOPs for epoch 9: 53.4587\n",
      "\n",
      "Training Epoch: 9\n"
     ]
    },
    {
     "name": "stderr",
     "output_type": "stream",
     "text": [
      "100%|██████████| 391/391 [00:14<00:00, 26.90it/s]\n"
     ]
    },
    {
     "name": "stdout",
     "output_type": "stream",
     "text": [
      "Training Accuracy: 52.55\n",
      "Training Loss: 1.317\n",
      "\n",
      "Testing Epoch: 9\n"
     ]
    },
    {
     "name": "stderr",
     "output_type": "stream",
     "text": [
      "100%|██████████| 79/79 [00:01<00:00, 56.77it/s]\n"
     ]
    },
    {
     "name": "stdout",
     "output_type": "stream",
     "text": [
      "Test Accuracy: 56.58\n",
      "Test Loss: 1.211\n",
      "Time taken for epoch 10: 15.93 seconds\n",
      "Peak GPU memory usage: 0.49 GB\n",
      "Estimated TFLOPs for epoch 10: 53.4587\n",
      "\n",
      "Training Epoch: 10\n"
     ]
    },
    {
     "name": "stderr",
     "output_type": "stream",
     "text": [
      "100%|██████████| 391/391 [00:14<00:00, 26.53it/s]\n"
     ]
    },
    {
     "name": "stdout",
     "output_type": "stream",
     "text": [
      "Training Accuracy: 52.95\n",
      "Training Loss: 1.298\n",
      "\n",
      "Testing Epoch: 10\n"
     ]
    },
    {
     "name": "stderr",
     "output_type": "stream",
     "text": [
      "100%|██████████| 79/79 [00:01<00:00, 56.62it/s]\n"
     ]
    },
    {
     "name": "stdout",
     "output_type": "stream",
     "text": [
      "Test Accuracy: 57.16\n",
      "Test Loss: 1.187\n",
      "Time taken for epoch 11: 16.14 seconds\n",
      "Peak GPU memory usage: 0.49 GB\n",
      "Estimated TFLOPs for epoch 11: 53.4587\n",
      "\n",
      "Training Epoch: 11\n"
     ]
    },
    {
     "name": "stderr",
     "output_type": "stream",
     "text": [
      "100%|██████████| 391/391 [00:12<00:00, 30.22it/s]\n"
     ]
    },
    {
     "name": "stdout",
     "output_type": "stream",
     "text": [
      "Training Accuracy: 53.67\n",
      "Training Loss: 1.282\n",
      "\n",
      "Testing Epoch: 11\n"
     ]
    },
    {
     "name": "stderr",
     "output_type": "stream",
     "text": [
      "100%|██████████| 79/79 [00:01<00:00, 70.38it/s]\n"
     ]
    },
    {
     "name": "stdout",
     "output_type": "stream",
     "text": [
      "Test Accuracy: 57.77\n",
      "Test Loss: 1.176\n",
      "Time taken for epoch 12: 14.06 seconds\n",
      "Peak GPU memory usage: 0.49 GB\n",
      "Estimated TFLOPs for epoch 12: 53.4587\n",
      "\n",
      "Training Epoch: 12\n"
     ]
    },
    {
     "name": "stderr",
     "output_type": "stream",
     "text": [
      "100%|██████████| 391/391 [00:12<00:00, 31.43it/s]\n"
     ]
    },
    {
     "name": "stdout",
     "output_type": "stream",
     "text": [
      "Training Accuracy: 54.30\n",
      "Training Loss: 1.265\n",
      "\n",
      "Testing Epoch: 12\n"
     ]
    },
    {
     "name": "stderr",
     "output_type": "stream",
     "text": [
      "100%|██████████| 79/79 [00:01<00:00, 70.26it/s]\n"
     ]
    },
    {
     "name": "stdout",
     "output_type": "stream",
     "text": [
      "Test Accuracy: 57.95\n",
      "Test Loss: 1.168\n",
      "Time taken for epoch 13: 13.57 seconds\n",
      "Peak GPU memory usage: 0.49 GB\n",
      "Estimated TFLOPs for epoch 13: 53.4587\n",
      "\n",
      "Training Epoch: 13\n"
     ]
    },
    {
     "name": "stderr",
     "output_type": "stream",
     "text": [
      "100%|██████████| 391/391 [00:12<00:00, 31.76it/s]\n"
     ]
    },
    {
     "name": "stdout",
     "output_type": "stream",
     "text": [
      "Training Accuracy: 54.91\n",
      "Training Loss: 1.249\n",
      "\n",
      "Testing Epoch: 13\n"
     ]
    },
    {
     "name": "stderr",
     "output_type": "stream",
     "text": [
      "100%|██████████| 79/79 [00:01<00:00, 66.26it/s]\n"
     ]
    },
    {
     "name": "stdout",
     "output_type": "stream",
     "text": [
      "Test Accuracy: 58.82\n",
      "Test Loss: 1.143\n",
      "Time taken for epoch 14: 13.50 seconds\n",
      "Peak GPU memory usage: 0.49 GB\n",
      "Estimated TFLOPs for epoch 14: 53.4587\n",
      "\n",
      "Training Epoch: 14\n"
     ]
    },
    {
     "name": "stderr",
     "output_type": "stream",
     "text": [
      "100%|██████████| 391/391 [00:12<00:00, 31.87it/s]\n"
     ]
    },
    {
     "name": "stdout",
     "output_type": "stream",
     "text": [
      "Training Accuracy: 55.38\n",
      "Training Loss: 1.231\n",
      "\n",
      "Testing Epoch: 14\n"
     ]
    },
    {
     "name": "stderr",
     "output_type": "stream",
     "text": [
      "100%|██████████| 79/79 [00:01<00:00, 61.98it/s]\n"
     ]
    },
    {
     "name": "stdout",
     "output_type": "stream",
     "text": [
      "Test Accuracy: 58.82\n",
      "Test Loss: 1.146\n",
      "Time taken for epoch 15: 13.55 seconds\n",
      "Peak GPU memory usage: 0.49 GB\n",
      "Estimated TFLOPs for epoch 15: 53.4587\n",
      "\n",
      "Training Epoch: 15\n"
     ]
    },
    {
     "name": "stderr",
     "output_type": "stream",
     "text": [
      "100%|██████████| 391/391 [00:11<00:00, 32.59it/s]\n"
     ]
    },
    {
     "name": "stdout",
     "output_type": "stream",
     "text": [
      "Training Accuracy: 56.04\n",
      "Training Loss: 1.217\n",
      "\n",
      "Testing Epoch: 15\n"
     ]
    },
    {
     "name": "stderr",
     "output_type": "stream",
     "text": [
      "100%|██████████| 79/79 [00:01<00:00, 60.82it/s]\n"
     ]
    },
    {
     "name": "stdout",
     "output_type": "stream",
     "text": [
      "Test Accuracy: 59.63\n",
      "Test Loss: 1.136\n",
      "Time taken for epoch 16: 13.30 seconds\n",
      "Peak GPU memory usage: 0.49 GB\n",
      "Estimated TFLOPs for epoch 16: 53.4587\n",
      "\n",
      "Training Epoch: 16\n"
     ]
    },
    {
     "name": "stderr",
     "output_type": "stream",
     "text": [
      "100%|██████████| 391/391 [00:12<00:00, 32.07it/s]\n"
     ]
    },
    {
     "name": "stdout",
     "output_type": "stream",
     "text": [
      "Training Accuracy: 56.31\n",
      "Training Loss: 1.212\n",
      "\n",
      "Testing Epoch: 16\n"
     ]
    },
    {
     "name": "stderr",
     "output_type": "stream",
     "text": [
      "100%|██████████| 79/79 [00:01<00:00, 63.92it/s]\n"
     ]
    },
    {
     "name": "stdout",
     "output_type": "stream",
     "text": [
      "Test Accuracy: 59.56\n",
      "Test Loss: 1.125\n",
      "Time taken for epoch 17: 13.43 seconds\n",
      "Peak GPU memory usage: 0.49 GB\n",
      "Estimated TFLOPs for epoch 17: 53.4587\n",
      "\n",
      "Training Epoch: 17\n"
     ]
    },
    {
     "name": "stderr",
     "output_type": "stream",
     "text": [
      "100%|██████████| 391/391 [00:12<00:00, 31.76it/s]\n"
     ]
    },
    {
     "name": "stdout",
     "output_type": "stream",
     "text": [
      "Training Accuracy: 57.08\n",
      "Training Loss: 1.190\n",
      "\n",
      "Testing Epoch: 17\n"
     ]
    },
    {
     "name": "stderr",
     "output_type": "stream",
     "text": [
      "100%|██████████| 79/79 [00:01<00:00, 72.49it/s]\n"
     ]
    },
    {
     "name": "stdout",
     "output_type": "stream",
     "text": [
      "Test Accuracy: 59.55\n",
      "Test Loss: 1.122\n",
      "Time taken for epoch 18: 13.40 seconds\n",
      "Peak GPU memory usage: 0.49 GB\n",
      "Estimated TFLOPs for epoch 18: 53.4587\n",
      "\n",
      "Training Epoch: 18\n"
     ]
    },
    {
     "name": "stderr",
     "output_type": "stream",
     "text": [
      "100%|██████████| 391/391 [00:12<00:00, 31.39it/s]\n"
     ]
    },
    {
     "name": "stdout",
     "output_type": "stream",
     "text": [
      "Training Accuracy: 57.35\n",
      "Training Loss: 1.183\n",
      "\n",
      "Testing Epoch: 18\n"
     ]
    },
    {
     "name": "stderr",
     "output_type": "stream",
     "text": [
      "100%|██████████| 79/79 [00:01<00:00, 75.89it/s]\n"
     ]
    },
    {
     "name": "stdout",
     "output_type": "stream",
     "text": [
      "Test Accuracy: 60.13\n",
      "Test Loss: 1.093\n",
      "Time taken for epoch 19: 13.50 seconds\n",
      "Peak GPU memory usage: 0.49 GB\n",
      "Estimated TFLOPs for epoch 19: 53.4587\n",
      "\n",
      "Training Epoch: 19\n"
     ]
    },
    {
     "name": "stderr",
     "output_type": "stream",
     "text": [
      "100%|██████████| 391/391 [00:12<00:00, 31.17it/s]\n"
     ]
    },
    {
     "name": "stdout",
     "output_type": "stream",
     "text": [
      "Training Accuracy: 57.96\n",
      "Training Loss: 1.171\n",
      "\n",
      "Testing Epoch: 19\n"
     ]
    },
    {
     "name": "stderr",
     "output_type": "stream",
     "text": [
      "100%|██████████| 79/79 [00:01<00:00, 71.59it/s]\n"
     ]
    },
    {
     "name": "stdout",
     "output_type": "stream",
     "text": [
      "Test Accuracy: 60.42\n",
      "Test Loss: 1.099\n",
      "Time taken for epoch 20: 13.65 seconds\n",
      "Peak GPU memory usage: 0.49 GB\n",
      "Estimated TFLOPs for epoch 20: 53.4587\n",
      "\n",
      "Training Epoch: 20\n"
     ]
    },
    {
     "name": "stderr",
     "output_type": "stream",
     "text": [
      "100%|██████████| 391/391 [00:12<00:00, 31.39it/s]\n"
     ]
    },
    {
     "name": "stdout",
     "output_type": "stream",
     "text": [
      "Training Accuracy: 57.92\n",
      "Training Loss: 1.163\n",
      "\n",
      "Testing Epoch: 20\n"
     ]
    },
    {
     "name": "stderr",
     "output_type": "stream",
     "text": [
      "100%|██████████| 79/79 [00:01<00:00, 70.53it/s]\n"
     ]
    },
    {
     "name": "stdout",
     "output_type": "stream",
     "text": [
      "Test Accuracy: 61.11\n",
      "Test Loss: 1.085\n",
      "Time taken for epoch 21: 13.58 seconds\n",
      "Peak GPU memory usage: 0.49 GB\n",
      "Estimated TFLOPs for epoch 21: 53.4587\n",
      "\n",
      "Training Epoch: 21\n"
     ]
    },
    {
     "name": "stderr",
     "output_type": "stream",
     "text": [
      "100%|██████████| 391/391 [00:11<00:00, 33.07it/s]\n"
     ]
    },
    {
     "name": "stdout",
     "output_type": "stream",
     "text": [
      "Training Accuracy: 58.82\n",
      "Training Loss: 1.150\n",
      "\n",
      "Testing Epoch: 21\n"
     ]
    },
    {
     "name": "stderr",
     "output_type": "stream",
     "text": [
      "100%|██████████| 79/79 [00:00<00:00, 112.25it/s]\n"
     ]
    },
    {
     "name": "stdout",
     "output_type": "stream",
     "text": [
      "Test Accuracy: 61.47\n",
      "Test Loss: 1.072\n",
      "Time taken for epoch 22: 12.53 seconds\n",
      "Peak GPU memory usage: 0.49 GB\n",
      "Estimated TFLOPs for epoch 22: 53.4587\n",
      "\n",
      "Training Epoch: 22\n"
     ]
    },
    {
     "name": "stderr",
     "output_type": "stream",
     "text": [
      "100%|██████████| 391/391 [00:08<00:00, 47.79it/s]\n"
     ]
    },
    {
     "name": "stdout",
     "output_type": "stream",
     "text": [
      "Training Accuracy: 59.28\n",
      "Training Loss: 1.135\n",
      "\n",
      "Testing Epoch: 22\n"
     ]
    },
    {
     "name": "stderr",
     "output_type": "stream",
     "text": [
      "100%|██████████| 79/79 [00:00<00:00, 112.84it/s]\n"
     ]
    },
    {
     "name": "stdout",
     "output_type": "stream",
     "text": [
      "Test Accuracy: 61.67\n",
      "Test Loss: 1.067\n",
      "Time taken for epoch 23: 8.89 seconds\n",
      "Peak GPU memory usage: 0.49 GB\n",
      "Estimated TFLOPs for epoch 23: 53.4587\n",
      "\n",
      "Training Epoch: 23\n"
     ]
    },
    {
     "name": "stderr",
     "output_type": "stream",
     "text": [
      "100%|██████████| 391/391 [00:08<00:00, 47.03it/s]\n"
     ]
    },
    {
     "name": "stdout",
     "output_type": "stream",
     "text": [
      "Training Accuracy: 59.42\n",
      "Training Loss: 1.128\n",
      "\n",
      "Testing Epoch: 23\n"
     ]
    },
    {
     "name": "stderr",
     "output_type": "stream",
     "text": [
      "100%|██████████| 79/79 [00:00<00:00, 93.33it/s]\n"
     ]
    },
    {
     "name": "stdout",
     "output_type": "stream",
     "text": [
      "Test Accuracy: 61.68\n",
      "Test Loss: 1.063\n",
      "Time taken for epoch 24: 9.17 seconds\n",
      "Peak GPU memory usage: 0.49 GB\n",
      "Estimated TFLOPs for epoch 24: 53.4587\n",
      "\n",
      "Training Epoch: 24\n"
     ]
    },
    {
     "name": "stderr",
     "output_type": "stream",
     "text": [
      "100%|██████████| 391/391 [00:08<00:00, 47.15it/s]\n"
     ]
    },
    {
     "name": "stdout",
     "output_type": "stream",
     "text": [
      "Training Accuracy: 59.77\n",
      "Training Loss: 1.120\n",
      "\n",
      "Testing Epoch: 24\n"
     ]
    },
    {
     "name": "stderr",
     "output_type": "stream",
     "text": [
      "100%|██████████| 79/79 [00:00<00:00, 110.15it/s]\n"
     ]
    },
    {
     "name": "stdout",
     "output_type": "stream",
     "text": [
      "Test Accuracy: 61.77\n",
      "Test Loss: 1.053\n",
      "Time taken for epoch 25: 9.01 seconds\n",
      "Peak GPU memory usage: 0.49 GB\n",
      "Estimated TFLOPs for epoch 25: 53.4587\n",
      "\n",
      "Training Epoch: 25\n"
     ]
    },
    {
     "name": "stderr",
     "output_type": "stream",
     "text": [
      "100%|██████████| 391/391 [00:08<00:00, 47.56it/s]\n"
     ]
    },
    {
     "name": "stdout",
     "output_type": "stream",
     "text": [
      "Training Accuracy: 60.39\n",
      "Training Loss: 1.106\n",
      "\n",
      "Testing Epoch: 25\n"
     ]
    },
    {
     "name": "stderr",
     "output_type": "stream",
     "text": [
      "100%|██████████| 79/79 [00:00<00:00, 125.07it/s]\n"
     ]
    },
    {
     "name": "stdout",
     "output_type": "stream",
     "text": [
      "Test Accuracy: 61.96\n",
      "Test Loss: 1.053\n",
      "Time taken for epoch 26: 8.86 seconds\n",
      "Peak GPU memory usage: 0.49 GB\n",
      "Estimated TFLOPs for epoch 26: 53.4587\n",
      "\n",
      "Training Epoch: 26\n"
     ]
    },
    {
     "name": "stderr",
     "output_type": "stream",
     "text": [
      "100%|██████████| 391/391 [00:08<00:00, 45.59it/s]\n"
     ]
    },
    {
     "name": "stdout",
     "output_type": "stream",
     "text": [
      "Training Accuracy: 60.68\n",
      "Training Loss: 1.095\n",
      "\n",
      "Testing Epoch: 26\n"
     ]
    },
    {
     "name": "stderr",
     "output_type": "stream",
     "text": [
      "100%|██████████| 79/79 [00:00<00:00, 104.81it/s]\n"
     ]
    },
    {
     "name": "stdout",
     "output_type": "stream",
     "text": [
      "Test Accuracy: 63.10\n",
      "Test Loss: 1.037\n",
      "Time taken for epoch 27: 9.34 seconds\n",
      "Peak GPU memory usage: 0.49 GB\n",
      "Estimated TFLOPs for epoch 27: 53.4587\n",
      "\n",
      "Training Epoch: 27\n"
     ]
    },
    {
     "name": "stderr",
     "output_type": "stream",
     "text": [
      "100%|██████████| 391/391 [00:08<00:00, 47.62it/s]\n"
     ]
    },
    {
     "name": "stdout",
     "output_type": "stream",
     "text": [
      "Training Accuracy: 61.08\n",
      "Training Loss: 1.086\n",
      "\n",
      "Testing Epoch: 27\n"
     ]
    },
    {
     "name": "stderr",
     "output_type": "stream",
     "text": [
      "100%|██████████| 79/79 [00:00<00:00, 114.29it/s]\n"
     ]
    },
    {
     "name": "stdout",
     "output_type": "stream",
     "text": [
      "Test Accuracy: 63.78\n",
      "Test Loss: 1.022\n",
      "Time taken for epoch 28: 8.91 seconds\n",
      "Peak GPU memory usage: 0.49 GB\n",
      "Estimated TFLOPs for epoch 28: 53.4587\n",
      "\n",
      "Training Epoch: 28\n"
     ]
    },
    {
     "name": "stderr",
     "output_type": "stream",
     "text": [
      "100%|██████████| 391/391 [00:08<00:00, 48.69it/s]\n"
     ]
    },
    {
     "name": "stdout",
     "output_type": "stream",
     "text": [
      "Training Accuracy: 61.47\n",
      "Training Loss: 1.080\n",
      "\n",
      "Testing Epoch: 28\n"
     ]
    },
    {
     "name": "stderr",
     "output_type": "stream",
     "text": [
      "100%|██████████| 79/79 [00:00<00:00, 91.63it/s] \n"
     ]
    },
    {
     "name": "stdout",
     "output_type": "stream",
     "text": [
      "Test Accuracy: 63.14\n",
      "Test Loss: 1.015\n",
      "Time taken for epoch 29: 8.90 seconds\n",
      "Peak GPU memory usage: 0.49 GB\n",
      "Estimated TFLOPs for epoch 29: 53.4587\n",
      "\n",
      "Training Epoch: 29\n"
     ]
    },
    {
     "name": "stderr",
     "output_type": "stream",
     "text": [
      "100%|██████████| 391/391 [00:08<00:00, 46.54it/s]\n"
     ]
    },
    {
     "name": "stdout",
     "output_type": "stream",
     "text": [
      "Training Accuracy: 61.83\n",
      "Training Loss: 1.073\n",
      "\n",
      "Testing Epoch: 29\n"
     ]
    },
    {
     "name": "stderr",
     "output_type": "stream",
     "text": [
      "100%|██████████| 79/79 [00:00<00:00, 109.00it/s]\n"
     ]
    },
    {
     "name": "stdout",
     "output_type": "stream",
     "text": [
      "Test Accuracy: 63.36\n",
      "Test Loss: 1.020\n",
      "Time taken for epoch 30: 9.13 seconds\n",
      "Peak GPU memory usage: 0.49 GB\n",
      "Estimated TFLOPs for epoch 30: 53.4587\n",
      "\n",
      "Training Epoch: 30\n"
     ]
    },
    {
     "name": "stderr",
     "output_type": "stream",
     "text": [
      "100%|██████████| 391/391 [00:08<00:00, 47.69it/s]\n"
     ]
    },
    {
     "name": "stdout",
     "output_type": "stream",
     "text": [
      "Training Accuracy: 61.69\n",
      "Training Loss: 1.065\n",
      "\n",
      "Testing Epoch: 30\n"
     ]
    },
    {
     "name": "stderr",
     "output_type": "stream",
     "text": [
      "100%|██████████| 79/79 [00:00<00:00, 115.67it/s]\n"
     ]
    },
    {
     "name": "stdout",
     "output_type": "stream",
     "text": [
      "Test Accuracy: 64.11\n",
      "Test Loss: 0.999\n",
      "Time taken for epoch 31: 8.88 seconds\n",
      "Peak GPU memory usage: 0.49 GB\n",
      "Estimated TFLOPs for epoch 31: 53.4587\n",
      "\n",
      "Training Epoch: 31\n"
     ]
    },
    {
     "name": "stderr",
     "output_type": "stream",
     "text": [
      "100%|██████████| 391/391 [00:08<00:00, 45.15it/s]\n"
     ]
    },
    {
     "name": "stdout",
     "output_type": "stream",
     "text": [
      "Training Accuracy: 62.37\n",
      "Training Loss: 1.050\n",
      "\n",
      "Testing Epoch: 31\n"
     ]
    },
    {
     "name": "stderr",
     "output_type": "stream",
     "text": [
      "100%|██████████| 79/79 [00:00<00:00, 107.01it/s]\n"
     ]
    },
    {
     "name": "stdout",
     "output_type": "stream",
     "text": [
      "Test Accuracy: 64.21\n",
      "Test Loss: 0.995\n",
      "Time taken for epoch 32: 9.40 seconds\n",
      "Peak GPU memory usage: 0.49 GB\n",
      "Estimated TFLOPs for epoch 32: 53.4587\n",
      "\n",
      "Training Epoch: 32\n"
     ]
    },
    {
     "name": "stderr",
     "output_type": "stream",
     "text": [
      "100%|██████████| 391/391 [00:08<00:00, 48.15it/s]\n"
     ]
    },
    {
     "name": "stdout",
     "output_type": "stream",
     "text": [
      "Training Accuracy: 62.64\n",
      "Training Loss: 1.047\n",
      "\n",
      "Testing Epoch: 32\n"
     ]
    },
    {
     "name": "stderr",
     "output_type": "stream",
     "text": [
      "100%|██████████| 79/79 [00:00<00:00, 116.62it/s]\n"
     ]
    },
    {
     "name": "stdout",
     "output_type": "stream",
     "text": [
      "Test Accuracy: 64.14\n",
      "Test Loss: 0.994\n",
      "Time taken for epoch 33: 8.80 seconds\n",
      "Peak GPU memory usage: 0.49 GB\n",
      "Estimated TFLOPs for epoch 33: 53.4587\n",
      "\n",
      "Training Epoch: 33\n"
     ]
    },
    {
     "name": "stderr",
     "output_type": "stream",
     "text": [
      "100%|██████████| 391/391 [00:08<00:00, 48.58it/s]\n"
     ]
    },
    {
     "name": "stdout",
     "output_type": "stream",
     "text": [
      "Training Accuracy: 63.07\n",
      "Training Loss: 1.039\n",
      "\n",
      "Testing Epoch: 33\n"
     ]
    },
    {
     "name": "stderr",
     "output_type": "stream",
     "text": [
      "100%|██████████| 79/79 [00:00<00:00, 95.14it/s] \n"
     ]
    },
    {
     "name": "stdout",
     "output_type": "stream",
     "text": [
      "Test Accuracy: 64.63\n",
      "Test Loss: 0.985\n",
      "Time taken for epoch 34: 8.88 seconds\n",
      "Peak GPU memory usage: 0.49 GB\n",
      "Estimated TFLOPs for epoch 34: 53.4587\n",
      "\n",
      "Training Epoch: 34\n"
     ]
    },
    {
     "name": "stderr",
     "output_type": "stream",
     "text": [
      "100%|██████████| 391/391 [00:08<00:00, 45.71it/s]\n"
     ]
    },
    {
     "name": "stdout",
     "output_type": "stream",
     "text": [
      "Training Accuracy: 63.39\n",
      "Training Loss: 1.026\n",
      "\n",
      "Testing Epoch: 34\n"
     ]
    },
    {
     "name": "stderr",
     "output_type": "stream",
     "text": [
      "100%|██████████| 79/79 [00:00<00:00, 114.40it/s]\n"
     ]
    },
    {
     "name": "stdout",
     "output_type": "stream",
     "text": [
      "Test Accuracy: 64.30\n",
      "Test Loss: 0.985\n",
      "Time taken for epoch 35: 9.25 seconds\n",
      "Peak GPU memory usage: 0.49 GB\n",
      "Estimated TFLOPs for epoch 35: 53.4587\n",
      "\n",
      "Training Epoch: 35\n"
     ]
    },
    {
     "name": "stderr",
     "output_type": "stream",
     "text": [
      "100%|██████████| 391/391 [00:08<00:00, 47.55it/s]\n"
     ]
    },
    {
     "name": "stdout",
     "output_type": "stream",
     "text": [
      "Training Accuracy: 63.34\n",
      "Training Loss: 1.020\n",
      "\n",
      "Testing Epoch: 35\n"
     ]
    },
    {
     "name": "stderr",
     "output_type": "stream",
     "text": [
      "100%|██████████| 79/79 [00:00<00:00, 114.93it/s]\n"
     ]
    },
    {
     "name": "stdout",
     "output_type": "stream",
     "text": [
      "Test Accuracy: 65.60\n",
      "Test Loss: 0.968\n",
      "Time taken for epoch 36: 8.91 seconds\n",
      "Peak GPU memory usage: 0.49 GB\n",
      "Estimated TFLOPs for epoch 36: 53.4587\n",
      "\n",
      "Training Epoch: 36\n"
     ]
    },
    {
     "name": "stderr",
     "output_type": "stream",
     "text": [
      "100%|██████████| 391/391 [00:08<00:00, 46.74it/s]\n"
     ]
    },
    {
     "name": "stdout",
     "output_type": "stream",
     "text": [
      "Training Accuracy: 63.96\n",
      "Training Loss: 1.011\n",
      "\n",
      "Testing Epoch: 36\n"
     ]
    },
    {
     "name": "stderr",
     "output_type": "stream",
     "text": [
      "100%|██████████| 79/79 [00:00<00:00, 92.37it/s]\n"
     ]
    },
    {
     "name": "stdout",
     "output_type": "stream",
     "text": [
      "Test Accuracy: 65.12\n",
      "Test Loss: 0.968\n",
      "Time taken for epoch 37: 9.22 seconds\n",
      "Peak GPU memory usage: 0.49 GB\n",
      "Estimated TFLOPs for epoch 37: 53.4587\n",
      "\n",
      "Training Epoch: 37\n"
     ]
    },
    {
     "name": "stderr",
     "output_type": "stream",
     "text": [
      "100%|██████████| 391/391 [00:08<00:00, 47.99it/s]\n"
     ]
    },
    {
     "name": "stdout",
     "output_type": "stream",
     "text": [
      "Training Accuracy: 63.98\n",
      "Training Loss: 1.006\n",
      "\n",
      "Testing Epoch: 37\n"
     ]
    },
    {
     "name": "stderr",
     "output_type": "stream",
     "text": [
      "100%|██████████| 79/79 [00:00<00:00, 110.19it/s]\n"
     ]
    },
    {
     "name": "stdout",
     "output_type": "stream",
     "text": [
      "Test Accuracy: 65.56\n",
      "Test Loss: 0.964\n",
      "Time taken for epoch 38: 8.87 seconds\n",
      "Peak GPU memory usage: 0.49 GB\n",
      "Estimated TFLOPs for epoch 38: 53.4587\n",
      "\n",
      "Training Epoch: 38\n"
     ]
    },
    {
     "name": "stderr",
     "output_type": "stream",
     "text": [
      "100%|██████████| 391/391 [00:08<00:00, 47.63it/s]\n"
     ]
    },
    {
     "name": "stdout",
     "output_type": "stream",
     "text": [
      "Training Accuracy: 64.58\n",
      "Training Loss: 0.995\n",
      "\n",
      "Testing Epoch: 38\n"
     ]
    },
    {
     "name": "stderr",
     "output_type": "stream",
     "text": [
      "100%|██████████| 79/79 [00:00<00:00, 93.15it/s] \n"
     ]
    },
    {
     "name": "stdout",
     "output_type": "stream",
     "text": [
      "Test Accuracy: 65.40\n",
      "Test Loss: 0.966\n",
      "Time taken for epoch 39: 9.06 seconds\n",
      "Peak GPU memory usage: 0.49 GB\n",
      "Estimated TFLOPs for epoch 39: 53.4587\n",
      "\n",
      "Training Epoch: 39\n"
     ]
    },
    {
     "name": "stderr",
     "output_type": "stream",
     "text": [
      "100%|██████████| 391/391 [00:08<00:00, 46.09it/s]\n"
     ]
    },
    {
     "name": "stdout",
     "output_type": "stream",
     "text": [
      "Training Accuracy: 64.62\n",
      "Training Loss: 0.992\n",
      "\n",
      "Testing Epoch: 39\n"
     ]
    },
    {
     "name": "stderr",
     "output_type": "stream",
     "text": [
      "100%|██████████| 79/79 [00:00<00:00, 118.53it/s]\n"
     ]
    },
    {
     "name": "stdout",
     "output_type": "stream",
     "text": [
      "Test Accuracy: 65.68\n",
      "Test Loss: 0.960\n",
      "Time taken for epoch 40: 9.15 seconds\n",
      "Peak GPU memory usage: 0.49 GB\n",
      "Estimated TFLOPs for epoch 40: 53.4587\n",
      "\n",
      "Training Epoch: 40\n"
     ]
    },
    {
     "name": "stderr",
     "output_type": "stream",
     "text": [
      "100%|██████████| 391/391 [00:08<00:00, 47.76it/s]\n"
     ]
    },
    {
     "name": "stdout",
     "output_type": "stream",
     "text": [
      "Training Accuracy: 64.90\n",
      "Training Loss: 0.982\n",
      "\n",
      "Testing Epoch: 40\n"
     ]
    },
    {
     "name": "stderr",
     "output_type": "stream",
     "text": [
      "100%|██████████| 79/79 [00:00<00:00, 120.03it/s]\n"
     ]
    },
    {
     "name": "stdout",
     "output_type": "stream",
     "text": [
      "Test Accuracy: 66.10\n",
      "Test Loss: 0.940\n",
      "Time taken for epoch 41: 8.85 seconds\n",
      "Peak GPU memory usage: 0.49 GB\n",
      "Estimated TFLOPs for epoch 41: 53.4587\n",
      "\n",
      "Training Epoch: 41\n"
     ]
    },
    {
     "name": "stderr",
     "output_type": "stream",
     "text": [
      "100%|██████████| 391/391 [00:07<00:00, 48.92it/s]\n"
     ]
    },
    {
     "name": "stdout",
     "output_type": "stream",
     "text": [
      "Training Accuracy: 64.82\n",
      "Training Loss: 0.982\n",
      "\n",
      "Testing Epoch: 41\n"
     ]
    },
    {
     "name": "stderr",
     "output_type": "stream",
     "text": [
      "100%|██████████| 79/79 [00:00<00:00, 89.68it/s]\n"
     ]
    },
    {
     "name": "stdout",
     "output_type": "stream",
     "text": [
      "Test Accuracy: 65.90\n",
      "Test Loss: 0.967\n",
      "Time taken for epoch 42: 8.88 seconds\n",
      "Peak GPU memory usage: 0.49 GB\n",
      "Estimated TFLOPs for epoch 42: 53.4587\n",
      "\n",
      "Training Epoch: 42\n"
     ]
    },
    {
     "name": "stderr",
     "output_type": "stream",
     "text": [
      "100%|██████████| 391/391 [00:08<00:00, 47.09it/s]\n"
     ]
    },
    {
     "name": "stdout",
     "output_type": "stream",
     "text": [
      "Training Accuracy: 65.23\n",
      "Training Loss: 0.972\n",
      "\n",
      "Testing Epoch: 42\n"
     ]
    },
    {
     "name": "stderr",
     "output_type": "stream",
     "text": [
      "100%|██████████| 79/79 [00:00<00:00, 110.46it/s]\n"
     ]
    },
    {
     "name": "stdout",
     "output_type": "stream",
     "text": [
      "Test Accuracy: 66.70\n",
      "Test Loss: 0.938\n",
      "Time taken for epoch 43: 9.02 seconds\n",
      "Peak GPU memory usage: 0.49 GB\n",
      "Estimated TFLOPs for epoch 43: 53.4587\n",
      "\n",
      "Training Epoch: 43\n"
     ]
    },
    {
     "name": "stderr",
     "output_type": "stream",
     "text": [
      "100%|██████████| 391/391 [00:08<00:00, 46.69it/s]\n"
     ]
    },
    {
     "name": "stdout",
     "output_type": "stream",
     "text": [
      "Training Accuracy: 65.68\n",
      "Training Loss: 0.965\n",
      "\n",
      "Testing Epoch: 43\n"
     ]
    },
    {
     "name": "stderr",
     "output_type": "stream",
     "text": [
      "100%|██████████| 79/79 [00:00<00:00, 105.78it/s]\n"
     ]
    },
    {
     "name": "stdout",
     "output_type": "stream",
     "text": [
      "Test Accuracy: 66.51\n",
      "Test Loss: 0.934\n",
      "Time taken for epoch 44: 9.12 seconds\n",
      "Peak GPU memory usage: 0.49 GB\n",
      "Estimated TFLOPs for epoch 44: 53.4587\n",
      "\n",
      "Training Epoch: 44\n"
     ]
    },
    {
     "name": "stderr",
     "output_type": "stream",
     "text": [
      "100%|██████████| 391/391 [00:08<00:00, 45.58it/s]\n"
     ]
    },
    {
     "name": "stdout",
     "output_type": "stream",
     "text": [
      "Training Accuracy: 65.70\n",
      "Training Loss: 0.957\n",
      "\n",
      "Testing Epoch: 44\n"
     ]
    },
    {
     "name": "stderr",
     "output_type": "stream",
     "text": [
      "100%|██████████| 79/79 [00:00<00:00, 118.80it/s]\n"
     ]
    },
    {
     "name": "stdout",
     "output_type": "stream",
     "text": [
      "Test Accuracy: 66.85\n",
      "Test Loss: 0.930\n",
      "Time taken for epoch 45: 9.25 seconds\n",
      "Peak GPU memory usage: 0.49 GB\n",
      "Estimated TFLOPs for epoch 45: 53.4587\n",
      "\n",
      "Training Epoch: 45\n"
     ]
    },
    {
     "name": "stderr",
     "output_type": "stream",
     "text": [
      "100%|██████████| 391/391 [00:08<00:00, 48.17it/s]\n"
     ]
    },
    {
     "name": "stdout",
     "output_type": "stream",
     "text": [
      "Training Accuracy: 66.36\n",
      "Training Loss: 0.951\n",
      "\n",
      "Testing Epoch: 45\n"
     ]
    },
    {
     "name": "stderr",
     "output_type": "stream",
     "text": [
      "100%|██████████| 79/79 [00:00<00:00, 115.56it/s]\n"
     ]
    },
    {
     "name": "stdout",
     "output_type": "stream",
     "text": [
      "Test Accuracy: 67.26\n",
      "Test Loss: 0.912\n",
      "Time taken for epoch 46: 8.80 seconds\n",
      "Peak GPU memory usage: 0.49 GB\n",
      "Estimated TFLOPs for epoch 46: 53.4587\n",
      "\n",
      "Training Epoch: 46\n"
     ]
    },
    {
     "name": "stderr",
     "output_type": "stream",
     "text": [
      "100%|██████████| 391/391 [00:08<00:00, 47.40it/s]\n"
     ]
    },
    {
     "name": "stdout",
     "output_type": "stream",
     "text": [
      "Training Accuracy: 66.35\n",
      "Training Loss: 0.947\n",
      "\n",
      "Testing Epoch: 46\n"
     ]
    },
    {
     "name": "stderr",
     "output_type": "stream",
     "text": [
      "100%|██████████| 79/79 [00:00<00:00, 89.95it/s] \n"
     ]
    },
    {
     "name": "stdout",
     "output_type": "stream",
     "text": [
      "Test Accuracy: 67.30\n",
      "Test Loss: 0.922\n",
      "Time taken for epoch 47: 9.13 seconds\n",
      "Peak GPU memory usage: 0.49 GB\n",
      "Estimated TFLOPs for epoch 47: 53.4587\n",
      "\n",
      "Training Epoch: 47\n"
     ]
    },
    {
     "name": "stderr",
     "output_type": "stream",
     "text": [
      "100%|██████████| 391/391 [00:08<00:00, 46.58it/s]\n"
     ]
    },
    {
     "name": "stdout",
     "output_type": "stream",
     "text": [
      "Training Accuracy: 66.74\n",
      "Training Loss: 0.934\n",
      "\n",
      "Testing Epoch: 47\n"
     ]
    },
    {
     "name": "stderr",
     "output_type": "stream",
     "text": [
      "100%|██████████| 79/79 [00:00<00:00, 112.18it/s]\n"
     ]
    },
    {
     "name": "stdout",
     "output_type": "stream",
     "text": [
      "Test Accuracy: 67.60\n",
      "Test Loss: 0.903\n",
      "Time taken for epoch 48: 9.10 seconds\n",
      "Peak GPU memory usage: 0.49 GB\n",
      "Estimated TFLOPs for epoch 48: 53.4587\n",
      "\n",
      "Training Epoch: 48\n"
     ]
    },
    {
     "name": "stderr",
     "output_type": "stream",
     "text": [
      "100%|██████████| 391/391 [00:08<00:00, 47.99it/s]\n"
     ]
    },
    {
     "name": "stdout",
     "output_type": "stream",
     "text": [
      "Training Accuracy: 67.06\n",
      "Training Loss: 0.926\n",
      "\n",
      "Testing Epoch: 48\n"
     ]
    },
    {
     "name": "stderr",
     "output_type": "stream",
     "text": [
      "100%|██████████| 79/79 [00:00<00:00, 108.63it/s]\n"
     ]
    },
    {
     "name": "stdout",
     "output_type": "stream",
     "text": [
      "Test Accuracy: 68.07\n",
      "Test Loss: 0.892\n",
      "Time taken for epoch 49: 8.88 seconds\n",
      "Peak GPU memory usage: 0.49 GB\n",
      "Estimated TFLOPs for epoch 49: 53.4587\n",
      "\n",
      "Training Epoch: 49\n"
     ]
    },
    {
     "name": "stderr",
     "output_type": "stream",
     "text": [
      "100%|██████████| 391/391 [00:08<00:00, 45.66it/s]\n"
     ]
    },
    {
     "name": "stdout",
     "output_type": "stream",
     "text": [
      "Training Accuracy: 67.37\n",
      "Training Loss: 0.918\n",
      "\n",
      "Testing Epoch: 49\n"
     ]
    },
    {
     "name": "stderr",
     "output_type": "stream",
     "text": [
      "100%|██████████| 79/79 [00:00<00:00, 102.51it/s]\n"
     ]
    },
    {
     "name": "stdout",
     "output_type": "stream",
     "text": [
      "Test Accuracy: 68.34\n",
      "Test Loss: 0.899\n",
      "Time taken for epoch 50: 9.34 seconds\n",
      "Peak GPU memory usage: 0.49 GB\n",
      "Estimated TFLOPs for epoch 50: 53.4587\n",
      "\n",
      "Training Epoch: 50\n"
     ]
    },
    {
     "name": "stderr",
     "output_type": "stream",
     "text": [
      "100%|██████████| 391/391 [00:08<00:00, 48.52it/s]\n"
     ]
    },
    {
     "name": "stdout",
     "output_type": "stream",
     "text": [
      "Training Accuracy: 67.26\n",
      "Training Loss: 0.918\n",
      "\n",
      "Testing Epoch: 50\n"
     ]
    },
    {
     "name": "stderr",
     "output_type": "stream",
     "text": [
      "100%|██████████| 79/79 [00:00<00:00, 108.46it/s]\n"
     ]
    },
    {
     "name": "stdout",
     "output_type": "stream",
     "text": [
      "Test Accuracy: 68.47\n",
      "Test Loss: 0.891\n",
      "Time taken for epoch 51: 8.79 seconds\n",
      "Peak GPU memory usage: 0.49 GB\n",
      "Estimated TFLOPs for epoch 51: 53.4587\n",
      "\n",
      "Training Epoch: 51\n"
     ]
    },
    {
     "name": "stderr",
     "output_type": "stream",
     "text": [
      "100%|██████████| 391/391 [00:08<00:00, 48.00it/s]\n"
     ]
    },
    {
     "name": "stdout",
     "output_type": "stream",
     "text": [
      "Training Accuracy: 67.37\n",
      "Training Loss: 0.911\n",
      "\n",
      "Testing Epoch: 51\n"
     ]
    },
    {
     "name": "stderr",
     "output_type": "stream",
     "text": [
      "100%|██████████| 79/79 [00:00<00:00, 95.56it/s] \n"
     ]
    },
    {
     "name": "stdout",
     "output_type": "stream",
     "text": [
      "Test Accuracy: 68.69\n",
      "Test Loss: 0.883\n",
      "Time taken for epoch 52: 8.97 seconds\n",
      "Peak GPU memory usage: 0.49 GB\n",
      "Estimated TFLOPs for epoch 52: 53.4587\n",
      "\n",
      "Training Epoch: 52\n"
     ]
    },
    {
     "name": "stderr",
     "output_type": "stream",
     "text": [
      "100%|██████████| 391/391 [00:08<00:00, 45.68it/s]\n"
     ]
    },
    {
     "name": "stdout",
     "output_type": "stream",
     "text": [
      "Training Accuracy: 67.72\n",
      "Training Loss: 0.904\n",
      "\n",
      "Testing Epoch: 52\n"
     ]
    },
    {
     "name": "stderr",
     "output_type": "stream",
     "text": [
      "100%|██████████| 79/79 [00:00<00:00, 112.64it/s]\n"
     ]
    },
    {
     "name": "stdout",
     "output_type": "stream",
     "text": [
      "Test Accuracy: 69.00\n",
      "Test Loss: 0.874\n",
      "Time taken for epoch 53: 9.27 seconds\n",
      "Peak GPU memory usage: 0.49 GB\n",
      "Estimated TFLOPs for epoch 53: 53.4587\n",
      "\n",
      "Training Epoch: 53\n"
     ]
    },
    {
     "name": "stderr",
     "output_type": "stream",
     "text": [
      "100%|██████████| 391/391 [00:08<00:00, 47.69it/s]\n"
     ]
    },
    {
     "name": "stdout",
     "output_type": "stream",
     "text": [
      "Training Accuracy: 67.96\n",
      "Training Loss: 0.900\n",
      "\n",
      "Testing Epoch: 53\n"
     ]
    },
    {
     "name": "stderr",
     "output_type": "stream",
     "text": [
      "100%|██████████| 79/79 [00:00<00:00, 122.07it/s]\n"
     ]
    },
    {
     "name": "stdout",
     "output_type": "stream",
     "text": [
      "Test Accuracy: 68.81\n",
      "Test Loss: 0.876\n",
      "Time taken for epoch 54: 8.85 seconds\n",
      "Peak GPU memory usage: 0.49 GB\n",
      "Estimated TFLOPs for epoch 54: 53.4587\n",
      "\n",
      "Training Epoch: 54\n"
     ]
    },
    {
     "name": "stderr",
     "output_type": "stream",
     "text": [
      "100%|██████████| 391/391 [00:08<00:00, 47.60it/s]\n"
     ]
    },
    {
     "name": "stdout",
     "output_type": "stream",
     "text": [
      "Training Accuracy: 68.27\n",
      "Training Loss: 0.891\n",
      "\n",
      "Testing Epoch: 54\n"
     ]
    },
    {
     "name": "stderr",
     "output_type": "stream",
     "text": [
      "100%|██████████| 79/79 [00:00<00:00, 88.89it/s]\n"
     ]
    },
    {
     "name": "stdout",
     "output_type": "stream",
     "text": [
      "Test Accuracy: 68.60\n",
      "Test Loss: 0.871\n",
      "Time taken for epoch 55: 9.11 seconds\n",
      "Peak GPU memory usage: 0.49 GB\n",
      "Estimated TFLOPs for epoch 55: 53.4587\n",
      "\n",
      "Training Epoch: 55\n"
     ]
    },
    {
     "name": "stderr",
     "output_type": "stream",
     "text": [
      "100%|██████████| 391/391 [00:08<00:00, 47.22it/s]\n"
     ]
    },
    {
     "name": "stdout",
     "output_type": "stream",
     "text": [
      "Training Accuracy: 68.48\n",
      "Training Loss: 0.885\n",
      "\n",
      "Testing Epoch: 55\n"
     ]
    },
    {
     "name": "stderr",
     "output_type": "stream",
     "text": [
      "100%|██████████| 79/79 [00:00<00:00, 114.89it/s]\n"
     ]
    },
    {
     "name": "stdout",
     "output_type": "stream",
     "text": [
      "Test Accuracy: 69.04\n",
      "Test Loss: 0.870\n",
      "Time taken for epoch 56: 8.97 seconds\n",
      "Peak GPU memory usage: 0.49 GB\n",
      "Estimated TFLOPs for epoch 56: 53.4587\n",
      "\n",
      "Training Epoch: 56\n"
     ]
    },
    {
     "name": "stderr",
     "output_type": "stream",
     "text": [
      "100%|██████████| 391/391 [00:08<00:00, 47.30it/s]\n"
     ]
    },
    {
     "name": "stdout",
     "output_type": "stream",
     "text": [
      "Training Accuracy: 68.54\n",
      "Training Loss: 0.883\n",
      "\n",
      "Testing Epoch: 56\n"
     ]
    },
    {
     "name": "stderr",
     "output_type": "stream",
     "text": [
      "100%|██████████| 79/79 [00:00<00:00, 118.96it/s]\n"
     ]
    },
    {
     "name": "stdout",
     "output_type": "stream",
     "text": [
      "Test Accuracy: 69.26\n",
      "Test Loss: 0.862\n",
      "Time taken for epoch 57: 8.94 seconds\n",
      "Peak GPU memory usage: 0.49 GB\n",
      "Estimated TFLOPs for epoch 57: 53.4587\n",
      "\n",
      "Training Epoch: 57\n"
     ]
    },
    {
     "name": "stderr",
     "output_type": "stream",
     "text": [
      "100%|██████████| 391/391 [00:08<00:00, 46.15it/s]\n"
     ]
    },
    {
     "name": "stdout",
     "output_type": "stream",
     "text": [
      "Training Accuracy: 69.01\n",
      "Training Loss: 0.871\n",
      "\n",
      "Testing Epoch: 57\n"
     ]
    },
    {
     "name": "stderr",
     "output_type": "stream",
     "text": [
      "100%|██████████| 79/79 [00:00<00:00, 112.26it/s]\n"
     ]
    },
    {
     "name": "stdout",
     "output_type": "stream",
     "text": [
      "Test Accuracy: 68.93\n",
      "Test Loss: 0.873\n",
      "Time taken for epoch 58: 9.18 seconds\n",
      "Peak GPU memory usage: 0.49 GB\n",
      "Estimated TFLOPs for epoch 58: 53.4587\n",
      "\n",
      "Training Epoch: 58\n"
     ]
    },
    {
     "name": "stderr",
     "output_type": "stream",
     "text": [
      "100%|██████████| 391/391 [00:08<00:00, 47.75it/s]\n"
     ]
    },
    {
     "name": "stdout",
     "output_type": "stream",
     "text": [
      "Training Accuracy: 69.05\n",
      "Training Loss: 0.867\n",
      "\n",
      "Testing Epoch: 58\n"
     ]
    },
    {
     "name": "stderr",
     "output_type": "stream",
     "text": [
      "100%|██████████| 79/79 [00:00<00:00, 112.88it/s]\n"
     ]
    },
    {
     "name": "stdout",
     "output_type": "stream",
     "text": [
      "Test Accuracy: 69.71\n",
      "Test Loss: 0.856\n",
      "Time taken for epoch 59: 8.89 seconds\n",
      "Peak GPU memory usage: 0.49 GB\n",
      "Estimated TFLOPs for epoch 59: 53.4587\n",
      "\n",
      "Training Epoch: 59\n"
     ]
    },
    {
     "name": "stderr",
     "output_type": "stream",
     "text": [
      "100%|██████████| 391/391 [00:08<00:00, 47.64it/s]\n"
     ]
    },
    {
     "name": "stdout",
     "output_type": "stream",
     "text": [
      "Training Accuracy: 69.72\n",
      "Training Loss: 0.859\n",
      "\n",
      "Testing Epoch: 59\n"
     ]
    },
    {
     "name": "stderr",
     "output_type": "stream",
     "text": [
      "100%|██████████| 79/79 [00:00<00:00, 99.54it/s] \n"
     ]
    },
    {
     "name": "stdout",
     "output_type": "stream",
     "text": [
      "Test Accuracy: 69.76\n",
      "Test Loss: 0.841\n",
      "Time taken for epoch 60: 9.00 seconds\n",
      "Peak GPU memory usage: 0.49 GB\n",
      "Estimated TFLOPs for epoch 60: 53.4587\n",
      "\n",
      "Training Epoch: 60\n"
     ]
    },
    {
     "name": "stderr",
     "output_type": "stream",
     "text": [
      "100%|██████████| 391/391 [00:08<00:00, 47.30it/s]\n"
     ]
    },
    {
     "name": "stdout",
     "output_type": "stream",
     "text": [
      "Training Accuracy: 69.51\n",
      "Training Loss: 0.855\n",
      "\n",
      "Testing Epoch: 60\n"
     ]
    },
    {
     "name": "stderr",
     "output_type": "stream",
     "text": [
      "100%|██████████| 79/79 [00:00<00:00, 108.93it/s]\n"
     ]
    },
    {
     "name": "stdout",
     "output_type": "stream",
     "text": [
      "Test Accuracy: 69.63\n",
      "Test Loss: 0.857\n",
      "Time taken for epoch 61: 9.00 seconds\n",
      "Peak GPU memory usage: 0.49 GB\n",
      "Estimated TFLOPs for epoch 61: 53.4587\n",
      "\n",
      "Training Epoch: 61\n"
     ]
    },
    {
     "name": "stderr",
     "output_type": "stream",
     "text": [
      "100%|██████████| 391/391 [00:07<00:00, 50.28it/s]\n"
     ]
    },
    {
     "name": "stdout",
     "output_type": "stream",
     "text": [
      "Training Accuracy: 69.65\n",
      "Training Loss: 0.852\n",
      "\n",
      "Testing Epoch: 61\n"
     ]
    },
    {
     "name": "stderr",
     "output_type": "stream",
     "text": [
      "100%|██████████| 79/79 [00:00<00:00, 120.98it/s]\n"
     ]
    },
    {
     "name": "stdout",
     "output_type": "stream",
     "text": [
      "Test Accuracy: 70.22\n",
      "Test Loss: 0.846\n",
      "Time taken for epoch 62: 8.43 seconds\n",
      "Peak GPU memory usage: 0.49 GB\n",
      "Estimated TFLOPs for epoch 62: 53.4587\n",
      "\n",
      "Training Epoch: 62\n"
     ]
    },
    {
     "name": "stderr",
     "output_type": "stream",
     "text": [
      "100%|██████████| 391/391 [00:07<00:00, 49.35it/s]\n"
     ]
    },
    {
     "name": "stdout",
     "output_type": "stream",
     "text": [
      "Training Accuracy: 70.03\n",
      "Training Loss: 0.843\n",
      "\n",
      "Testing Epoch: 62\n"
     ]
    },
    {
     "name": "stderr",
     "output_type": "stream",
     "text": [
      "100%|██████████| 79/79 [00:00<00:00, 115.36it/s]\n"
     ]
    },
    {
     "name": "stdout",
     "output_type": "stream",
     "text": [
      "Test Accuracy: 70.42\n",
      "Test Loss: 0.834\n",
      "Time taken for epoch 63: 8.61 seconds\n",
      "Peak GPU memory usage: 0.49 GB\n",
      "Estimated TFLOPs for epoch 63: 53.4587\n",
      "\n",
      "Training Epoch: 63\n"
     ]
    },
    {
     "name": "stderr",
     "output_type": "stream",
     "text": [
      "100%|██████████| 391/391 [00:10<00:00, 37.30it/s]\n"
     ]
    },
    {
     "name": "stdout",
     "output_type": "stream",
     "text": [
      "Training Accuracy: 70.07\n",
      "Training Loss: 0.846\n",
      "\n",
      "Testing Epoch: 63\n"
     ]
    },
    {
     "name": "stderr",
     "output_type": "stream",
     "text": [
      "100%|██████████| 79/79 [00:00<00:00, 96.63it/s] \n"
     ]
    },
    {
     "name": "stdout",
     "output_type": "stream",
     "text": [
      "Test Accuracy: 69.98\n",
      "Test Loss: 0.838\n",
      "Time taken for epoch 64: 11.30 seconds\n",
      "Peak GPU memory usage: 0.49 GB\n",
      "Estimated TFLOPs for epoch 64: 53.4587\n",
      "\n",
      "Training Epoch: 64\n"
     ]
    },
    {
     "name": "stderr",
     "output_type": "stream",
     "text": [
      "100%|██████████| 391/391 [00:07<00:00, 48.98it/s]\n"
     ]
    },
    {
     "name": "stdout",
     "output_type": "stream",
     "text": [
      "Training Accuracy: 70.31\n",
      "Training Loss: 0.837\n",
      "\n",
      "Testing Epoch: 64\n"
     ]
    },
    {
     "name": "stderr",
     "output_type": "stream",
     "text": [
      "100%|██████████| 79/79 [00:00<00:00, 111.52it/s]\n"
     ]
    },
    {
     "name": "stdout",
     "output_type": "stream",
     "text": [
      "Test Accuracy: 70.55\n",
      "Test Loss: 0.825\n",
      "Time taken for epoch 65: 8.69 seconds\n",
      "Peak GPU memory usage: 0.49 GB\n",
      "Estimated TFLOPs for epoch 65: 53.4587\n",
      "\n",
      "Training Epoch: 65\n"
     ]
    },
    {
     "name": "stderr",
     "output_type": "stream",
     "text": [
      "100%|██████████| 391/391 [00:08<00:00, 47.66it/s]\n"
     ]
    },
    {
     "name": "stdout",
     "output_type": "stream",
     "text": [
      "Training Accuracy: 70.31\n",
      "Training Loss: 0.833\n",
      "\n",
      "Testing Epoch: 65\n"
     ]
    },
    {
     "name": "stderr",
     "output_type": "stream",
     "text": [
      "100%|██████████| 79/79 [00:00<00:00, 91.23it/s]\n"
     ]
    },
    {
     "name": "stdout",
     "output_type": "stream",
     "text": [
      "Test Accuracy: 71.22\n",
      "Test Loss: 0.815\n",
      "Time taken for epoch 66: 9.08 seconds\n",
      "Peak GPU memory usage: 0.49 GB\n",
      "Estimated TFLOPs for epoch 66: 53.4587\n",
      "\n",
      "Training Epoch: 66\n"
     ]
    },
    {
     "name": "stderr",
     "output_type": "stream",
     "text": [
      "100%|██████████| 391/391 [00:08<00:00, 47.43it/s]\n"
     ]
    },
    {
     "name": "stdout",
     "output_type": "stream",
     "text": [
      "Training Accuracy: 70.77\n",
      "Training Loss: 0.822\n",
      "\n",
      "Testing Epoch: 66\n"
     ]
    },
    {
     "name": "stderr",
     "output_type": "stream",
     "text": [
      "100%|██████████| 79/79 [00:00<00:00, 112.35it/s]\n"
     ]
    },
    {
     "name": "stdout",
     "output_type": "stream",
     "text": [
      "Test Accuracy: 71.21\n",
      "Test Loss: 0.809\n",
      "Time taken for epoch 67: 8.95 seconds\n",
      "Peak GPU memory usage: 0.49 GB\n",
      "Estimated TFLOPs for epoch 67: 53.4587\n",
      "\n",
      "Training Epoch: 67\n"
     ]
    },
    {
     "name": "stderr",
     "output_type": "stream",
     "text": [
      "100%|██████████| 391/391 [00:07<00:00, 49.53it/s]\n"
     ]
    },
    {
     "name": "stdout",
     "output_type": "stream",
     "text": [
      "Training Accuracy: 70.80\n",
      "Training Loss: 0.820\n",
      "\n",
      "Testing Epoch: 67\n"
     ]
    },
    {
     "name": "stderr",
     "output_type": "stream",
     "text": [
      "100%|██████████| 79/79 [00:00<00:00, 113.43it/s]\n"
     ]
    },
    {
     "name": "stdout",
     "output_type": "stream",
     "text": [
      "Test Accuracy: 71.32\n",
      "Test Loss: 0.811\n",
      "Time taken for epoch 68: 8.60 seconds\n",
      "Peak GPU memory usage: 0.49 GB\n",
      "Estimated TFLOPs for epoch 68: 53.4587\n",
      "\n",
      "Training Epoch: 68\n"
     ]
    },
    {
     "name": "stderr",
     "output_type": "stream",
     "text": [
      "100%|██████████| 391/391 [00:08<00:00, 46.94it/s]\n"
     ]
    },
    {
     "name": "stdout",
     "output_type": "stream",
     "text": [
      "Training Accuracy: 71.17\n",
      "Training Loss: 0.813\n",
      "\n",
      "Testing Epoch: 68\n"
     ]
    },
    {
     "name": "stderr",
     "output_type": "stream",
     "text": [
      "100%|██████████| 79/79 [00:00<00:00, 93.49it/s]\n"
     ]
    },
    {
     "name": "stdout",
     "output_type": "stream",
     "text": [
      "Test Accuracy: 71.17\n",
      "Test Loss: 0.809\n",
      "Time taken for epoch 69: 9.18 seconds\n",
      "Peak GPU memory usage: 0.49 GB\n",
      "Estimated TFLOPs for epoch 69: 53.4587\n",
      "\n",
      "Training Epoch: 69\n"
     ]
    },
    {
     "name": "stderr",
     "output_type": "stream",
     "text": [
      "100%|██████████| 391/391 [00:08<00:00, 46.87it/s]\n"
     ]
    },
    {
     "name": "stdout",
     "output_type": "stream",
     "text": [
      "Training Accuracy: 71.00\n",
      "Training Loss: 0.812\n",
      "\n",
      "Testing Epoch: 69\n"
     ]
    },
    {
     "name": "stderr",
     "output_type": "stream",
     "text": [
      "100%|██████████| 79/79 [00:00<00:00, 119.64it/s]\n"
     ]
    },
    {
     "name": "stdout",
     "output_type": "stream",
     "text": [
      "Test Accuracy: 71.14\n",
      "Test Loss: 0.804\n",
      "Time taken for epoch 70: 9.00 seconds\n",
      "Peak GPU memory usage: 0.49 GB\n",
      "Estimated TFLOPs for epoch 70: 53.4587\n",
      "\n",
      "Training Epoch: 70\n"
     ]
    },
    {
     "name": "stderr",
     "output_type": "stream",
     "text": [
      "100%|██████████| 391/391 [00:08<00:00, 48.50it/s]\n"
     ]
    },
    {
     "name": "stdout",
     "output_type": "stream",
     "text": [
      "Training Accuracy: 71.48\n",
      "Training Loss: 0.801\n",
      "\n",
      "Testing Epoch: 70\n"
     ]
    },
    {
     "name": "stderr",
     "output_type": "stream",
     "text": [
      "100%|██████████| 79/79 [00:00<00:00, 114.11it/s]\n"
     ]
    },
    {
     "name": "stdout",
     "output_type": "stream",
     "text": [
      "Test Accuracy: 71.67\n",
      "Test Loss: 0.800\n",
      "Time taken for epoch 71: 8.76 seconds\n",
      "Peak GPU memory usage: 0.49 GB\n",
      "Estimated TFLOPs for epoch 71: 53.4587\n",
      "\n",
      "Training Epoch: 71\n"
     ]
    },
    {
     "name": "stderr",
     "output_type": "stream",
     "text": [
      "100%|██████████| 391/391 [00:08<00:00, 46.26it/s]\n"
     ]
    },
    {
     "name": "stdout",
     "output_type": "stream",
     "text": [
      "Training Accuracy: 71.90\n",
      "Training Loss: 0.790\n",
      "\n",
      "Testing Epoch: 71\n"
     ]
    },
    {
     "name": "stderr",
     "output_type": "stream",
     "text": [
      "100%|██████████| 79/79 [00:00<00:00, 98.17it/s] \n"
     ]
    },
    {
     "name": "stdout",
     "output_type": "stream",
     "text": [
      "Test Accuracy: 71.30\n",
      "Test Loss: 0.799\n",
      "Time taken for epoch 72: 9.26 seconds\n",
      "Peak GPU memory usage: 0.49 GB\n",
      "Estimated TFLOPs for epoch 72: 53.4587\n",
      "\n",
      "Training Epoch: 72\n"
     ]
    },
    {
     "name": "stderr",
     "output_type": "stream",
     "text": [
      "100%|██████████| 391/391 [00:08<00:00, 48.64it/s]\n"
     ]
    },
    {
     "name": "stdout",
     "output_type": "stream",
     "text": [
      "Training Accuracy: 72.01\n",
      "Training Loss: 0.790\n",
      "\n",
      "Testing Epoch: 72\n"
     ]
    },
    {
     "name": "stderr",
     "output_type": "stream",
     "text": [
      "100%|██████████| 79/79 [00:00<00:00, 114.37it/s]\n"
     ]
    },
    {
     "name": "stdout",
     "output_type": "stream",
     "text": [
      "Test Accuracy: 71.95\n",
      "Test Loss: 0.795\n",
      "Time taken for epoch 73: 8.73 seconds\n",
      "Peak GPU memory usage: 0.49 GB\n",
      "Estimated TFLOPs for epoch 73: 53.4587\n",
      "\n",
      "Training Epoch: 73\n"
     ]
    },
    {
     "name": "stderr",
     "output_type": "stream",
     "text": [
      "100%|██████████| 391/391 [00:08<00:00, 48.03it/s]\n"
     ]
    },
    {
     "name": "stdout",
     "output_type": "stream",
     "text": [
      "Training Accuracy: 71.87\n",
      "Training Loss: 0.788\n",
      "\n",
      "Testing Epoch: 73\n"
     ]
    },
    {
     "name": "stderr",
     "output_type": "stream",
     "text": [
      "100%|██████████| 79/79 [00:00<00:00, 106.81it/s]\n"
     ]
    },
    {
     "name": "stdout",
     "output_type": "stream",
     "text": [
      "Test Accuracy: 71.96\n",
      "Test Loss: 0.797\n",
      "Time taken for epoch 74: 8.88 seconds\n",
      "Peak GPU memory usage: 0.49 GB\n",
      "Estimated TFLOPs for epoch 74: 53.4587\n",
      "\n",
      "Training Epoch: 74\n"
     ]
    },
    {
     "name": "stderr",
     "output_type": "stream",
     "text": [
      "100%|██████████| 391/391 [00:08<00:00, 45.78it/s]\n"
     ]
    },
    {
     "name": "stdout",
     "output_type": "stream",
     "text": [
      "Training Accuracy: 72.20\n",
      "Training Loss: 0.782\n",
      "\n",
      "Testing Epoch: 74\n"
     ]
    },
    {
     "name": "stderr",
     "output_type": "stream",
     "text": [
      "100%|██████████| 79/79 [00:00<00:00, 114.30it/s]\n"
     ]
    },
    {
     "name": "stdout",
     "output_type": "stream",
     "text": [
      "Test Accuracy: 71.50\n",
      "Test Loss: 0.796\n",
      "Time taken for epoch 75: 9.23 seconds\n",
      "Peak GPU memory usage: 0.49 GB\n",
      "Estimated TFLOPs for epoch 75: 53.4587\n",
      "\n",
      "Training Epoch: 75\n"
     ]
    },
    {
     "name": "stderr",
     "output_type": "stream",
     "text": [
      "100%|██████████| 391/391 [00:08<00:00, 47.80it/s]\n"
     ]
    },
    {
     "name": "stdout",
     "output_type": "stream",
     "text": [
      "Training Accuracy: 72.40\n",
      "Training Loss: 0.782\n",
      "\n",
      "Testing Epoch: 75\n"
     ]
    },
    {
     "name": "stderr",
     "output_type": "stream",
     "text": [
      "100%|██████████| 79/79 [00:00<00:00, 111.91it/s]\n"
     ]
    },
    {
     "name": "stdout",
     "output_type": "stream",
     "text": [
      "Test Accuracy: 72.55\n",
      "Test Loss: 0.783\n",
      "Time taken for epoch 76: 8.89 seconds\n",
      "Peak GPU memory usage: 0.49 GB\n",
      "Estimated TFLOPs for epoch 76: 53.4587\n",
      "\n",
      "Training Epoch: 76\n"
     ]
    },
    {
     "name": "stderr",
     "output_type": "stream",
     "text": [
      "100%|██████████| 391/391 [00:08<00:00, 46.08it/s]\n"
     ]
    },
    {
     "name": "stdout",
     "output_type": "stream",
     "text": [
      "Training Accuracy: 72.73\n",
      "Training Loss: 0.772\n",
      "\n",
      "Testing Epoch: 76\n"
     ]
    },
    {
     "name": "stderr",
     "output_type": "stream",
     "text": [
      "100%|██████████| 79/79 [00:00<00:00, 94.23it/s] \n"
     ]
    },
    {
     "name": "stdout",
     "output_type": "stream",
     "text": [
      "Test Accuracy: 72.00\n",
      "Test Loss: 0.783\n",
      "Time taken for epoch 77: 9.33 seconds\n",
      "Peak GPU memory usage: 0.49 GB\n",
      "Estimated TFLOPs for epoch 77: 53.4587\n",
      "\n",
      "Training Epoch: 77\n"
     ]
    },
    {
     "name": "stderr",
     "output_type": "stream",
     "text": [
      "100%|██████████| 391/391 [00:08<00:00, 46.95it/s]\n"
     ]
    },
    {
     "name": "stdout",
     "output_type": "stream",
     "text": [
      "Training Accuracy: 72.82\n",
      "Training Loss: 0.770\n",
      "\n",
      "Testing Epoch: 77\n"
     ]
    },
    {
     "name": "stderr",
     "output_type": "stream",
     "text": [
      "100%|██████████| 79/79 [00:00<00:00, 115.19it/s]\n"
     ]
    },
    {
     "name": "stdout",
     "output_type": "stream",
     "text": [
      "Test Accuracy: 72.87\n",
      "Test Loss: 0.768\n",
      "Time taken for epoch 78: 9.02 seconds\n",
      "Peak GPU memory usage: 0.49 GB\n",
      "Estimated TFLOPs for epoch 78: 53.4587\n",
      "\n",
      "Training Epoch: 78\n"
     ]
    },
    {
     "name": "stderr",
     "output_type": "stream",
     "text": [
      "100%|██████████| 391/391 [00:08<00:00, 47.67it/s]\n"
     ]
    },
    {
     "name": "stdout",
     "output_type": "stream",
     "text": [
      "Training Accuracy: 73.11\n",
      "Training Loss: 0.757\n",
      "\n",
      "Testing Epoch: 78\n"
     ]
    },
    {
     "name": "stderr",
     "output_type": "stream",
     "text": [
      "100%|██████████| 79/79 [00:00<00:00, 105.22it/s]\n"
     ]
    },
    {
     "name": "stdout",
     "output_type": "stream",
     "text": [
      "Test Accuracy: 72.28\n",
      "Test Loss: 0.776\n",
      "Time taken for epoch 79: 8.96 seconds\n",
      "Peak GPU memory usage: 0.49 GB\n",
      "Estimated TFLOPs for epoch 79: 53.4587\n",
      "\n",
      "Training Epoch: 79\n"
     ]
    },
    {
     "name": "stderr",
     "output_type": "stream",
     "text": [
      "100%|██████████| 391/391 [00:08<00:00, 46.47it/s]\n"
     ]
    },
    {
     "name": "stdout",
     "output_type": "stream",
     "text": [
      "Training Accuracy: 73.00\n",
      "Training Loss: 0.758\n",
      "\n",
      "Testing Epoch: 79\n"
     ]
    },
    {
     "name": "stderr",
     "output_type": "stream",
     "text": [
      "100%|██████████| 79/79 [00:00<00:00, 100.24it/s]\n"
     ]
    },
    {
     "name": "stdout",
     "output_type": "stream",
     "text": [
      "Test Accuracy: 72.34\n",
      "Test Loss: 0.778\n",
      "Time taken for epoch 80: 9.21 seconds\n",
      "Peak GPU memory usage: 0.49 GB\n",
      "Estimated TFLOPs for epoch 80: 53.4587\n",
      "\n",
      "Training Epoch: 80\n"
     ]
    },
    {
     "name": "stderr",
     "output_type": "stream",
     "text": [
      "100%|██████████| 391/391 [00:08<00:00, 48.51it/s]\n"
     ]
    },
    {
     "name": "stdout",
     "output_type": "stream",
     "text": [
      "Training Accuracy: 73.17\n",
      "Training Loss: 0.754\n",
      "\n",
      "Testing Epoch: 80\n"
     ]
    },
    {
     "name": "stderr",
     "output_type": "stream",
     "text": [
      "100%|██████████| 79/79 [00:00<00:00, 115.09it/s]\n"
     ]
    },
    {
     "name": "stdout",
     "output_type": "stream",
     "text": [
      "Test Accuracy: 72.40\n",
      "Test Loss: 0.782\n",
      "Time taken for epoch 81: 8.75 seconds\n",
      "Peak GPU memory usage: 0.49 GB\n",
      "Estimated TFLOPs for epoch 81: 53.4587\n",
      "\n",
      "Training Epoch: 81\n"
     ]
    },
    {
     "name": "stderr",
     "output_type": "stream",
     "text": [
      "100%|██████████| 391/391 [00:09<00:00, 41.74it/s]\n"
     ]
    },
    {
     "name": "stdout",
     "output_type": "stream",
     "text": [
      "Training Accuracy: 73.38\n",
      "Training Loss: 0.752\n",
      "\n",
      "Testing Epoch: 81\n"
     ]
    },
    {
     "name": "stderr",
     "output_type": "stream",
     "text": [
      "100%|██████████| 79/79 [00:01<00:00, 61.90it/s]\n"
     ]
    },
    {
     "name": "stdout",
     "output_type": "stream",
     "text": [
      "Test Accuracy: 72.44\n",
      "Test Loss: 0.779\n",
      "Time taken for epoch 82: 10.65 seconds\n",
      "Peak GPU memory usage: 0.49 GB\n",
      "Estimated TFLOPs for epoch 82: 53.4587\n",
      "\n",
      "Training Epoch: 82\n"
     ]
    },
    {
     "name": "stderr",
     "output_type": "stream",
     "text": [
      "100%|██████████| 391/391 [00:11<00:00, 35.53it/s]\n"
     ]
    },
    {
     "name": "stdout",
     "output_type": "stream",
     "text": [
      "Training Accuracy: 73.52\n",
      "Training Loss: 0.744\n",
      "\n",
      "Testing Epoch: 82\n"
     ]
    },
    {
     "name": "stderr",
     "output_type": "stream",
     "text": [
      "100%|██████████| 79/79 [00:00<00:00, 105.51it/s]\n"
     ]
    },
    {
     "name": "stdout",
     "output_type": "stream",
     "text": [
      "Test Accuracy: 73.12\n",
      "Test Loss: 0.758\n",
      "Time taken for epoch 83: 11.76 seconds\n",
      "Peak GPU memory usage: 0.49 GB\n",
      "Estimated TFLOPs for epoch 83: 53.4587\n",
      "\n",
      "Training Epoch: 83\n"
     ]
    },
    {
     "name": "stderr",
     "output_type": "stream",
     "text": [
      "100%|██████████| 391/391 [00:11<00:00, 34.25it/s]\n"
     ]
    },
    {
     "name": "stdout",
     "output_type": "stream",
     "text": [
      "Training Accuracy: 73.88\n",
      "Training Loss: 0.738\n",
      "\n",
      "Testing Epoch: 83\n"
     ]
    },
    {
     "name": "stderr",
     "output_type": "stream",
     "text": [
      "100%|██████████| 79/79 [00:01<00:00, 74.80it/s]\n"
     ]
    },
    {
     "name": "stdout",
     "output_type": "stream",
     "text": [
      "Test Accuracy: 73.28\n",
      "Test Loss: 0.756\n",
      "Time taken for epoch 84: 12.48 seconds\n",
      "Peak GPU memory usage: 0.49 GB\n",
      "Estimated TFLOPs for epoch 84: 53.4587\n",
      "\n",
      "Training Epoch: 84\n"
     ]
    },
    {
     "name": "stderr",
     "output_type": "stream",
     "text": [
      "100%|██████████| 391/391 [00:11<00:00, 35.40it/s]\n"
     ]
    },
    {
     "name": "stdout",
     "output_type": "stream",
     "text": [
      "Training Accuracy: 73.61\n",
      "Training Loss: 0.740\n",
      "\n",
      "Testing Epoch: 84\n"
     ]
    },
    {
     "name": "stderr",
     "output_type": "stream",
     "text": [
      "100%|██████████| 79/79 [00:01<00:00, 64.30it/s]\n"
     ]
    },
    {
     "name": "stdout",
     "output_type": "stream",
     "text": [
      "Test Accuracy: 72.92\n",
      "Test Loss: 0.768\n",
      "Time taken for epoch 85: 12.28 seconds\n",
      "Peak GPU memory usage: 0.49 GB\n",
      "Estimated TFLOPs for epoch 85: 53.4587\n",
      "\n",
      "Training Epoch: 85\n"
     ]
    },
    {
     "name": "stderr",
     "output_type": "stream",
     "text": [
      "100%|██████████| 391/391 [00:10<00:00, 36.08it/s]\n"
     ]
    },
    {
     "name": "stdout",
     "output_type": "stream",
     "text": [
      "Training Accuracy: 74.05\n",
      "Training Loss: 0.735\n",
      "\n",
      "Testing Epoch: 85\n"
     ]
    },
    {
     "name": "stderr",
     "output_type": "stream",
     "text": [
      "100%|██████████| 79/79 [00:01<00:00, 73.97it/s]\n"
     ]
    },
    {
     "name": "stdout",
     "output_type": "stream",
     "text": [
      "Test Accuracy: 73.42\n",
      "Test Loss: 0.761\n",
      "Time taken for epoch 86: 11.91 seconds\n",
      "Peak GPU memory usage: 0.49 GB\n",
      "Estimated TFLOPs for epoch 86: 53.4587\n",
      "\n",
      "Training Epoch: 86\n"
     ]
    },
    {
     "name": "stderr",
     "output_type": "stream",
     "text": [
      "100%|██████████| 391/391 [00:11<00:00, 34.38it/s]\n"
     ]
    },
    {
     "name": "stdout",
     "output_type": "stream",
     "text": [
      "Training Accuracy: 73.91\n",
      "Training Loss: 0.733\n",
      "\n",
      "Testing Epoch: 86\n"
     ]
    },
    {
     "name": "stderr",
     "output_type": "stream",
     "text": [
      "100%|██████████| 79/79 [00:01<00:00, 77.01it/s]\n"
     ]
    },
    {
     "name": "stdout",
     "output_type": "stream",
     "text": [
      "Test Accuracy: 73.20\n",
      "Test Loss: 0.753\n",
      "Time taken for epoch 87: 12.40 seconds\n",
      "Peak GPU memory usage: 0.49 GB\n",
      "Estimated TFLOPs for epoch 87: 53.4587\n",
      "\n",
      "Training Epoch: 87\n"
     ]
    },
    {
     "name": "stderr",
     "output_type": "stream",
     "text": [
      "100%|██████████| 391/391 [00:10<00:00, 35.71it/s]\n"
     ]
    },
    {
     "name": "stdout",
     "output_type": "stream",
     "text": [
      "Training Accuracy: 74.31\n",
      "Training Loss: 0.720\n",
      "\n",
      "Testing Epoch: 87\n"
     ]
    },
    {
     "name": "stderr",
     "output_type": "stream",
     "text": [
      "100%|██████████| 79/79 [00:01<00:00, 77.49it/s]\n"
     ]
    },
    {
     "name": "stdout",
     "output_type": "stream",
     "text": [
      "Test Accuracy: 73.42\n",
      "Test Loss: 0.756\n",
      "Time taken for epoch 88: 11.97 seconds\n",
      "Peak GPU memory usage: 0.49 GB\n",
      "Estimated TFLOPs for epoch 88: 53.4587\n",
      "\n",
      "Training Epoch: 88\n"
     ]
    },
    {
     "name": "stderr",
     "output_type": "stream",
     "text": [
      "100%|██████████| 391/391 [00:11<00:00, 35.21it/s]\n"
     ]
    },
    {
     "name": "stdout",
     "output_type": "stream",
     "text": [
      "Training Accuracy: 74.52\n",
      "Training Loss: 0.726\n",
      "\n",
      "Testing Epoch: 88\n"
     ]
    },
    {
     "name": "stderr",
     "output_type": "stream",
     "text": [
      "100%|██████████| 79/79 [00:01<00:00, 76.64it/s]\n"
     ]
    },
    {
     "name": "stdout",
     "output_type": "stream",
     "text": [
      "Test Accuracy: 73.62\n",
      "Test Loss: 0.747\n",
      "Time taken for epoch 89: 12.14 seconds\n",
      "Peak GPU memory usage: 0.49 GB\n",
      "Estimated TFLOPs for epoch 89: 53.4587\n",
      "\n",
      "Training Epoch: 89\n"
     ]
    },
    {
     "name": "stderr",
     "output_type": "stream",
     "text": [
      "100%|██████████| 391/391 [00:11<00:00, 34.76it/s]\n"
     ]
    },
    {
     "name": "stdout",
     "output_type": "stream",
     "text": [
      "Training Accuracy: 74.85\n",
      "Training Loss: 0.713\n",
      "\n",
      "Testing Epoch: 89\n"
     ]
    },
    {
     "name": "stderr",
     "output_type": "stream",
     "text": [
      "100%|██████████| 79/79 [00:01<00:00, 78.36it/s]\n"
     ]
    },
    {
     "name": "stdout",
     "output_type": "stream",
     "text": [
      "Test Accuracy: 73.38\n",
      "Test Loss: 0.754\n",
      "Time taken for epoch 90: 12.26 seconds\n",
      "Peak GPU memory usage: 0.49 GB\n",
      "Estimated TFLOPs for epoch 90: 53.4587\n",
      "\n",
      "Training Epoch: 90\n"
     ]
    },
    {
     "name": "stderr",
     "output_type": "stream",
     "text": [
      "100%|██████████| 391/391 [00:10<00:00, 36.41it/s]\n"
     ]
    },
    {
     "name": "stdout",
     "output_type": "stream",
     "text": [
      "Training Accuracy: 74.81\n",
      "Training Loss: 0.712\n",
      "\n",
      "Testing Epoch: 90\n"
     ]
    },
    {
     "name": "stderr",
     "output_type": "stream",
     "text": [
      "100%|██████████| 79/79 [00:01<00:00, 77.18it/s]\n"
     ]
    },
    {
     "name": "stdout",
     "output_type": "stream",
     "text": [
      "Test Accuracy: 73.76\n",
      "Test Loss: 0.745\n",
      "Time taken for epoch 91: 11.77 seconds\n",
      "Peak GPU memory usage: 0.49 GB\n",
      "Estimated TFLOPs for epoch 91: 53.4587\n",
      "\n",
      "Training Epoch: 91\n"
     ]
    },
    {
     "name": "stderr",
     "output_type": "stream",
     "text": [
      "100%|██████████| 391/391 [00:11<00:00, 34.72it/s]\n"
     ]
    },
    {
     "name": "stdout",
     "output_type": "stream",
     "text": [
      "Training Accuracy: 74.70\n",
      "Training Loss: 0.710\n",
      "\n",
      "Testing Epoch: 91\n"
     ]
    },
    {
     "name": "stderr",
     "output_type": "stream",
     "text": [
      "100%|██████████| 79/79 [00:01<00:00, 77.95it/s]\n"
     ]
    },
    {
     "name": "stdout",
     "output_type": "stream",
     "text": [
      "Test Accuracy: 73.79\n",
      "Test Loss: 0.747\n",
      "Time taken for epoch 92: 12.28 seconds\n",
      "Peak GPU memory usage: 0.49 GB\n",
      "Estimated TFLOPs for epoch 92: 53.4587\n",
      "\n",
      "Training Epoch: 92\n"
     ]
    },
    {
     "name": "stderr",
     "output_type": "stream",
     "text": [
      "100%|██████████| 391/391 [00:10<00:00, 35.62it/s]\n"
     ]
    },
    {
     "name": "stdout",
     "output_type": "stream",
     "text": [
      "Training Accuracy: 74.98\n",
      "Training Loss: 0.705\n",
      "\n",
      "Testing Epoch: 92\n"
     ]
    },
    {
     "name": "stderr",
     "output_type": "stream",
     "text": [
      "100%|██████████| 79/79 [00:01<00:00, 78.49it/s]\n"
     ]
    },
    {
     "name": "stdout",
     "output_type": "stream",
     "text": [
      "Test Accuracy: 74.14\n",
      "Test Loss: 0.734\n",
      "Time taken for epoch 93: 11.99 seconds\n",
      "Peak GPU memory usage: 0.49 GB\n",
      "Estimated TFLOPs for epoch 93: 53.4587\n",
      "\n",
      "Training Epoch: 93\n"
     ]
    },
    {
     "name": "stderr",
     "output_type": "stream",
     "text": [
      "100%|██████████| 391/391 [00:10<00:00, 35.87it/s]\n"
     ]
    },
    {
     "name": "stdout",
     "output_type": "stream",
     "text": [
      "Training Accuracy: 75.29\n",
      "Training Loss: 0.696\n",
      "\n",
      "Testing Epoch: 93\n"
     ]
    },
    {
     "name": "stderr",
     "output_type": "stream",
     "text": [
      "100%|██████████| 79/79 [00:00<00:00, 82.30it/s]\n"
     ]
    },
    {
     "name": "stdout",
     "output_type": "stream",
     "text": [
      "Test Accuracy: 74.09\n",
      "Test Loss: 0.745\n",
      "Time taken for epoch 94: 11.87 seconds\n",
      "Peak GPU memory usage: 0.49 GB\n",
      "Estimated TFLOPs for epoch 94: 53.4587\n",
      "\n",
      "Training Epoch: 94\n"
     ]
    },
    {
     "name": "stderr",
     "output_type": "stream",
     "text": [
      "100%|██████████| 391/391 [00:11<00:00, 34.32it/s]\n"
     ]
    },
    {
     "name": "stdout",
     "output_type": "stream",
     "text": [
      "Training Accuracy: 75.43\n",
      "Training Loss: 0.697\n",
      "\n",
      "Testing Epoch: 94\n"
     ]
    },
    {
     "name": "stderr",
     "output_type": "stream",
     "text": [
      "100%|██████████| 79/79 [00:01<00:00, 75.61it/s]\n"
     ]
    },
    {
     "name": "stdout",
     "output_type": "stream",
     "text": [
      "Test Accuracy: 74.15\n",
      "Test Loss: 0.734\n",
      "Time taken for epoch 95: 12.44 seconds\n",
      "Peak GPU memory usage: 0.49 GB\n",
      "Estimated TFLOPs for epoch 95: 53.4587\n",
      "\n",
      "Training Epoch: 95\n"
     ]
    },
    {
     "name": "stderr",
     "output_type": "stream",
     "text": [
      "100%|██████████| 391/391 [00:10<00:00, 35.95it/s]\n"
     ]
    },
    {
     "name": "stdout",
     "output_type": "stream",
     "text": [
      "Training Accuracy: 75.37\n",
      "Training Loss: 0.692\n",
      "\n",
      "Testing Epoch: 95\n"
     ]
    },
    {
     "name": "stderr",
     "output_type": "stream",
     "text": [
      "100%|██████████| 79/79 [00:01<00:00, 64.35it/s]\n"
     ]
    },
    {
     "name": "stdout",
     "output_type": "stream",
     "text": [
      "Test Accuracy: 74.01\n",
      "Test Loss: 0.741\n",
      "Time taken for epoch 96: 12.11 seconds\n",
      "Peak GPU memory usage: 0.49 GB\n",
      "Estimated TFLOPs for epoch 96: 53.4587\n",
      "\n",
      "Training Epoch: 96\n"
     ]
    },
    {
     "name": "stderr",
     "output_type": "stream",
     "text": [
      "100%|██████████| 391/391 [00:11<00:00, 35.51it/s]\n"
     ]
    },
    {
     "name": "stdout",
     "output_type": "stream",
     "text": [
      "Training Accuracy: 75.45\n",
      "Training Loss: 0.692\n",
      "\n",
      "Testing Epoch: 96\n"
     ]
    },
    {
     "name": "stderr",
     "output_type": "stream",
     "text": [
      "100%|██████████| 79/79 [00:00<00:00, 79.55it/s]\n"
     ]
    },
    {
     "name": "stdout",
     "output_type": "stream",
     "text": [
      "Test Accuracy: 74.32\n",
      "Test Loss: 0.730\n",
      "Time taken for epoch 97: 12.01 seconds\n",
      "Peak GPU memory usage: 0.49 GB\n",
      "Estimated TFLOPs for epoch 97: 53.4587\n",
      "\n",
      "Training Epoch: 97\n"
     ]
    },
    {
     "name": "stderr",
     "output_type": "stream",
     "text": [
      "100%|██████████| 391/391 [00:11<00:00, 35.32it/s]\n"
     ]
    },
    {
     "name": "stdout",
     "output_type": "stream",
     "text": [
      "Training Accuracy: 75.67\n",
      "Training Loss: 0.682\n",
      "\n",
      "Testing Epoch: 97\n"
     ]
    },
    {
     "name": "stderr",
     "output_type": "stream",
     "text": [
      "100%|██████████| 79/79 [00:00<00:00, 89.57it/s] \n"
     ]
    },
    {
     "name": "stdout",
     "output_type": "stream",
     "text": [
      "Test Accuracy: 74.22\n",
      "Test Loss: 0.745\n",
      "Time taken for epoch 98: 11.95 seconds\n",
      "Peak GPU memory usage: 0.49 GB\n",
      "Estimated TFLOPs for epoch 98: 53.4587\n",
      "\n",
      "Training Epoch: 98\n"
     ]
    },
    {
     "name": "stderr",
     "output_type": "stream",
     "text": [
      "100%|██████████| 391/391 [00:11<00:00, 35.43it/s]\n"
     ]
    },
    {
     "name": "stdout",
     "output_type": "stream",
     "text": [
      "Training Accuracy: 75.79\n",
      "Training Loss: 0.680\n",
      "\n",
      "Testing Epoch: 98\n"
     ]
    },
    {
     "name": "stderr",
     "output_type": "stream",
     "text": [
      "100%|██████████| 79/79 [00:01<00:00, 65.20it/s]\n"
     ]
    },
    {
     "name": "stdout",
     "output_type": "stream",
     "text": [
      "Test Accuracy: 73.98\n",
      "Test Loss: 0.739\n",
      "Time taken for epoch 99: 12.25 seconds\n",
      "Peak GPU memory usage: 0.49 GB\n",
      "Estimated TFLOPs for epoch 99: 53.4587\n",
      "\n",
      "Training Epoch: 99\n"
     ]
    },
    {
     "name": "stderr",
     "output_type": "stream",
     "text": [
      "100%|██████████| 391/391 [00:11<00:00, 35.28it/s]\n"
     ]
    },
    {
     "name": "stdout",
     "output_type": "stream",
     "text": [
      "Training Accuracy: 76.12\n",
      "Training Loss: 0.675\n",
      "\n",
      "Testing Epoch: 99\n"
     ]
    },
    {
     "name": "stderr",
     "output_type": "stream",
     "text": [
      "100%|██████████| 79/79 [00:00<00:00, 82.11it/s]"
     ]
    },
    {
     "name": "stdout",
     "output_type": "stream",
     "text": [
      "Test Accuracy: 73.94\n",
      "Test Loss: 0.734\n",
      "Time taken for epoch 100: 12.05 seconds\n",
      "Peak GPU memory usage: 0.49 GB\n",
      "Estimated TFLOPs for epoch 100: 53.4587\n",
      "Total training time: 1076.36 seconds\n",
      "Final model saved at: ./baseline_vit_checkpoint/VIT_CIFAR10_checkpoint_epoch_final.pt\n"
     ]
    },
    {
     "name": "stderr",
     "output_type": "stream",
     "text": [
      "\n"
     ]
    }
   ],
   "source": [
    "import time\n",
    "train_accs = []\n",
    "test_accs = []\n",
    "\n",
    "# Set up CUDA memory tracking\n",
    "torch.cuda.reset_peak_memory_stats(device)  # Reset memory tracking\n",
    "start_time = time.time()\n",
    "for epoch in range(epochs):\n",
    "    epoch_start = time.time()\n",
    "    # Track peak memory usage\n",
    "    torch.cuda.memory_allocated(device)  # Ensure PyTorch updates memory usage tracking\n",
    "    torch.cuda.reset_peak_memory_stats(device)\n",
    "    \n",
    "    train_acc, train_loss = train(epoch)\n",
    "    test_acc, test_loss = test(epoch)\n",
    "    train_accs.append(train_acc)\n",
    "    test_accs.append(test_acc)\n",
    "    \n",
    "    epoch_time = time.time() - epoch_start\n",
    "    print(f\"Time taken for epoch {epoch+1}: {epoch_time:.2f} seconds\")\n",
    "    # Track peak GPU memory usage\n",
    "    peak_memory = torch.cuda.max_memory_allocated(device) / (1024**3)  # Convert to GB\n",
    "    print(f\"Peak GPU memory usage: {peak_memory:.2f} GB\")\n",
    "    \n",
    "    # TFLOPs estimation for each epoch\n",
    "    input_resolution = 32  # CIFAR-10 image size\n",
    "    flops_per_image = (2 * total_params * input_resolution * input_resolution) / 1e12  # Approx. FLOPs per image\n",
    "    total_tflops = flops_per_image * len(trainloader.dataset)  # TFLOPs per epoch\n",
    "    print(f\"Estimated TFLOPs for epoch {epoch+1}: {total_tflops:.4f}\")\n",
    "    \n",
    "    if (epoch+1)%5 == 0:\n",
    "        checkpoint_path = os.path.join(save_dir, f\"VIT_CIFAR10_checkpoint_epoch_{epoch+1}.pt\")\n",
    "        torch.save({\n",
    "            'epoch': epoch+1,\n",
    "            'model': model.state_dict(),\n",
    "            'optimizer': optimizer.state_dict(),\n",
    "            'scheduler': scheduler.state_dict(),\n",
    "            'train_acc': train_accs,\n",
    "            'test_acc': test_accs\n",
    "        }, checkpoint_path)\n",
    "        \n",
    "# End timing after training\n",
    "total_training_time = time.time() - start_time\n",
    "print(f\"Total training time: {total_training_time:.2f} seconds\")\n",
    "\n",
    "# Save final model checkpoint\n",
    "final_checkpoint_path =  os.path.join(save_dir, f\"VIT_CIFAR10_checkpoint_epoch_final.pt\")\n",
    "torch.save({\n",
    "    'epoch': epochs,\n",
    "    'model': model.state_dict(),\n",
    "    'optimizer': optimizer.state_dict(),\n",
    "    'scheduler': scheduler.state_dict(),\n",
    "    'train_acc': train_accs,\n",
    "    'test_acc': test_accs\n",
    "}, final_checkpoint_path)\n",
    "\n",
    "print(f\"Final model saved at: {final_checkpoint_path}\")\n"
   ]
  },
  {
   "cell_type": "code",
   "execution_count": 25,
   "metadata": {},
   "outputs": [
    {
     "data": {
      "text/plain": [
       "<matplotlib.legend.Legend at 0x77301c562c60>"
      ]
     },
     "execution_count": 25,
     "metadata": {},
     "output_type": "execute_result"
    },
    {
     "data": {
      "image/png": "[encoded data removed]",
      "text/plain": [
       "<Figure size 640x480 with 1 Axes>"
      ]
     },
     "metadata": {},
     "output_type": "display_data"
    }
   ],
   "source": [
    "import seaborn as sns\n",
    "import matplotlib.pyplot as plt\n",
    "train_accs_gpu = train_accs.copy()\n",
    "test_accs_gpu = test_accs.copy()\n",
    "# train_accs_cpu = [acc.cpu().item() for acc in train_accs_gpu]\n",
    "# test_accs_cpu = [acc.cpu().item() for acc in test_accs_gpu]\n",
    "# print(train_accs)\n",
    "# print(test_accs)\n",
    "plt.plot(range(1, 101), train_accs_gpu, label='Train Accuracy')\n",
    "plt.plot(range(1, 101), test_accs_gpu, label='Test Accuracy')\n",
    "\n",
    "plt.xlabel(\"Epochs\")\n",
    "plt.ylabel(\"Accuracy\")\n",
    "\n",
    "plt.title(\"Train vs Test Accuracy\")\n",
    "plt.legend(loc='lower right')"
   ]
  },
  {
   "cell_type": "code",
   "execution_count": null,
   "metadata": {},
   "outputs": [],
   "source": []
  },
  {
   "cell_type": "code",
   "execution_count": 26,
   "metadata": {},
   "outputs": [
    {
     "data": {
      "text/plain": [
       "VisionTransformer(\n",
       "  (patch_to_embed): Linear(in_features=48, out_features=128, bias=True)\n",
       "  (transformer): Transformer(\n",
       "    (trans_blocks): ModuleList(\n",
       "      (0-5): 6 x TransformerBlock(\n",
       "        (norm1): LayerNorm((128,), eps=1e-05, elementwise_affine=True)\n",
       "        (attention): Attention(\n",
       "          (query): Linear(in_features=128, out_features=128, bias=True)\n",
       "          (key): Linear(in_features=128, out_features=128, bias=True)\n",
       "          (value): Linear(in_features=128, out_features=128, bias=True)\n",
       "          (softmax): Softmax(dim=-1)\n",
       "          (activation): Identity()\n",
       "          (dropout): Dropout(p=0.1, inplace=False)\n",
       "        )\n",
       "        (norm2): LayerNorm((128,), eps=1e-05, elementwise_affine=True)\n",
       "        (feed_forward): FeedForward(\n",
       "          (fc1): Linear(in_features=128, out_features=128, bias=True)\n",
       "          (activation): GELU(approximate='none')\n",
       "          (fc2): Linear(in_features=128, out_features=128, bias=True)\n",
       "          (dropout): Dropout(p=0.1, inplace=False)\n",
       "        )\n",
       "      )\n",
       "    )\n",
       "  )\n",
       "  (classification_head): ClassificationHead(\n",
       "    (fc1): Linear(in_features=128, out_features=64, bias=True)\n",
       "    (activation): GELU(approximate='none')\n",
       "    (fc2): Linear(in_features=64, out_features=10, bias=True)\n",
       "    (softmax): Softmax(dim=-1)\n",
       "    (dropout): Dropout(p=0.1, inplace=False)\n",
       "  )\n",
       ")"
      ]
     },
     "execution_count": 26,
     "metadata": {},
     "output_type": "execute_result"
    }
   ],
   "source": [
    "model.eval()"
   ]
  },
  {
   "cell_type": "code",
   "execution_count": null,
   "metadata": {},
   "outputs": [],
   "source": [
    "import psutil\n",
    "from thop import profile\n",
    "def calculate_accuracy(model, dataloader):\n",
    "    correct = total = 0\n",
    "    with torch.no_grad():\n",
    "        for images, labels in dataloader:\n",
    "            images, labels = images.to(device), labels.to(device)\n",
    "            # print(images.shape)\n",
    "            outputs,_ = model(images)\n",
    "            _, predicted = outputs.max(1)\n",
    "            total += labels.size(0)\n",
    "            correct += (predicted == labels).sum().item()\n",
    "    return correct / total\n",
    "\n",
    "# --- 2. Inference Speed and Latency ---\n",
    "def benchmark_inference(model, input_shape=(1, 3, 32, 32), runs=100):\n",
    "    dummy_input = torch.randn(input_shape).to(device)\n",
    "    torch.cuda.synchronize()\n",
    "    start = time.time()\n",
    "    for i in range(runs):\n",
    "        output,_ = model(dummy_input)\n",
    "    torch.cuda.synchronize()\n",
    "    total_time = time.time() - start\n",
    "    latency = total_time / runs\n",
    "    throughput = runs / total_time\n",
    "    return latency, throughput\n",
    "\n",
    "# --- 3. Model Size ---\n",
    "def get_model_size(model, temp_path='temp.pth'):\n",
    "    torch.save(model.state_dict(), temp_path)\n",
    "    size_mb = os.path.getsize(temp_path) / 1e6\n",
    "    os.remove(temp_path)\n",
    "    return size_mb\n",
    "\n",
    "# --- 4. Memory Usage (estimated by RAM during execution) ---\n",
    "def get_memory_usage():\n",
    "    process = psutil.Process(os.getpid())\n",
    "    mem = process.memory_info().rss / 1e6  # in MB\n",
    "    return mem\n",
    "\n",
    "# --- 5. FLOPs and Parameters ---\n",
    "def get_flops(model, input_shape=(1, 3, 32, 32)):\n",
    "    dummy_input = torch.randn(input_shape).to(device)\n",
    "    flops, params = profile(model, inputs=(dummy_input,), verbose=False)\n",
    "    return flops / 1e9, params / 1e6  # GFLOPs and MParams\n",
    "\n",
    "# --- 6. Estimate Power Usage ---\n",
    "def estimate_power(flops, latency):\n",
    "    # Rough estimate: 1 GFLOP = ~0.1 Watt-sec (example heuristic)\n",
    "    energy = flops * 0.1  # Watt-seconds\n",
    "    power = energy / latency  # Watts\n",
    "    return power\n",
    "\n",
    "# --- Run all metrics ---\n",
    "accuracy = calculate_accuracy(model, testloader)\n",
    "latency, speed = benchmark_inference(model)\n",
    "model_size = get_model_size(model)\n",
    "mem_usage = get_memory_usage()\n",
    "flops, params = get_flops(model)\n",
    "power = estimate_power(flops, latency)\n",
    "\n",
    "# --- Print results ---\n",
    "print(f\"Accuracy: {accuracy:.4f}\")\n",
    "print(f\"Inference Latency: {latency*1000:.2f} ms\")\n",
    "print(f\"Inference Speed: {speed:.2f} samples/sec\")\n",
    "print(f\"Model Size: {model_size:.2f} MB\")\n",
    "print(f\"Memory Usage (runtime): {mem_usage:.2f} MB\")\n",
    "print(f\"FLOPs: {flops:.2f} GFLOPs\")\n",
    "print(f\"Parameters: {params:.2f} Million\")\n",
    "print(f\"Estimated Power: {power:.2f} Watts\")"
   ]
  },
  {
   "cell_type": "code",
   "execution_count": null,
   "metadata": {},
   "outputs": [],
   "source": [
    "# Accuracy: 0.6880\n",
    "# Inference Latency: 1.36 ms\n",
    "# Inference Speed: 732.69 samples/sec\n",
    "# Model Size: 2.14 MB\n",
    "# Memory Usage (runtime): 1487.27 MB\n",
    "# FLOPs: 0.03 GFLOPs\n",
    "# Parameters: 0.51 Million\n",
    "# Estimated Power: 2.44 Watts"
   ]
  },
  {
   "cell_type": "code",
   "execution_count": 20,
   "metadata": {},
   "outputs": [
    {
     "data": {
      "text/plain": [
       "ModuleList(\n",
       "  (0-5): 6 x TransformerBlock(\n",
       "    (norm1): LayerNorm((128,), eps=1e-05, elementwise_affine=True)\n",
       "    (attention): Attention(\n",
       "      (query): Linear(in_features=128, out_features=128, bias=True)\n",
       "      (key): Linear(in_features=128, out_features=128, bias=True)\n",
       "      (value): Linear(in_features=128, out_features=128, bias=True)\n",
       "      (softmax): Softmax(dim=-1)\n",
       "      (activation): Identity()\n",
       "      (dropout): Dropout(p=0.1, inplace=False)\n",
       "    )\n",
       "    (norm2): LayerNorm((128,), eps=1e-05, elementwise_affine=True)\n",
       "    (feed_forward): FeedForward(\n",
       "      (fc1): Linear(in_features=128, out_features=128, bias=True)\n",
       "      (activation): GELU(approximate='none')\n",
       "      (fc2): Linear(in_features=128, out_features=128, bias=True)\n",
       "      (dropout): Dropout(p=0.1, inplace=False)\n",
       "    )\n",
       "  )\n",
       ")"
      ]
     },
     "execution_count": 20,
     "metadata": {},
     "output_type": "execute_result"
    }
   ],
   "source": [
    "model.transformer.trans_blocks"
   ]
  },
  {
   "cell_type": "code",
   "execution_count": 21,
   "metadata": {},
   "outputs": [],
   "source": [
    "model = VisionTransformer(\n",
    "    patch_size=patch_size,\n",
    "    max_len=max_len,\n",
    "    embed_dim=embed_dim,\n",
    "    classes=classes,\n",
    "    layers=layers,\n",
    "    channels=channels,\n",
    "    heads=heads)"
   ]
  },
  {
   "cell_type": "code",
   "execution_count": 22,
   "metadata": {},
   "outputs": [
    {
     "data": {
      "text/plain": [
       "VisionTransformer(\n",
       "  (patch_to_embed): Linear(in_features=48, out_features=128, bias=True)\n",
       "  (transformer): Transformer(\n",
       "    (trans_blocks): ModuleList(\n",
       "      (0-5): 6 x TransformerBlock(\n",
       "        (norm1): LayerNorm((128,), eps=1e-05, elementwise_affine=True)\n",
       "        (attention): Attention(\n",
       "          (query): Linear(in_features=128, out_features=128, bias=True)\n",
       "          (key): Linear(in_features=128, out_features=128, bias=True)\n",
       "          (value): Linear(in_features=128, out_features=128, bias=True)\n",
       "          (softmax): Softmax(dim=-1)\n",
       "          (activation): Identity()\n",
       "          (dropout): Dropout(p=0.1, inplace=False)\n",
       "        )\n",
       "        (norm2): LayerNorm((128,), eps=1e-05, elementwise_affine=True)\n",
       "        (feed_forward): FeedForward(\n",
       "          (fc1): Linear(in_features=128, out_features=128, bias=True)\n",
       "          (activation): GELU(approximate='none')\n",
       "          (fc2): Linear(in_features=128, out_features=128, bias=True)\n",
       "          (dropout): Dropout(p=0.1, inplace=False)\n",
       "        )\n",
       "      )\n",
       "    )\n",
       "  )\n",
       "  (classification_head): ClassificationHead(\n",
       "    (fc1): Linear(in_features=128, out_features=64, bias=True)\n",
       "    (activation): GELU(approximate='none')\n",
       "    (fc2): Linear(in_features=64, out_features=10, bias=True)\n",
       "    (softmax): Softmax(dim=-1)\n",
       "    (dropout): Dropout(p=0.1, inplace=False)\n",
       "  )\n",
       ")"
      ]
     },
     "execution_count": 22,
     "metadata": {},
     "output_type": "execute_result"
    }
   ],
   "source": [
    "checkpoint = torch.load('./baseline_vit_checkpoint/VIT_CIFAR10_checkpoint_epoch_final.pt', map_location='cuda' if torch.cuda.is_available() else 'cpu')\n",
    "\n",
    "model.load_state_dict(checkpoint['model'])\n",
    "model.eval().to(device)"
   ]
  },
  {
   "cell_type": "code",
   "execution_count": 26,
   "metadata": {},
   "outputs": [],
   "source": [
    "import time\n",
    "import os"
   ]
  },
  {
   "cell_type": "code",
   "execution_count": 27,
   "metadata": {},
   "outputs": [
    {
     "name": "stdout",
     "output_type": "stream",
     "text": [
      "Accuracy: 0.7394\n",
      "Inference Latency: 1.67 ms\n",
      "Inference Speed: 599.15 samples/sec\n",
      "Model Size: 2.12 MB\n",
      "Memory Usage (runtime): 1128.40 MB\n",
      "FLOPs: 0.03 GFLOPs\n",
      "Parameters: 0.51 Million\n",
      "Estimated Power: 2.00 Watts\n"
     ]
    }
   ],
   "source": [
    "# --- Run all metrics ---\n",
    "accuracy = calculate_accuracy(model, testloader)\n",
    "latency, speed = benchmark_inference(model)\n",
    "model_size = get_model_size(model)\n",
    "mem_usage = get_memory_usage()\n",
    "flops, params = get_flops(model)\n",
    "power = estimate_power(flops, latency)\n",
    "\n",
    "# --- Print results ---\n",
    "print(f\"Accuracy: {accuracy:.4f}\")\n",
    "print(f\"Inference Latency: {latency*1000:.2f} ms\")\n",
    "print(f\"Inference Speed: {speed:.2f} samples/sec\")\n",
    "print(f\"Model Size: {model_size:.2f} MB\")\n",
    "print(f\"Memory Usage (runtime): {mem_usage:.2f} MB\")\n",
    "print(f\"FLOPs: {flops:.2f} GFLOPs\")\n",
    "print(f\"Parameters: {params:.2f} Million\")\n",
    "print(f\"Estimated Power: {power:.2f} Watts\")"
   ]
  },
  {
   "cell_type": "code",
   "execution_count": 166,
   "metadata": {},
   "outputs": [],
   "source": [
    "loaded_model = VisionTransformer(\n",
    "    patch_size=patch_size,\n",
    "    max_len=max_len,\n",
    "    embed_dim=embed_dim,\n",
    "    classes=classes,\n",
    "    layers=layers,\n",
    "    channels=channels,\n",
    "    heads=heads)"
   ]
  },
  {
   "cell_type": "code",
   "execution_count": 167,
   "metadata": {},
   "outputs": [],
   "source": [
    "# checkpoint.keys()"
   ]
  },
  {
   "cell_type": "code",
   "execution_count": 168,
   "metadata": {},
   "outputs": [
    {
     "data": {
      "text/plain": [
       "VisionTransformer(\n",
       "  (patch_to_embed): Linear(in_features=48, out_features=128, bias=True)\n",
       "  (transformer): Transformer(\n",
       "    (trans_blocks): ModuleList(\n",
       "      (0-5): 6 x TransformerBlock(\n",
       "        (norm1): LayerNorm((128,), eps=1e-05, elementwise_affine=True)\n",
       "        (attention): Attention(\n",
       "          (query): Linear(in_features=128, out_features=128, bias=True)\n",
       "          (key): Linear(in_features=128, out_features=128, bias=True)\n",
       "          (value): Linear(in_features=128, out_features=128, bias=True)\n",
       "          (softmax): Softmax(dim=-1)\n",
       "          (activation): Identity()\n",
       "          (dropout): Dropout(p=0.1, inplace=False)\n",
       "        )\n",
       "        (norm2): LayerNorm((128,), eps=1e-05, elementwise_affine=True)\n",
       "        (feed_forward): FeedForward(\n",
       "          (fc1): Linear(in_features=128, out_features=128, bias=True)\n",
       "          (activation): GELU(approximate='none')\n",
       "          (fc2): Linear(in_features=128, out_features=128, bias=True)\n",
       "          (dropout): Dropout(p=0.1, inplace=False)\n",
       "        )\n",
       "      )\n",
       "    )\n",
       "  )\n",
       "  (classification_head): ClassificationHead(\n",
       "    (fc1): Linear(in_features=128, out_features=64, bias=True)\n",
       "    (activation): GELU(approximate='none')\n",
       "    (fc2): Linear(in_features=64, out_features=10, bias=True)\n",
       "    (softmax): Softmax(dim=-1)\n",
       "    (dropout): Dropout(p=0.1, inplace=False)\n",
       "  )\n",
       ")"
      ]
     },
     "execution_count": 168,
     "metadata": {},
     "output_type": "execute_result"
    }
   ],
   "source": [
    "checkpoint = torch.load('./baseline_vit_checkpoint/VIT_CIFAR10_checkpoint_epoch_final.pt', map_location='cuda' if torch.cuda.is_available() else 'cpu')\n",
    "\n",
    "loaded_model.load_state_dict(checkpoint['model'])\n",
    "loaded_model.eval().to(device)"
   ]
  },
  {
   "cell_type": "code",
   "execution_count": 169,
   "metadata": {},
   "outputs": [],
   "source": [
    "import torch.nn.utils.prune as prune\n",
    "def prune_mlp_neurons(model, ratio=0.4):\n",
    "    for block in model.transformer.trans_blocks:\n",
    "        for layer in [block.feed_forward.fc1, block.feed_forward.fc2]:\n",
    "            prune.ln_structured(layer, name='weight', amount=ratio, n=1, dim=0)\n",
    "            prune.remove(layer, 'weight')\n",
    "    print(f\"🔧 Pruned {int(ratio*100)}% of MLP neurons in fc1 and fc2.\")"
   ]
  },
  {
   "cell_type": "code",
   "execution_count": 170,
   "metadata": {},
   "outputs": [],
   "source": [
    "def prune_attention_heads(model, num_heads=6, keep_heads=[0, 1, 2, 3]):\n",
    "    for block in model.transformer.trans_blocks:\n",
    "        for proj_name in ['query', 'key', 'value']:\n",
    "            proj = getattr(block.attention, proj_name)\n",
    "            w = proj.weight.data\n",
    "            b = proj.bias.data if proj.bias is not None else None\n",
    "\n",
    "            head_dim = w.shape[0] // num_heads\n",
    "            kept_indices = []\n",
    "            for h in keep_heads:\n",
    "                kept_indices.extend(range(h * head_dim, (h + 1) * head_dim))\n",
    "            w_pruned = w[kept_indices, :]\n",
    "            proj.weight = torch.nn.Parameter(w_pruned)\n",
    "\n",
    "            if b is not None:\n",
    "                b_pruned = b[kept_indices]\n",
    "                proj.bias = torch.nn.Parameter(b_pruned)\n",
    "    print(f\"🔧 Kept attention heads: {keep_heads}\")"
   ]
  },
  {
   "cell_type": "code",
   "execution_count": 171,
   "metadata": {},
   "outputs": [],
   "source": [
    "def prune_transformer_blocks(model, keep_ratio=0.8):\n",
    "    blocks = model.transformer.trans_blocks\n",
    "    scores = []\n",
    "    for block in blocks:\n",
    "        score = torch.norm(block.feed_forward.fc1.weight, p=2).item() + \\\n",
    "                torch.norm(block.attention.query.weight, p=2).item()\n",
    "        scores.append(score)\n",
    "\n",
    "    keep_count = int(len(blocks) * keep_ratio)\n",
    "    topk_idx = sorted(range(len(scores)), key=lambda i: scores[i], reverse=True)[:keep_count]\n",
    "    new_blocks = [block for i, block in enumerate(blocks) if i in topk_idx]\n",
    "    model.transformer.trans_blocks = torch.nn.ModuleList(new_blocks)\n",
    "\n",
    "    print(f\"🔧 Kept top {keep_count}/{len(blocks)} Transformer blocks (based on norm).\")\n"
   ]
  },
  {
   "cell_type": "code",
   "execution_count": 172,
   "metadata": {},
   "outputs": [
    {
     "name": "stdout",
     "output_type": "stream",
     "text": [
      "🔧 Pruned 30% of MLP neurons in fc1 and fc2.\n"
     ]
    }
   ],
   "source": [
    "prune_mlp_neurons(loaded_model, ratio=0.3)"
   ]
  },
  {
   "cell_type": "code",
   "execution_count": 173,
   "metadata": {},
   "outputs": [],
   "source": [
    "#prune_transformer_blocks(loaded_model, keep_ratio=0.8)"
   ]
  },
  {
   "cell_type": "code",
   "execution_count": 174,
   "metadata": {},
   "outputs": [
    {
     "name": "stdout",
     "output_type": "stream",
     "text": [
      "0.688\n"
     ]
    }
   ],
   "source": [
    "print(calculate_accuracy(loaded_model, testloader))"
   ]
  },
  {
   "cell_type": "code",
   "execution_count": 177,
   "metadata": {},
   "outputs": [
    {
     "name": "stdout",
     "output_type": "stream",
     "text": [
      "Accuracy: 0.6880\n",
      "Inference Latency: 1.35 ms\n",
      "Inference Speed: 741.93 samples/sec\n",
      "Model Size: 2.14 MB\n",
      "Memory Usage (runtime): 1492.16 MB\n",
      "FLOPs: 0.03 GFLOPs\n",
      "Parameters: 0.51 Million\n",
      "Estimated Power: 2.47 Watts\n"
     ]
    }
   ],
   "source": [
    "# --- Run all metrics ---\n",
    "accuracy = calculate_accuracy(loaded_model, testloader)\n",
    "latency, speed = benchmark_inference(loaded_model)\n",
    "model_size = get_model_size(loaded_model)\n",
    "mem_usage = get_memory_usage()\n",
    "flops, params = get_flops(loaded_model)\n",
    "power = estimate_power(flops, latency)\n",
    "\n",
    "# --- Print results ---\n",
    "print(f\"Accuracy: {accuracy:.4f}\")\n",
    "print(f\"Inference Latency: {latency*1000:.2f} ms\")\n",
    "print(f\"Inference Speed: {speed:.2f} samples/sec\")\n",
    "print(f\"Model Size: {model_size:.2f} MB\")\n",
    "print(f\"Memory Usage (runtime): {mem_usage:.2f} MB\")\n",
    "print(f\"FLOPs: {flops:.2f} GFLOPs\")\n",
    "print(f\"Parameters: {params:.2f} Million\")\n",
    "print(f\"Estimated Power: {power:.2f} Watts\")"
   ]
  },
  {
   "cell_type": "code",
   "execution_count": null,
   "metadata": {},
   "outputs": [],
   "source": []
  },
  {
   "cell_type": "code",
   "execution_count": null,
   "metadata": {},
   "outputs": [],
   "source": []
  }
 ],
 "metadata": {
  "kernelspec": {
   "display_name": "torch_env",
   "language": "python",
   "name": "python3"
  },
  "language_info": {
   "codemirror_mode": {
    "name": "ipython",
    "version": 3
   },
   "file_extension": ".py",
   "mimetype": "text/x-python",
   "name": "python",
   "nbconvert_exporter": "python",
   "pygments_lexer": "ipython3",
   "version": "3.12.0"
  }
 },
 "nbformat": 4,
 "nbformat_minor": 2
}
