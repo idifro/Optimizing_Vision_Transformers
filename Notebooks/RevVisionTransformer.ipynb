{
 "cells": [
  {
   "cell_type": "code",
   "execution_count": 1,
   "metadata": {},
   "outputs": [],
   "source": [
    "from rev import RevViT\n",
    "import torch\n",
    "import torch.backends.cudnn as cudnn\n",
    "import torch.nn as nn\n",
    "import torch.nn.functional as F\n",
    "import torch.optim as optim\n",
    "import torchvision\n",
    "import torchvision.transforms as transforms\n",
    "from torch.amp import GradScaler"
   ]
  },
  {
   "cell_type": "code",
   "execution_count": 2,
   "metadata": {},
   "outputs": [
    {
     "name": "stdout",
     "output_type": "stream",
     "text": [
      "GPU:  NVIDIA RTX A3000 Laptop GPU\n"
     ]
    }
   ],
   "source": [
    "if torch.cuda.is_available():\n",
    "    device = torch.device(\"cuda\")\n",
    "    print('GPU: ', torch.cuda.get_device_name(0))\n",
    "\n",
    "else:\n",
    "    device = torch.device(\"cpu\")\n",
    "    print('No GPU available')"
   ]
  },
  {
   "cell_type": "code",
   "execution_count": 3,
   "metadata": {},
   "outputs": [],
   "source": [
    "transform_train = transforms.Compose(\n",
    "    [\n",
    "        transforms.RandomCrop(32, padding=4),\n",
    "        transforms.RandomHorizontalFlip(),\n",
    "        transforms.ToTensor(),\n",
    "        transforms.Normalize(\n",
    "            (0.4914, 0.4822, 0.4465), (0.2023, 0.1994, 0.2010)\n",
    "        ),\n",
    "    ]\n",
    ")\n",
    "\n",
    "transform_test = transforms.Compose(\n",
    "    [\n",
    "        transforms.ToTensor(),\n",
    "        transforms.Normalize(\n",
    "            (0.4914, 0.4822, 0.4465), (0.2023, 0.1994, 0.2010)\n",
    "        ),\n",
    "    ]\n",
    ")"
   ]
  },
  {
   "cell_type": "code",
   "execution_count": 4,
   "metadata": {},
   "outputs": [],
   "source": [
    "# Parameters\n",
    "batch_size = 128 \n",
    "embed_dim = 128\n",
    "depth = 6\n",
    "n_head = 8\n",
    "epochs = 100\n",
    "lr = 1e-3\n",
    "patch_size = (4,4)\n",
    "image_size = (32,32)\n",
    "num_classes = 10\n",
    "amp = False\n"
   ]
  },
  {
   "cell_type": "code",
   "execution_count": 5,
   "metadata": {},
   "outputs": [],
   "source": [
    "trainset = torchvision.datasets.CIFAR10(\n",
    "    root=\"./data\", train=True, download=True, transform=transform_train\n",
    ")\n",
    "trainloader = torch.utils.data.DataLoader(\n",
    "    trainset, batch_size=batch_size, shuffle=True, num_workers=2\n",
    ")\n",
    "\n",
    "testset = torchvision.datasets.CIFAR10(\n",
    "    root=\"./data\", train=False, download=True, transform=transform_test\n",
    ")\n",
    "testloader = torch.utils.data.DataLoader(\n",
    "    testset, batch_size=batch_size, shuffle=False, num_workers=2\n",
    ")"
   ]
  },
  {
   "cell_type": "code",
   "execution_count": 6,
   "metadata": {},
   "outputs": [],
   "source": [
    "# del model\n",
    "torch.cuda.empty_cache()"
   ]
  },
  {
   "cell_type": "code",
   "execution_count": 7,
   "metadata": {},
   "outputs": [
    {
     "data": {
      "text/plain": [
       "64"
      ]
     },
     "execution_count": 7,
     "metadata": {},
     "output_type": "execute_result"
    }
   ],
   "source": [
    "num_patches = (image_size[0] // patch_size[0]) * (\n",
    "            image_size[1] // patch_size[1]\n",
    "        )\n",
    "num_patches"
   ]
  },
  {
   "cell_type": "code",
   "execution_count": 8,
   "metadata": {},
   "outputs": [],
   "source": [
    "rev_arch = RevViT\n",
    "\n",
    "model = rev_arch(\n",
    "    embed_dim=embed_dim,\n",
    "    n_head=n_head,\n",
    "    depth=depth,\n",
    "    patch_size=patch_size,\n",
    "    image_size=image_size,\n",
    "    num_classes=num_classes,\n",
    "    enable_amp=amp,\n",
    ")"
   ]
  },
  {
   "cell_type": "code",
   "execution_count": 9,
   "metadata": {},
   "outputs": [
    {
     "data": {
      "text/plain": [
       "RevViT(\n",
       "  (layers): ModuleList(\n",
       "    (0-5): 6 x ReversibleBlock(\n",
       "      (F): AttentionSubBlock(\n",
       "        (norm): LayerNorm((128,), eps=1e-06, elementwise_affine=True)\n",
       "        (attn): MultiheadAttention(\n",
       "          (out_proj): NonDynamicallyQuantizableLinear(in_features=128, out_features=128, bias=True)\n",
       "        )\n",
       "      )\n",
       "      (G): MLPSubblock(\n",
       "        (norm): LayerNorm((128,), eps=1e-05, elementwise_affine=True)\n",
       "        (mlp): Sequential(\n",
       "          (0): Linear(in_features=128, out_features=512, bias=True)\n",
       "          (1): GELU(approximate='none')\n",
       "          (2): Linear(in_features=512, out_features=128, bias=True)\n",
       "        )\n",
       "      )\n",
       "    )\n",
       "  )\n",
       "  (patch_embed): Conv2d(3, 128, kernel_size=(4, 4), stride=(4, 4))\n",
       "  (head): Linear(in_features=256, out_features=10, bias=True)\n",
       "  (norm): LayerNorm((256,), eps=1e-05, elementwise_affine=True)\n",
       ")"
      ]
     },
     "execution_count": 9,
     "metadata": {},
     "output_type": "execute_result"
    }
   ],
   "source": [
    "model"
   ]
  },
  {
   "cell_type": "code",
   "execution_count": 10,
   "metadata": {},
   "outputs": [],
   "source": [
    "model = model.to(device)\n",
    "\n",
    "model.no_custom_backward = False\n",
    "criterion = nn.CrossEntropyLoss()\n",
    "optimizer = optim.Adam(model.parameters(), lr=lr)\n",
    "scheduler = torch.optim.lr_scheduler.CosineAnnealingLR(optimizer, epochs)\n",
    "scaler = GradScaler()"
   ]
  },
  {
   "cell_type": "code",
   "execution_count": 11,
   "metadata": {},
   "outputs": [
    {
     "name": "stdout",
     "output_type": "stream",
     "text": [
      "Total Parameters: 1,207,178\n"
     ]
    }
   ],
   "source": [
    "# Get model parameter count\n",
    "total_params = sum(p.numel() for p in model.parameters())\n",
    "print(f\"Total Parameters: {total_params:,}\")"
   ]
  },
  {
   "cell_type": "code",
   "execution_count": 12,
   "metadata": {},
   "outputs": [
    {
     "name": "stdout",
     "output_type": "stream",
     "text": [
      "Model Size: 4.61 MB\n"
     ]
    }
   ],
   "source": [
    "# Estimate model size (assuming float32 parameters, 4 bytes each)\n",
    "model_size_mb = (total_params * 4) / (1024 * 1024)\n",
    "print(f\"Model Size: {model_size_mb:.2f} MB\")"
   ]
  },
  {
   "cell_type": "code",
   "execution_count": 13,
   "metadata": {},
   "outputs": [],
   "source": [
    "import warnings\n",
    "warnings.filterwarnings(\"ignore\")"
   ]
  },
  {
   "cell_type": "code",
   "execution_count": 14,
   "metadata": {},
   "outputs": [],
   "source": [
    "# Training\n",
    "from tqdm import tqdm\n",
    "def train(epoch):\n",
    "    print(\"\\nTraining Epoch: %d\" % epoch)\n",
    "    model.train()\n",
    "    train_loss = 0\n",
    "    correct = 0\n",
    "    total = 0\n",
    "    for batch_idx, (inputs, targets) in enumerate(tqdm(trainloader)):\n",
    "        # We do not need to specify AMP autocast in forward pass here since\n",
    "        # that is taken care of already in the forward of individual modules.\n",
    "        inputs, targets = inputs.to(device), targets.to(device)\n",
    "        outputs = model(inputs)\n",
    "        loss = criterion(outputs, targets)\n",
    "\n",
    "        # standard pytorch AMP training setup\n",
    "        # scaler also works without amp training.\n",
    "        scaler.scale(loss).backward()\n",
    "        scaler.step(optimizer)\n",
    "        scaler.update()\n",
    "        optimizer.zero_grad()\n",
    "\n",
    "        train_loss += loss.item()\n",
    "        _, predicted = outputs.max(1)\n",
    "        total += targets.size(0)\n",
    "        correct += predicted.eq(targets).sum().item()\n",
    "\n",
    "    print(f\"Training Accuracy:{100.*correct/total: 0.2f}\")\n",
    "    print(f\"Training Loss:{train_loss/(batch_idx+1): 0.3f}\")\n",
    "    return 100.0 * correct / total, train_loss / (batch_idx + 1)\n",
    "\n",
    "\n",
    "def test(epoch):\n",
    "    model.eval()\n",
    "    test_loss = 0\n",
    "    correct = 0\n",
    "    total = 0\n",
    "    print(\"\\nTesting Epoch: %d\" % epoch)\n",
    "    with torch.no_grad():\n",
    "        for batch_idx, (inputs, targets) in enumerate(tqdm(testloader)):\n",
    "            inputs, targets = inputs.to(device), targets.to(device)\n",
    "            outputs = model(inputs)\n",
    "            loss = criterion(outputs, targets)\n",
    "\n",
    "            test_loss += loss.item()\n",
    "            _, predicted = outputs.max(1)\n",
    "            total += targets.size(0)\n",
    "            correct += predicted.eq(targets).sum().item()\n",
    "\n",
    "        print(f\"Test Accuracy:{100.*correct/total: 0.2f}\")\n",
    "        print(f\"Test Loss:{test_loss/(batch_idx+1): 0.3f}\")\n",
    "        return 100.0 * correct / total, test_loss / (batch_idx + 1)"
   ]
  },
  {
   "cell_type": "code",
   "execution_count": 15,
   "metadata": {},
   "outputs": [],
   "source": [
    "import random\n",
    "\n",
    "import numpy as np\n",
    "\n",
    "seed = 0\n",
    "torch.manual_seed(seed)\n",
    "torch.cuda.manual_seed(seed)\n",
    "np.random.seed(seed)\n",
    "random.seed(seed)"
   ]
  },
  {
   "cell_type": "code",
   "execution_count": 16,
   "metadata": {},
   "outputs": [
    {
     "name": "stdout",
     "output_type": "stream",
     "text": [
      "FLOPs per inference step: 0.05 GFLOPs\n"
     ]
    }
   ],
   "source": [
    "from thop import profile\n",
    "dummy_input = torch.randn(1, 3, 32, 32).to(device)\n",
    "flops, _ = profile(model, inputs=(dummy_input,), verbose=False)\n",
    "print(f\"FLOPs per inference step: {flops / 1e9:.2f} GFLOPs\")"
   ]
  },
  {
   "cell_type": "code",
   "execution_count": 17,
   "metadata": {},
   "outputs": [
    {
     "name": "stdout",
     "output_type": "stream",
     "text": [
      "\n",
      "Training Epoch: 0\n"
     ]
    },
    {
     "name": "stderr",
     "output_type": "stream",
     "text": [
      "100%|██████████| 391/391 [00:36<00:00, 10.65it/s]\n"
     ]
    },
    {
     "name": "stdout",
     "output_type": "stream",
     "text": [
      "Training Accuracy: 35.55\n",
      "Training Loss: 1.733\n",
      "\n",
      "Testing Epoch: 0\n"
     ]
    },
    {
     "name": "stderr",
     "output_type": "stream",
     "text": [
      "100%|██████████| 79/79 [00:13<00:00,  6.00it/s]\n"
     ]
    },
    {
     "name": "stdout",
     "output_type": "stream",
     "text": [
      "Test Accuracy: 47.43\n",
      "Test Loss: 1.451\n",
      "Time taken for epoch 1: 49.92 seconds\n",
      "Peak GPU memory usage: 0.17 GB\n",
      "Estimated TFLOPs for epoch 1: 123.6150\n",
      "\n",
      "Training Epoch: 1\n"
     ]
    },
    {
     "name": "stderr",
     "output_type": "stream",
     "text": [
      "100%|██████████| 391/391 [00:35<00:00, 10.96it/s]\n"
     ]
    },
    {
     "name": "stdout",
     "output_type": "stream",
     "text": [
      "Training Accuracy: 49.38\n",
      "Training Loss: 1.389\n",
      "\n",
      "Testing Epoch: 1\n"
     ]
    },
    {
     "name": "stderr",
     "output_type": "stream",
     "text": [
      "100%|██████████| 79/79 [00:13<00:00,  5.94it/s]\n"
     ]
    },
    {
     "name": "stdout",
     "output_type": "stream",
     "text": [
      "Test Accuracy: 52.66\n",
      "Test Loss: 1.323\n",
      "Time taken for epoch 2: 48.99 seconds\n",
      "Peak GPU memory usage: 0.17 GB\n",
      "Estimated TFLOPs for epoch 2: 123.6150\n",
      "\n",
      "Training Epoch: 2\n"
     ]
    },
    {
     "name": "stderr",
     "output_type": "stream",
     "text": [
      "100%|██████████| 391/391 [00:34<00:00, 11.24it/s]\n"
     ]
    },
    {
     "name": "stdout",
     "output_type": "stream",
     "text": [
      "Training Accuracy: 55.61\n",
      "Training Loss: 1.230\n",
      "\n",
      "Testing Epoch: 2\n"
     ]
    },
    {
     "name": "stderr",
     "output_type": "stream",
     "text": [
      "100%|██████████| 79/79 [00:12<00:00,  6.20it/s]\n"
     ]
    },
    {
     "name": "stdout",
     "output_type": "stream",
     "text": [
      "Test Accuracy: 56.49\n",
      "Test Loss: 1.187\n",
      "Time taken for epoch 3: 47.54 seconds\n",
      "Peak GPU memory usage: 0.17 GB\n",
      "Estimated TFLOPs for epoch 3: 123.6150\n",
      "\n",
      "Training Epoch: 3\n"
     ]
    },
    {
     "name": "stderr",
     "output_type": "stream",
     "text": [
      "100%|██████████| 391/391 [00:34<00:00, 11.37it/s]\n"
     ]
    },
    {
     "name": "stdout",
     "output_type": "stream",
     "text": [
      "Training Accuracy: 59.48\n",
      "Training Loss: 1.126\n",
      "\n",
      "Testing Epoch: 3\n"
     ]
    },
    {
     "name": "stderr",
     "output_type": "stream",
     "text": [
      "100%|██████████| 79/79 [00:12<00:00,  6.27it/s]\n"
     ]
    },
    {
     "name": "stdout",
     "output_type": "stream",
     "text": [
      "Test Accuracy: 62.70\n",
      "Test Loss: 1.040\n",
      "Time taken for epoch 4: 47.00 seconds\n",
      "Peak GPU memory usage: 0.17 GB\n",
      "Estimated TFLOPs for epoch 4: 123.6150\n",
      "\n",
      "Training Epoch: 4\n"
     ]
    },
    {
     "name": "stderr",
     "output_type": "stream",
     "text": [
      "100%|██████████| 391/391 [00:34<00:00, 11.24it/s]\n"
     ]
    },
    {
     "name": "stdout",
     "output_type": "stream",
     "text": [
      "Training Accuracy: 62.40\n",
      "Training Loss: 1.050\n",
      "\n",
      "Testing Epoch: 4\n"
     ]
    },
    {
     "name": "stderr",
     "output_type": "stream",
     "text": [
      "100%|██████████| 79/79 [00:12<00:00,  6.27it/s]\n"
     ]
    },
    {
     "name": "stdout",
     "output_type": "stream",
     "text": [
      "Test Accuracy: 62.28\n",
      "Test Loss: 1.048\n",
      "Time taken for epoch 5: 47.40 seconds\n",
      "Peak GPU memory usage: 0.17 GB\n",
      "Estimated TFLOPs for epoch 5: 123.6150\n",
      "\n",
      "Training Epoch: 5\n"
     ]
    },
    {
     "name": "stderr",
     "output_type": "stream",
     "text": [
      "100%|██████████| 391/391 [00:34<00:00, 11.19it/s]\n"
     ]
    },
    {
     "name": "stdout",
     "output_type": "stream",
     "text": [
      "Training Accuracy: 65.10\n",
      "Training Loss: 0.981\n",
      "\n",
      "Testing Epoch: 5\n"
     ]
    },
    {
     "name": "stderr",
     "output_type": "stream",
     "text": [
      "100%|██████████| 79/79 [00:12<00:00,  6.16it/s]\n"
     ]
    },
    {
     "name": "stdout",
     "output_type": "stream",
     "text": [
      "Test Accuracy: 65.15\n",
      "Test Loss: 0.982\n",
      "Time taken for epoch 6: 47.77 seconds\n",
      "Peak GPU memory usage: 0.17 GB\n",
      "Estimated TFLOPs for epoch 6: 123.6150\n",
      "\n",
      "Training Epoch: 6\n"
     ]
    },
    {
     "name": "stderr",
     "output_type": "stream",
     "text": [
      "100%|██████████| 391/391 [00:34<00:00, 11.33it/s]\n"
     ]
    },
    {
     "name": "stdout",
     "output_type": "stream",
     "text": [
      "Training Accuracy: 66.89\n",
      "Training Loss: 0.927\n",
      "\n",
      "Testing Epoch: 6\n"
     ]
    },
    {
     "name": "stderr",
     "output_type": "stream",
     "text": [
      "100%|██████████| 79/79 [00:12<00:00,  6.24it/s]\n"
     ]
    },
    {
     "name": "stdout",
     "output_type": "stream",
     "text": [
      "Test Accuracy: 67.77\n",
      "Test Loss: 0.899\n",
      "Time taken for epoch 7: 47.16 seconds\n",
      "Peak GPU memory usage: 0.17 GB\n",
      "Estimated TFLOPs for epoch 7: 123.6150\n",
      "\n",
      "Training Epoch: 7\n"
     ]
    },
    {
     "name": "stderr",
     "output_type": "stream",
     "text": [
      "100%|██████████| 391/391 [00:34<00:00, 11.30it/s]\n"
     ]
    },
    {
     "name": "stdout",
     "output_type": "stream",
     "text": [
      "Training Accuracy: 68.64\n",
      "Training Loss: 0.885\n",
      "\n",
      "Testing Epoch: 7\n"
     ]
    },
    {
     "name": "stderr",
     "output_type": "stream",
     "text": [
      "100%|██████████| 79/79 [00:12<00:00,  6.29it/s]\n"
     ]
    },
    {
     "name": "stdout",
     "output_type": "stream",
     "text": [
      "Test Accuracy: 68.63\n",
      "Test Loss: 0.897\n",
      "Time taken for epoch 8: 47.17 seconds\n",
      "Peak GPU memory usage: 0.17 GB\n",
      "Estimated TFLOPs for epoch 8: 123.6150\n",
      "\n",
      "Training Epoch: 8\n"
     ]
    },
    {
     "name": "stderr",
     "output_type": "stream",
     "text": [
      "100%|██████████| 391/391 [00:35<00:00, 11.09it/s]\n"
     ]
    },
    {
     "name": "stdout",
     "output_type": "stream",
     "text": [
      "Training Accuracy: 69.95\n",
      "Training Loss: 0.842\n",
      "\n",
      "Testing Epoch: 8\n"
     ]
    },
    {
     "name": "stderr",
     "output_type": "stream",
     "text": [
      "100%|██████████| 79/79 [00:13<00:00,  5.73it/s]\n"
     ]
    },
    {
     "name": "stdout",
     "output_type": "stream",
     "text": [
      "Test Accuracy: 70.71\n",
      "Test Loss: 0.830\n",
      "Time taken for epoch 9: 49.05 seconds\n",
      "Peak GPU memory usage: 0.17 GB\n",
      "Estimated TFLOPs for epoch 9: 123.6150\n",
      "\n",
      "Training Epoch: 9\n"
     ]
    },
    {
     "name": "stderr",
     "output_type": "stream",
     "text": [
      "100%|██████████| 391/391 [00:35<00:00, 10.87it/s]\n"
     ]
    },
    {
     "name": "stdout",
     "output_type": "stream",
     "text": [
      "Training Accuracy: 71.44\n",
      "Training Loss: 0.804\n",
      "\n",
      "Testing Epoch: 9\n"
     ]
    },
    {
     "name": "stderr",
     "output_type": "stream",
     "text": [
      "100%|██████████| 79/79 [00:14<00:00,  5.44it/s]\n"
     ]
    },
    {
     "name": "stdout",
     "output_type": "stream",
     "text": [
      "Test Accuracy: 71.34\n",
      "Test Loss: 0.816\n",
      "Time taken for epoch 10: 50.51 seconds\n",
      "Peak GPU memory usage: 0.17 GB\n",
      "Estimated TFLOPs for epoch 10: 123.6150\n",
      "\n",
      "Training Epoch: 10\n"
     ]
    },
    {
     "name": "stderr",
     "output_type": "stream",
     "text": [
      "100%|██████████| 391/391 [00:35<00:00, 11.04it/s]\n"
     ]
    },
    {
     "name": "stdout",
     "output_type": "stream",
     "text": [
      "Training Accuracy: 72.68\n",
      "Training Loss: 0.774\n",
      "\n",
      "Testing Epoch: 10\n"
     ]
    },
    {
     "name": "stderr",
     "output_type": "stream",
     "text": [
      "100%|██████████| 79/79 [00:12<00:00,  6.20it/s]\n"
     ]
    },
    {
     "name": "stdout",
     "output_type": "stream",
     "text": [
      "Test Accuracy: 72.23\n",
      "Test Loss: 0.787\n",
      "Time taken for epoch 11: 48.15 seconds\n",
      "Peak GPU memory usage: 0.17 GB\n",
      "Estimated TFLOPs for epoch 11: 123.6150\n",
      "\n",
      "Training Epoch: 11\n"
     ]
    },
    {
     "name": "stderr",
     "output_type": "stream",
     "text": [
      "100%|██████████| 391/391 [00:35<00:00, 10.96it/s]\n"
     ]
    },
    {
     "name": "stdout",
     "output_type": "stream",
     "text": [
      "Training Accuracy: 73.50\n",
      "Training Loss: 0.743\n",
      "\n",
      "Testing Epoch: 11\n"
     ]
    },
    {
     "name": "stderr",
     "output_type": "stream",
     "text": [
      "100%|██████████| 79/79 [00:12<00:00,  6.10it/s]\n"
     ]
    },
    {
     "name": "stdout",
     "output_type": "stream",
     "text": [
      "Test Accuracy: 72.79\n",
      "Test Loss: 0.759\n",
      "Time taken for epoch 12: 48.62 seconds\n",
      "Peak GPU memory usage: 0.17 GB\n",
      "Estimated TFLOPs for epoch 12: 123.6150\n",
      "\n",
      "Training Epoch: 12\n"
     ]
    },
    {
     "name": "stderr",
     "output_type": "stream",
     "text": [
      "100%|██████████| 391/391 [00:34<00:00, 11.31it/s]\n"
     ]
    },
    {
     "name": "stdout",
     "output_type": "stream",
     "text": [
      "Training Accuracy: 74.66\n",
      "Training Loss: 0.718\n",
      "\n",
      "Testing Epoch: 12\n"
     ]
    },
    {
     "name": "stderr",
     "output_type": "stream",
     "text": [
      "100%|██████████| 79/79 [00:12<00:00,  6.20it/s]\n"
     ]
    },
    {
     "name": "stdout",
     "output_type": "stream",
     "text": [
      "Test Accuracy: 74.06\n",
      "Test Loss: 0.744\n",
      "Time taken for epoch 13: 47.32 seconds\n",
      "Peak GPU memory usage: 0.17 GB\n",
      "Estimated TFLOPs for epoch 13: 123.6150\n",
      "\n",
      "Training Epoch: 13\n"
     ]
    },
    {
     "name": "stderr",
     "output_type": "stream",
     "text": [
      "100%|██████████| 391/391 [00:34<00:00, 11.27it/s]\n"
     ]
    },
    {
     "name": "stdout",
     "output_type": "stream",
     "text": [
      "Training Accuracy: 75.31\n",
      "Training Loss: 0.693\n",
      "\n",
      "Testing Epoch: 13\n"
     ]
    },
    {
     "name": "stderr",
     "output_type": "stream",
     "text": [
      "100%|██████████| 79/79 [00:13<00:00,  6.02it/s]\n"
     ]
    },
    {
     "name": "stdout",
     "output_type": "stream",
     "text": [
      "Test Accuracy: 72.90\n",
      "Test Loss: 0.757\n",
      "Time taken for epoch 14: 47.82 seconds\n",
      "Peak GPU memory usage: 0.17 GB\n",
      "Estimated TFLOPs for epoch 14: 123.6150\n",
      "\n",
      "Training Epoch: 14\n"
     ]
    },
    {
     "name": "stderr",
     "output_type": "stream",
     "text": [
      "100%|██████████| 391/391 [00:34<00:00, 11.18it/s]\n"
     ]
    },
    {
     "name": "stdout",
     "output_type": "stream",
     "text": [
      "Training Accuracy: 76.38\n",
      "Training Loss: 0.666\n",
      "\n",
      "Testing Epoch: 14\n"
     ]
    },
    {
     "name": "stderr",
     "output_type": "stream",
     "text": [
      "100%|██████████| 79/79 [00:13<00:00,  6.07it/s]\n"
     ]
    },
    {
     "name": "stdout",
     "output_type": "stream",
     "text": [
      "Test Accuracy: 74.92\n",
      "Test Loss: 0.715\n",
      "Time taken for epoch 15: 48.00 seconds\n",
      "Peak GPU memory usage: 0.17 GB\n",
      "Estimated TFLOPs for epoch 15: 123.6150\n",
      "\n",
      "Training Epoch: 15\n"
     ]
    },
    {
     "name": "stderr",
     "output_type": "stream",
     "text": [
      "100%|██████████| 391/391 [00:34<00:00, 11.26it/s]\n"
     ]
    },
    {
     "name": "stdout",
     "output_type": "stream",
     "text": [
      "Training Accuracy: 77.13\n",
      "Training Loss: 0.646\n",
      "\n",
      "Testing Epoch: 15\n"
     ]
    },
    {
     "name": "stderr",
     "output_type": "stream",
     "text": [
      "100%|██████████| 79/79 [00:12<00:00,  6.11it/s]\n"
     ]
    },
    {
     "name": "stdout",
     "output_type": "stream",
     "text": [
      "Test Accuracy: 76.01\n",
      "Test Loss: 0.692\n",
      "Time taken for epoch 16: 47.67 seconds\n",
      "Peak GPU memory usage: 0.17 GB\n",
      "Estimated TFLOPs for epoch 16: 123.6150\n",
      "\n",
      "Training Epoch: 16\n"
     ]
    },
    {
     "name": "stderr",
     "output_type": "stream",
     "text": [
      "100%|██████████| 391/391 [00:34<00:00, 11.27it/s]\n"
     ]
    },
    {
     "name": "stdout",
     "output_type": "stream",
     "text": [
      "Training Accuracy: 78.05\n",
      "Training Loss: 0.623\n",
      "\n",
      "Testing Epoch: 16\n"
     ]
    },
    {
     "name": "stderr",
     "output_type": "stream",
     "text": [
      "100%|██████████| 79/79 [00:12<00:00,  6.12it/s]\n"
     ]
    },
    {
     "name": "stdout",
     "output_type": "stream",
     "text": [
      "Test Accuracy: 75.66\n",
      "Test Loss: 0.685\n",
      "Time taken for epoch 17: 47.61 seconds\n",
      "Peak GPU memory usage: 0.17 GB\n",
      "Estimated TFLOPs for epoch 17: 123.6150\n",
      "\n",
      "Training Epoch: 17\n"
     ]
    },
    {
     "name": "stderr",
     "output_type": "stream",
     "text": [
      "100%|██████████| 391/391 [00:34<00:00, 11.28it/s]\n"
     ]
    },
    {
     "name": "stdout",
     "output_type": "stream",
     "text": [
      "Training Accuracy: 78.38\n",
      "Training Loss: 0.607\n",
      "\n",
      "Testing Epoch: 17\n"
     ]
    },
    {
     "name": "stderr",
     "output_type": "stream",
     "text": [
      "100%|██████████| 79/79 [00:12<00:00,  6.20it/s]\n"
     ]
    },
    {
     "name": "stdout",
     "output_type": "stream",
     "text": [
      "Test Accuracy: 76.88\n",
      "Test Loss: 0.665\n",
      "Time taken for epoch 18: 47.40 seconds\n",
      "Peak GPU memory usage: 0.17 GB\n",
      "Estimated TFLOPs for epoch 18: 123.6150\n",
      "\n",
      "Training Epoch: 18\n"
     ]
    },
    {
     "name": "stderr",
     "output_type": "stream",
     "text": [
      "100%|██████████| 391/391 [00:34<00:00, 11.30it/s]\n"
     ]
    },
    {
     "name": "stdout",
     "output_type": "stream",
     "text": [
      "Training Accuracy: 79.27\n",
      "Training Loss: 0.587\n",
      "\n",
      "Testing Epoch: 18\n"
     ]
    },
    {
     "name": "stderr",
     "output_type": "stream",
     "text": [
      "100%|██████████| 79/79 [00:12<00:00,  6.11it/s]\n"
     ]
    },
    {
     "name": "stdout",
     "output_type": "stream",
     "text": [
      "Test Accuracy: 76.91\n",
      "Test Loss: 0.654\n",
      "Time taken for epoch 19: 47.55 seconds\n",
      "Peak GPU memory usage: 0.17 GB\n",
      "Estimated TFLOPs for epoch 19: 123.6150\n",
      "\n",
      "Training Epoch: 19\n"
     ]
    },
    {
     "name": "stderr",
     "output_type": "stream",
     "text": [
      "100%|██████████| 391/391 [00:34<00:00, 11.29it/s]\n"
     ]
    },
    {
     "name": "stdout",
     "output_type": "stream",
     "text": [
      "Training Accuracy: 79.79\n",
      "Training Loss: 0.570\n",
      "\n",
      "Testing Epoch: 19\n"
     ]
    },
    {
     "name": "stderr",
     "output_type": "stream",
     "text": [
      "100%|██████████| 79/79 [00:12<00:00,  6.17it/s]\n"
     ]
    },
    {
     "name": "stdout",
     "output_type": "stream",
     "text": [
      "Test Accuracy: 76.59\n",
      "Test Loss: 0.657\n",
      "Time taken for epoch 20: 47.44 seconds\n",
      "Peak GPU memory usage: 0.17 GB\n",
      "Estimated TFLOPs for epoch 20: 123.6150\n",
      "\n",
      "Training Epoch: 20\n"
     ]
    },
    {
     "name": "stderr",
     "output_type": "stream",
     "text": [
      "100%|██████████| 391/391 [00:34<00:00, 11.30it/s]\n"
     ]
    },
    {
     "name": "stdout",
     "output_type": "stream",
     "text": [
      "Training Accuracy: 80.42\n",
      "Training Loss: 0.551\n",
      "\n",
      "Testing Epoch: 20\n"
     ]
    },
    {
     "name": "stderr",
     "output_type": "stream",
     "text": [
      "100%|██████████| 79/79 [00:12<00:00,  6.11it/s]\n"
     ]
    },
    {
     "name": "stdout",
     "output_type": "stream",
     "text": [
      "Test Accuracy: 77.62\n",
      "Test Loss: 0.656\n",
      "Time taken for epoch 21: 47.54 seconds\n",
      "Peak GPU memory usage: 0.17 GB\n",
      "Estimated TFLOPs for epoch 21: 123.6150\n",
      "\n",
      "Training Epoch: 21\n"
     ]
    },
    {
     "name": "stderr",
     "output_type": "stream",
     "text": [
      "100%|██████████| 391/391 [00:34<00:00, 11.31it/s]\n"
     ]
    },
    {
     "name": "stdout",
     "output_type": "stream",
     "text": [
      "Training Accuracy: 81.09\n",
      "Training Loss: 0.534\n",
      "\n",
      "Testing Epoch: 21\n"
     ]
    },
    {
     "name": "stderr",
     "output_type": "stream",
     "text": [
      "100%|██████████| 79/79 [00:12<00:00,  6.16it/s]\n"
     ]
    },
    {
     "name": "stdout",
     "output_type": "stream",
     "text": [
      "Test Accuracy: 77.40\n",
      "Test Loss: 0.652\n",
      "Time taken for epoch 22: 47.41 seconds\n",
      "Peak GPU memory usage: 0.17 GB\n",
      "Estimated TFLOPs for epoch 22: 123.6150\n",
      "\n",
      "Training Epoch: 22\n"
     ]
    },
    {
     "name": "stderr",
     "output_type": "stream",
     "text": [
      "100%|██████████| 391/391 [00:34<00:00, 11.31it/s]\n"
     ]
    },
    {
     "name": "stdout",
     "output_type": "stream",
     "text": [
      "Training Accuracy: 81.30\n",
      "Training Loss: 0.527\n",
      "\n",
      "Testing Epoch: 22\n"
     ]
    },
    {
     "name": "stderr",
     "output_type": "stream",
     "text": [
      "100%|██████████| 79/79 [00:12<00:00,  6.29it/s]\n"
     ]
    },
    {
     "name": "stdout",
     "output_type": "stream",
     "text": [
      "Test Accuracy: 77.91\n",
      "Test Loss: 0.642\n",
      "Time taken for epoch 23: 47.15 seconds\n",
      "Peak GPU memory usage: 0.17 GB\n",
      "Estimated TFLOPs for epoch 23: 123.6150\n",
      "\n",
      "Training Epoch: 23\n"
     ]
    },
    {
     "name": "stderr",
     "output_type": "stream",
     "text": [
      "100%|██████████| 391/391 [00:34<00:00, 11.21it/s]\n"
     ]
    },
    {
     "name": "stdout",
     "output_type": "stream",
     "text": [
      "Training Accuracy: 82.02\n",
      "Training Loss: 0.501\n",
      "\n",
      "Testing Epoch: 23\n"
     ]
    },
    {
     "name": "stderr",
     "output_type": "stream",
     "text": [
      "100%|██████████| 79/79 [00:12<00:00,  6.22it/s]\n"
     ]
    },
    {
     "name": "stdout",
     "output_type": "stream",
     "text": [
      "Test Accuracy: 78.86\n",
      "Test Loss: 0.612\n",
      "Time taken for epoch 24: 47.59 seconds\n",
      "Peak GPU memory usage: 0.17 GB\n",
      "Estimated TFLOPs for epoch 24: 123.6150\n",
      "\n",
      "Training Epoch: 24\n"
     ]
    },
    {
     "name": "stderr",
     "output_type": "stream",
     "text": [
      "100%|██████████| 391/391 [00:34<00:00, 11.28it/s]\n"
     ]
    },
    {
     "name": "stdout",
     "output_type": "stream",
     "text": [
      "Training Accuracy: 82.78\n",
      "Training Loss: 0.485\n",
      "\n",
      "Testing Epoch: 24\n"
     ]
    },
    {
     "name": "stderr",
     "output_type": "stream",
     "text": [
      "100%|██████████| 79/79 [00:12<00:00,  6.20it/s]\n"
     ]
    },
    {
     "name": "stdout",
     "output_type": "stream",
     "text": [
      "Test Accuracy: 77.64\n",
      "Test Loss: 0.654\n",
      "Time taken for epoch 25: 47.39 seconds\n",
      "Peak GPU memory usage: 0.17 GB\n",
      "Estimated TFLOPs for epoch 25: 123.6150\n",
      "\n",
      "Training Epoch: 25\n"
     ]
    },
    {
     "name": "stderr",
     "output_type": "stream",
     "text": [
      "100%|██████████| 391/391 [00:34<00:00, 11.32it/s]\n"
     ]
    },
    {
     "name": "stdout",
     "output_type": "stream",
     "text": [
      "Training Accuracy: 83.00\n",
      "Training Loss: 0.474\n",
      "\n",
      "Testing Epoch: 25\n"
     ]
    },
    {
     "name": "stderr",
     "output_type": "stream",
     "text": [
      "100%|██████████| 79/79 [00:12<00:00,  6.17it/s]\n"
     ]
    },
    {
     "name": "stdout",
     "output_type": "stream",
     "text": [
      "Test Accuracy: 77.87\n",
      "Test Loss: 0.638\n",
      "Time taken for epoch 26: 47.34 seconds\n",
      "Peak GPU memory usage: 0.17 GB\n",
      "Estimated TFLOPs for epoch 26: 123.6150\n",
      "\n",
      "Training Epoch: 26\n"
     ]
    },
    {
     "name": "stderr",
     "output_type": "stream",
     "text": [
      "100%|██████████| 391/391 [00:34<00:00, 11.30it/s]\n"
     ]
    },
    {
     "name": "stdout",
     "output_type": "stream",
     "text": [
      "Training Accuracy: 83.31\n",
      "Training Loss: 0.466\n",
      "\n",
      "Testing Epoch: 26\n"
     ]
    },
    {
     "name": "stderr",
     "output_type": "stream",
     "text": [
      "100%|██████████| 79/79 [00:12<00:00,  6.19it/s]\n"
     ]
    },
    {
     "name": "stdout",
     "output_type": "stream",
     "text": [
      "Test Accuracy: 79.61\n",
      "Test Loss: 0.615\n",
      "Time taken for epoch 27: 47.37 seconds\n",
      "Peak GPU memory usage: 0.17 GB\n",
      "Estimated TFLOPs for epoch 27: 123.6150\n",
      "\n",
      "Training Epoch: 27\n"
     ]
    },
    {
     "name": "stderr",
     "output_type": "stream",
     "text": [
      "100%|██████████| 391/391 [00:34<00:00, 11.30it/s]\n"
     ]
    },
    {
     "name": "stdout",
     "output_type": "stream",
     "text": [
      "Training Accuracy: 84.30\n",
      "Training Loss: 0.442\n",
      "\n",
      "Testing Epoch: 27\n"
     ]
    },
    {
     "name": "stderr",
     "output_type": "stream",
     "text": [
      "100%|██████████| 79/79 [00:12<00:00,  6.20it/s]\n"
     ]
    },
    {
     "name": "stdout",
     "output_type": "stream",
     "text": [
      "Test Accuracy: 79.01\n",
      "Test Loss: 0.623\n",
      "Time taken for epoch 28: 47.37 seconds\n",
      "Peak GPU memory usage: 0.17 GB\n",
      "Estimated TFLOPs for epoch 28: 123.6150\n",
      "\n",
      "Training Epoch: 28\n"
     ]
    },
    {
     "name": "stderr",
     "output_type": "stream",
     "text": [
      "100%|██████████| 391/391 [00:34<00:00, 11.29it/s]\n"
     ]
    },
    {
     "name": "stdout",
     "output_type": "stream",
     "text": [
      "Training Accuracy: 84.56\n",
      "Training Loss: 0.433\n",
      "\n",
      "Testing Epoch: 28\n"
     ]
    },
    {
     "name": "stderr",
     "output_type": "stream",
     "text": [
      "100%|██████████| 79/79 [00:12<00:00,  6.20it/s]\n"
     ]
    },
    {
     "name": "stdout",
     "output_type": "stream",
     "text": [
      "Test Accuracy: 79.15\n",
      "Test Loss: 0.626\n",
      "Time taken for epoch 29: 47.40 seconds\n",
      "Peak GPU memory usage: 0.17 GB\n",
      "Estimated TFLOPs for epoch 29: 123.6150\n",
      "\n",
      "Training Epoch: 29\n"
     ]
    },
    {
     "name": "stderr",
     "output_type": "stream",
     "text": [
      "100%|██████████| 391/391 [00:34<00:00, 11.28it/s]\n"
     ]
    },
    {
     "name": "stdout",
     "output_type": "stream",
     "text": [
      "Training Accuracy: 85.02\n",
      "Training Loss: 0.415\n",
      "\n",
      "Testing Epoch: 29\n"
     ]
    },
    {
     "name": "stderr",
     "output_type": "stream",
     "text": [
      "100%|██████████| 79/79 [00:12<00:00,  6.20it/s]\n"
     ]
    },
    {
     "name": "stdout",
     "output_type": "stream",
     "text": [
      "Test Accuracy: 79.76\n",
      "Test Loss: 0.615\n",
      "Time taken for epoch 30: 47.39 seconds\n",
      "Peak GPU memory usage: 0.17 GB\n",
      "Estimated TFLOPs for epoch 30: 123.6150\n",
      "\n",
      "Training Epoch: 30\n"
     ]
    },
    {
     "name": "stderr",
     "output_type": "stream",
     "text": [
      "100%|██████████| 391/391 [00:34<00:00, 11.28it/s]\n"
     ]
    },
    {
     "name": "stdout",
     "output_type": "stream",
     "text": [
      "Training Accuracy: 85.68\n",
      "Training Loss: 0.407\n",
      "\n",
      "Testing Epoch: 30\n"
     ]
    },
    {
     "name": "stderr",
     "output_type": "stream",
     "text": [
      "100%|██████████| 79/79 [00:12<00:00,  6.14it/s]\n"
     ]
    },
    {
     "name": "stdout",
     "output_type": "stream",
     "text": [
      "Test Accuracy: 77.85\n",
      "Test Loss: 0.651\n",
      "Time taken for epoch 31: 47.54 seconds\n",
      "Peak GPU memory usage: 0.17 GB\n",
      "Estimated TFLOPs for epoch 31: 123.6150\n",
      "\n",
      "Training Epoch: 31\n"
     ]
    },
    {
     "name": "stderr",
     "output_type": "stream",
     "text": [
      "100%|██████████| 391/391 [00:34<00:00, 11.30it/s]\n"
     ]
    },
    {
     "name": "stdout",
     "output_type": "stream",
     "text": [
      "Training Accuracy: 85.66\n",
      "Training Loss: 0.396\n",
      "\n",
      "Testing Epoch: 31\n"
     ]
    },
    {
     "name": "stderr",
     "output_type": "stream",
     "text": [
      "100%|██████████| 79/79 [00:12<00:00,  6.19it/s]\n"
     ]
    },
    {
     "name": "stdout",
     "output_type": "stream",
     "text": [
      "Test Accuracy: 78.92\n",
      "Test Loss: 0.634\n",
      "Time taken for epoch 32: 47.40 seconds\n",
      "Peak GPU memory usage: 0.17 GB\n",
      "Estimated TFLOPs for epoch 32: 123.6150\n",
      "\n",
      "Training Epoch: 32\n"
     ]
    },
    {
     "name": "stderr",
     "output_type": "stream",
     "text": [
      "100%|██████████| 391/391 [00:34<00:00, 11.17it/s]\n"
     ]
    },
    {
     "name": "stdout",
     "output_type": "stream",
     "text": [
      "Training Accuracy: 86.25\n",
      "Training Loss: 0.381\n",
      "\n",
      "Testing Epoch: 32\n"
     ]
    },
    {
     "name": "stderr",
     "output_type": "stream",
     "text": [
      "100%|██████████| 79/79 [00:12<00:00,  6.11it/s]\n"
     ]
    },
    {
     "name": "stdout",
     "output_type": "stream",
     "text": [
      "Test Accuracy: 80.15\n",
      "Test Loss: 0.604\n",
      "Time taken for epoch 33: 47.94 seconds\n",
      "Peak GPU memory usage: 0.17 GB\n",
      "Estimated TFLOPs for epoch 33: 123.6150\n",
      "\n",
      "Training Epoch: 33\n"
     ]
    },
    {
     "name": "stderr",
     "output_type": "stream",
     "text": [
      "100%|██████████| 391/391 [00:34<00:00, 11.31it/s]\n"
     ]
    },
    {
     "name": "stdout",
     "output_type": "stream",
     "text": [
      "Training Accuracy: 86.80\n",
      "Training Loss: 0.369\n",
      "\n",
      "Testing Epoch: 33\n"
     ]
    },
    {
     "name": "stderr",
     "output_type": "stream",
     "text": [
      "100%|██████████| 79/79 [00:12<00:00,  6.14it/s]\n"
     ]
    },
    {
     "name": "stdout",
     "output_type": "stream",
     "text": [
      "Test Accuracy: 80.19\n",
      "Test Loss: 0.611\n",
      "Time taken for epoch 34: 47.43 seconds\n",
      "Peak GPU memory usage: 0.17 GB\n",
      "Estimated TFLOPs for epoch 34: 123.6150\n",
      "\n",
      "Training Epoch: 34\n"
     ]
    },
    {
     "name": "stderr",
     "output_type": "stream",
     "text": [
      "100%|██████████| 391/391 [00:35<00:00, 11.17it/s]\n"
     ]
    },
    {
     "name": "stdout",
     "output_type": "stream",
     "text": [
      "Training Accuracy: 87.03\n",
      "Training Loss: 0.360\n",
      "\n",
      "Testing Epoch: 34\n"
     ]
    },
    {
     "name": "stderr",
     "output_type": "stream",
     "text": [
      "100%|██████████| 79/79 [00:14<00:00,  5.64it/s]\n"
     ]
    },
    {
     "name": "stdout",
     "output_type": "stream",
     "text": [
      "Test Accuracy: 78.64\n",
      "Test Loss: 0.650\n",
      "Time taken for epoch 35: 49.05 seconds\n",
      "Peak GPU memory usage: 0.17 GB\n",
      "Estimated TFLOPs for epoch 35: 123.6150\n",
      "\n",
      "Training Epoch: 35\n"
     ]
    },
    {
     "name": "stderr",
     "output_type": "stream",
     "text": [
      "100%|██████████| 391/391 [00:35<00:00, 11.11it/s]\n"
     ]
    },
    {
     "name": "stdout",
     "output_type": "stream",
     "text": [
      "Training Accuracy: 87.62\n",
      "Training Loss: 0.349\n",
      "\n",
      "Testing Epoch: 35\n"
     ]
    },
    {
     "name": "stderr",
     "output_type": "stream",
     "text": [
      "100%|██████████| 79/79 [00:13<00:00,  5.95it/s]\n"
     ]
    },
    {
     "name": "stdout",
     "output_type": "stream",
     "text": [
      "Test Accuracy: 79.44\n",
      "Test Loss: 0.628\n",
      "Time taken for epoch 36: 48.48 seconds\n",
      "Peak GPU memory usage: 0.17 GB\n",
      "Estimated TFLOPs for epoch 36: 123.6150\n",
      "\n",
      "Training Epoch: 36\n"
     ]
    },
    {
     "name": "stderr",
     "output_type": "stream",
     "text": [
      "100%|██████████| 391/391 [00:35<00:00, 11.16it/s]\n"
     ]
    },
    {
     "name": "stdout",
     "output_type": "stream",
     "text": [
      "Training Accuracy: 88.09\n",
      "Training Loss: 0.333\n",
      "\n",
      "Testing Epoch: 36\n"
     ]
    },
    {
     "name": "stderr",
     "output_type": "stream",
     "text": [
      "100%|██████████| 79/79 [00:13<00:00,  6.01it/s]\n"
     ]
    },
    {
     "name": "stdout",
     "output_type": "stream",
     "text": [
      "Test Accuracy: 80.27\n",
      "Test Loss: 0.619\n",
      "Time taken for epoch 37: 48.20 seconds\n",
      "Peak GPU memory usage: 0.17 GB\n",
      "Estimated TFLOPs for epoch 37: 123.6150\n",
      "\n",
      "Training Epoch: 37\n"
     ]
    },
    {
     "name": "stderr",
     "output_type": "stream",
     "text": [
      "100%|██████████| 391/391 [00:34<00:00, 11.23it/s]\n"
     ]
    },
    {
     "name": "stdout",
     "output_type": "stream",
     "text": [
      "Training Accuracy: 88.38\n",
      "Training Loss: 0.329\n",
      "\n",
      "Testing Epoch: 37\n"
     ]
    },
    {
     "name": "stderr",
     "output_type": "stream",
     "text": [
      "100%|██████████| 79/79 [00:12<00:00,  6.21it/s]\n"
     ]
    },
    {
     "name": "stdout",
     "output_type": "stream",
     "text": [
      "Test Accuracy: 79.18\n",
      "Test Loss: 0.664\n",
      "Time taken for epoch 38: 47.57 seconds\n",
      "Peak GPU memory usage: 0.17 GB\n",
      "Estimated TFLOPs for epoch 38: 123.6150\n",
      "\n",
      "Training Epoch: 38\n"
     ]
    },
    {
     "name": "stderr",
     "output_type": "stream",
     "text": [
      "100%|██████████| 391/391 [00:34<00:00, 11.21it/s]\n"
     ]
    },
    {
     "name": "stdout",
     "output_type": "stream",
     "text": [
      "Training Accuracy: 88.54\n",
      "Training Loss: 0.317\n",
      "\n",
      "Testing Epoch: 38\n"
     ]
    },
    {
     "name": "stderr",
     "output_type": "stream",
     "text": [
      "100%|██████████| 79/79 [00:12<00:00,  6.10it/s]\n"
     ]
    },
    {
     "name": "stdout",
     "output_type": "stream",
     "text": [
      "Test Accuracy: 80.09\n",
      "Test Loss: 0.647\n",
      "Time taken for epoch 39: 47.81 seconds\n",
      "Peak GPU memory usage: 0.17 GB\n",
      "Estimated TFLOPs for epoch 39: 123.6150\n",
      "\n",
      "Training Epoch: 39\n"
     ]
    },
    {
     "name": "stderr",
     "output_type": "stream",
     "text": [
      "100%|██████████| 391/391 [00:34<00:00, 11.23it/s]\n"
     ]
    },
    {
     "name": "stdout",
     "output_type": "stream",
     "text": [
      "Training Accuracy: 89.01\n",
      "Training Loss: 0.307\n",
      "\n",
      "Testing Epoch: 39\n"
     ]
    },
    {
     "name": "stderr",
     "output_type": "stream",
     "text": [
      "100%|██████████| 79/79 [00:12<00:00,  6.14it/s]\n"
     ]
    },
    {
     "name": "stdout",
     "output_type": "stream",
     "text": [
      "Test Accuracy: 79.03\n",
      "Test Loss: 0.683\n",
      "Time taken for epoch 40: 47.70 seconds\n",
      "Peak GPU memory usage: 0.17 GB\n",
      "Estimated TFLOPs for epoch 40: 123.6150\n",
      "\n",
      "Training Epoch: 40\n"
     ]
    },
    {
     "name": "stderr",
     "output_type": "stream",
     "text": [
      "100%|██████████| 391/391 [00:34<00:00, 11.23it/s]\n"
     ]
    },
    {
     "name": "stdout",
     "output_type": "stream",
     "text": [
      "Training Accuracy: 89.44\n",
      "Training Loss: 0.295\n",
      "\n",
      "Testing Epoch: 40\n"
     ]
    },
    {
     "name": "stderr",
     "output_type": "stream",
     "text": [
      "100%|██████████| 79/79 [00:12<00:00,  6.11it/s]\n"
     ]
    },
    {
     "name": "stdout",
     "output_type": "stream",
     "text": [
      "Test Accuracy: 79.94\n",
      "Test Loss: 0.651\n",
      "Time taken for epoch 41: 47.78 seconds\n",
      "Peak GPU memory usage: 0.17 GB\n",
      "Estimated TFLOPs for epoch 41: 123.6150\n",
      "\n",
      "Training Epoch: 41\n"
     ]
    },
    {
     "name": "stderr",
     "output_type": "stream",
     "text": [
      "100%|██████████| 391/391 [00:34<00:00, 11.22it/s]\n"
     ]
    },
    {
     "name": "stdout",
     "output_type": "stream",
     "text": [
      "Training Accuracy: 89.52\n",
      "Training Loss: 0.287\n",
      "\n",
      "Testing Epoch: 41\n"
     ]
    },
    {
     "name": "stderr",
     "output_type": "stream",
     "text": [
      "100%|██████████| 79/79 [00:12<00:00,  6.11it/s]\n"
     ]
    },
    {
     "name": "stdout",
     "output_type": "stream",
     "text": [
      "Test Accuracy: 79.59\n",
      "Test Loss: 0.682\n",
      "Time taken for epoch 42: 47.77 seconds\n",
      "Peak GPU memory usage: 0.17 GB\n",
      "Estimated TFLOPs for epoch 42: 123.6150\n",
      "\n",
      "Training Epoch: 42\n"
     ]
    },
    {
     "name": "stderr",
     "output_type": "stream",
     "text": [
      "100%|██████████| 391/391 [00:34<00:00, 11.21it/s]\n"
     ]
    },
    {
     "name": "stdout",
     "output_type": "stream",
     "text": [
      "Training Accuracy: 89.74\n",
      "Training Loss: 0.282\n",
      "\n",
      "Testing Epoch: 42\n"
     ]
    },
    {
     "name": "stderr",
     "output_type": "stream",
     "text": [
      "100%|██████████| 79/79 [00:13<00:00,  6.05it/s]\n"
     ]
    },
    {
     "name": "stdout",
     "output_type": "stream",
     "text": [
      "Test Accuracy: 80.00\n",
      "Test Loss: 0.676\n",
      "Time taken for epoch 43: 47.94 seconds\n",
      "Peak GPU memory usage: 0.17 GB\n",
      "Estimated TFLOPs for epoch 43: 123.6150\n",
      "\n",
      "Training Epoch: 43\n"
     ]
    },
    {
     "name": "stderr",
     "output_type": "stream",
     "text": [
      "100%|██████████| 391/391 [00:34<00:00, 11.26it/s]\n"
     ]
    },
    {
     "name": "stdout",
     "output_type": "stream",
     "text": [
      "Training Accuracy: 90.11\n",
      "Training Loss: 0.274\n",
      "\n",
      "Testing Epoch: 43\n"
     ]
    },
    {
     "name": "stderr",
     "output_type": "stream",
     "text": [
      "100%|██████████| 79/79 [00:12<00:00,  6.13it/s]\n"
     ]
    },
    {
     "name": "stdout",
     "output_type": "stream",
     "text": [
      "Test Accuracy: 79.97\n",
      "Test Loss: 0.647\n",
      "Time taken for epoch 44: 47.63 seconds\n",
      "Peak GPU memory usage: 0.17 GB\n",
      "Estimated TFLOPs for epoch 44: 123.6150\n",
      "\n",
      "Training Epoch: 44\n"
     ]
    },
    {
     "name": "stderr",
     "output_type": "stream",
     "text": [
      "100%|██████████| 391/391 [00:34<00:00, 11.21it/s]\n"
     ]
    },
    {
     "name": "stdout",
     "output_type": "stream",
     "text": [
      "Training Accuracy: 90.48\n",
      "Training Loss: 0.260\n",
      "\n",
      "Testing Epoch: 44\n"
     ]
    },
    {
     "name": "stderr",
     "output_type": "stream",
     "text": [
      "100%|██████████| 79/79 [00:12<00:00,  6.12it/s]\n"
     ]
    },
    {
     "name": "stdout",
     "output_type": "stream",
     "text": [
      "Test Accuracy: 79.35\n",
      "Test Loss: 0.697\n",
      "Time taken for epoch 45: 47.79 seconds\n",
      "Peak GPU memory usage: 0.17 GB\n",
      "Estimated TFLOPs for epoch 45: 123.6150\n",
      "\n",
      "Training Epoch: 45\n"
     ]
    },
    {
     "name": "stderr",
     "output_type": "stream",
     "text": [
      "100%|██████████| 391/391 [00:34<00:00, 11.25it/s]\n"
     ]
    },
    {
     "name": "stdout",
     "output_type": "stream",
     "text": [
      "Training Accuracy: 90.73\n",
      "Training Loss: 0.260\n",
      "\n",
      "Testing Epoch: 45\n"
     ]
    },
    {
     "name": "stderr",
     "output_type": "stream",
     "text": [
      "100%|██████████| 79/79 [00:12<00:00,  6.10it/s]\n"
     ]
    },
    {
     "name": "stdout",
     "output_type": "stream",
     "text": [
      "Test Accuracy: 79.64\n",
      "Test Loss: 0.697\n",
      "Time taken for epoch 46: 47.73 seconds\n",
      "Peak GPU memory usage: 0.17 GB\n",
      "Estimated TFLOPs for epoch 46: 123.6150\n",
      "\n",
      "Training Epoch: 46\n"
     ]
    },
    {
     "name": "stderr",
     "output_type": "stream",
     "text": [
      "100%|██████████| 391/391 [00:34<00:00, 11.26it/s]\n"
     ]
    },
    {
     "name": "stdout",
     "output_type": "stream",
     "text": [
      "Training Accuracy: 91.11\n",
      "Training Loss: 0.244\n",
      "\n",
      "Testing Epoch: 46\n"
     ]
    },
    {
     "name": "stderr",
     "output_type": "stream",
     "text": [
      "100%|██████████| 79/79 [00:12<00:00,  6.12it/s]\n"
     ]
    },
    {
     "name": "stdout",
     "output_type": "stream",
     "text": [
      "Test Accuracy: 79.52\n",
      "Test Loss: 0.715\n",
      "Time taken for epoch 47: 47.62 seconds\n",
      "Peak GPU memory usage: 0.17 GB\n",
      "Estimated TFLOPs for epoch 47: 123.6150\n",
      "\n",
      "Training Epoch: 47\n"
     ]
    },
    {
     "name": "stderr",
     "output_type": "stream",
     "text": [
      "100%|██████████| 391/391 [00:34<00:00, 11.28it/s]\n"
     ]
    },
    {
     "name": "stdout",
     "output_type": "stream",
     "text": [
      "Training Accuracy: 91.02\n",
      "Training Loss: 0.248\n",
      "\n",
      "Testing Epoch: 47\n"
     ]
    },
    {
     "name": "stderr",
     "output_type": "stream",
     "text": [
      "100%|██████████| 79/79 [00:12<00:00,  6.11it/s]\n"
     ]
    },
    {
     "name": "stdout",
     "output_type": "stream",
     "text": [
      "Test Accuracy: 79.42\n",
      "Test Loss: 0.683\n",
      "Time taken for epoch 48: 47.61 seconds\n",
      "Peak GPU memory usage: 0.17 GB\n",
      "Estimated TFLOPs for epoch 48: 123.6150\n",
      "\n",
      "Training Epoch: 48\n"
     ]
    },
    {
     "name": "stderr",
     "output_type": "stream",
     "text": [
      "100%|██████████| 391/391 [00:35<00:00, 11.16it/s]\n"
     ]
    },
    {
     "name": "stdout",
     "output_type": "stream",
     "text": [
      "Training Accuracy: 91.63\n",
      "Training Loss: 0.234\n",
      "\n",
      "Testing Epoch: 48\n"
     ]
    },
    {
     "name": "stderr",
     "output_type": "stream",
     "text": [
      "100%|██████████| 79/79 [00:13<00:00,  6.04it/s]\n"
     ]
    },
    {
     "name": "stdout",
     "output_type": "stream",
     "text": [
      "Test Accuracy: 79.83\n",
      "Test Loss: 0.707\n",
      "Time taken for epoch 49: 48.13 seconds\n",
      "Peak GPU memory usage: 0.17 GB\n",
      "Estimated TFLOPs for epoch 49: 123.6150\n",
      "\n",
      "Training Epoch: 49\n"
     ]
    },
    {
     "name": "stderr",
     "output_type": "stream",
     "text": [
      "100%|██████████| 391/391 [00:34<00:00, 11.27it/s]\n"
     ]
    },
    {
     "name": "stdout",
     "output_type": "stream",
     "text": [
      "Training Accuracy: 91.97\n",
      "Training Loss: 0.222\n",
      "\n",
      "Testing Epoch: 49\n"
     ]
    },
    {
     "name": "stderr",
     "output_type": "stream",
     "text": [
      "100%|██████████| 79/79 [00:13<00:00,  6.04it/s]\n"
     ]
    },
    {
     "name": "stdout",
     "output_type": "stream",
     "text": [
      "Test Accuracy: 79.83\n",
      "Test Loss: 0.720\n",
      "Time taken for epoch 50: 47.80 seconds\n",
      "Peak GPU memory usage: 0.17 GB\n",
      "Estimated TFLOPs for epoch 50: 123.6150\n",
      "\n",
      "Training Epoch: 50\n"
     ]
    },
    {
     "name": "stderr",
     "output_type": "stream",
     "text": [
      "100%|██████████| 391/391 [00:34<00:00, 11.18it/s]\n"
     ]
    },
    {
     "name": "stdout",
     "output_type": "stream",
     "text": [
      "Training Accuracy: 91.97\n",
      "Training Loss: 0.223\n",
      "\n",
      "Testing Epoch: 50\n"
     ]
    },
    {
     "name": "stderr",
     "output_type": "stream",
     "text": [
      "100%|██████████| 79/79 [00:13<00:00,  6.01it/s]\n"
     ]
    },
    {
     "name": "stdout",
     "output_type": "stream",
     "text": [
      "Test Accuracy: 78.95\n",
      "Test Loss: 0.730\n",
      "Time taken for epoch 51: 48.15 seconds\n",
      "Peak GPU memory usage: 0.17 GB\n",
      "Estimated TFLOPs for epoch 51: 123.6150\n",
      "\n",
      "Training Epoch: 51\n"
     ]
    },
    {
     "name": "stderr",
     "output_type": "stream",
     "text": [
      "100%|██████████| 391/391 [00:34<00:00, 11.23it/s]\n"
     ]
    },
    {
     "name": "stdout",
     "output_type": "stream",
     "text": [
      "Training Accuracy: 92.05\n",
      "Training Loss: 0.221\n",
      "\n",
      "Testing Epoch: 51\n"
     ]
    },
    {
     "name": "stderr",
     "output_type": "stream",
     "text": [
      "100%|██████████| 79/79 [00:12<00:00,  6.10it/s]\n"
     ]
    },
    {
     "name": "stdout",
     "output_type": "stream",
     "text": [
      "Test Accuracy: 79.78\n",
      "Test Loss: 0.710\n",
      "Time taken for epoch 52: 47.78 seconds\n",
      "Peak GPU memory usage: 0.17 GB\n",
      "Estimated TFLOPs for epoch 52: 123.6150\n",
      "\n",
      "Training Epoch: 52\n"
     ]
    },
    {
     "name": "stderr",
     "output_type": "stream",
     "text": [
      "100%|██████████| 391/391 [00:34<00:00, 11.22it/s]\n"
     ]
    },
    {
     "name": "stdout",
     "output_type": "stream",
     "text": [
      "Training Accuracy: 92.56\n",
      "Training Loss: 0.209\n",
      "\n",
      "Testing Epoch: 52\n"
     ]
    },
    {
     "name": "stderr",
     "output_type": "stream",
     "text": [
      "100%|██████████| 79/79 [00:13<00:00,  6.02it/s]\n"
     ]
    },
    {
     "name": "stdout",
     "output_type": "stream",
     "text": [
      "Test Accuracy: 80.29\n",
      "Test Loss: 0.727\n",
      "Time taken for epoch 53: 47.97 seconds\n",
      "Peak GPU memory usage: 0.17 GB\n",
      "Estimated TFLOPs for epoch 53: 123.6150\n",
      "\n",
      "Training Epoch: 53\n"
     ]
    },
    {
     "name": "stderr",
     "output_type": "stream",
     "text": [
      "100%|██████████| 391/391 [00:34<00:00, 11.21it/s]\n"
     ]
    },
    {
     "name": "stdout",
     "output_type": "stream",
     "text": [
      "Training Accuracy: 92.72\n",
      "Training Loss: 0.205\n",
      "\n",
      "Testing Epoch: 53\n"
     ]
    },
    {
     "name": "stderr",
     "output_type": "stream",
     "text": [
      "100%|██████████| 79/79 [00:12<00:00,  6.11it/s]\n"
     ]
    },
    {
     "name": "stdout",
     "output_type": "stream",
     "text": [
      "Test Accuracy: 79.27\n",
      "Test Loss: 0.734\n",
      "Time taken for epoch 54: 47.80 seconds\n",
      "Peak GPU memory usage: 0.17 GB\n",
      "Estimated TFLOPs for epoch 54: 123.6150\n",
      "\n",
      "Training Epoch: 54\n"
     ]
    },
    {
     "name": "stderr",
     "output_type": "stream",
     "text": [
      "100%|██████████| 391/391 [00:34<00:00, 11.22it/s]\n"
     ]
    },
    {
     "name": "stdout",
     "output_type": "stream",
     "text": [
      "Training Accuracy: 92.82\n",
      "Training Loss: 0.199\n",
      "\n",
      "Testing Epoch: 54\n"
     ]
    },
    {
     "name": "stderr",
     "output_type": "stream",
     "text": [
      "100%|██████████| 79/79 [00:12<00:00,  6.08it/s]\n"
     ]
    },
    {
     "name": "stdout",
     "output_type": "stream",
     "text": [
      "Test Accuracy: 79.10\n",
      "Test Loss: 0.760\n",
      "Time taken for epoch 55: 47.83 seconds\n",
      "Peak GPU memory usage: 0.17 GB\n",
      "Estimated TFLOPs for epoch 55: 123.6150\n",
      "\n",
      "Training Epoch: 55\n"
     ]
    },
    {
     "name": "stderr",
     "output_type": "stream",
     "text": [
      "100%|██████████| 391/391 [00:34<00:00, 11.25it/s]\n"
     ]
    },
    {
     "name": "stdout",
     "output_type": "stream",
     "text": [
      "Training Accuracy: 93.35\n",
      "Training Loss: 0.187\n",
      "\n",
      "Testing Epoch: 55\n"
     ]
    },
    {
     "name": "stderr",
     "output_type": "stream",
     "text": [
      "100%|██████████| 79/79 [00:12<00:00,  6.13it/s]\n"
     ]
    },
    {
     "name": "stdout",
     "output_type": "stream",
     "text": [
      "Test Accuracy: 79.28\n",
      "Test Loss: 0.761\n",
      "Time taken for epoch 56: 47.68 seconds\n",
      "Peak GPU memory usage: 0.17 GB\n",
      "Estimated TFLOPs for epoch 56: 123.6150\n",
      "\n",
      "Training Epoch: 56\n"
     ]
    },
    {
     "name": "stderr",
     "output_type": "stream",
     "text": [
      "100%|██████████| 391/391 [00:34<00:00, 11.21it/s]\n"
     ]
    },
    {
     "name": "stdout",
     "output_type": "stream",
     "text": [
      "Training Accuracy: 93.34\n",
      "Training Loss: 0.188\n",
      "\n",
      "Testing Epoch: 56\n"
     ]
    },
    {
     "name": "stderr",
     "output_type": "stream",
     "text": [
      "100%|██████████| 79/79 [00:12<00:00,  6.13it/s]\n"
     ]
    },
    {
     "name": "stdout",
     "output_type": "stream",
     "text": [
      "Test Accuracy: 79.35\n",
      "Test Loss: 0.774\n",
      "Time taken for epoch 57: 47.77 seconds\n",
      "Peak GPU memory usage: 0.17 GB\n",
      "Estimated TFLOPs for epoch 57: 123.6150\n",
      "\n",
      "Training Epoch: 57\n"
     ]
    },
    {
     "name": "stderr",
     "output_type": "stream",
     "text": [
      "100%|██████████| 391/391 [00:34<00:00, 11.21it/s]\n"
     ]
    },
    {
     "name": "stdout",
     "output_type": "stream",
     "text": [
      "Training Accuracy: 93.32\n",
      "Training Loss: 0.184\n",
      "\n",
      "Testing Epoch: 57\n"
     ]
    },
    {
     "name": "stderr",
     "output_type": "stream",
     "text": [
      "100%|██████████| 79/79 [00:12<00:00,  6.11it/s]\n"
     ]
    },
    {
     "name": "stdout",
     "output_type": "stream",
     "text": [
      "Test Accuracy: 80.45\n",
      "Test Loss: 0.752\n",
      "Time taken for epoch 58: 47.80 seconds\n",
      "Peak GPU memory usage: 0.17 GB\n",
      "Estimated TFLOPs for epoch 58: 123.6150\n",
      "\n",
      "Training Epoch: 58\n"
     ]
    },
    {
     "name": "stderr",
     "output_type": "stream",
     "text": [
      "100%|██████████| 391/391 [00:34<00:00, 11.21it/s]\n"
     ]
    },
    {
     "name": "stdout",
     "output_type": "stream",
     "text": [
      "Training Accuracy: 93.48\n",
      "Training Loss: 0.178\n",
      "\n",
      "Testing Epoch: 58\n"
     ]
    },
    {
     "name": "stderr",
     "output_type": "stream",
     "text": [
      "100%|██████████| 79/79 [00:13<00:00,  6.04it/s]\n"
     ]
    },
    {
     "name": "stdout",
     "output_type": "stream",
     "text": [
      "Test Accuracy: 79.88\n",
      "Test Loss: 0.772\n",
      "Time taken for epoch 59: 47.99 seconds\n",
      "Peak GPU memory usage: 0.17 GB\n",
      "Estimated TFLOPs for epoch 59: 123.6150\n",
      "\n",
      "Training Epoch: 59\n"
     ]
    },
    {
     "name": "stderr",
     "output_type": "stream",
     "text": [
      "100%|██████████| 391/391 [00:35<00:00, 11.16it/s]\n"
     ]
    },
    {
     "name": "stdout",
     "output_type": "stream",
     "text": [
      "Training Accuracy: 93.59\n",
      "Training Loss: 0.179\n",
      "\n",
      "Testing Epoch: 59\n"
     ]
    },
    {
     "name": "stderr",
     "output_type": "stream",
     "text": [
      "100%|██████████| 79/79 [00:12<00:00,  6.10it/s]\n"
     ]
    },
    {
     "name": "stdout",
     "output_type": "stream",
     "text": [
      "Test Accuracy: 79.46\n",
      "Test Loss: 0.769\n",
      "Time taken for epoch 60: 48.00 seconds\n",
      "Peak GPU memory usage: 0.17 GB\n",
      "Estimated TFLOPs for epoch 60: 123.6150\n",
      "\n",
      "Training Epoch: 60\n"
     ]
    },
    {
     "name": "stderr",
     "output_type": "stream",
     "text": [
      "100%|██████████| 391/391 [00:34<00:00, 11.24it/s]\n"
     ]
    },
    {
     "name": "stdout",
     "output_type": "stream",
     "text": [
      "Training Accuracy: 93.72\n",
      "Training Loss: 0.172\n",
      "\n",
      "Testing Epoch: 60\n"
     ]
    },
    {
     "name": "stderr",
     "output_type": "stream",
     "text": [
      "100%|██████████| 79/79 [00:13<00:00,  6.04it/s]\n"
     ]
    },
    {
     "name": "stdout",
     "output_type": "stream",
     "text": [
      "Test Accuracy: 79.76\n",
      "Test Loss: 0.766\n",
      "Time taken for epoch 61: 47.89 seconds\n",
      "Peak GPU memory usage: 0.17 GB\n",
      "Estimated TFLOPs for epoch 61: 123.6150\n",
      "\n",
      "Training Epoch: 61\n"
     ]
    },
    {
     "name": "stderr",
     "output_type": "stream",
     "text": [
      "100%|██████████| 391/391 [00:34<00:00, 11.17it/s]\n"
     ]
    },
    {
     "name": "stdout",
     "output_type": "stream",
     "text": [
      "Training Accuracy: 93.93\n",
      "Training Loss: 0.167\n",
      "\n",
      "Testing Epoch: 61\n"
     ]
    },
    {
     "name": "stderr",
     "output_type": "stream",
     "text": [
      "100%|██████████| 79/79 [00:12<00:00,  6.09it/s]\n"
     ]
    },
    {
     "name": "stdout",
     "output_type": "stream",
     "text": [
      "Test Accuracy: 80.07\n",
      "Test Loss: 0.806\n",
      "Time taken for epoch 62: 47.98 seconds\n",
      "Peak GPU memory usage: 0.17 GB\n",
      "Estimated TFLOPs for epoch 62: 123.6150\n",
      "\n",
      "Training Epoch: 62\n"
     ]
    },
    {
     "name": "stderr",
     "output_type": "stream",
     "text": [
      "100%|██████████| 391/391 [00:34<00:00, 11.25it/s]\n"
     ]
    },
    {
     "name": "stdout",
     "output_type": "stream",
     "text": [
      "Training Accuracy: 94.02\n",
      "Training Loss: 0.164\n",
      "\n",
      "Testing Epoch: 62\n"
     ]
    },
    {
     "name": "stderr",
     "output_type": "stream",
     "text": [
      "100%|██████████| 79/79 [00:13<00:00,  6.06it/s]\n"
     ]
    },
    {
     "name": "stdout",
     "output_type": "stream",
     "text": [
      "Test Accuracy: 78.85\n",
      "Test Loss: 0.851\n",
      "Time taken for epoch 63: 47.80 seconds\n",
      "Peak GPU memory usage: 0.17 GB\n",
      "Estimated TFLOPs for epoch 63: 123.6150\n",
      "\n",
      "Training Epoch: 63\n"
     ]
    },
    {
     "name": "stderr",
     "output_type": "stream",
     "text": [
      "100%|██████████| 391/391 [00:34<00:00, 11.22it/s]\n"
     ]
    },
    {
     "name": "stdout",
     "output_type": "stream",
     "text": [
      "Training Accuracy: 94.34\n",
      "Training Loss: 0.159\n",
      "\n",
      "Testing Epoch: 63\n"
     ]
    },
    {
     "name": "stderr",
     "output_type": "stream",
     "text": [
      "100%|██████████| 79/79 [00:12<00:00,  6.11it/s]\n"
     ]
    },
    {
     "name": "stdout",
     "output_type": "stream",
     "text": [
      "Test Accuracy: 79.84\n",
      "Test Loss: 0.805\n",
      "Time taken for epoch 64: 47.78 seconds\n",
      "Peak GPU memory usage: 0.17 GB\n",
      "Estimated TFLOPs for epoch 64: 123.6150\n",
      "\n",
      "Training Epoch: 64\n"
     ]
    },
    {
     "name": "stderr",
     "output_type": "stream",
     "text": [
      "100%|██████████| 391/391 [00:34<00:00, 11.19it/s]\n"
     ]
    },
    {
     "name": "stdout",
     "output_type": "stream",
     "text": [
      "Training Accuracy: 94.44\n",
      "Training Loss: 0.154\n",
      "\n",
      "Testing Epoch: 64\n"
     ]
    },
    {
     "name": "stderr",
     "output_type": "stream",
     "text": [
      "100%|██████████| 79/79 [00:13<00:00,  6.05it/s]\n"
     ]
    },
    {
     "name": "stdout",
     "output_type": "stream",
     "text": [
      "Test Accuracy: 80.03\n",
      "Test Loss: 0.792\n",
      "Time taken for epoch 65: 47.98 seconds\n",
      "Peak GPU memory usage: 0.17 GB\n",
      "Estimated TFLOPs for epoch 65: 123.6150\n",
      "\n",
      "Training Epoch: 65\n"
     ]
    },
    {
     "name": "stderr",
     "output_type": "stream",
     "text": [
      "100%|██████████| 391/391 [00:34<00:00, 11.24it/s]\n"
     ]
    },
    {
     "name": "stdout",
     "output_type": "stream",
     "text": [
      "Training Accuracy: 94.61\n",
      "Training Loss: 0.153\n",
      "\n",
      "Testing Epoch: 65\n"
     ]
    },
    {
     "name": "stderr",
     "output_type": "stream",
     "text": [
      "100%|██████████| 79/79 [00:13<00:00,  6.03it/s]\n"
     ]
    },
    {
     "name": "stdout",
     "output_type": "stream",
     "text": [
      "Test Accuracy: 80.17\n",
      "Test Loss: 0.788\n",
      "Time taken for epoch 66: 47.89 seconds\n",
      "Peak GPU memory usage: 0.17 GB\n",
      "Estimated TFLOPs for epoch 66: 123.6150\n",
      "\n",
      "Training Epoch: 66\n"
     ]
    },
    {
     "name": "stderr",
     "output_type": "stream",
     "text": [
      "100%|██████████| 391/391 [00:34<00:00, 11.20it/s]\n"
     ]
    },
    {
     "name": "stdout",
     "output_type": "stream",
     "text": [
      "Training Accuracy: 94.83\n",
      "Training Loss: 0.145\n",
      "\n",
      "Testing Epoch: 66\n"
     ]
    },
    {
     "name": "stderr",
     "output_type": "stream",
     "text": [
      "100%|██████████| 79/79 [00:12<00:00,  6.12it/s]\n"
     ]
    },
    {
     "name": "stdout",
     "output_type": "stream",
     "text": [
      "Test Accuracy: 79.98\n",
      "Test Loss: 0.823\n",
      "Time taken for epoch 67: 47.83 seconds\n",
      "Peak GPU memory usage: 0.17 GB\n",
      "Estimated TFLOPs for epoch 67: 123.6150\n",
      "\n",
      "Training Epoch: 67\n"
     ]
    },
    {
     "name": "stderr",
     "output_type": "stream",
     "text": [
      "100%|██████████| 391/391 [00:34<00:00, 11.19it/s]\n"
     ]
    },
    {
     "name": "stdout",
     "output_type": "stream",
     "text": [
      "Training Accuracy: 94.70\n",
      "Training Loss: 0.148\n",
      "\n",
      "Testing Epoch: 67\n"
     ]
    },
    {
     "name": "stderr",
     "output_type": "stream",
     "text": [
      "100%|██████████| 79/79 [00:12<00:00,  6.15it/s]\n"
     ]
    },
    {
     "name": "stdout",
     "output_type": "stream",
     "text": [
      "Test Accuracy: 80.03\n",
      "Test Loss: 0.832\n",
      "Time taken for epoch 68: 47.79 seconds\n",
      "Peak GPU memory usage: 0.17 GB\n",
      "Estimated TFLOPs for epoch 68: 123.6150\n",
      "\n",
      "Training Epoch: 68\n"
     ]
    },
    {
     "name": "stderr",
     "output_type": "stream",
     "text": [
      "100%|██████████| 391/391 [00:34<00:00, 11.22it/s]\n"
     ]
    },
    {
     "name": "stdout",
     "output_type": "stream",
     "text": [
      "Training Accuracy: 94.89\n",
      "Training Loss: 0.142\n",
      "\n",
      "Testing Epoch: 68\n"
     ]
    },
    {
     "name": "stderr",
     "output_type": "stream",
     "text": [
      "100%|██████████| 79/79 [00:12<00:00,  6.11it/s]\n"
     ]
    },
    {
     "name": "stdout",
     "output_type": "stream",
     "text": [
      "Test Accuracy: 79.88\n",
      "Test Loss: 0.830\n",
      "Time taken for epoch 69: 47.79 seconds\n",
      "Peak GPU memory usage: 0.17 GB\n",
      "Estimated TFLOPs for epoch 69: 123.6150\n",
      "\n",
      "Training Epoch: 69\n"
     ]
    },
    {
     "name": "stderr",
     "output_type": "stream",
     "text": [
      "100%|██████████| 391/391 [00:34<00:00, 11.21it/s]\n"
     ]
    },
    {
     "name": "stdout",
     "output_type": "stream",
     "text": [
      "Training Accuracy: 94.90\n",
      "Training Loss: 0.142\n",
      "\n",
      "Testing Epoch: 69\n"
     ]
    },
    {
     "name": "stderr",
     "output_type": "stream",
     "text": [
      "100%|██████████| 79/79 [00:13<00:00,  6.03it/s]\n"
     ]
    },
    {
     "name": "stdout",
     "output_type": "stream",
     "text": [
      "Test Accuracy: 79.58\n",
      "Test Loss: 0.857\n",
      "Time taken for epoch 70: 47.99 seconds\n",
      "Peak GPU memory usage: 0.17 GB\n",
      "Estimated TFLOPs for epoch 70: 123.6150\n",
      "\n",
      "Training Epoch: 70\n"
     ]
    },
    {
     "name": "stderr",
     "output_type": "stream",
     "text": [
      "100%|██████████| 391/391 [00:34<00:00, 11.23it/s]\n"
     ]
    },
    {
     "name": "stdout",
     "output_type": "stream",
     "text": [
      "Training Accuracy: 95.02\n",
      "Training Loss: 0.137\n",
      "\n",
      "Testing Epoch: 70\n"
     ]
    },
    {
     "name": "stderr",
     "output_type": "stream",
     "text": [
      "100%|██████████| 79/79 [00:13<00:00,  6.03it/s]\n"
     ]
    },
    {
     "name": "stdout",
     "output_type": "stream",
     "text": [
      "Test Accuracy: 79.76\n",
      "Test Loss: 0.832\n",
      "Time taken for epoch 71: 47.94 seconds\n",
      "Peak GPU memory usage: 0.17 GB\n",
      "Estimated TFLOPs for epoch 71: 123.6150\n",
      "\n",
      "Training Epoch: 71\n"
     ]
    },
    {
     "name": "stderr",
     "output_type": "stream",
     "text": [
      "100%|██████████| 391/391 [00:35<00:00, 11.03it/s]\n"
     ]
    },
    {
     "name": "stdout",
     "output_type": "stream",
     "text": [
      "Training Accuracy: 95.27\n",
      "Training Loss: 0.135\n",
      "\n",
      "Testing Epoch: 71\n"
     ]
    },
    {
     "name": "stderr",
     "output_type": "stream",
     "text": [
      "100%|██████████| 79/79 [00:13<00:00,  6.04it/s]\n"
     ]
    },
    {
     "name": "stdout",
     "output_type": "stream",
     "text": [
      "Test Accuracy: 80.07\n",
      "Test Loss: 0.845\n",
      "Time taken for epoch 72: 48.55 seconds\n",
      "Peak GPU memory usage: 0.17 GB\n",
      "Estimated TFLOPs for epoch 72: 123.6150\n",
      "\n",
      "Training Epoch: 72\n"
     ]
    },
    {
     "name": "stderr",
     "output_type": "stream",
     "text": [
      "100%|██████████| 391/391 [00:34<00:00, 11.20it/s]\n"
     ]
    },
    {
     "name": "stdout",
     "output_type": "stream",
     "text": [
      "Training Accuracy: 95.32\n",
      "Training Loss: 0.132\n",
      "\n",
      "Testing Epoch: 72\n"
     ]
    },
    {
     "name": "stderr",
     "output_type": "stream",
     "text": [
      "100%|██████████| 79/79 [00:13<00:00,  6.01it/s]\n"
     ]
    },
    {
     "name": "stdout",
     "output_type": "stream",
     "text": [
      "Test Accuracy: 80.49\n",
      "Test Loss: 0.814\n",
      "Time taken for epoch 73: 48.04 seconds\n",
      "Peak GPU memory usage: 0.17 GB\n",
      "Estimated TFLOPs for epoch 73: 123.6150\n",
      "\n",
      "Training Epoch: 73\n"
     ]
    },
    {
     "name": "stderr",
     "output_type": "stream",
     "text": [
      "100%|██████████| 391/391 [00:35<00:00, 11.14it/s]\n"
     ]
    },
    {
     "name": "stdout",
     "output_type": "stream",
     "text": [
      "Training Accuracy: 94.97\n",
      "Training Loss: 0.138\n",
      "\n",
      "Testing Epoch: 73\n"
     ]
    },
    {
     "name": "stderr",
     "output_type": "stream",
     "text": [
      "100%|██████████| 79/79 [00:13<00:00,  6.05it/s]\n"
     ]
    },
    {
     "name": "stdout",
     "output_type": "stream",
     "text": [
      "Test Accuracy: 80.00\n",
      "Test Loss: 0.826\n",
      "Time taken for epoch 74: 48.15 seconds\n",
      "Peak GPU memory usage: 0.17 GB\n",
      "Estimated TFLOPs for epoch 74: 123.6150\n",
      "\n",
      "Training Epoch: 74\n"
     ]
    },
    {
     "name": "stderr",
     "output_type": "stream",
     "text": [
      "100%|██████████| 391/391 [00:34<00:00, 11.21it/s]\n"
     ]
    },
    {
     "name": "stdout",
     "output_type": "stream",
     "text": [
      "Training Accuracy: 95.47\n",
      "Training Loss: 0.129\n",
      "\n",
      "Testing Epoch: 74\n"
     ]
    },
    {
     "name": "stderr",
     "output_type": "stream",
     "text": [
      "100%|██████████| 79/79 [00:13<00:00,  6.02it/s]\n"
     ]
    },
    {
     "name": "stdout",
     "output_type": "stream",
     "text": [
      "Test Accuracy: 79.55\n",
      "Test Loss: 0.810\n",
      "Time taken for epoch 75: 47.98 seconds\n",
      "Peak GPU memory usage: 0.17 GB\n",
      "Estimated TFLOPs for epoch 75: 123.6150\n",
      "\n",
      "Training Epoch: 75\n"
     ]
    },
    {
     "name": "stderr",
     "output_type": "stream",
     "text": [
      "100%|██████████| 391/391 [00:34<00:00, 11.20it/s]\n"
     ]
    },
    {
     "name": "stdout",
     "output_type": "stream",
     "text": [
      "Training Accuracy: 95.54\n",
      "Training Loss: 0.125\n",
      "\n",
      "Testing Epoch: 75\n"
     ]
    },
    {
     "name": "stderr",
     "output_type": "stream",
     "text": [
      "100%|██████████| 79/79 [00:13<00:00,  6.06it/s]\n"
     ]
    },
    {
     "name": "stdout",
     "output_type": "stream",
     "text": [
      "Test Accuracy: 79.65\n",
      "Test Loss: 0.864\n",
      "Time taken for epoch 76: 47.94 seconds\n",
      "Peak GPU memory usage: 0.17 GB\n",
      "Estimated TFLOPs for epoch 76: 123.6150\n",
      "\n",
      "Training Epoch: 76\n"
     ]
    },
    {
     "name": "stderr",
     "output_type": "stream",
     "text": [
      "100%|██████████| 391/391 [00:34<00:00, 11.28it/s]\n"
     ]
    },
    {
     "name": "stdout",
     "output_type": "stream",
     "text": [
      "Training Accuracy: 95.66\n",
      "Training Loss: 0.122\n",
      "\n",
      "Testing Epoch: 76\n"
     ]
    },
    {
     "name": "stderr",
     "output_type": "stream",
     "text": [
      "100%|██████████| 79/79 [00:13<00:00,  6.04it/s]\n"
     ]
    },
    {
     "name": "stdout",
     "output_type": "stream",
     "text": [
      "Test Accuracy: 79.21\n",
      "Test Loss: 0.854\n",
      "Time taken for epoch 77: 47.75 seconds\n",
      "Peak GPU memory usage: 0.17 GB\n",
      "Estimated TFLOPs for epoch 77: 123.6150\n",
      "\n",
      "Training Epoch: 77\n"
     ]
    },
    {
     "name": "stderr",
     "output_type": "stream",
     "text": [
      "100%|██████████| 391/391 [00:34<00:00, 11.21it/s]\n"
     ]
    },
    {
     "name": "stdout",
     "output_type": "stream",
     "text": [
      "Training Accuracy: 95.45\n",
      "Training Loss: 0.127\n",
      "\n",
      "Testing Epoch: 77\n"
     ]
    },
    {
     "name": "stderr",
     "output_type": "stream",
     "text": [
      "100%|██████████| 79/79 [00:12<00:00,  6.12it/s]\n"
     ]
    },
    {
     "name": "stdout",
     "output_type": "stream",
     "text": [
      "Test Accuracy: 79.41\n",
      "Test Loss: 0.850\n",
      "Time taken for epoch 78: 47.80 seconds\n",
      "Peak GPU memory usage: 0.17 GB\n",
      "Estimated TFLOPs for epoch 78: 123.6150\n",
      "\n",
      "Training Epoch: 78\n"
     ]
    },
    {
     "name": "stderr",
     "output_type": "stream",
     "text": [
      "100%|██████████| 391/391 [00:34<00:00, 11.20it/s]\n"
     ]
    },
    {
     "name": "stdout",
     "output_type": "stream",
     "text": [
      "Training Accuracy: 95.70\n",
      "Training Loss: 0.119\n",
      "\n",
      "Testing Epoch: 78\n"
     ]
    },
    {
     "name": "stderr",
     "output_type": "stream",
     "text": [
      "100%|██████████| 79/79 [00:12<00:00,  6.12it/s]\n"
     ]
    },
    {
     "name": "stdout",
     "output_type": "stream",
     "text": [
      "Test Accuracy: 80.38\n",
      "Test Loss: 0.865\n",
      "Time taken for epoch 79: 47.81 seconds\n",
      "Peak GPU memory usage: 0.17 GB\n",
      "Estimated TFLOPs for epoch 79: 123.6150\n",
      "\n",
      "Training Epoch: 79\n"
     ]
    },
    {
     "name": "stderr",
     "output_type": "stream",
     "text": [
      "100%|██████████| 391/391 [00:34<00:00, 11.21it/s]\n"
     ]
    },
    {
     "name": "stdout",
     "output_type": "stream",
     "text": [
      "Training Accuracy: 95.61\n",
      "Training Loss: 0.122\n",
      "\n",
      "Testing Epoch: 79\n"
     ]
    },
    {
     "name": "stderr",
     "output_type": "stream",
     "text": [
      "100%|██████████| 79/79 [00:12<00:00,  6.14it/s]\n"
     ]
    },
    {
     "name": "stdout",
     "output_type": "stream",
     "text": [
      "Test Accuracy: 79.47\n",
      "Test Loss: 0.904\n",
      "Time taken for epoch 80: 47.76 seconds\n",
      "Peak GPU memory usage: 0.17 GB\n",
      "Estimated TFLOPs for epoch 80: 123.6150\n",
      "\n",
      "Training Epoch: 80\n"
     ]
    },
    {
     "name": "stderr",
     "output_type": "stream",
     "text": [
      "100%|██████████| 391/391 [00:34<00:00, 11.24it/s]\n"
     ]
    },
    {
     "name": "stdout",
     "output_type": "stream",
     "text": [
      "Training Accuracy: 95.85\n",
      "Training Loss: 0.115\n",
      "\n",
      "Testing Epoch: 80\n"
     ]
    },
    {
     "name": "stderr",
     "output_type": "stream",
     "text": [
      "100%|██████████| 79/79 [00:12<00:00,  6.09it/s]\n"
     ]
    },
    {
     "name": "stdout",
     "output_type": "stream",
     "text": [
      "Test Accuracy: 79.15\n",
      "Test Loss: 0.939\n",
      "Time taken for epoch 81: 47.77 seconds\n",
      "Peak GPU memory usage: 0.17 GB\n",
      "Estimated TFLOPs for epoch 81: 123.6150\n",
      "\n",
      "Training Epoch: 81\n"
     ]
    },
    {
     "name": "stderr",
     "output_type": "stream",
     "text": [
      "100%|██████████| 391/391 [00:34<00:00, 11.30it/s]\n"
     ]
    },
    {
     "name": "stdout",
     "output_type": "stream",
     "text": [
      "Training Accuracy: 95.84\n",
      "Training Loss: 0.118\n",
      "\n",
      "Testing Epoch: 81\n"
     ]
    },
    {
     "name": "stderr",
     "output_type": "stream",
     "text": [
      "100%|██████████| 79/79 [00:12<00:00,  6.11it/s]\n"
     ]
    },
    {
     "name": "stdout",
     "output_type": "stream",
     "text": [
      "Test Accuracy: 80.11\n",
      "Test Loss: 0.889\n",
      "Time taken for epoch 82: 47.55 seconds\n",
      "Peak GPU memory usage: 0.17 GB\n",
      "Estimated TFLOPs for epoch 82: 123.6150\n",
      "\n",
      "Training Epoch: 82\n"
     ]
    },
    {
     "name": "stderr",
     "output_type": "stream",
     "text": [
      "100%|██████████| 391/391 [00:35<00:00, 11.13it/s]\n"
     ]
    },
    {
     "name": "stdout",
     "output_type": "stream",
     "text": [
      "Training Accuracy: 96.09\n",
      "Training Loss: 0.109\n",
      "\n",
      "Testing Epoch: 82\n"
     ]
    },
    {
     "name": "stderr",
     "output_type": "stream",
     "text": [
      "100%|██████████| 79/79 [00:13<00:00,  6.04it/s]\n"
     ]
    },
    {
     "name": "stdout",
     "output_type": "stream",
     "text": [
      "Test Accuracy: 79.83\n",
      "Test Loss: 0.875\n",
      "Time taken for epoch 83: 48.21 seconds\n",
      "Peak GPU memory usage: 0.17 GB\n",
      "Estimated TFLOPs for epoch 83: 123.6150\n",
      "\n",
      "Training Epoch: 83\n"
     ]
    },
    {
     "name": "stderr",
     "output_type": "stream",
     "text": [
      "100%|██████████| 391/391 [00:35<00:00, 11.15it/s]\n"
     ]
    },
    {
     "name": "stdout",
     "output_type": "stream",
     "text": [
      "Training Accuracy: 95.97\n",
      "Training Loss: 0.111\n",
      "\n",
      "Testing Epoch: 83\n"
     ]
    },
    {
     "name": "stderr",
     "output_type": "stream",
     "text": [
      "100%|██████████| 79/79 [00:13<00:00,  6.03it/s]\n"
     ]
    },
    {
     "name": "stdout",
     "output_type": "stream",
     "text": [
      "Test Accuracy: 79.07\n",
      "Test Loss: 0.952\n",
      "Time taken for epoch 84: 48.16 seconds\n",
      "Peak GPU memory usage: 0.17 GB\n",
      "Estimated TFLOPs for epoch 84: 123.6150\n",
      "\n",
      "Training Epoch: 84\n"
     ]
    },
    {
     "name": "stderr",
     "output_type": "stream",
     "text": [
      "100%|██████████| 391/391 [00:34<00:00, 11.21it/s]\n"
     ]
    },
    {
     "name": "stdout",
     "output_type": "stream",
     "text": [
      "Training Accuracy: 95.87\n",
      "Training Loss: 0.117\n",
      "\n",
      "Testing Epoch: 84\n"
     ]
    },
    {
     "name": "stderr",
     "output_type": "stream",
     "text": [
      "100%|██████████| 79/79 [00:13<00:00,  6.03it/s]\n"
     ]
    },
    {
     "name": "stdout",
     "output_type": "stream",
     "text": [
      "Test Accuracy: 79.80\n",
      "Test Loss: 0.879\n",
      "Time taken for epoch 85: 48.00 seconds\n",
      "Peak GPU memory usage: 0.17 GB\n",
      "Estimated TFLOPs for epoch 85: 123.6150\n",
      "\n",
      "Training Epoch: 85\n"
     ]
    },
    {
     "name": "stderr",
     "output_type": "stream",
     "text": [
      "100%|██████████| 391/391 [00:34<00:00, 11.18it/s]\n"
     ]
    },
    {
     "name": "stdout",
     "output_type": "stream",
     "text": [
      "Training Accuracy: 96.20\n",
      "Training Loss: 0.105\n",
      "\n",
      "Testing Epoch: 85\n"
     ]
    },
    {
     "name": "stderr",
     "output_type": "stream",
     "text": [
      "100%|██████████| 79/79 [00:13<00:00,  6.02it/s]\n"
     ]
    },
    {
     "name": "stdout",
     "output_type": "stream",
     "text": [
      "Test Accuracy: 78.97\n",
      "Test Loss: 0.935\n",
      "Time taken for epoch 86: 48.11 seconds\n",
      "Peak GPU memory usage: 0.17 GB\n",
      "Estimated TFLOPs for epoch 86: 123.6150\n",
      "\n",
      "Training Epoch: 86\n"
     ]
    },
    {
     "name": "stderr",
     "output_type": "stream",
     "text": [
      "100%|██████████| 391/391 [00:34<00:00, 11.20it/s]\n"
     ]
    },
    {
     "name": "stdout",
     "output_type": "stream",
     "text": [
      "Training Accuracy: 96.20\n",
      "Training Loss: 0.106\n",
      "\n",
      "Testing Epoch: 86\n"
     ]
    },
    {
     "name": "stderr",
     "output_type": "stream",
     "text": [
      "100%|██████████| 79/79 [00:13<00:00,  6.05it/s]\n"
     ]
    },
    {
     "name": "stdout",
     "output_type": "stream",
     "text": [
      "Test Accuracy: 79.59\n",
      "Test Loss: 0.942\n",
      "Time taken for epoch 87: 47.99 seconds\n",
      "Peak GPU memory usage: 0.17 GB\n",
      "Estimated TFLOPs for epoch 87: 123.6150\n",
      "\n",
      "Training Epoch: 87\n"
     ]
    },
    {
     "name": "stderr",
     "output_type": "stream",
     "text": [
      "100%|██████████| 391/391 [00:34<00:00, 11.20it/s]\n"
     ]
    },
    {
     "name": "stdout",
     "output_type": "stream",
     "text": [
      "Training Accuracy: 96.35\n",
      "Training Loss: 0.103\n",
      "\n",
      "Testing Epoch: 87\n"
     ]
    },
    {
     "name": "stderr",
     "output_type": "stream",
     "text": [
      "100%|██████████| 79/79 [00:12<00:00,  6.12it/s]\n"
     ]
    },
    {
     "name": "stdout",
     "output_type": "stream",
     "text": [
      "Test Accuracy: 79.01\n",
      "Test Loss: 0.951\n",
      "Time taken for epoch 88: 47.82 seconds\n",
      "Peak GPU memory usage: 0.17 GB\n",
      "Estimated TFLOPs for epoch 88: 123.6150\n",
      "\n",
      "Training Epoch: 88\n"
     ]
    },
    {
     "name": "stderr",
     "output_type": "stream",
     "text": [
      "100%|██████████| 391/391 [00:34<00:00, 11.26it/s]\n"
     ]
    },
    {
     "name": "stdout",
     "output_type": "stream",
     "text": [
      "Training Accuracy: 96.26\n",
      "Training Loss: 0.105\n",
      "\n",
      "Testing Epoch: 88\n"
     ]
    },
    {
     "name": "stderr",
     "output_type": "stream",
     "text": [
      "100%|██████████| 79/79 [00:13<00:00,  6.03it/s]\n"
     ]
    },
    {
     "name": "stdout",
     "output_type": "stream",
     "text": [
      "Test Accuracy: 79.70\n",
      "Test Loss: 0.899\n",
      "Time taken for epoch 89: 47.82 seconds\n",
      "Peak GPU memory usage: 0.17 GB\n",
      "Estimated TFLOPs for epoch 89: 123.6150\n",
      "\n",
      "Training Epoch: 89\n"
     ]
    },
    {
     "name": "stderr",
     "output_type": "stream",
     "text": [
      "100%|██████████| 391/391 [00:34<00:00, 11.22it/s]\n"
     ]
    },
    {
     "name": "stdout",
     "output_type": "stream",
     "text": [
      "Training Accuracy: 96.50\n",
      "Training Loss: 0.100\n",
      "\n",
      "Testing Epoch: 89\n"
     ]
    },
    {
     "name": "stderr",
     "output_type": "stream",
     "text": [
      "100%|██████████| 79/79 [00:13<00:00,  6.02it/s]\n"
     ]
    },
    {
     "name": "stdout",
     "output_type": "stream",
     "text": [
      "Test Accuracy: 79.95\n",
      "Test Loss: 0.907\n",
      "Time taken for epoch 90: 47.96 seconds\n",
      "Peak GPU memory usage: 0.17 GB\n",
      "Estimated TFLOPs for epoch 90: 123.6150\n",
      "\n",
      "Training Epoch: 90\n"
     ]
    },
    {
     "name": "stderr",
     "output_type": "stream",
     "text": [
      "100%|██████████| 391/391 [00:34<00:00, 11.18it/s]\n"
     ]
    },
    {
     "name": "stdout",
     "output_type": "stream",
     "text": [
      "Training Accuracy: 96.32\n",
      "Training Loss: 0.103\n",
      "\n",
      "Testing Epoch: 90\n"
     ]
    },
    {
     "name": "stderr",
     "output_type": "stream",
     "text": [
      "100%|██████████| 79/79 [00:12<00:00,  6.11it/s]\n"
     ]
    },
    {
     "name": "stdout",
     "output_type": "stream",
     "text": [
      "Test Accuracy: 79.90\n",
      "Test Loss: 0.912\n",
      "Time taken for epoch 91: 47.89 seconds\n",
      "Peak GPU memory usage: 0.17 GB\n",
      "Estimated TFLOPs for epoch 91: 123.6150\n",
      "\n",
      "Training Epoch: 91\n"
     ]
    },
    {
     "name": "stderr",
     "output_type": "stream",
     "text": [
      "100%|██████████| 391/391 [00:34<00:00, 11.20it/s]\n"
     ]
    },
    {
     "name": "stdout",
     "output_type": "stream",
     "text": [
      "Training Accuracy: 96.61\n",
      "Training Loss: 0.096\n",
      "\n",
      "Testing Epoch: 91\n"
     ]
    },
    {
     "name": "stderr",
     "output_type": "stream",
     "text": [
      "100%|██████████| 79/79 [00:12<00:00,  6.13it/s]\n"
     ]
    },
    {
     "name": "stdout",
     "output_type": "stream",
     "text": [
      "Test Accuracy: 80.02\n",
      "Test Loss: 0.920\n",
      "Time taken for epoch 92: 47.80 seconds\n",
      "Peak GPU memory usage: 0.17 GB\n",
      "Estimated TFLOPs for epoch 92: 123.6150\n",
      "\n",
      "Training Epoch: 92\n"
     ]
    },
    {
     "name": "stderr",
     "output_type": "stream",
     "text": [
      "100%|██████████| 391/391 [00:34<00:00, 11.21it/s]\n"
     ]
    },
    {
     "name": "stdout",
     "output_type": "stream",
     "text": [
      "Training Accuracy: 96.52\n",
      "Training Loss: 0.098\n",
      "\n",
      "Testing Epoch: 92\n"
     ]
    },
    {
     "name": "stderr",
     "output_type": "stream",
     "text": [
      "100%|██████████| 79/79 [00:13<00:00,  6.03it/s]\n"
     ]
    },
    {
     "name": "stdout",
     "output_type": "stream",
     "text": [
      "Test Accuracy: 79.53\n",
      "Test Loss: 0.989\n",
      "Time taken for epoch 93: 47.97 seconds\n",
      "Peak GPU memory usage: 0.17 GB\n",
      "Estimated TFLOPs for epoch 93: 123.6150\n",
      "\n",
      "Training Epoch: 93\n"
     ]
    },
    {
     "name": "stderr",
     "output_type": "stream",
     "text": [
      "100%|██████████| 391/391 [00:34<00:00, 11.21it/s]\n"
     ]
    },
    {
     "name": "stdout",
     "output_type": "stream",
     "text": [
      "Training Accuracy: 96.34\n",
      "Training Loss: 0.102\n",
      "\n",
      "Testing Epoch: 93\n"
     ]
    },
    {
     "name": "stderr",
     "output_type": "stream",
     "text": [
      "100%|██████████| 79/79 [00:12<00:00,  6.11it/s]\n"
     ]
    },
    {
     "name": "stdout",
     "output_type": "stream",
     "text": [
      "Test Accuracy: 79.34\n",
      "Test Loss: 0.937\n",
      "Time taken for epoch 94: 47.80 seconds\n",
      "Peak GPU memory usage: 0.17 GB\n",
      "Estimated TFLOPs for epoch 94: 123.6150\n",
      "\n",
      "Training Epoch: 94\n"
     ]
    },
    {
     "name": "stderr",
     "output_type": "stream",
     "text": [
      "100%|██████████| 391/391 [00:34<00:00, 11.21it/s]\n"
     ]
    },
    {
     "name": "stdout",
     "output_type": "stream",
     "text": [
      "Training Accuracy: 96.65\n",
      "Training Loss: 0.097\n",
      "\n",
      "Testing Epoch: 94\n"
     ]
    },
    {
     "name": "stderr",
     "output_type": "stream",
     "text": [
      "100%|██████████| 79/79 [00:13<00:00,  6.04it/s]\n"
     ]
    },
    {
     "name": "stdout",
     "output_type": "stream",
     "text": [
      "Test Accuracy: 80.13\n",
      "Test Loss: 0.910\n",
      "Time taken for epoch 95: 47.97 seconds\n",
      "Peak GPU memory usage: 0.17 GB\n",
      "Estimated TFLOPs for epoch 95: 123.6150\n",
      "\n",
      "Training Epoch: 95\n"
     ]
    },
    {
     "name": "stderr",
     "output_type": "stream",
     "text": [
      "100%|██████████| 391/391 [00:34<00:00, 11.19it/s]\n"
     ]
    },
    {
     "name": "stdout",
     "output_type": "stream",
     "text": [
      "Training Accuracy: 96.72\n",
      "Training Loss: 0.094\n",
      "\n",
      "Testing Epoch: 95\n"
     ]
    },
    {
     "name": "stderr",
     "output_type": "stream",
     "text": [
      "100%|██████████| 79/79 [00:13<00:00,  5.98it/s]\n"
     ]
    },
    {
     "name": "stdout",
     "output_type": "stream",
     "text": [
      "Test Accuracy: 79.33\n",
      "Test Loss: 0.945\n",
      "Time taken for epoch 96: 48.15 seconds\n",
      "Peak GPU memory usage: 0.17 GB\n",
      "Estimated TFLOPs for epoch 96: 123.6150\n",
      "\n",
      "Training Epoch: 96\n"
     ]
    },
    {
     "name": "stderr",
     "output_type": "stream",
     "text": [
      "100%|██████████| 391/391 [00:34<00:00, 11.22it/s]\n"
     ]
    },
    {
     "name": "stdout",
     "output_type": "stream",
     "text": [
      "Training Accuracy: 96.78\n",
      "Training Loss: 0.093\n",
      "\n",
      "Testing Epoch: 96\n"
     ]
    },
    {
     "name": "stderr",
     "output_type": "stream",
     "text": [
      "100%|██████████| 79/79 [00:12<00:00,  6.10it/s]\n"
     ]
    },
    {
     "name": "stdout",
     "output_type": "stream",
     "text": [
      "Test Accuracy: 78.91\n",
      "Test Loss: 0.971\n",
      "Time taken for epoch 97: 47.78 seconds\n",
      "Peak GPU memory usage: 0.17 GB\n",
      "Estimated TFLOPs for epoch 97: 123.6150\n",
      "\n",
      "Training Epoch: 97\n"
     ]
    },
    {
     "name": "stderr",
     "output_type": "stream",
     "text": [
      "100%|██████████| 391/391 [00:34<00:00, 11.21it/s]\n"
     ]
    },
    {
     "name": "stdout",
     "output_type": "stream",
     "text": [
      "Training Accuracy: 96.76\n",
      "Training Loss: 0.092\n",
      "\n",
      "Testing Epoch: 97\n"
     ]
    },
    {
     "name": "stderr",
     "output_type": "stream",
     "text": [
      "100%|██████████| 79/79 [00:12<00:00,  6.11it/s]\n"
     ]
    },
    {
     "name": "stdout",
     "output_type": "stream",
     "text": [
      "Test Accuracy: 80.08\n",
      "Test Loss: 0.946\n",
      "Time taken for epoch 98: 47.80 seconds\n",
      "Peak GPU memory usage: 0.17 GB\n",
      "Estimated TFLOPs for epoch 98: 123.6150\n",
      "\n",
      "Training Epoch: 98\n"
     ]
    },
    {
     "name": "stderr",
     "output_type": "stream",
     "text": [
      "100%|██████████| 391/391 [00:34<00:00, 11.22it/s]\n"
     ]
    },
    {
     "name": "stdout",
     "output_type": "stream",
     "text": [
      "Training Accuracy: 96.95\n",
      "Training Loss: 0.088\n",
      "\n",
      "Testing Epoch: 98\n"
     ]
    },
    {
     "name": "stderr",
     "output_type": "stream",
     "text": [
      "100%|██████████| 79/79 [00:12<00:00,  6.12it/s]\n"
     ]
    },
    {
     "name": "stdout",
     "output_type": "stream",
     "text": [
      "Test Accuracy: 79.36\n",
      "Test Loss: 0.981\n",
      "Time taken for epoch 99: 47.76 seconds\n",
      "Peak GPU memory usage: 0.17 GB\n",
      "Estimated TFLOPs for epoch 99: 123.6150\n",
      "\n",
      "Training Epoch: 99\n"
     ]
    },
    {
     "name": "stderr",
     "output_type": "stream",
     "text": [
      "100%|██████████| 391/391 [00:34<00:00, 11.21it/s]\n"
     ]
    },
    {
     "name": "stdout",
     "output_type": "stream",
     "text": [
      "Training Accuracy: 96.61\n",
      "Training Loss: 0.096\n",
      "\n",
      "Testing Epoch: 99\n"
     ]
    },
    {
     "name": "stderr",
     "output_type": "stream",
     "text": [
      "100%|██████████| 79/79 [00:12<00:00,  6.12it/s]"
     ]
    },
    {
     "name": "stdout",
     "output_type": "stream",
     "text": [
      "Test Accuracy: 80.00\n",
      "Test Loss: 0.936\n",
      "Time taken for epoch 100: 47.77 seconds\n",
      "Peak GPU memory usage: 0.17 GB\n",
      "Estimated TFLOPs for epoch 100: 123.6150\n",
      "Total training time: 4787.25 seconds\n",
      "Final model saved at: ./ReVIT/RevVIT_V1_CIFAR10_final.pt\n"
     ]
    },
    {
     "name": "stderr",
     "output_type": "stream",
     "text": [
      "\n"
     ]
    }
   ],
   "source": [
    "import time\n",
    "train_accs = []\n",
    "test_accs = []\n",
    "\n",
    "# Set up CUDA memory tracking\n",
    "torch.cuda.reset_peak_memory_stats(device)  # Reset memory tracking\n",
    "start_time = time.time()\n",
    "for epoch in range(epochs):\n",
    "    epoch_start = time.time()\n",
    "    # Track peak memory usage\n",
    "    torch.cuda.memory_allocated(device)  # Ensure PyTorch updates memory usage tracking\n",
    "    torch.cuda.reset_peak_memory_stats(device)\n",
    "    \n",
    "    train_acc, train_loss = train(epoch)\n",
    "    test_acc, test_loss = test(epoch)\n",
    "    train_accs.append(train_acc)\n",
    "    test_accs.append(test_acc)\n",
    "    \n",
    "    epoch_time = time.time() - epoch_start\n",
    "    print(f\"Time taken for epoch {epoch+1}: {epoch_time:.2f} seconds\")\n",
    "    # Track peak GPU memory usage\n",
    "    peak_memory = torch.cuda.max_memory_allocated(device) / (1024**3)  # Convert to GB\n",
    "    print(f\"Peak GPU memory usage: {peak_memory:.2f} GB\")\n",
    "    \n",
    "    # TFLOPs estimation for each epoch\n",
    "    input_resolution = 32  # CIFAR-10 image size\n",
    "    flops_per_image = (2 * total_params * input_resolution * input_resolution) / 1e12  # Approx. FLOPs per image\n",
    "    total_tflops = flops_per_image * len(trainloader.dataset)  # TFLOPs per epoch\n",
    "    print(f\"Estimated TFLOPs for epoch {epoch+1}: {total_tflops:.4f}\")\n",
    "    \n",
    "    if (epoch+1)%5 == 0:\n",
    "        torch.save({\n",
    "            'epoch': epoch,\n",
    "            'model': model,\n",
    "            'optimizer': optimizer,\n",
    "            'scheduler': scheduler,\n",
    "            'train_acc': train_accs,\n",
    "            'test_acc': test_accs\n",
    "        }, './ReVit/' + 'RevVIT_V1' + '_CIFAR10_checkpoint.pt')\n",
    "        \n",
    "# End timing after training\n",
    "total_training_time = time.time() - start_time\n",
    "print(f\"Total training time: {total_training_time:.2f} seconds\")\n",
    "\n",
    "# Save final model checkpoint\n",
    "final_checkpoint_path = f'./ReVIT/{'RevVIT_V1'}_CIFAR10_final.pt'\n",
    "torch.save({\n",
    "    'epoch': epochs,\n",
    "    'model': model.state_dict(),\n",
    "    'optimizer': optimizer.state_dict(),\n",
    "    'scheduler': scheduler.state_dict(),\n",
    "    'train_acc': train_accs,\n",
    "    'test_acc': test_accs\n",
    "}, final_checkpoint_path)\n",
    "\n",
    "print(f\"Final model saved at: {final_checkpoint_path}\")\n"
   ]
  },
  {
   "cell_type": "code",
   "execution_count": 18,
   "metadata": {},
   "outputs": [
    {
     "data": {
      "text/plain": [
       "RevViT(\n",
       "  (layers): ModuleList(\n",
       "    (0-5): 6 x ReversibleBlock(\n",
       "      (F): AttentionSubBlock(\n",
       "        (norm): LayerNorm((128,), eps=1e-06, elementwise_affine=True)\n",
       "        (attn): MultiheadAttention(\n",
       "          (out_proj): NonDynamicallyQuantizableLinear(in_features=128, out_features=128, bias=True)\n",
       "        )\n",
       "      )\n",
       "      (G): MLPSubblock(\n",
       "        (norm): LayerNorm((128,), eps=1e-05, elementwise_affine=True)\n",
       "        (mlp): Sequential(\n",
       "          (0): Linear(in_features=128, out_features=512, bias=True)\n",
       "          (1): GELU(approximate='none')\n",
       "          (2): Linear(in_features=512, out_features=128, bias=True)\n",
       "        )\n",
       "      )\n",
       "    )\n",
       "  )\n",
       "  (patch_embed): Conv2d(3, 128, kernel_size=(4, 4), stride=(4, 4))\n",
       "  (head): Linear(in_features=256, out_features=10, bias=True)\n",
       "  (norm): LayerNorm((256,), eps=1e-05, elementwise_affine=True)\n",
       ")"
      ]
     },
     "execution_count": 18,
     "metadata": {},
     "output_type": "execute_result"
    }
   ],
   "source": [
    "model"
   ]
  },
  {
   "cell_type": "code",
   "execution_count": 19,
   "metadata": {},
   "outputs": [
    {
     "data": {
      "text/plain": [
       "<matplotlib.legend.Legend at 0x1f7a5ecb200>"
      ]
     },
     "execution_count": 19,
     "metadata": {},
     "output_type": "execute_result"
    },
    {
     "data": {
      "image/png": "[encoded data removed]",
      "text/plain": [
       "<Figure size 640x480 with 1 Axes>"
      ]
     },
     "metadata": {},
     "output_type": "display_data"
    }
   ],
   "source": [
    "import seaborn as sns\n",
    "import matplotlib.pyplot as plt\n",
    "train_accs_gpu = train_accs.copy()\n",
    "test_accs_gpu = test_accs.copy()\n",
    "# train_accs_cpu = [acc.cpu().item() for acc in train_accs_gpu]\n",
    "# test_accs_cpu = [acc.cpu().item() for acc in test_accs_gpu]\n",
    "# print(train_accs)\n",
    "# print(test_accs)\n",
    "plt.plot(range(1, 101), train_accs_gpu, label='Train Accuracy')\n",
    "plt.plot(range(1, 101), test_accs_gpu, label='Test Accuracy')\n",
    "\n",
    "plt.xlabel(\"Epochs\")\n",
    "plt.ylabel(\"Accuracy\")\n",
    "\n",
    "plt.title(\"Train vs Test Accuracy\")\n",
    "plt.legend(loc='lower right')"
   ]
  },
  {
   "cell_type": "code",
   "execution_count": 20,
   "metadata": {},
   "outputs": [
    {
     "name": "stdout",
     "output_type": "stream",
     "text": [
      "Average Inference Time per Image: 0.0000 seconds\n",
      "Accuracy: 80.00%\n",
      "Average Memory Usage per Batch: 90.96 MB\n",
      "Average CPU Usage per Batch: 8.09%\n",
      "Average Tokens per Image: 3.00\n"
     ]
    },
    {
     "name": "stderr",
     "output_type": "stream",
     "text": [
      "Unsupported operator aten::add_ encountered 1 time(s)\n",
      "Unsupported operator aten::div encountered 6 time(s)\n",
      "Unsupported operator aten::unflatten encountered 6 time(s)\n",
      "Unsupported operator aten::mul encountered 30 time(s)\n",
      "Unsupported operator aten::softmax encountered 6 time(s)\n",
      "Unsupported operator aten::add encountered 12 time(s)\n",
      "Unsupported operator aten::gelu encountered 6 time(s)\n",
      "Unsupported operator aten::mean encountered 1 time(s)\n",
      "The following submodules of the model were never called during the trace of the graph. They may be unused, or they were accessed by direct calls to .forward() or via other python methods. In the latter case they will have zeros for statistics, though their statistics will still contribute to their parent calling module.\n",
      "layers.0.F.attn.out_proj, layers.1.F.attn.out_proj, layers.2.F.attn.out_proj, layers.3.F.attn.out_proj, layers.4.F.attn.out_proj, layers.5.F.attn.out_proj\n"
     ]
    },
    {
     "name": "stdout",
     "output_type": "stream",
     "text": [
      "Estimated FLOPs: 0.0106 TFLOPs\n",
      "Counter({'linear': 9664004096, 'bmm': 805306368, 'layer_norm': 63078400, 'conv': 50331648})\n"
     ]
    }
   ],
   "source": [
    "import time\n",
    "import torch\n",
    "import psutil\n",
    "import os\n",
    "\n",
    "# Example: Using a DataLoader for test data\n",
    "def measure_metrics(model, dataloader, device):\n",
    "    model.to(device)\n",
    "    model.eval()\n",
    "\n",
    "    total_inference_time = 0.0\n",
    "    total_tokens = 0\n",
    "    total_images = 0\n",
    "    correct = 0\n",
    "    total_memory_usage = 0.0\n",
    "    total_cpu_usage = 0.0\n",
    "\n",
    "    # Process object for CPU usage monitoring\n",
    "    process = psutil.Process(os.getpid())\n",
    "\n",
    "    with torch.no_grad():\n",
    "        for images, labels in dataloader:\n",
    "            images = images.to(device)\n",
    "            labels = labels.to(device)\n",
    "\n",
    "            # Reset CUDA peak memory stats for this batch\n",
    "            torch.cuda.reset_peak_memory_stats(device)\n",
    "\n",
    "            # Capture CPU usage before inference (non-blocking, instantaneous)\n",
    "            cpu_before = psutil.cpu_percent(interval=None)\n",
    "            start_time = time.time()\n",
    "\n",
    "            # Assume model outputs either logits or a tuple (logits, token_counts)\n",
    "            outputs = model(images)\n",
    "            if isinstance(outputs, tuple):\n",
    "                logits, token_counts = outputs\n",
    "            else:\n",
    "                logits = outputs\n",
    "                # For baseline VIT, token count can be set as a constant, e.g., number of patches\n",
    "                token_counts = torch.full((images.size(0),), images.shape[1], dtype=torch.float32)\n",
    "\n",
    "            end_time = time.time()\n",
    "            cpu_after = psutil.cpu_percent(interval=None)\n",
    "            inference_time = end_time - start_time\n",
    "            total_inference_time += inference_time\n",
    "            total_images += images.size(0)\n",
    "            # Average CPU usage for this batch\n",
    "            batch_cpu = (cpu_before + cpu_after) / 2\n",
    "            total_cpu_usage += batch_cpu\n",
    "\n",
    "            # Accuracy calculation\n",
    "            predictions = logits.argmax(dim=1)\n",
    "            correct += (predictions == labels).sum().item()\n",
    "\n",
    "            # Record GPU memory usage (in bytes) for this batch\n",
    "            memory_used = torch.cuda.max_memory_allocated(device)\n",
    "            total_memory_usage += memory_used\n",
    "\n",
    "            # Sum token counts (if model returns tensor, otherwise adjust accordingly)\n",
    "            total_tokens += token_counts.sum().item() if torch.is_tensor(token_counts) else token_counts\n",
    "\n",
    "    avg_inference_time = total_inference_time / total_images\n",
    "    accuracy = correct / total_images * 100  # percentage\n",
    "    avg_memory_usage_mb = (total_memory_usage / len(dataloader)) / (1024 ** 2)\n",
    "    avg_cpu_usage = total_cpu_usage / len(dataloader)\n",
    "    avg_tokens = total_tokens / total_images\n",
    "\n",
    "    print(\"Average Inference Time per Image: {:.4f} seconds\".format(avg_inference_time))\n",
    "    print(\"Accuracy: {:.2f}%\".format(accuracy))\n",
    "    print(\"Average Memory Usage per Batch: {:.2f} MB\".format(avg_memory_usage_mb))\n",
    "    print(\"Average CPU Usage per Batch: {:.2f}%\".format(avg_cpu_usage))\n",
    "    print(\"Average Tokens per Image: {:.2f}\".format(avg_tokens))\n",
    "\n",
    "\n",
    "# Example FLOPs measurement using fvcore (install via pip install fvcore)\n",
    "def measure_flops(model, input_tensor, device):\n",
    "    from fvcore.nn import FlopCountAnalysis\n",
    "\n",
    "    model.to(device)\n",
    "    model.eval()\n",
    "    flops = FlopCountAnalysis(model, input_tensor.to(device))\n",
    "    # The total flops is given as a large integer; convert to TFLOPs if desired.\n",
    "    total_flops = flops.total()\n",
    "    tflops = total_flops / 1e12  # Convert FLOPs to TFLOPs\n",
    "    print(\"Estimated FLOPs: {:.4f} TFLOPs\".format(tflops))\n",
    "    # Optionally, display a detailed table:\n",
    "    print(flops.by_operator())\n",
    "\n",
    "# Example usage:\n",
    "if __name__ == \"__main__\":\n",
    "    # Assume 'model' is your ViT or Dynamic ViT and 'test_loader' is your DataLoader for CIFAR-10.\n",
    "    device = torch.device(\"cuda\" if torch.cuda.is_available() else \"cpu\")\n",
    "    measure_metrics(model, testloader, device)\n",
    "    \n",
    "    # For FLOPs measurement, get one batch (or a single image) from the DataLoader\n",
    "    input_tensor, _ = next(iter(testloader))\n",
    "    measure_flops(model, input_tensor, device)\n"
   ]
  },
  {
   "cell_type": "code",
   "execution_count": null,
   "metadata": {},
   "outputs": [],
   "source": []
  }
 ],
 "metadata": {
  "kernelspec": {
   "display_name": "Python 3",
   "language": "python",
   "name": "python3"
  },
  "language_info": {
   "codemirror_mode": {
    "name": "ipython",
    "version": 3
   },
   "file_extension": ".py",
   "mimetype": "text/x-python",
   "name": "python",
   "nbconvert_exporter": "python",
   "pygments_lexer": "ipython3",
   "version": "3.12.9"
  }
 },
 "nbformat": 4,
 "nbformat_minor": 2
}
